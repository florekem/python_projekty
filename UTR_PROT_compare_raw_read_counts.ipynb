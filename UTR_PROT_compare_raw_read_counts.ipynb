{
 "cells": [
  {
   "cell_type": "code",
   "execution_count": 1,
   "metadata": {},
   "outputs": [],
   "source": [
    "import pandas as pd\n",
    "import numpy as np"
   ]
  },
  {
   "cell_type": "code",
   "execution_count": 2,
   "metadata": {},
   "outputs": [],
   "source": [
    "#path='/mnt/sdb1/Project_Sieja_MCLR_52/2_pipeline/7_counting_transcripts/noncoding_novel/'\n",
    "path='/media/WinToUSB/7_counting_transcripts/noncoding_novel/'\n"
   ]
  },
  {
   "cell_type": "code",
   "execution_count": 4,
   "metadata": {},
   "outputs": [
    {
     "data": {
      "text/html": [
       "<div>\n",
       "<style scoped>\n",
       "    .dataframe tbody tr th:only-of-type {\n",
       "        vertical-align: middle;\n",
       "    }\n",
       "\n",
       "    .dataframe tbody tr th {\n",
       "        vertical-align: top;\n",
       "    }\n",
       "\n",
       "    .dataframe thead th {\n",
       "        text-align: right;\n",
       "    }\n",
       "</style>\n",
       "<table border=\"1\" class=\"dataframe\">\n",
       "  <thead>\n",
       "    <tr style=\"text-align: right;\">\n",
       "      <th></th>\n",
       "      <th>trinity</th>\n",
       "      <th>PBS_1d_1</th>\n",
       "      <th>PBS_1d_2</th>\n",
       "      <th>PBS_1d_3</th>\n",
       "      <th>PBS_1d_4</th>\n",
       "      <th>MC_1d_1</th>\n",
       "      <th>MC_1d_2</th>\n",
       "      <th>MC_1d_3</th>\n",
       "      <th>MC_6d_1</th>\n",
       "      <th>MC_6d_2</th>\n",
       "      <th>MC_6d_3</th>\n",
       "      <th>MC_9d_1</th>\n",
       "      <th>MC_9d_2</th>\n",
       "      <th>MC_9d_3</th>\n",
       "    </tr>\n",
       "  </thead>\n",
       "  <tbody>\n",
       "    <tr>\n",
       "      <th>0</th>\n",
       "      <td>TRINITY_DN100003_c1_g1_i1</td>\n",
       "      <td>8</td>\n",
       "      <td>16</td>\n",
       "      <td>29</td>\n",
       "      <td>1</td>\n",
       "      <td>24</td>\n",
       "      <td>21</td>\n",
       "      <td>24</td>\n",
       "      <td>1</td>\n",
       "      <td>1</td>\n",
       "      <td>2</td>\n",
       "      <td>7</td>\n",
       "      <td>2</td>\n",
       "      <td>34</td>\n",
       "    </tr>\n",
       "    <tr>\n",
       "      <th>1</th>\n",
       "      <td>TRINITY_DN100004_c4_g2_i2</td>\n",
       "      <td>9</td>\n",
       "      <td>22</td>\n",
       "      <td>24</td>\n",
       "      <td>8</td>\n",
       "      <td>23</td>\n",
       "      <td>50</td>\n",
       "      <td>45</td>\n",
       "      <td>65</td>\n",
       "      <td>53</td>\n",
       "      <td>95</td>\n",
       "      <td>76</td>\n",
       "      <td>29</td>\n",
       "      <td>74</td>\n",
       "    </tr>\n",
       "    <tr>\n",
       "      <th>2</th>\n",
       "      <td>TRINITY_DN100005_c7_g2_i1</td>\n",
       "      <td>800</td>\n",
       "      <td>798</td>\n",
       "      <td>577</td>\n",
       "      <td>913</td>\n",
       "      <td>1322</td>\n",
       "      <td>1276</td>\n",
       "      <td>1285</td>\n",
       "      <td>6952</td>\n",
       "      <td>5736</td>\n",
       "      <td>4279</td>\n",
       "      <td>6616</td>\n",
       "      <td>4073</td>\n",
       "      <td>3119</td>\n",
       "    </tr>\n",
       "    <tr>\n",
       "      <th>3</th>\n",
       "      <td>TRINITY_DN100005_c8_g3_i1</td>\n",
       "      <td>101</td>\n",
       "      <td>102</td>\n",
       "      <td>92</td>\n",
       "      <td>248</td>\n",
       "      <td>52</td>\n",
       "      <td>56</td>\n",
       "      <td>71</td>\n",
       "      <td>89</td>\n",
       "      <td>189</td>\n",
       "      <td>138</td>\n",
       "      <td>313</td>\n",
       "      <td>327</td>\n",
       "      <td>278</td>\n",
       "    </tr>\n",
       "    <tr>\n",
       "      <th>4</th>\n",
       "      <td>TRINITY_DN100005_c9_g1_i1</td>\n",
       "      <td>19</td>\n",
       "      <td>4</td>\n",
       "      <td>22</td>\n",
       "      <td>4</td>\n",
       "      <td>2</td>\n",
       "      <td>2</td>\n",
       "      <td>1</td>\n",
       "      <td>0</td>\n",
       "      <td>1</td>\n",
       "      <td>0</td>\n",
       "      <td>2</td>\n",
       "      <td>6</td>\n",
       "      <td>18</td>\n",
       "    </tr>\n",
       "  </tbody>\n",
       "</table>\n",
       "</div>"
      ],
      "text/plain": [
       "                     trinity  PBS_1d_1  PBS_1d_2  PBS_1d_3  PBS_1d_4  MC_1d_1  \\\n",
       "0  TRINITY_DN100003_c1_g1_i1         8        16        29         1       24   \n",
       "1  TRINITY_DN100004_c4_g2_i2         9        22        24         8       23   \n",
       "2  TRINITY_DN100005_c7_g2_i1       800       798       577       913     1322   \n",
       "3  TRINITY_DN100005_c8_g3_i1       101       102        92       248       52   \n",
       "4  TRINITY_DN100005_c9_g1_i1        19         4        22         4        2   \n",
       "\n",
       "   MC_1d_2  MC_1d_3  MC_6d_1  MC_6d_2  MC_6d_3  MC_9d_1  MC_9d_2  MC_9d_3  \n",
       "0       21       24        1        1        2        7        2       34  \n",
       "1       50       45       65       53       95       76       29       74  \n",
       "2     1276     1285     6952     5736     4279     6616     4073     3119  \n",
       "3       56       71       89      189      138      313      327      278  \n",
       "4        2        1        0        1        0        2        6       18  "
      ]
     },
     "execution_count": 4,
     "metadata": {},
     "output_type": "execute_result"
    }
   ],
   "source": [
    "matrycaUTR = pd.read_csv(path+'PBS1d_MC_all_matryca.csv')\n",
    "matrycaUTR.head()"
   ]
  },
  {
   "cell_type": "code",
   "execution_count": 5,
   "metadata": {},
   "outputs": [
    {
     "data": {
      "text/html": [
       "<div>\n",
       "<style scoped>\n",
       "    .dataframe tbody tr th:only-of-type {\n",
       "        vertical-align: middle;\n",
       "    }\n",
       "\n",
       "    .dataframe tbody tr th {\n",
       "        vertical-align: top;\n",
       "    }\n",
       "\n",
       "    .dataframe thead th {\n",
       "        text-align: right;\n",
       "    }\n",
       "</style>\n",
       "<table border=\"1\" class=\"dataframe\">\n",
       "  <thead>\n",
       "    <tr style=\"text-align: right;\">\n",
       "      <th></th>\n",
       "      <th>query</th>\n",
       "      <th>al_title</th>\n",
       "      <th>al_accession</th>\n",
       "      <th>evalue</th>\n",
       "      <th>coverage</th>\n",
       "      <th>Entry</th>\n",
       "      <th>Protein names</th>\n",
       "      <th>Gene names</th>\n",
       "    </tr>\n",
       "  </thead>\n",
       "  <tbody>\n",
       "    <tr>\n",
       "      <th>0</th>\n",
       "      <td>TRINITY_DN100004_c4_g2_i2</td>\n",
       "      <td>gi|929290304|ref|XM_014166828.1| PREDICTED: Sa...</td>\n",
       "      <td>XM_014166828</td>\n",
       "      <td>0.0</td>\n",
       "      <td>100.183824</td>\n",
       "      <td>A0A1S3P3U9</td>\n",
       "      <td>forkhead box protein P4-like isoform X8</td>\n",
       "      <td>LOC106583051</td>\n",
       "    </tr>\n",
       "  </tbody>\n",
       "</table>\n",
       "</div>"
      ],
      "text/plain": [
       "                       query  \\\n",
       "0  TRINITY_DN100004_c4_g2_i2   \n",
       "\n",
       "                                            al_title  al_accession  evalue  \\\n",
       "0  gi|929290304|ref|XM_014166828.1| PREDICTED: Sa...  XM_014166828     0.0   \n",
       "\n",
       "     coverage       Entry                            Protein names  \\\n",
       "0  100.183824  A0A1S3P3U9  forkhead box protein P4-like isoform X8   \n",
       "\n",
       "     Gene names  \n",
       "0  LOC106583051  "
      ]
     },
     "execution_count": 5,
     "metadata": {},
     "output_type": "execute_result"
    }
   ],
   "source": [
    "UTR = pd.read_csv(path+'mRNA_only_merged_w_XP.csv')\n",
    "UTR.head(1)"
   ]
  },
  {
   "cell_type": "code",
   "execution_count": 6,
   "metadata": {},
   "outputs": [
    {
     "data": {
      "text/html": [
       "<div>\n",
       "<style scoped>\n",
       "    .dataframe tbody tr th:only-of-type {\n",
       "        vertical-align: middle;\n",
       "    }\n",
       "\n",
       "    .dataframe tbody tr th {\n",
       "        vertical-align: top;\n",
       "    }\n",
       "\n",
       "    .dataframe thead th {\n",
       "        text-align: right;\n",
       "    }\n",
       "</style>\n",
       "<table border=\"1\" class=\"dataframe\">\n",
       "  <thead>\n",
       "    <tr style=\"text-align: right;\">\n",
       "      <th></th>\n",
       "      <th>query</th>\n",
       "      <th>Entry</th>\n",
       "      <th>Protein names</th>\n",
       "    </tr>\n",
       "  </thead>\n",
       "  <tbody>\n",
       "    <tr>\n",
       "      <th>0</th>\n",
       "      <td>TRINITY_DN100004_c4_g2_i2</td>\n",
       "      <td>A0A1S3P3U9</td>\n",
       "      <td>forkhead box protein P4-like isoform X8</td>\n",
       "    </tr>\n",
       "  </tbody>\n",
       "</table>\n",
       "</div>"
      ],
      "text/plain": [
       "                       query       Entry  \\\n",
       "0  TRINITY_DN100004_c4_g2_i2  A0A1S3P3U9   \n",
       "\n",
       "                             Protein names  \n",
       "0  forkhead box protein P4-like isoform X8  "
      ]
     },
     "execution_count": 6,
     "metadata": {},
     "output_type": "execute_result"
    }
   ],
   "source": [
    "UTR = UTR[['query', 'Entry', 'Protein names']]\n",
    "UTR.head(1)"
   ]
  },
  {
   "cell_type": "code",
   "execution_count": 7,
   "metadata": {},
   "outputs": [],
   "source": [
    "UTR.rename(columns={'query':'trinity'}, inplace=True)"
   ]
  },
  {
   "cell_type": "code",
   "execution_count": 9,
   "metadata": {},
   "outputs": [
    {
     "data": {
      "text/html": [
       "<div>\n",
       "<style scoped>\n",
       "    .dataframe tbody tr th:only-of-type {\n",
       "        vertical-align: middle;\n",
       "    }\n",
       "\n",
       "    .dataframe tbody tr th {\n",
       "        vertical-align: top;\n",
       "    }\n",
       "\n",
       "    .dataframe thead th {\n",
       "        text-align: right;\n",
       "    }\n",
       "</style>\n",
       "<table border=\"1\" class=\"dataframe\">\n",
       "  <thead>\n",
       "    <tr style=\"text-align: right;\">\n",
       "      <th></th>\n",
       "      <th>trinity</th>\n",
       "      <th>PBS_1d_1</th>\n",
       "      <th>PBS_1d_2</th>\n",
       "      <th>PBS_1d_3</th>\n",
       "      <th>PBS_1d_4</th>\n",
       "      <th>MC_1d_1</th>\n",
       "      <th>MC_1d_2</th>\n",
       "      <th>MC_1d_3</th>\n",
       "      <th>MC_6d_1</th>\n",
       "      <th>MC_6d_2</th>\n",
       "      <th>MC_6d_3</th>\n",
       "      <th>MC_9d_1</th>\n",
       "      <th>MC_9d_2</th>\n",
       "      <th>MC_9d_3</th>\n",
       "      <th>Entry</th>\n",
       "      <th>Protein names</th>\n",
       "    </tr>\n",
       "  </thead>\n",
       "  <tbody>\n",
       "    <tr>\n",
       "      <th>0</th>\n",
       "      <td>TRINITY_DN100004_c4_g2_i2</td>\n",
       "      <td>9</td>\n",
       "      <td>22</td>\n",
       "      <td>24</td>\n",
       "      <td>8</td>\n",
       "      <td>23</td>\n",
       "      <td>50</td>\n",
       "      <td>45</td>\n",
       "      <td>65</td>\n",
       "      <td>53</td>\n",
       "      <td>95</td>\n",
       "      <td>76</td>\n",
       "      <td>29</td>\n",
       "      <td>74</td>\n",
       "      <td>A0A1S3P3U9</td>\n",
       "      <td>forkhead box protein P4-like isoform X8</td>\n",
       "    </tr>\n",
       "  </tbody>\n",
       "</table>\n",
       "</div>"
      ],
      "text/plain": [
       "                     trinity  PBS_1d_1  PBS_1d_2  PBS_1d_3  PBS_1d_4  MC_1d_1  \\\n",
       "0  TRINITY_DN100004_c4_g2_i2         9        22        24         8       23   \n",
       "\n",
       "   MC_1d_2  MC_1d_3  MC_6d_1  MC_6d_2  MC_6d_3  MC_9d_1  MC_9d_2  MC_9d_3  \\\n",
       "0       50       45       65       53       95       76       29       74   \n",
       "\n",
       "        Entry                            Protein names  \n",
       "0  A0A1S3P3U9  forkhead box protein P4-like isoform X8  "
      ]
     },
     "execution_count": 9,
     "metadata": {},
     "output_type": "execute_result"
    }
   ],
   "source": [
    "matrycaUTR_w_names = pd.merge(matrycaUTR, UTR, on='trinity', how='inner')\n",
    "matrycaUTR_w_names.head(1)"
   ]
  },
  {
   "cell_type": "code",
   "execution_count": 10,
   "metadata": {},
   "outputs": [
    {
     "data": {
      "text/plain": [
       "(93208, 16)"
      ]
     },
     "execution_count": 10,
     "metadata": {},
     "output_type": "execute_result"
    }
   ],
   "source": [
    "matrycaUTR_w_names.shape #zidentyfikowane trinity jako mRNA i nazwane jako bialka"
   ]
  },
  {
   "cell_type": "code",
   "execution_count": 11,
   "metadata": {},
   "outputs": [],
   "source": [
    "prot_path='/media/WinToUSB/7_counting_transcripts/proteins_salmo/'"
   ]
  },
  {
   "cell_type": "code",
   "execution_count": 12,
   "metadata": {},
   "outputs": [
    {
     "data": {
      "text/html": [
       "<div>\n",
       "<style scoped>\n",
       "    .dataframe tbody tr th:only-of-type {\n",
       "        vertical-align: middle;\n",
       "    }\n",
       "\n",
       "    .dataframe tbody tr th {\n",
       "        vertical-align: top;\n",
       "    }\n",
       "\n",
       "    .dataframe thead th {\n",
       "        text-align: right;\n",
       "    }\n",
       "</style>\n",
       "<table border=\"1\" class=\"dataframe\">\n",
       "  <thead>\n",
       "    <tr style=\"text-align: right;\">\n",
       "      <th></th>\n",
       "      <th>trinity</th>\n",
       "      <th>PBS_1d_1</th>\n",
       "      <th>PBS_1d_2</th>\n",
       "      <th>PBS_1d_3</th>\n",
       "      <th>PBS_1d_4</th>\n",
       "      <th>MC_1d_1</th>\n",
       "      <th>MC_1d_2</th>\n",
       "      <th>MC_1d_3</th>\n",
       "      <th>MC_6d_1</th>\n",
       "      <th>MC_6d_2</th>\n",
       "      <th>MC_6d_3</th>\n",
       "      <th>MC_9d_1</th>\n",
       "      <th>MC_9d_2</th>\n",
       "      <th>MC_9d_3</th>\n",
       "    </tr>\n",
       "  </thead>\n",
       "  <tbody>\n",
       "    <tr>\n",
       "      <th>0</th>\n",
       "      <td>TRINITY_DN100000_c5_g1_i2</td>\n",
       "      <td>0.0</td>\n",
       "      <td>3.0</td>\n",
       "      <td>2.0</td>\n",
       "      <td>0.0</td>\n",
       "      <td>0.0</td>\n",
       "      <td>0.0</td>\n",
       "      <td>0.0</td>\n",
       "      <td>0</td>\n",
       "      <td>0</td>\n",
       "      <td>0</td>\n",
       "      <td>5</td>\n",
       "      <td>0</td>\n",
       "      <td>0</td>\n",
       "    </tr>\n",
       "    <tr>\n",
       "      <th>1</th>\n",
       "      <td>TRINITY_DN100000_c5_g1_i6</td>\n",
       "      <td>374.0</td>\n",
       "      <td>506.0</td>\n",
       "      <td>607.0</td>\n",
       "      <td>594.0</td>\n",
       "      <td>511.0</td>\n",
       "      <td>726.0</td>\n",
       "      <td>517.0</td>\n",
       "      <td>192</td>\n",
       "      <td>195</td>\n",
       "      <td>227</td>\n",
       "      <td>427</td>\n",
       "      <td>219</td>\n",
       "      <td>339</td>\n",
       "    </tr>\n",
       "    <tr>\n",
       "      <th>2</th>\n",
       "      <td>TRINITY_DN100001_c2_g2_i2</td>\n",
       "      <td>1232.0</td>\n",
       "      <td>1264.0</td>\n",
       "      <td>998.0</td>\n",
       "      <td>1040.0</td>\n",
       "      <td>1162.0</td>\n",
       "      <td>1784.0</td>\n",
       "      <td>938.0</td>\n",
       "      <td>1730</td>\n",
       "      <td>1743</td>\n",
       "      <td>1974</td>\n",
       "      <td>2315</td>\n",
       "      <td>2067</td>\n",
       "      <td>2386</td>\n",
       "    </tr>\n",
       "    <tr>\n",
       "      <th>3</th>\n",
       "      <td>TRINITY_DN100001_c2_g2_i7</td>\n",
       "      <td>562.0</td>\n",
       "      <td>408.0</td>\n",
       "      <td>311.0</td>\n",
       "      <td>353.0</td>\n",
       "      <td>402.0</td>\n",
       "      <td>471.0</td>\n",
       "      <td>420.0</td>\n",
       "      <td>1378</td>\n",
       "      <td>1338</td>\n",
       "      <td>1428</td>\n",
       "      <td>1291</td>\n",
       "      <td>1139</td>\n",
       "      <td>1344</td>\n",
       "    </tr>\n",
       "    <tr>\n",
       "      <th>4</th>\n",
       "      <td>TRINITY_DN100001_c2_g3_i3</td>\n",
       "      <td>565.0</td>\n",
       "      <td>525.0</td>\n",
       "      <td>384.0</td>\n",
       "      <td>406.0</td>\n",
       "      <td>555.0</td>\n",
       "      <td>552.0</td>\n",
       "      <td>529.0</td>\n",
       "      <td>1553</td>\n",
       "      <td>1461</td>\n",
       "      <td>1684</td>\n",
       "      <td>1436</td>\n",
       "      <td>1416</td>\n",
       "      <td>1447</td>\n",
       "    </tr>\n",
       "  </tbody>\n",
       "</table>\n",
       "</div>"
      ],
      "text/plain": [
       "                     trinity  PBS_1d_1  PBS_1d_2  PBS_1d_3  PBS_1d_4  MC_1d_1  \\\n",
       "0  TRINITY_DN100000_c5_g1_i2       0.0       3.0       2.0       0.0      0.0   \n",
       "1  TRINITY_DN100000_c5_g1_i6     374.0     506.0     607.0     594.0    511.0   \n",
       "2  TRINITY_DN100001_c2_g2_i2    1232.0    1264.0     998.0    1040.0   1162.0   \n",
       "3  TRINITY_DN100001_c2_g2_i7     562.0     408.0     311.0     353.0    402.0   \n",
       "4  TRINITY_DN100001_c2_g3_i3     565.0     525.0     384.0     406.0    555.0   \n",
       "\n",
       "   MC_1d_2  MC_1d_3  MC_6d_1  MC_6d_2  MC_6d_3  MC_9d_1  MC_9d_2  MC_9d_3  \n",
       "0      0.0      0.0        0        0        0        5        0        0  \n",
       "1    726.0    517.0      192      195      227      427      219      339  \n",
       "2   1784.0    938.0     1730     1743     1974     2315     2067     2386  \n",
       "3    471.0    420.0     1378     1338     1428     1291     1139     1344  \n",
       "4    552.0    529.0     1553     1461     1684     1436     1416     1447  "
      ]
     },
     "execution_count": 12,
     "metadata": {},
     "output_type": "execute_result"
    }
   ],
   "source": [
    "matryca_salmo_prot = pd.read_csv(prot_path+'PBS_MCLR_salmo_only_matryca.csv')\n",
    "matryca_salmo_prot.head()"
   ]
  },
  {
   "cell_type": "code",
   "execution_count": 13,
   "metadata": {},
   "outputs": [
    {
     "data": {
      "text/html": [
       "<div>\n",
       "<style scoped>\n",
       "    .dataframe tbody tr th:only-of-type {\n",
       "        vertical-align: middle;\n",
       "    }\n",
       "\n",
       "    .dataframe tbody tr th {\n",
       "        vertical-align: top;\n",
       "    }\n",
       "\n",
       "    .dataframe thead th {\n",
       "        text-align: right;\n",
       "    }\n",
       "</style>\n",
       "<table border=\"1\" class=\"dataframe\">\n",
       "  <thead>\n",
       "    <tr style=\"text-align: right;\">\n",
       "      <th></th>\n",
       "      <th>Entry</th>\n",
       "      <th>ident</th>\n",
       "      <th>Entry name</th>\n",
       "      <th>Status</th>\n",
       "      <th>Protein names</th>\n",
       "      <th>Gene names</th>\n",
       "      <th>Organism</th>\n",
       "      <th>Length</th>\n",
       "      <th>id</th>\n",
       "    </tr>\n",
       "  </thead>\n",
       "  <tbody>\n",
       "    <tr>\n",
       "      <th>0</th>\n",
       "      <td>A0A1S3KIG4</td>\n",
       "      <td>XP_013978521.1</td>\n",
       "      <td>A0A1S3KIG4_SALSA</td>\n",
       "      <td>unreviewed</td>\n",
       "      <td>carboxyl-terminal PDZ ligand of neuronal nitri...</td>\n",
       "      <td>LOC106560293</td>\n",
       "      <td>Salmo salar (Atlantic salmon)</td>\n",
       "      <td>758</td>\n",
       "      <td>TRINITY_DN100000_c5_g1</td>\n",
       "    </tr>\n",
       "  </tbody>\n",
       "</table>\n",
       "</div>"
      ],
      "text/plain": [
       "        Entry           ident        Entry name      Status  \\\n",
       "0  A0A1S3KIG4  XP_013978521.1  A0A1S3KIG4_SALSA  unreviewed   \n",
       "\n",
       "                                       Protein names    Gene names  \\\n",
       "0  carboxyl-terminal PDZ ligand of neuronal nitri...  LOC106560293   \n",
       "\n",
       "                        Organism  Length                      id  \n",
       "0  Salmo salar (Atlantic salmon)     758  TRINITY_DN100000_c5_g1  "
      ]
     },
     "execution_count": 13,
     "metadata": {},
     "output_type": "execute_result"
    }
   ],
   "source": [
    "prot_all_from_trinity_report = pd.read_csv(prot_path+'PROT_wszystkie_bialka_z_raportu_trinity.csv')\n",
    "prot_all_from_trinity_report.head(1)"
   ]
  },
  {
   "cell_type": "code",
   "execution_count": 14,
   "metadata": {},
   "outputs": [],
   "source": [
    "prot_all_from_trinity_report.rename(columns={'id':'trinity'}, inplace=True)"
   ]
  },
  {
   "cell_type": "code",
   "execution_count": 15,
   "metadata": {},
   "outputs": [
    {
     "data": {
      "text/plain": [
       "(246795, 22)"
      ]
     },
     "execution_count": 15,
     "metadata": {},
     "output_type": "execute_result"
    }
   ],
   "source": [
    "matryca_salmo_prot_w_names = pd.merge(matryca_salmo_prot, prot_all_from_trinity_report, on='trinity', how='inner')\n",
    "matryca_salmo_prot_w_names.shape"
   ]
  },
  {
   "cell_type": "code",
   "execution_count": null,
   "metadata": {},
   "outputs": [],
   "source": [
    "# merge utr with proteins"
   ]
  },
  {
   "cell_type": "code",
   "execution_count": 28,
   "metadata": {},
   "outputs": [],
   "source": [
    "matryca_UTR_merged_w_matryca_PROT = pd.merge(matrycaUTR_w_names, matryca_salmo_prot_w_names, on='Entry', how='inner', suffixes=('_UTR', '_PROT'))"
   ]
  },
  {
   "cell_type": "code",
   "execution_count": 29,
   "metadata": {},
   "outputs": [
    {
     "data": {
      "text/html": [
       "<div>\n",
       "<style scoped>\n",
       "    .dataframe tbody tr th:only-of-type {\n",
       "        vertical-align: middle;\n",
       "    }\n",
       "\n",
       "    .dataframe tbody tr th {\n",
       "        vertical-align: top;\n",
       "    }\n",
       "\n",
       "    .dataframe thead th {\n",
       "        text-align: right;\n",
       "    }\n",
       "</style>\n",
       "<table border=\"1\" class=\"dataframe\">\n",
       "  <thead>\n",
       "    <tr style=\"text-align: right;\">\n",
       "      <th></th>\n",
       "      <th>trinity_UTR</th>\n",
       "      <th>PBS_1d_1_UTR</th>\n",
       "      <th>PBS_1d_2_UTR</th>\n",
       "      <th>PBS_1d_3_UTR</th>\n",
       "      <th>PBS_1d_4_UTR</th>\n",
       "      <th>MC_1d_1_UTR</th>\n",
       "      <th>MC_1d_2_UTR</th>\n",
       "      <th>MC_1d_3_UTR</th>\n",
       "      <th>MC_6d_1_UTR</th>\n",
       "      <th>MC_6d_2_UTR</th>\n",
       "      <th>...</th>\n",
       "      <th>MC_9d_1_PROT</th>\n",
       "      <th>MC_9d_2_PROT</th>\n",
       "      <th>MC_9d_3_PROT</th>\n",
       "      <th>ident</th>\n",
       "      <th>Entry name</th>\n",
       "      <th>Status</th>\n",
       "      <th>Protein names_PROT</th>\n",
       "      <th>Gene names</th>\n",
       "      <th>Organism</th>\n",
       "      <th>Length</th>\n",
       "    </tr>\n",
       "  </thead>\n",
       "  <tbody>\n",
       "    <tr>\n",
       "      <th>0</th>\n",
       "      <td>TRINITY_DN100005_c7_g2_i1</td>\n",
       "      <td>800</td>\n",
       "      <td>798</td>\n",
       "      <td>577</td>\n",
       "      <td>913</td>\n",
       "      <td>1322</td>\n",
       "      <td>1276</td>\n",
       "      <td>1285</td>\n",
       "      <td>6952</td>\n",
       "      <td>5736</td>\n",
       "      <td>...</td>\n",
       "      <td>0</td>\n",
       "      <td>4</td>\n",
       "      <td>0</td>\n",
       "      <td>XP_014068145.1</td>\n",
       "      <td>A0A1S3SUX9_SALSA</td>\n",
       "      <td>unreviewed</td>\n",
       "      <td>alpha-N-acetylgalactosaminide alpha-2,6-sialyl...</td>\n",
       "      <td>LOC106611954</td>\n",
       "      <td>Salmo salar (Atlantic salmon)</td>\n",
       "      <td>456</td>\n",
       "    </tr>\n",
       "    <tr>\n",
       "      <th>1</th>\n",
       "      <td>TRINITY_DN100005_c7_g2_i1</td>\n",
       "      <td>800</td>\n",
       "      <td>798</td>\n",
       "      <td>577</td>\n",
       "      <td>913</td>\n",
       "      <td>1322</td>\n",
       "      <td>1276</td>\n",
       "      <td>1285</td>\n",
       "      <td>6952</td>\n",
       "      <td>5736</td>\n",
       "      <td>...</td>\n",
       "      <td>3398</td>\n",
       "      <td>1447</td>\n",
       "      <td>1257</td>\n",
       "      <td>XP_014068145.1</td>\n",
       "      <td>A0A1S3SUX9_SALSA</td>\n",
       "      <td>unreviewed</td>\n",
       "      <td>alpha-N-acetylgalactosaminide alpha-2,6-sialyl...</td>\n",
       "      <td>LOC106611954</td>\n",
       "      <td>Salmo salar (Atlantic salmon)</td>\n",
       "      <td>456</td>\n",
       "    </tr>\n",
       "    <tr>\n",
       "      <th>2</th>\n",
       "      <td>TRINITY_DN100005_c7_g2_i1</td>\n",
       "      <td>800</td>\n",
       "      <td>798</td>\n",
       "      <td>577</td>\n",
       "      <td>913</td>\n",
       "      <td>1322</td>\n",
       "      <td>1276</td>\n",
       "      <td>1285</td>\n",
       "      <td>6952</td>\n",
       "      <td>5736</td>\n",
       "      <td>...</td>\n",
       "      <td>2186</td>\n",
       "      <td>1007</td>\n",
       "      <td>845</td>\n",
       "      <td>XP_014068145.1</td>\n",
       "      <td>A0A1S3SUX9_SALSA</td>\n",
       "      <td>unreviewed</td>\n",
       "      <td>alpha-N-acetylgalactosaminide alpha-2,6-sialyl...</td>\n",
       "      <td>LOC106611954</td>\n",
       "      <td>Salmo salar (Atlantic salmon)</td>\n",
       "      <td>456</td>\n",
       "    </tr>\n",
       "    <tr>\n",
       "      <th>3</th>\n",
       "      <td>TRINITY_DN100005_c7_g2_i1</td>\n",
       "      <td>800</td>\n",
       "      <td>798</td>\n",
       "      <td>577</td>\n",
       "      <td>913</td>\n",
       "      <td>1322</td>\n",
       "      <td>1276</td>\n",
       "      <td>1285</td>\n",
       "      <td>6952</td>\n",
       "      <td>5736</td>\n",
       "      <td>...</td>\n",
       "      <td>19</td>\n",
       "      <td>4</td>\n",
       "      <td>4</td>\n",
       "      <td>XP_014068145.1</td>\n",
       "      <td>A0A1S3SUX9_SALSA</td>\n",
       "      <td>unreviewed</td>\n",
       "      <td>alpha-N-acetylgalactosaminide alpha-2,6-sialyl...</td>\n",
       "      <td>LOC106611954</td>\n",
       "      <td>Salmo salar (Atlantic salmon)</td>\n",
       "      <td>456</td>\n",
       "    </tr>\n",
       "    <tr>\n",
       "      <th>4</th>\n",
       "      <td>TRINITY_DN111675_c5_g3_i1</td>\n",
       "      <td>53</td>\n",
       "      <td>80</td>\n",
       "      <td>45</td>\n",
       "      <td>93</td>\n",
       "      <td>36</td>\n",
       "      <td>65</td>\n",
       "      <td>35</td>\n",
       "      <td>36</td>\n",
       "      <td>63</td>\n",
       "      <td>...</td>\n",
       "      <td>0</td>\n",
       "      <td>4</td>\n",
       "      <td>0</td>\n",
       "      <td>XP_014068145.1</td>\n",
       "      <td>A0A1S3SUX9_SALSA</td>\n",
       "      <td>unreviewed</td>\n",
       "      <td>alpha-N-acetylgalactosaminide alpha-2,6-sialyl...</td>\n",
       "      <td>LOC106611954</td>\n",
       "      <td>Salmo salar (Atlantic salmon)</td>\n",
       "      <td>456</td>\n",
       "    </tr>\n",
       "  </tbody>\n",
       "</table>\n",
       "<p>5 rows × 37 columns</p>\n",
       "</div>"
      ],
      "text/plain": [
       "                 trinity_UTR  PBS_1d_1_UTR  PBS_1d_2_UTR  PBS_1d_3_UTR  \\\n",
       "0  TRINITY_DN100005_c7_g2_i1           800           798           577   \n",
       "1  TRINITY_DN100005_c7_g2_i1           800           798           577   \n",
       "2  TRINITY_DN100005_c7_g2_i1           800           798           577   \n",
       "3  TRINITY_DN100005_c7_g2_i1           800           798           577   \n",
       "4  TRINITY_DN111675_c5_g3_i1            53            80            45   \n",
       "\n",
       "   PBS_1d_4_UTR  MC_1d_1_UTR  MC_1d_2_UTR  MC_1d_3_UTR  MC_6d_1_UTR  \\\n",
       "0           913         1322         1276         1285         6952   \n",
       "1           913         1322         1276         1285         6952   \n",
       "2           913         1322         1276         1285         6952   \n",
       "3           913         1322         1276         1285         6952   \n",
       "4            93           36           65           35           36   \n",
       "\n",
       "   MC_6d_2_UTR  ...  MC_9d_1_PROT  MC_9d_2_PROT  MC_9d_3_PROT           ident  \\\n",
       "0         5736  ...             0             4             0  XP_014068145.1   \n",
       "1         5736  ...          3398          1447          1257  XP_014068145.1   \n",
       "2         5736  ...          2186          1007           845  XP_014068145.1   \n",
       "3         5736  ...            19             4             4  XP_014068145.1   \n",
       "4           63  ...             0             4             0  XP_014068145.1   \n",
       "\n",
       "         Entry name      Status  \\\n",
       "0  A0A1S3SUX9_SALSA  unreviewed   \n",
       "1  A0A1S3SUX9_SALSA  unreviewed   \n",
       "2  A0A1S3SUX9_SALSA  unreviewed   \n",
       "3  A0A1S3SUX9_SALSA  unreviewed   \n",
       "4  A0A1S3SUX9_SALSA  unreviewed   \n",
       "\n",
       "                                  Protein names_PROT    Gene names  \\\n",
       "0  alpha-N-acetylgalactosaminide alpha-2,6-sialyl...  LOC106611954   \n",
       "1  alpha-N-acetylgalactosaminide alpha-2,6-sialyl...  LOC106611954   \n",
       "2  alpha-N-acetylgalactosaminide alpha-2,6-sialyl...  LOC106611954   \n",
       "3  alpha-N-acetylgalactosaminide alpha-2,6-sialyl...  LOC106611954   \n",
       "4  alpha-N-acetylgalactosaminide alpha-2,6-sialyl...  LOC106611954   \n",
       "\n",
       "                        Organism  Length  \n",
       "0  Salmo salar (Atlantic salmon)     456  \n",
       "1  Salmo salar (Atlantic salmon)     456  \n",
       "2  Salmo salar (Atlantic salmon)     456  \n",
       "3  Salmo salar (Atlantic salmon)     456  \n",
       "4  Salmo salar (Atlantic salmon)     456  \n",
       "\n",
       "[5 rows x 37 columns]"
      ]
     },
     "execution_count": 29,
     "metadata": {},
     "output_type": "execute_result"
    }
   ],
   "source": [
    "matryca_UTR_merged_w_matryca_PROT.head()"
   ]
  },
  {
   "cell_type": "code",
   "execution_count": 30,
   "metadata": {},
   "outputs": [
    {
     "data": {
      "text/plain": [
       "(512626, 37)"
      ]
     },
     "execution_count": 30,
     "metadata": {},
     "output_type": "execute_result"
    }
   ],
   "source": [
    "matryca_UTR_merged_w_matryca_PROT.shape"
   ]
  },
  {
   "cell_type": "code",
   "execution_count": 31,
   "metadata": {},
   "outputs": [
    {
     "data": {
      "text/plain": [
       "(295223, 37)"
      ]
     },
     "execution_count": 31,
     "metadata": {},
     "output_type": "execute_result"
    }
   ],
   "source": [
    "matryca_UTR_merged_w_matryca_PROT.drop_duplicates(inplace=True)\n",
    "matryca_UTR_merged_w_matryca_PROT.shape"
   ]
  },
  {
   "cell_type": "code",
   "execution_count": 32,
   "metadata": {
    "scrolled": true
   },
   "outputs": [
    {
     "data": {
      "text/plain": [
       "0         772.00\n",
       "1         772.00\n",
       "2         772.00\n",
       "3         772.00\n",
       "4          67.75\n",
       "           ...  \n",
       "512618     12.50\n",
       "512619      6.00\n",
       "512621      6.00\n",
       "512623      6.00\n",
       "512625      4.75\n",
       "Name: 1d_UTR_mean, Length: 295223, dtype: float64"
      ]
     },
     "execution_count": 32,
     "metadata": {},
     "output_type": "execute_result"
    }
   ],
   "source": [
    "matryca_UTR_merged_w_matryca_PROT['1d_UTR_mean'] = (matryca_UTR_merged_w_matryca_PROT['PBS_1d_1_UTR'] + matryca_UTR_merged_w_matryca_PROT['PBS_1d_2_UTR'] + matryca_UTR_merged_w_matryca_PROT['PBS_1d_3_UTR'] + matryca_UTR_merged_w_matryca_PROT['PBS_1d_4_UTR']) / 4\n",
    "matryca_UTR_merged_w_matryca_PROT['1d_UTR_mean']"
   ]
  },
  {
   "cell_type": "code",
   "execution_count": 34,
   "metadata": {},
   "outputs": [
    {
     "data": {
      "text/plain": [
       "240.5868504486439"
      ]
     },
     "execution_count": 34,
     "metadata": {},
     "output_type": "execute_result"
    }
   ],
   "source": [
    "matryca_UTR_merged_w_matryca_PROT['1d_UTR_mean'].mean()"
   ]
  },
  {
   "cell_type": "code",
   "execution_count": 33,
   "metadata": {},
   "outputs": [
    {
     "data": {
      "text/plain": [
       "0           0.75\n",
       "1         386.75\n",
       "2         253.50\n",
       "3           6.00\n",
       "4           0.75\n",
       "           ...  \n",
       "512618     17.75\n",
       "512619      0.50\n",
       "512621      0.00\n",
       "512623    574.25\n",
       "512625     64.75\n",
       "Name: 1d_PROT_mean, Length: 295223, dtype: float64"
      ]
     },
     "execution_count": 33,
     "metadata": {},
     "output_type": "execute_result"
    }
   ],
   "source": [
    "matryca_UTR_merged_w_matryca_PROT['1d_PROT_mean'] = (matryca_UTR_merged_w_matryca_PROT['PBS_1d_1_PROT'] + matryca_UTR_merged_w_matryca_PROT['PBS_1d_2_PROT'] + matryca_UTR_merged_w_matryca_PROT['PBS_1d_3_PROT'] + matryca_UTR_merged_w_matryca_PROT['PBS_1d_4_PROT']) / 4\n",
    "matryca_UTR_merged_w_matryca_PROT['1d_PROT_mean']"
   ]
  },
  {
   "cell_type": "code",
   "execution_count": 35,
   "metadata": {},
   "outputs": [
    {
     "data": {
      "text/plain": [
       "537.4178824143105"
      ]
     },
     "execution_count": 35,
     "metadata": {},
     "output_type": "execute_result"
    }
   ],
   "source": [
    "matryca_UTR_merged_w_matryca_PROT['1d_PROT_mean'].mean()"
   ]
  }
 ],
 "metadata": {
  "kernelspec": {
   "display_name": "Python 3",
   "language": "python",
   "name": "python3"
  },
  "language_info": {
   "codemirror_mode": {
    "name": "ipython",
    "version": 3
   },
   "file_extension": ".py",
   "mimetype": "text/x-python",
   "name": "python",
   "nbconvert_exporter": "python",
   "pygments_lexer": "ipython3",
   "version": "3.7.3"
  }
 },
 "nbformat": 4,
 "nbformat_minor": 2
}
