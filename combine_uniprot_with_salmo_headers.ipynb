{
 "cells": [
  {
   "cell_type": "code",
   "execution_count": 1,
   "metadata": {},
   "outputs": [],
   "source": [
    "import pandas as pd"
   ]
  },
  {
   "cell_type": "code",
   "execution_count": 23,
   "metadata": {},
   "outputs": [],
   "source": [
    "path='/mnt/sdb1/Project_Sieja_MCLR_52/1_code/'"
   ]
  },
  {
   "cell_type": "code",
   "execution_count": 24,
   "metadata": {},
   "outputs": [
    {
     "data": {
      "text/plain": [
       "(125838, 1)"
      ]
     },
     "execution_count": 24,
     "metadata": {},
     "output_type": "execute_result"
    }
   ],
   "source": [
    "uniprot = pd.read_csv(path+\"proteins.headers\")\n",
    "uniprot.columns=['trinity']\n",
    "uniprot.shape"
   ]
  },
  {
   "cell_type": "code",
   "execution_count": 25,
   "metadata": {},
   "outputs": [
    {
     "data": {
      "text/plain": [
       "(148645, 1)"
      ]
     },
     "execution_count": 25,
     "metadata": {},
     "output_type": "execute_result"
    }
   ],
   "source": [
    "salmo = pd.read_csv(path+\"protein_salmo.headers\")\n",
    "salmo.columns=['trinity']\n",
    "salmo.shape"
   ]
  },
  {
   "cell_type": "code",
   "execution_count": 31,
   "metadata": {},
   "outputs": [],
   "source": [
    "uniprot_salmo = uniprot['trinity'].append(salmo['trinity'])"
   ]
  },
  {
   "cell_type": "code",
   "execution_count": 33,
   "metadata": {},
   "outputs": [],
   "source": [
    "uniprot_salmo.drop_duplicates(inplace=True)"
   ]
  },
  {
   "cell_type": "code",
   "execution_count": 34,
   "metadata": {},
   "outputs": [
    {
     "data": {
      "text/plain": [
       "(170757,)"
      ]
     },
     "execution_count": 34,
     "metadata": {},
     "output_type": "execute_result"
    }
   ],
   "source": [
    "uniprot_salmo.shape"
   ]
  },
  {
   "cell_type": "code",
   "execution_count": 38,
   "metadata": {},
   "outputs": [],
   "source": [
    "uniprot_salmo.to_csv(path+'protein_uniprot_salmo_combined.headers', index=False)"
   ]
  },
  {
   "cell_type": "code",
   "execution_count": null,
   "metadata": {},
   "outputs": [],
   "source": []
  },
  {
   "cell_type": "code",
   "execution_count": 1,
   "metadata": {},
   "outputs": [],
   "source": [
    "# combine uniprot and salmo annotation report with deseq results"
   ]
  },
  {
   "cell_type": "code",
   "execution_count": 2,
   "metadata": {},
   "outputs": [],
   "source": [
    "path=\"/mnt/sdb1/Project_Sieja_MCLR_52/2_pipeline/7_counting_transcripts/proteins_uniprot_salmo_brzuzan/\""
   ]
  },
  {
   "cell_type": "code",
   "execution_count": 10,
   "metadata": {},
   "outputs": [
    {
     "data": {
      "text/html": [
       "<div>\n",
       "<style scoped>\n",
       "    .dataframe tbody tr th:only-of-type {\n",
       "        vertical-align: middle;\n",
       "    }\n",
       "\n",
       "    .dataframe tbody tr th {\n",
       "        vertical-align: top;\n",
       "    }\n",
       "\n",
       "    .dataframe thead th {\n",
       "        text-align: right;\n",
       "    }\n",
       "</style>\n",
       "<table border=\"1\" class=\"dataframe\">\n",
       "  <thead>\n",
       "    <tr style=\"text-align: right;\">\n",
       "      <th></th>\n",
       "      <th>trinity</th>\n",
       "      <th>ident_uniprot</th>\n",
       "      <th>ident_salmo</th>\n",
       "    </tr>\n",
       "  </thead>\n",
       "  <tbody>\n",
       "    <tr>\n",
       "      <th>0</th>\n",
       "      <td>TRINITY_DN100000_c5_g1</td>\n",
       "      <td>CAPON_HUMAN^CAPON_MOUSE</td>\n",
       "      <td>XP_013978521.1^XP_014024532.1</td>\n",
       "    </tr>\n",
       "    <tr>\n",
       "      <th>1</th>\n",
       "      <td>TRINITY_DN100000_c5_g1_i2</td>\n",
       "      <td>CAPON_HUMAN</td>\n",
       "      <td>XP_014024532.1</td>\n",
       "    </tr>\n",
       "    <tr>\n",
       "      <th>2</th>\n",
       "      <td>TRINITY_DN100000_c5_g1_i6</td>\n",
       "      <td>CAPON_MOUSE</td>\n",
       "      <td>XP_013978521.1</td>\n",
       "    </tr>\n",
       "    <tr>\n",
       "      <th>3</th>\n",
       "      <td>TRINITY_DN100000_c9_g1</td>\n",
       "      <td>CH049_HUMAN</td>\n",
       "      <td>NaN</td>\n",
       "    </tr>\n",
       "    <tr>\n",
       "      <th>4</th>\n",
       "      <td>TRINITY_DN100000_c9_g1_i1</td>\n",
       "      <td>CH049_HUMAN</td>\n",
       "      <td>NaN</td>\n",
       "    </tr>\n",
       "  </tbody>\n",
       "</table>\n",
       "</div>"
      ],
      "text/plain": [
       "                     trinity            ident_uniprot  \\\n",
       "0     TRINITY_DN100000_c5_g1  CAPON_HUMAN^CAPON_MOUSE   \n",
       "1  TRINITY_DN100000_c5_g1_i2              CAPON_HUMAN   \n",
       "2  TRINITY_DN100000_c5_g1_i6              CAPON_MOUSE   \n",
       "3     TRINITY_DN100000_c9_g1              CH049_HUMAN   \n",
       "4  TRINITY_DN100000_c9_g1_i1              CH049_HUMAN   \n",
       "\n",
       "                     ident_salmo  \n",
       "0  XP_013978521.1^XP_014024532.1  \n",
       "1                 XP_014024532.1  \n",
       "2                 XP_013978521.1  \n",
       "3                            NaN  \n",
       "4                            NaN  "
      ]
     },
     "execution_count": 10,
     "metadata": {},
     "output_type": "execute_result"
    }
   ],
   "source": [
    "annot_report = pd.read_csv(path+'report_salmo_annot_feature_map_uniprot_and_salmo_proteins.csv', sep='\\t')\n",
    "annot_report.head()"
   ]
  },
  {
   "cell_type": "code",
   "execution_count": 9,
   "metadata": {},
   "outputs": [
    {
     "data": {
      "text/html": [
       "<div>\n",
       "<style scoped>\n",
       "    .dataframe tbody tr th:only-of-type {\n",
       "        vertical-align: middle;\n",
       "    }\n",
       "\n",
       "    .dataframe tbody tr th {\n",
       "        vertical-align: top;\n",
       "    }\n",
       "\n",
       "    .dataframe thead th {\n",
       "        text-align: right;\n",
       "    }\n",
       "</style>\n",
       "<table border=\"1\" class=\"dataframe\">\n",
       "  <thead>\n",
       "    <tr style=\"text-align: right;\">\n",
       "      <th></th>\n",
       "      <th>trinity</th>\n",
       "      <th>MIS_1d_1</th>\n",
       "      <th>MIS_1d_2</th>\n",
       "      <th>MIS_1d_3</th>\n",
       "      <th>INH_1d_1</th>\n",
       "      <th>INH_1d_2</th>\n",
       "      <th>INH_1d_3</th>\n",
       "      <th>baseMean</th>\n",
       "      <th>log2FoldChange</th>\n",
       "      <th>lfcSE</th>\n",
       "      <th>stat</th>\n",
       "      <th>pvalue</th>\n",
       "      <th>padj</th>\n",
       "    </tr>\n",
       "  </thead>\n",
       "  <tbody>\n",
       "    <tr>\n",
       "      <th>0</th>\n",
       "      <td>TRINITY_DN100000_c5_g1_i6</td>\n",
       "      <td>683</td>\n",
       "      <td>674</td>\n",
       "      <td>487</td>\n",
       "      <td>685</td>\n",
       "      <td>654</td>\n",
       "      <td>492</td>\n",
       "      <td>604.304316</td>\n",
       "      <td>-0.179745</td>\n",
       "      <td>0.304724</td>\n",
       "      <td>-0.589861</td>\n",
       "      <td>0.555284</td>\n",
       "      <td>0.999996</td>\n",
       "    </tr>\n",
       "    <tr>\n",
       "      <th>1</th>\n",
       "      <td>TRINITY_DN100000_c9_g1_i1</td>\n",
       "      <td>0</td>\n",
       "      <td>0</td>\n",
       "      <td>0</td>\n",
       "      <td>0</td>\n",
       "      <td>0</td>\n",
       "      <td>0</td>\n",
       "      <td>0.000000</td>\n",
       "      <td>NaN</td>\n",
       "      <td>NaN</td>\n",
       "      <td>NaN</td>\n",
       "      <td>NaN</td>\n",
       "      <td>NaN</td>\n",
       "    </tr>\n",
       "    <tr>\n",
       "      <th>2</th>\n",
       "      <td>TRINITY_DN100001_c2_g2_i2</td>\n",
       "      <td>1190</td>\n",
       "      <td>1280</td>\n",
       "      <td>1223</td>\n",
       "      <td>1034</td>\n",
       "      <td>1012</td>\n",
       "      <td>1252</td>\n",
       "      <td>1145.939552</td>\n",
       "      <td>-0.035965</td>\n",
       "      <td>0.256702</td>\n",
       "      <td>-0.140103</td>\n",
       "      <td>0.888579</td>\n",
       "      <td>0.999996</td>\n",
       "    </tr>\n",
       "    <tr>\n",
       "      <th>3</th>\n",
       "      <td>TRINITY_DN100001_c2_g2_i7</td>\n",
       "      <td>451</td>\n",
       "      <td>464</td>\n",
       "      <td>516</td>\n",
       "      <td>377</td>\n",
       "      <td>338</td>\n",
       "      <td>305</td>\n",
       "      <td>398.258863</td>\n",
       "      <td>0.292943</td>\n",
       "      <td>0.267341</td>\n",
       "      <td>1.095766</td>\n",
       "      <td>0.273181</td>\n",
       "      <td>0.999996</td>\n",
       "    </tr>\n",
       "    <tr>\n",
       "      <th>4</th>\n",
       "      <td>TRINITY_DN100001_c2_g3_i3</td>\n",
       "      <td>547</td>\n",
       "      <td>568</td>\n",
       "      <td>579</td>\n",
       "      <td>522</td>\n",
       "      <td>338</td>\n",
       "      <td>320</td>\n",
       "      <td>466.619820</td>\n",
       "      <td>0.327023</td>\n",
       "      <td>0.311017</td>\n",
       "      <td>1.051464</td>\n",
       "      <td>0.293046</td>\n",
       "      <td>0.999996</td>\n",
       "    </tr>\n",
       "  </tbody>\n",
       "</table>\n",
       "</div>"
      ],
      "text/plain": [
       "                     trinity  MIS_1d_1  MIS_1d_2  MIS_1d_3  INH_1d_1  \\\n",
       "0  TRINITY_DN100000_c5_g1_i6       683       674       487       685   \n",
       "1  TRINITY_DN100000_c9_g1_i1         0         0         0         0   \n",
       "2  TRINITY_DN100001_c2_g2_i2      1190      1280      1223      1034   \n",
       "3  TRINITY_DN100001_c2_g2_i7       451       464       516       377   \n",
       "4  TRINITY_DN100001_c2_g3_i3       547       568       579       522   \n",
       "\n",
       "   INH_1d_2  INH_1d_3     baseMean  log2FoldChange     lfcSE      stat  \\\n",
       "0       654       492   604.304316       -0.179745  0.304724 -0.589861   \n",
       "1         0         0     0.000000             NaN       NaN       NaN   \n",
       "2      1012      1252  1145.939552       -0.035965  0.256702 -0.140103   \n",
       "3       338       305   398.258863        0.292943  0.267341  1.095766   \n",
       "4       338       320   466.619820        0.327023  0.311017  1.051464   \n",
       "\n",
       "     pvalue      padj  \n",
       "0  0.555284  0.999996  \n",
       "1       NaN       NaN  \n",
       "2  0.888579  0.999996  \n",
       "3  0.273181  0.999996  \n",
       "4  0.293046  0.999996  "
      ]
     },
     "execution_count": 9,
     "metadata": {},
     "output_type": "execute_result"
    }
   ],
   "source": [
    "deseq_results = pd.read_csv(path+\"1d_MIS_vs_INH_DESEQ.csv\")\n",
    "deseq_results.head()"
   ]
  },
  {
   "cell_type": "code",
   "execution_count": 11,
   "metadata": {},
   "outputs": [],
   "source": [
    "merged = deseq_results.merge(annot_report, on='trinity')\n"
   ]
  },
  {
   "cell_type": "code",
   "execution_count": 12,
   "metadata": {},
   "outputs": [
    {
     "data": {
      "text/html": [
       "<div>\n",
       "<style scoped>\n",
       "    .dataframe tbody tr th:only-of-type {\n",
       "        vertical-align: middle;\n",
       "    }\n",
       "\n",
       "    .dataframe tbody tr th {\n",
       "        vertical-align: top;\n",
       "    }\n",
       "\n",
       "    .dataframe thead th {\n",
       "        text-align: right;\n",
       "    }\n",
       "</style>\n",
       "<table border=\"1\" class=\"dataframe\">\n",
       "  <thead>\n",
       "    <tr style=\"text-align: right;\">\n",
       "      <th></th>\n",
       "      <th>trinity</th>\n",
       "      <th>MIS_1d_1</th>\n",
       "      <th>MIS_1d_2</th>\n",
       "      <th>MIS_1d_3</th>\n",
       "      <th>INH_1d_1</th>\n",
       "      <th>INH_1d_2</th>\n",
       "      <th>INH_1d_3</th>\n",
       "      <th>baseMean</th>\n",
       "      <th>log2FoldChange</th>\n",
       "      <th>lfcSE</th>\n",
       "      <th>stat</th>\n",
       "      <th>pvalue</th>\n",
       "      <th>padj</th>\n",
       "      <th>ident_uniprot</th>\n",
       "      <th>ident_salmo</th>\n",
       "    </tr>\n",
       "  </thead>\n",
       "  <tbody>\n",
       "    <tr>\n",
       "      <th>0</th>\n",
       "      <td>TRINITY_DN100000_c5_g1_i6</td>\n",
       "      <td>683</td>\n",
       "      <td>674</td>\n",
       "      <td>487</td>\n",
       "      <td>685</td>\n",
       "      <td>654</td>\n",
       "      <td>492</td>\n",
       "      <td>604.304316</td>\n",
       "      <td>-0.179745</td>\n",
       "      <td>0.304724</td>\n",
       "      <td>-0.589861</td>\n",
       "      <td>0.555284</td>\n",
       "      <td>0.999996</td>\n",
       "      <td>CAPON_MOUSE</td>\n",
       "      <td>XP_013978521.1</td>\n",
       "    </tr>\n",
       "    <tr>\n",
       "      <th>1</th>\n",
       "      <td>TRINITY_DN100000_c9_g1_i1</td>\n",
       "      <td>0</td>\n",
       "      <td>0</td>\n",
       "      <td>0</td>\n",
       "      <td>0</td>\n",
       "      <td>0</td>\n",
       "      <td>0</td>\n",
       "      <td>0.000000</td>\n",
       "      <td>NaN</td>\n",
       "      <td>NaN</td>\n",
       "      <td>NaN</td>\n",
       "      <td>NaN</td>\n",
       "      <td>NaN</td>\n",
       "      <td>CH049_HUMAN</td>\n",
       "      <td>NaN</td>\n",
       "    </tr>\n",
       "    <tr>\n",
       "      <th>2</th>\n",
       "      <td>TRINITY_DN100001_c2_g2_i2</td>\n",
       "      <td>1190</td>\n",
       "      <td>1280</td>\n",
       "      <td>1223</td>\n",
       "      <td>1034</td>\n",
       "      <td>1012</td>\n",
       "      <td>1252</td>\n",
       "      <td>1145.939552</td>\n",
       "      <td>-0.035965</td>\n",
       "      <td>0.256702</td>\n",
       "      <td>-0.140103</td>\n",
       "      <td>0.888579</td>\n",
       "      <td>0.999996</td>\n",
       "      <td>CIO1B_SALSA</td>\n",
       "      <td>XP_014027367.1</td>\n",
       "    </tr>\n",
       "    <tr>\n",
       "      <th>3</th>\n",
       "      <td>TRINITY_DN100001_c2_g2_i7</td>\n",
       "      <td>451</td>\n",
       "      <td>464</td>\n",
       "      <td>516</td>\n",
       "      <td>377</td>\n",
       "      <td>338</td>\n",
       "      <td>305</td>\n",
       "      <td>398.258863</td>\n",
       "      <td>0.292943</td>\n",
       "      <td>0.267341</td>\n",
       "      <td>1.095766</td>\n",
       "      <td>0.273181</td>\n",
       "      <td>0.999996</td>\n",
       "      <td>CIO1B_SALSA</td>\n",
       "      <td>XP_014015694.1^XP_014027367.1</td>\n",
       "    </tr>\n",
       "    <tr>\n",
       "      <th>4</th>\n",
       "      <td>TRINITY_DN100001_c2_g3_i3</td>\n",
       "      <td>547</td>\n",
       "      <td>568</td>\n",
       "      <td>579</td>\n",
       "      <td>522</td>\n",
       "      <td>338</td>\n",
       "      <td>320</td>\n",
       "      <td>466.619820</td>\n",
       "      <td>0.327023</td>\n",
       "      <td>0.311017</td>\n",
       "      <td>1.051464</td>\n",
       "      <td>0.293046</td>\n",
       "      <td>0.999996</td>\n",
       "      <td>CIO1B_SALSA</td>\n",
       "      <td>XP_014027367.1</td>\n",
       "    </tr>\n",
       "  </tbody>\n",
       "</table>\n",
       "</div>"
      ],
      "text/plain": [
       "                     trinity  MIS_1d_1  MIS_1d_2  MIS_1d_3  INH_1d_1  \\\n",
       "0  TRINITY_DN100000_c5_g1_i6       683       674       487       685   \n",
       "1  TRINITY_DN100000_c9_g1_i1         0         0         0         0   \n",
       "2  TRINITY_DN100001_c2_g2_i2      1190      1280      1223      1034   \n",
       "3  TRINITY_DN100001_c2_g2_i7       451       464       516       377   \n",
       "4  TRINITY_DN100001_c2_g3_i3       547       568       579       522   \n",
       "\n",
       "   INH_1d_2  INH_1d_3     baseMean  log2FoldChange     lfcSE      stat  \\\n",
       "0       654       492   604.304316       -0.179745  0.304724 -0.589861   \n",
       "1         0         0     0.000000             NaN       NaN       NaN   \n",
       "2      1012      1252  1145.939552       -0.035965  0.256702 -0.140103   \n",
       "3       338       305   398.258863        0.292943  0.267341  1.095766   \n",
       "4       338       320   466.619820        0.327023  0.311017  1.051464   \n",
       "\n",
       "     pvalue      padj ident_uniprot                    ident_salmo  \n",
       "0  0.555284  0.999996   CAPON_MOUSE                 XP_013978521.1  \n",
       "1       NaN       NaN   CH049_HUMAN                            NaN  \n",
       "2  0.888579  0.999996   CIO1B_SALSA                 XP_014027367.1  \n",
       "3  0.273181  0.999996   CIO1B_SALSA  XP_014015694.1^XP_014027367.1  \n",
       "4  0.293046  0.999996   CIO1B_SALSA                 XP_014027367.1  "
      ]
     },
     "execution_count": 12,
     "metadata": {},
     "output_type": "execute_result"
    }
   ],
   "source": [
    "merged.head()"
   ]
  },
  {
   "cell_type": "code",
   "execution_count": 13,
   "metadata": {},
   "outputs": [],
   "source": [
    "merged.to_csv(path+'1d_MIS_vs_INH_DESEQ_annotated.csv', index=False)"
   ]
  },
  {
   "cell_type": "code",
   "execution_count": null,
   "metadata": {},
   "outputs": [],
   "source": []
  },
  {
   "cell_type": "code",
   "execution_count": 14,
   "metadata": {},
   "outputs": [],
   "source": [
    "# sorting annotated deseq results (padj < 0.001, l2fc sorted)"
   ]
  },
  {
   "cell_type": "code",
   "execution_count": 2,
   "metadata": {},
   "outputs": [],
   "source": [
    "path=\"/mnt/sdb1/Project_Sieja_MCLR_52/2_pipeline/7_counting_transcripts/proteins_uniprot_salmo_brzuzan/\""
   ]
  },
  {
   "cell_type": "code",
   "execution_count": 25,
   "metadata": {
    "scrolled": true
   },
   "outputs": [
    {
     "data": {
      "text/html": [
       "<div>\n",
       "<style scoped>\n",
       "    .dataframe tbody tr th:only-of-type {\n",
       "        vertical-align: middle;\n",
       "    }\n",
       "\n",
       "    .dataframe tbody tr th {\n",
       "        vertical-align: top;\n",
       "    }\n",
       "\n",
       "    .dataframe thead th {\n",
       "        text-align: right;\n",
       "    }\n",
       "</style>\n",
       "<table border=\"1\" class=\"dataframe\">\n",
       "  <thead>\n",
       "    <tr style=\"text-align: right;\">\n",
       "      <th></th>\n",
       "      <th>trinity</th>\n",
       "      <th>ident_uniprot</th>\n",
       "      <th>ident_salmo</th>\n",
       "      <th>MIS_8d_1</th>\n",
       "      <th>MIS_8d_2</th>\n",
       "      <th>MIS_8d_3</th>\n",
       "      <th>MIM_8d_1</th>\n",
       "      <th>MIM_8d_2</th>\n",
       "      <th>MIM_8d_3</th>\n",
       "      <th>baseMean</th>\n",
       "      <th>log2FoldChange</th>\n",
       "      <th>lfcSE</th>\n",
       "      <th>stat</th>\n",
       "      <th>pvalue</th>\n",
       "      <th>padj</th>\n",
       "    </tr>\n",
       "  </thead>\n",
       "  <tbody>\n",
       "    <tr>\n",
       "      <th>0</th>\n",
       "      <td>TRINITY_DN100000_c5_g1_i6</td>\n",
       "      <td>CAPON_MOUSE</td>\n",
       "      <td>XP_013978521.1</td>\n",
       "      <td>413</td>\n",
       "      <td>554</td>\n",
       "      <td>634</td>\n",
       "      <td>415</td>\n",
       "      <td>556</td>\n",
       "      <td>253</td>\n",
       "      <td>453.488632</td>\n",
       "      <td>0.213960</td>\n",
       "      <td>0.314849</td>\n",
       "      <td>0.679564</td>\n",
       "      <td>0.496780</td>\n",
       "      <td>0.999971</td>\n",
       "    </tr>\n",
       "    <tr>\n",
       "      <th>1</th>\n",
       "      <td>TRINITY_DN100000_c9_g1_i1</td>\n",
       "      <td>CH049_HUMAN</td>\n",
       "      <td>NaN</td>\n",
       "      <td>0</td>\n",
       "      <td>0</td>\n",
       "      <td>0</td>\n",
       "      <td>0</td>\n",
       "      <td>0</td>\n",
       "      <td>0</td>\n",
       "      <td>0.000000</td>\n",
       "      <td>NaN</td>\n",
       "      <td>NaN</td>\n",
       "      <td>NaN</td>\n",
       "      <td>NaN</td>\n",
       "      <td>NaN</td>\n",
       "    </tr>\n",
       "    <tr>\n",
       "      <th>2</th>\n",
       "      <td>TRINITY_DN100001_c2_g2_i2</td>\n",
       "      <td>CIO1B_SALSA</td>\n",
       "      <td>XP_014027367.1</td>\n",
       "      <td>1019</td>\n",
       "      <td>1089</td>\n",
       "      <td>1135</td>\n",
       "      <td>940</td>\n",
       "      <td>1042</td>\n",
       "      <td>1237</td>\n",
       "      <td>1066.823351</td>\n",
       "      <td>-0.183666</td>\n",
       "      <td>0.266745</td>\n",
       "      <td>-0.688546</td>\n",
       "      <td>0.491109</td>\n",
       "      <td>0.999971</td>\n",
       "    </tr>\n",
       "    <tr>\n",
       "      <th>3</th>\n",
       "      <td>TRINITY_DN100001_c2_g2_i7</td>\n",
       "      <td>CIO1B_SALSA</td>\n",
       "      <td>XP_014015694.1^XP_014027367.1</td>\n",
       "      <td>309</td>\n",
       "      <td>394</td>\n",
       "      <td>412</td>\n",
       "      <td>243</td>\n",
       "      <td>290</td>\n",
       "      <td>280</td>\n",
       "      <td>312.751830</td>\n",
       "      <td>0.261589</td>\n",
       "      <td>0.261880</td>\n",
       "      <td>0.998889</td>\n",
       "      <td>0.317849</td>\n",
       "      <td>0.999971</td>\n",
       "    </tr>\n",
       "    <tr>\n",
       "      <th>4</th>\n",
       "      <td>TRINITY_DN100001_c2_g3_i3</td>\n",
       "      <td>CIO1B_SALSA</td>\n",
       "      <td>XP_014027367.1</td>\n",
       "      <td>382</td>\n",
       "      <td>375</td>\n",
       "      <td>456</td>\n",
       "      <td>275</td>\n",
       "      <td>364</td>\n",
       "      <td>350</td>\n",
       "      <td>359.009621</td>\n",
       "      <td>0.112693</td>\n",
       "      <td>0.265376</td>\n",
       "      <td>0.424654</td>\n",
       "      <td>0.671089</td>\n",
       "      <td>0.999971</td>\n",
       "    </tr>\n",
       "  </tbody>\n",
       "</table>\n",
       "</div>"
      ],
      "text/plain": [
       "                     trinity ident_uniprot                    ident_salmo  \\\n",
       "0  TRINITY_DN100000_c5_g1_i6   CAPON_MOUSE                 XP_013978521.1   \n",
       "1  TRINITY_DN100000_c9_g1_i1   CH049_HUMAN                            NaN   \n",
       "2  TRINITY_DN100001_c2_g2_i2   CIO1B_SALSA                 XP_014027367.1   \n",
       "3  TRINITY_DN100001_c2_g2_i7   CIO1B_SALSA  XP_014015694.1^XP_014027367.1   \n",
       "4  TRINITY_DN100001_c2_g3_i3   CIO1B_SALSA                 XP_014027367.1   \n",
       "\n",
       "   MIS_8d_1  MIS_8d_2  MIS_8d_3  MIM_8d_1  MIM_8d_2  MIM_8d_3     baseMean  \\\n",
       "0       413       554       634       415       556       253   453.488632   \n",
       "1         0         0         0         0         0         0     0.000000   \n",
       "2      1019      1089      1135       940      1042      1237  1066.823351   \n",
       "3       309       394       412       243       290       280   312.751830   \n",
       "4       382       375       456       275       364       350   359.009621   \n",
       "\n",
       "   log2FoldChange     lfcSE      stat    pvalue      padj  \n",
       "0        0.213960  0.314849  0.679564  0.496780  0.999971  \n",
       "1             NaN       NaN       NaN       NaN       NaN  \n",
       "2       -0.183666  0.266745 -0.688546  0.491109  0.999971  \n",
       "3        0.261589  0.261880  0.998889  0.317849  0.999971  \n",
       "4        0.112693  0.265376  0.424654  0.671089  0.999971  "
      ]
     },
     "execution_count": 25,
     "metadata": {},
     "output_type": "execute_result"
    }
   ],
   "source": [
    "deseq_annotated = pd.read_csv(path+'8d_MIS_vs_MIM_DESEQ_annotated.csv', low_memory=False)\n",
    "deseq_annotated.head()"
   ]
  },
  {
   "cell_type": "code",
   "execution_count": 26,
   "metadata": {},
   "outputs": [],
   "source": [
    "deseq_annotated_padj = deseq_annotated[deseq_annotated['padj'] < 0.001]"
   ]
  },
  {
   "cell_type": "code",
   "execution_count": 27,
   "metadata": {},
   "outputs": [],
   "source": [
    "deseq_annotated_sorted = deseq_annotated_padj.sort_values(by='log2FoldChange')"
   ]
  },
  {
   "cell_type": "code",
   "execution_count": 28,
   "metadata": {},
   "outputs": [
    {
     "data": {
      "text/html": [
       "<div>\n",
       "<style scoped>\n",
       "    .dataframe tbody tr th:only-of-type {\n",
       "        vertical-align: middle;\n",
       "    }\n",
       "\n",
       "    .dataframe tbody tr th {\n",
       "        vertical-align: top;\n",
       "    }\n",
       "\n",
       "    .dataframe thead th {\n",
       "        text-align: right;\n",
       "    }\n",
       "</style>\n",
       "<table border=\"1\" class=\"dataframe\">\n",
       "  <thead>\n",
       "    <tr style=\"text-align: right;\">\n",
       "      <th></th>\n",
       "      <th>trinity</th>\n",
       "      <th>ident_uniprot</th>\n",
       "      <th>ident_salmo</th>\n",
       "      <th>MIS_8d_1</th>\n",
       "      <th>MIS_8d_2</th>\n",
       "      <th>MIS_8d_3</th>\n",
       "      <th>MIM_8d_1</th>\n",
       "      <th>MIM_8d_2</th>\n",
       "      <th>MIM_8d_3</th>\n",
       "      <th>baseMean</th>\n",
       "      <th>log2FoldChange</th>\n",
       "      <th>lfcSE</th>\n",
       "      <th>stat</th>\n",
       "      <th>pvalue</th>\n",
       "      <th>padj</th>\n",
       "    </tr>\n",
       "  </thead>\n",
       "  <tbody>\n",
       "    <tr>\n",
       "      <th>161222</th>\n",
       "      <td>TRINITY_DN91293_c2_g2_i1</td>\n",
       "      <td>NaN</td>\n",
       "      <td>XP_014067033.1</td>\n",
       "      <td>0</td>\n",
       "      <td>1</td>\n",
       "      <td>0</td>\n",
       "      <td>92</td>\n",
       "      <td>147</td>\n",
       "      <td>62</td>\n",
       "      <td>51.302357</td>\n",
       "      <td>-8.273648</td>\n",
       "      <td>1.273713</td>\n",
       "      <td>-6.495692</td>\n",
       "      <td>8.265273e-11</td>\n",
       "      <td>2.500304e-07</td>\n",
       "    </tr>\n",
       "    <tr>\n",
       "      <th>161339</th>\n",
       "      <td>TRINITY_DN91384_c2_g4_i1</td>\n",
       "      <td>NaN</td>\n",
       "      <td>XP_014068952.1^XP_014068951.1</td>\n",
       "      <td>0</td>\n",
       "      <td>0</td>\n",
       "      <td>0</td>\n",
       "      <td>36</td>\n",
       "      <td>87</td>\n",
       "      <td>34</td>\n",
       "      <td>26.188602</td>\n",
       "      <td>-8.271678</td>\n",
       "      <td>1.333119</td>\n",
       "      <td>-6.204756</td>\n",
       "      <td>5.478176e-10</td>\n",
       "      <td>1.288924e-06</td>\n",
       "    </tr>\n",
       "    <tr>\n",
       "      <th>167752</th>\n",
       "      <td>TRINITY_DN97215_c5_g1_i1</td>\n",
       "      <td>NaN</td>\n",
       "      <td>XP_014062859.1</td>\n",
       "      <td>0</td>\n",
       "      <td>0</td>\n",
       "      <td>0</td>\n",
       "      <td>28</td>\n",
       "      <td>68</td>\n",
       "      <td>14</td>\n",
       "      <td>18.095178</td>\n",
       "      <td>-7.739182</td>\n",
       "      <td>1.416803</td>\n",
       "      <td>-5.462428</td>\n",
       "      <td>4.696654e-08</td>\n",
       "      <td>6.630266e-05</td>\n",
       "    </tr>\n",
       "    <tr>\n",
       "      <th>161110</th>\n",
       "      <td>TRINITY_DN91206_c2_g2_i1</td>\n",
       "      <td>NaN</td>\n",
       "      <td>XP_013993628.1</td>\n",
       "      <td>1</td>\n",
       "      <td>2</td>\n",
       "      <td>0</td>\n",
       "      <td>98</td>\n",
       "      <td>126</td>\n",
       "      <td>205</td>\n",
       "      <td>76.383563</td>\n",
       "      <td>-7.359166</td>\n",
       "      <td>0.958493</td>\n",
       "      <td>-7.677850</td>\n",
       "      <td>1.617806e-14</td>\n",
       "      <td>1.522571e-10</td>\n",
       "    </tr>\n",
       "    <tr>\n",
       "      <th>126973</th>\n",
       "      <td>TRINITY_DN101103_c2_g4_i1</td>\n",
       "      <td>NaN</td>\n",
       "      <td>XP_013978951.1</td>\n",
       "      <td>0</td>\n",
       "      <td>0</td>\n",
       "      <td>1</td>\n",
       "      <td>44</td>\n",
       "      <td>87</td>\n",
       "      <td>21</td>\n",
       "      <td>25.454686</td>\n",
       "      <td>-7.260640</td>\n",
       "      <td>1.355832</td>\n",
       "      <td>-5.355119</td>\n",
       "      <td>8.550025e-08</td>\n",
       "      <td>1.131569e-04</td>\n",
       "    </tr>\n",
       "  </tbody>\n",
       "</table>\n",
       "</div>"
      ],
      "text/plain": [
       "                          trinity ident_uniprot  \\\n",
       "161222   TRINITY_DN91293_c2_g2_i1           NaN   \n",
       "161339   TRINITY_DN91384_c2_g4_i1           NaN   \n",
       "167752   TRINITY_DN97215_c5_g1_i1           NaN   \n",
       "161110   TRINITY_DN91206_c2_g2_i1           NaN   \n",
       "126973  TRINITY_DN101103_c2_g4_i1           NaN   \n",
       "\n",
       "                          ident_salmo  MIS_8d_1  MIS_8d_2  MIS_8d_3  MIM_8d_1  \\\n",
       "161222                 XP_014067033.1         0         1         0        92   \n",
       "161339  XP_014068952.1^XP_014068951.1         0         0         0        36   \n",
       "167752                 XP_014062859.1         0         0         0        28   \n",
       "161110                 XP_013993628.1         1         2         0        98   \n",
       "126973                 XP_013978951.1         0         0         1        44   \n",
       "\n",
       "        MIM_8d_2  MIM_8d_3   baseMean  log2FoldChange     lfcSE      stat  \\\n",
       "161222       147        62  51.302357       -8.273648  1.273713 -6.495692   \n",
       "161339        87        34  26.188602       -8.271678  1.333119 -6.204756   \n",
       "167752        68        14  18.095178       -7.739182  1.416803 -5.462428   \n",
       "161110       126       205  76.383563       -7.359166  0.958493 -7.677850   \n",
       "126973        87        21  25.454686       -7.260640  1.355832 -5.355119   \n",
       "\n",
       "              pvalue          padj  \n",
       "161222  8.265273e-11  2.500304e-07  \n",
       "161339  5.478176e-10  1.288924e-06  \n",
       "167752  4.696654e-08  6.630266e-05  \n",
       "161110  1.617806e-14  1.522571e-10  \n",
       "126973  8.550025e-08  1.131569e-04  "
      ]
     },
     "execution_count": 28,
     "metadata": {},
     "output_type": "execute_result"
    }
   ],
   "source": [
    "deseq_annotated_sorted.head()"
   ]
  },
  {
   "cell_type": "code",
   "execution_count": 29,
   "metadata": {},
   "outputs": [],
   "source": [
    "deseq_annotated_sorted.to_csv(path+\"8d_MIS_vs_MIM_DESEQ_annotated_padj0001_l2fc_sorted.csv\", index=False)\n"
   ]
  },
  {
   "cell_type": "code",
   "execution_count": 8,
   "metadata": {},
   "outputs": [],
   "source": [
    "# sorting annotated deseq_results (padj sorted)"
   ]
  },
  {
   "cell_type": "code",
   "execution_count": 6,
   "metadata": {},
   "outputs": [],
   "source": [
    "deseq_annotated = pd.read_csv(path+'8d_MIS_vs_MIM_DESEQ_annotated.csv', low_memory=False)\n",
    "deseq_annotated_sorted = deseq_annotated.sort_values(by='padj')\n",
    "deseq_annotated_sorted.to_csv(path+\"8d_MIS_vs_MIM_DESEQ_annotated_padj_sorted.csv\", index=False)"
   ]
  },
  {
   "cell_type": "code",
   "execution_count": null,
   "metadata": {},
   "outputs": [],
   "source": []
  },
  {
   "cell_type": "code",
   "execution_count": null,
   "metadata": {},
   "outputs": [],
   "source": [
    "# merge deseq results with GO (UNIPROT)"
   ]
  },
  {
   "cell_type": "code",
   "execution_count": 2,
   "metadata": {},
   "outputs": [],
   "source": [
    "path=\"/mnt/sdb1/Project_Sieja_MCLR_52/2_pipeline/7_counting_transcripts/proteins_uniprot_salmo_brzuzan/\""
   ]
  },
  {
   "cell_type": "code",
   "execution_count": 62,
   "metadata": {},
   "outputs": [],
   "source": [
    "deseq = pd.read_csv(path+'1d_MIS_vs_PBS_DESEQ_annotated_single_uniprot_hit.csv', low_memory=False)"
   ]
  },
  {
   "cell_type": "code",
   "execution_count": 63,
   "metadata": {},
   "outputs": [],
   "source": [
    "uniprot_go = pd.read_csv(path+'uniprot_only_go_table.tab', sep='\\t')"
   ]
  },
  {
   "cell_type": "code",
   "execution_count": 64,
   "metadata": {},
   "outputs": [],
   "source": [
    "merged = deseq.merge(uniprot_go, on='ident_uniprot', how='inner')"
   ]
  },
  {
   "cell_type": "code",
   "execution_count": 65,
   "metadata": {},
   "outputs": [],
   "source": [
    "merged_padj = merged[merged['padj'] < 0.001]"
   ]
  },
  {
   "cell_type": "code",
   "execution_count": 66,
   "metadata": {},
   "outputs": [],
   "source": [
    "merged_padj_sorted = merged_padj.sort_values(by='log2FoldChange')"
   ]
  },
  {
   "cell_type": "code",
   "execution_count": 67,
   "metadata": {},
   "outputs": [],
   "source": [
    "merged_padj_sorted.to_csv(path+'1d_MIS_vs_PBS_DESEQ_annotated_uniprotGO_padj0001_l2fc_sorted.csv', index=False)"
   ]
  },
  {
   "cell_type": "code",
   "execution_count": 2,
   "metadata": {},
   "outputs": [],
   "source": [
    "# merge deseq + go uniprot with GO SALMO"
   ]
  },
  {
   "cell_type": "code",
   "execution_count": 9,
   "metadata": {},
   "outputs": [],
   "source": [
    "deseq_go_uniprot = pd.read_csv(path+'testowo.csv', low_memory=False)"
   ]
  },
  {
   "cell_type": "code",
   "execution_count": 10,
   "metadata": {},
   "outputs": [],
   "source": [
    "salmo_go = pd.read_csv(path+'salmo_part1_part2.tab', low_memory=False, sep='\\t')\n"
   ]
  },
  {
   "cell_type": "code",
   "execution_count": 11,
   "metadata": {},
   "outputs": [],
   "source": [
    "merged_salmo = deseq_go_uniprot.merge(salmo_go, on='ident_salmo', how='outer')"
   ]
  },
  {
   "cell_type": "code",
   "execution_count": 12,
   "metadata": {},
   "outputs": [],
   "source": [
    "merged_salmo.to_csv(path+'testowo.csv', index=False)"
   ]
  },
  {
   "cell_type": "code",
   "execution_count": null,
   "metadata": {},
   "outputs": [],
   "source": []
  },
  {
   "cell_type": "code",
   "execution_count": null,
   "metadata": {},
   "outputs": [],
   "source": []
  },
  {
   "cell_type": "code",
   "execution_count": 8,
   "metadata": {},
   "outputs": [],
   "source": [
    "part1 = pd.read_csv(path+'salmo_part1.tab', low_memory=False, sep='\\t')\n",
    "part2 = pd.read_csv(path+'salmo_part2.tab', low_memory=False, sep='\\t')\n",
    "frames = [part1, part2]\n",
    "result = pd.concat(frames)"
   ]
  },
  {
   "cell_type": "code",
   "execution_count": 9,
   "metadata": {},
   "outputs": [],
   "source": [
    "result.to_csv(path+'salmo_part1_part2.tab', sep='\\t', index=False)"
   ]
  },
  {
   "cell_type": "code",
   "execution_count": null,
   "metadata": {},
   "outputs": [],
   "source": []
  },
  {
   "cell_type": "code",
   "execution_count": null,
   "metadata": {},
   "outputs": [],
   "source": []
  },
  {
   "cell_type": "code",
   "execution_count": null,
   "metadata": {},
   "outputs": [],
   "source": []
  },
  {
   "cell_type": "code",
   "execution_count": null,
   "metadata": {},
   "outputs": [],
   "source": []
  },
  {
   "cell_type": "code",
   "execution_count": null,
   "metadata": {},
   "outputs": [],
   "source": []
  }
 ],
 "metadata": {
  "kernelspec": {
   "display_name": "Python 3",
   "language": "python",
   "name": "python3"
  },
  "language_info": {
   "codemirror_mode": {
    "name": "ipython",
    "version": 3
   },
   "file_extension": ".py",
   "mimetype": "text/x-python",
   "name": "python",
   "nbconvert_exporter": "python",
   "pygments_lexer": "ipython3",
   "version": "3.7.3"
  }
 },
 "nbformat": 4,
 "nbformat_minor": 2
}
