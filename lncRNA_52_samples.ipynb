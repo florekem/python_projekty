{
 "cells": [
  {
   "cell_type": "markdown",
   "metadata": {},
   "source": [
    "Listy chromosome i mRNA utworzone! Pierwszym krokiem będzie projektowanie starterów dla chromosome, a mRNA wstrzymam się do opracowania "
   ]
  },
  {
   "cell_type": "code",
   "execution_count": 1,
   "metadata": {},
   "outputs": [],
   "source": [
    "import pandas as pd\n",
    "import numpy as np\n",
    "import csv\n",
    "import matplotlib as mpl \n",
    "import matplotlib.pyplot as plt"
   ]
  },
  {
   "cell_type": "markdown",
   "metadata": {},
   "source": [
    "### deseq OUT"
   ]
  },
  {
   "cell_type": "code",
   "execution_count": 4,
   "metadata": {},
   "outputs": [],
   "source": [
    "# podejcie MW #\n",
    "#--------------#\n",
    "# wyniki deseq:\n",
    "# pvalue jest normalizowane do padj przez \"the Holm method\" http://www.math.ucla.edu/~anderson/rw1001/library/base/html/p.adjust.html\n",
    "# w analizie odciecie jest przy padj = 0.001 (mozliwe bylo w DEBROWSER) i taki mam plik wynikowy, podzielony na UP/DOWN\n",
    "# (w zasadzie dwa pliki), z ktorych na podstawie najwyzszego log2foldchange wzialem po 100 najwyzszch sekwencji,\n",
    "# polaczylem razem i zblastowalem. Plik ktory jest ponizej to zlepek 100UP i 100DOWN wynikow deseq, tych samych, ktore sie blastowaly"
   ]
  },
  {
   "cell_type": "code",
   "execution_count": 2,
   "metadata": {},
   "outputs": [
    {
     "data": {
      "text/html": [
       "<div>\n",
       "<style scoped>\n",
       "    .dataframe tbody tr th:only-of-type {\n",
       "        vertical-align: middle;\n",
       "    }\n",
       "\n",
       "    .dataframe tbody tr th {\n",
       "        vertical-align: top;\n",
       "    }\n",
       "\n",
       "    .dataframe thead th {\n",
       "        text-align: right;\n",
       "    }\n",
       "</style>\n",
       "<table border=\"1\" class=\"dataframe\">\n",
       "  <thead>\n",
       "    <tr style=\"text-align: right;\">\n",
       "      <th></th>\n",
       "      <th>ID</th>\n",
       "      <th>PBS_1d_1</th>\n",
       "      <th>PBS_1d_2</th>\n",
       "      <th>PBS_1d_3</th>\n",
       "      <th>PBS_1d_4</th>\n",
       "      <th>MC_6d_1</th>\n",
       "      <th>MC_6d_2</th>\n",
       "      <th>MC_6d_3</th>\n",
       "      <th>padj</th>\n",
       "      <th>log2FoldChange</th>\n",
       "      <th>pvalue</th>\n",
       "      <th>foldChange</th>\n",
       "      <th>log10padj</th>\n",
       "    </tr>\n",
       "  </thead>\n",
       "  <tbody>\n",
       "    <tr>\n",
       "      <th>0</th>\n",
       "      <td>TRINITY_DN89469_c3_g1_i4</td>\n",
       "      <td>3508.639738</td>\n",
       "      <td>286.889935</td>\n",
       "      <td>424.439079</td>\n",
       "      <td>2739.108727</td>\n",
       "      <td>0.0</td>\n",
       "      <td>0.000000</td>\n",
       "      <td>0.0</td>\n",
       "      <td>3.427124e-14</td>\n",
       "      <td>-13,3824580501411</td>\n",
       "      <td>1.308537e-15</td>\n",
       "      <td>0.000094</td>\n",
       "      <td>13.465070</td>\n",
       "    </tr>\n",
       "    <tr>\n",
       "      <th>1</th>\n",
       "      <td>TRINITY_DN108781_c6_g7_i1</td>\n",
       "      <td>741.399314</td>\n",
       "      <td>351.089081</td>\n",
       "      <td>1921.491644</td>\n",
       "      <td>1564.921640</td>\n",
       "      <td>0.0</td>\n",
       "      <td>0.000000</td>\n",
       "      <td>0.0</td>\n",
       "      <td>1.157249e-22</td>\n",
       "      <td>-12,7785433017495</td>\n",
       "      <td>1.695150e-24</td>\n",
       "      <td>0.000142</td>\n",
       "      <td>21.936573</td>\n",
       "    </tr>\n",
       "    <tr>\n",
       "      <th>2</th>\n",
       "      <td>TRINITY_DN82922_c1_g2_i3</td>\n",
       "      <td>898.567298</td>\n",
       "      <td>1025.180116</td>\n",
       "      <td>790.750842</td>\n",
       "      <td>807.253622</td>\n",
       "      <td>0.0</td>\n",
       "      <td>0.000000</td>\n",
       "      <td>0.0</td>\n",
       "      <td>2.377948e-74</td>\n",
       "      <td>-12,3999122849851</td>\n",
       "      <td>4.496204e-78</td>\n",
       "      <td>0.000185</td>\n",
       "      <td>73.623798</td>\n",
       "    </tr>\n",
       "    <tr>\n",
       "      <th>3</th>\n",
       "      <td>TRINITY_DN83880_c4_g1_i13</td>\n",
       "      <td>303.496795</td>\n",
       "      <td>866.688474</td>\n",
       "      <td>1992.779861</td>\n",
       "      <td>227.102063</td>\n",
       "      <td>0.0</td>\n",
       "      <td>0.000000</td>\n",
       "      <td>0.0</td>\n",
       "      <td>2.906981e-15</td>\n",
       "      <td>-12,3448124542481</td>\n",
       "      <td>9.681932e-17</td>\n",
       "      <td>0.000192</td>\n",
       "      <td>14.536558</td>\n",
       "    </tr>\n",
       "    <tr>\n",
       "      <th>4</th>\n",
       "      <td>TRINITY_DN105991_c2_g2_i7</td>\n",
       "      <td>2727.135490</td>\n",
       "      <td>4919.259580</td>\n",
       "      <td>2264.771829</td>\n",
       "      <td>1599.631563</td>\n",
       "      <td>0.0</td>\n",
       "      <td>1.835489</td>\n",
       "      <td>0.0</td>\n",
       "      <td>3.636601e-38</td>\n",
       "      <td>-12,2457290826912</td>\n",
       "      <td>1.161373e-40</td>\n",
       "      <td>0.000206</td>\n",
       "      <td>37.439304</td>\n",
       "    </tr>\n",
       "  </tbody>\n",
       "</table>\n",
       "</div>"
      ],
      "text/plain": [
       "                          ID     PBS_1d_1     PBS_1d_2     PBS_1d_3  \\\n",
       "0   TRINITY_DN89469_c3_g1_i4  3508.639738   286.889935   424.439079   \n",
       "1  TRINITY_DN108781_c6_g7_i1   741.399314   351.089081  1921.491644   \n",
       "2   TRINITY_DN82922_c1_g2_i3   898.567298  1025.180116   790.750842   \n",
       "3  TRINITY_DN83880_c4_g1_i13   303.496795   866.688474  1992.779861   \n",
       "4  TRINITY_DN105991_c2_g2_i7  2727.135490  4919.259580  2264.771829   \n",
       "\n",
       "      PBS_1d_4  MC_6d_1   MC_6d_2  MC_6d_3          padj     log2FoldChange  \\\n",
       "0  2739.108727      0.0  0.000000      0.0  3.427124e-14  -13,3824580501411   \n",
       "1  1564.921640      0.0  0.000000      0.0  1.157249e-22  -12,7785433017495   \n",
       "2   807.253622      0.0  0.000000      0.0  2.377948e-74  -12,3999122849851   \n",
       "3   227.102063      0.0  0.000000      0.0  2.906981e-15  -12,3448124542481   \n",
       "4  1599.631563      0.0  1.835489      0.0  3.636601e-38  -12,2457290826912   \n",
       "\n",
       "         pvalue  foldChange  log10padj  \n",
       "0  1.308537e-15    0.000094  13.465070  \n",
       "1  1.695150e-24    0.000142  21.936573  \n",
       "2  4.496204e-78    0.000185  73.623798  \n",
       "3  9.681932e-17    0.000192  14.536558  \n",
       "4  1.161373e-40    0.000206  37.439304  "
      ]
     },
     "execution_count": 2,
     "metadata": {},
     "output_type": "execute_result"
    }
   ],
   "source": [
    "df_deseq_out = pd.read_csv('/mnt/sdb1/Project_Sieja_MCLR_52/2_pipeline/7_counting_transcripts/noncoding_novel/opracowane_deseq/podejcie_MW/6d/PBS1d_vs_MC6d_DESEQ_100UP_100DOWN_together.csv')\n",
    "df_deseq_out.head()"
   ]
  },
  {
   "cell_type": "markdown",
   "metadata": {},
   "source": [
    "# filtrowanie pliku wynikowego blasta"
   ]
  },
  {
   "cell_type": "code",
   "execution_count": 3,
   "metadata": {},
   "outputs": [
    {
     "data": {
      "text/plain": [
       "(1040247, 5)"
      ]
     },
     "execution_count": 3,
     "metadata": {},
     "output_type": "execute_result"
    }
   ],
   "source": [
    "df_blast_results = pd.read_csv('/mnt/sdb1/Project_Sieja_MCLR_52/2_pipeline/7_counting_transcripts/noncoding_novel/opracowane_deseq/podejcie_MW/6d/blast_all_200.csv', sep='\\t', low_memory=False)\n",
    "df_blast_results.shape"
   ]
  },
  {
   "cell_type": "markdown",
   "metadata": {},
   "source": [
    "### odfiltrowanie zbyt niskiego coverage"
   ]
  },
  {
   "cell_type": "code",
   "execution_count": 5,
   "metadata": {},
   "outputs": [
    {
     "data": {
      "text/plain": [
       "Index(['query', 'al_title', 'al_accession', 'evalue', 'coverage'], dtype='object')"
      ]
     },
     "execution_count": 5,
     "metadata": {},
     "output_type": "execute_result"
    }
   ],
   "source": [
    "df_blast_results.columns"
   ]
  },
  {
   "cell_type": "code",
   "execution_count": 4,
   "metadata": {
    "scrolled": true
   },
   "outputs": [
    {
     "data": {
      "text/html": [
       "<div>\n",
       "<style scoped>\n",
       "    .dataframe tbody tr th:only-of-type {\n",
       "        vertical-align: middle;\n",
       "    }\n",
       "\n",
       "    .dataframe tbody tr th {\n",
       "        vertical-align: top;\n",
       "    }\n",
       "\n",
       "    .dataframe thead th {\n",
       "        text-align: right;\n",
       "    }\n",
       "</style>\n",
       "<table border=\"1\" class=\"dataframe\">\n",
       "  <thead>\n",
       "    <tr style=\"text-align: right;\">\n",
       "      <th></th>\n",
       "      <th>query</th>\n",
       "      <th>al_title</th>\n",
       "      <th>al_accession</th>\n",
       "      <th>evalue</th>\n",
       "      <th>coverage</th>\n",
       "    </tr>\n",
       "  </thead>\n",
       "  <tbody>\n",
       "    <tr>\n",
       "      <th>0</th>\n",
       "      <td>TRINITY_DN80414_c8_g1_i6</td>\n",
       "      <td>gi|1711367508|emb|LR664381.1| Coregonus sp. 'b...</td>\n",
       "      <td>LR664381</td>\n",
       "      <td>0.000000e+00</td>\n",
       "      <td>100.571429</td>\n",
       "    </tr>\n",
       "    <tr>\n",
       "      <th>1</th>\n",
       "      <td>TRINITY_DN80414_c8_g1_i6</td>\n",
       "      <td>gi|1614056723|emb|LR584425.1| Salmo trutta gen...</td>\n",
       "      <td>LR584425</td>\n",
       "      <td>0.000000e+00</td>\n",
       "      <td>106.171429</td>\n",
       "    </tr>\n",
       "    <tr>\n",
       "      <th>2</th>\n",
       "      <td>TRINITY_DN80414_c8_g1_i6</td>\n",
       "      <td>gi|1614056709|emb|LR584411.1| Salmo trutta gen...</td>\n",
       "      <td>LR584411</td>\n",
       "      <td>0.000000e+00</td>\n",
       "      <td>67.428571</td>\n",
       "    </tr>\n",
       "    <tr>\n",
       "      <th>5</th>\n",
       "      <td>TRINITY_DN80414_c8_g1_i6</td>\n",
       "      <td>gi|1348554173|ref|XM_024138321.1| PREDICTED: S...</td>\n",
       "      <td>XM_024138321</td>\n",
       "      <td>6.688140e-53</td>\n",
       "      <td>30.285714</td>\n",
       "    </tr>\n",
       "    <tr>\n",
       "      <th>9</th>\n",
       "      <td>TRINITY_DN92637_c2_g3_i1</td>\n",
       "      <td>gi|1711366356|emb|LR664357.1| Coregonus sp. 'b...</td>\n",
       "      <td>LR664357</td>\n",
       "      <td>0.000000e+00</td>\n",
       "      <td>99.838710</td>\n",
       "    </tr>\n",
       "  </tbody>\n",
       "</table>\n",
       "</div>"
      ],
      "text/plain": [
       "                      query  \\\n",
       "0  TRINITY_DN80414_c8_g1_i6   \n",
       "1  TRINITY_DN80414_c8_g1_i6   \n",
       "2  TRINITY_DN80414_c8_g1_i6   \n",
       "5  TRINITY_DN80414_c8_g1_i6   \n",
       "9  TRINITY_DN92637_c2_g3_i1   \n",
       "\n",
       "                                            al_title  al_accession  \\\n",
       "0  gi|1711367508|emb|LR664381.1| Coregonus sp. 'b...      LR664381   \n",
       "1  gi|1614056723|emb|LR584425.1| Salmo trutta gen...      LR584425   \n",
       "2  gi|1614056709|emb|LR584411.1| Salmo trutta gen...      LR584411   \n",
       "5  gi|1348554173|ref|XM_024138321.1| PREDICTED: S...  XM_024138321   \n",
       "9  gi|1711366356|emb|LR664357.1| Coregonus sp. 'b...      LR664357   \n",
       "\n",
       "         evalue    coverage  \n",
       "0  0.000000e+00  100.571429  \n",
       "1  0.000000e+00  106.171429  \n",
       "2  0.000000e+00   67.428571  \n",
       "5  6.688140e-53   30.285714  \n",
       "9  0.000000e+00   99.838710  "
      ]
     },
     "execution_count": 4,
     "metadata": {},
     "output_type": "execute_result"
    }
   ],
   "source": [
    "df_blast_results_20cov = df_blast_results[df_blast_results['coverage'] > 20]\n",
    "df_blast_results_20cov.head()"
   ]
  },
  {
   "cell_type": "code",
   "execution_count": 7,
   "metadata": {},
   "outputs": [
    {
     "data": {
      "text/plain": [
       "(423547, 5)"
      ]
     },
     "execution_count": 7,
     "metadata": {},
     "output_type": "execute_result"
    }
   ],
   "source": [
    "df_blast_results_20cov.shape"
   ]
  },
  {
   "cell_type": "markdown",
   "metadata": {},
   "source": [
    "### filtrowanie mRNA only"
   ]
  },
  {
   "cell_type": "code",
   "execution_count": 7,
   "metadata": {},
   "outputs": [
    {
     "data": {
      "text/plain": [
       "(1575, 5)"
      ]
     },
     "execution_count": 7,
     "metadata": {},
     "output_type": "execute_result"
    }
   ],
   "source": [
    "# select what you need based on string\n",
    "df_mRNA_only = df_blast_results_20cov[df_blast_results_20cov['al_title'].str.contains('mRNA')]\n",
    "df_mRNA_only.shape\n"
   ]
  },
  {
   "cell_type": "code",
   "execution_count": 9,
   "metadata": {},
   "outputs": [],
   "source": [
    "df_mRNA_only.to_csv('/mnt/sdb1/Project_Sieja_MCLR_52/2_pipeline/7_counting_transcripts/noncoding_novel/opracowane_deseq/podejcie_MW/6d/PBS1d_vs_MCLR6d_mRNA_only.csv', index=False)"
   ]
  },
  {
   "cell_type": "code",
   "execution_count": 8,
   "metadata": {},
   "outputs": [],
   "source": [
    "# select best hit based on evalue (drop_duplicates)\n",
    "df_mRNA_only_best_hit = df_mRNA_only.sort_values('evalue', ascending=True).drop_duplicates('query').sort_index()\n"
   ]
  },
  {
   "cell_type": "code",
   "execution_count": 9,
   "metadata": {},
   "outputs": [
    {
     "data": {
      "text/plain": [
       "(130, 5)"
      ]
     },
     "execution_count": 9,
     "metadata": {},
     "output_type": "execute_result"
    }
   ],
   "source": [
    "df_mRNA_only_best_hit.shape"
   ]
  },
  {
   "cell_type": "code",
   "execution_count": 10,
   "metadata": {},
   "outputs": [],
   "source": [
    "df_mRNA_only_best_hit.sort_values(by='coverage', ascending=False, inplace=True)"
   ]
  },
  {
   "cell_type": "code",
   "execution_count": 13,
   "metadata": {},
   "outputs": [],
   "source": [
    "# save df as file\n",
    "df_mRNA_only_best_hit.to_csv('/mnt/sdb1/Project_Sieja_MCLR_52/2_pipeline/7_counting_transcripts/noncoding_novel/opracowane_deseq/podejcie_MW/6d/PBS1d_vs_MCLR6d_mRNA_only_best_hit.csv', index=False)"
   ]
  },
  {
   "cell_type": "code",
   "execution_count": 14,
   "metadata": {},
   "outputs": [
    {
     "data": {
      "text/html": [
       "<div>\n",
       "<style scoped>\n",
       "    .dataframe tbody tr th:only-of-type {\n",
       "        vertical-align: middle;\n",
       "    }\n",
       "\n",
       "    .dataframe tbody tr th {\n",
       "        vertical-align: top;\n",
       "    }\n",
       "\n",
       "    .dataframe thead th {\n",
       "        text-align: right;\n",
       "    }\n",
       "</style>\n",
       "<table border=\"1\" class=\"dataframe\">\n",
       "  <thead>\n",
       "    <tr style=\"text-align: right;\">\n",
       "      <th></th>\n",
       "      <th>ID</th>\n",
       "      <th>al_title</th>\n",
       "      <th>al_accession</th>\n",
       "      <th>evalue</th>\n",
       "      <th>coverage</th>\n",
       "    </tr>\n",
       "  </thead>\n",
       "  <tbody>\n",
       "    <tr>\n",
       "      <th>264807</th>\n",
       "      <td>TRINITY_DN98234_c1_g1_i1</td>\n",
       "      <td>gi|1367536286|ref|XM_024397182.1| PREDICTED: O...</td>\n",
       "      <td>XM_024397182</td>\n",
       "      <td>4.885760e-94</td>\n",
       "      <td>110.017889</td>\n",
       "    </tr>\n",
       "    <tr>\n",
       "      <th>791353</th>\n",
       "      <td>TRINITY_DN81156_c15_g1_i1</td>\n",
       "      <td>gi|929276519|ref|XM_014159553.1| PREDICTED: Sa...</td>\n",
       "      <td>XM_014159553</td>\n",
       "      <td>2.422560e-47</td>\n",
       "      <td>108.830549</td>\n",
       "    </tr>\n",
       "    <tr>\n",
       "      <th>63868</th>\n",
       "      <td>TRINITY_DN89088_c2_g2_i1</td>\n",
       "      <td>gi|1696032593|ref|XM_029743272.1| PREDICTED: S...</td>\n",
       "      <td>XM_029743272</td>\n",
       "      <td>2.778670e-131</td>\n",
       "      <td>103.648069</td>\n",
       "    </tr>\n",
       "    <tr>\n",
       "      <th>175321</th>\n",
       "      <td>TRINITY_DN106993_c0_g3_i1</td>\n",
       "      <td>gi|1696170136|ref|XM_029715903.1| PREDICTED: S...</td>\n",
       "      <td>XM_029715903</td>\n",
       "      <td>7.671280e-137</td>\n",
       "      <td>103.519669</td>\n",
       "    </tr>\n",
       "    <tr>\n",
       "      <th>46044</th>\n",
       "      <td>TRINITY_DN100272_c6_g1_i1</td>\n",
       "      <td>gi|1158853613|ref|XM_020490808.1| PREDICTED: O...</td>\n",
       "      <td>XM_020490808</td>\n",
       "      <td>0.000000e+00</td>\n",
       "      <td>101.626016</td>\n",
       "    </tr>\n",
       "  </tbody>\n",
       "</table>\n",
       "</div>"
      ],
      "text/plain": [
       "                               ID  \\\n",
       "264807   TRINITY_DN98234_c1_g1_i1   \n",
       "791353  TRINITY_DN81156_c15_g1_i1   \n",
       "63868    TRINITY_DN89088_c2_g2_i1   \n",
       "175321  TRINITY_DN106993_c0_g3_i1   \n",
       "46044   TRINITY_DN100272_c6_g1_i1   \n",
       "\n",
       "                                                 al_title  al_accession  \\\n",
       "264807  gi|1367536286|ref|XM_024397182.1| PREDICTED: O...  XM_024397182   \n",
       "791353  gi|929276519|ref|XM_014159553.1| PREDICTED: Sa...  XM_014159553   \n",
       "63868   gi|1696032593|ref|XM_029743272.1| PREDICTED: S...  XM_029743272   \n",
       "175321  gi|1696170136|ref|XM_029715903.1| PREDICTED: S...  XM_029715903   \n",
       "46044   gi|1158853613|ref|XM_020490808.1| PREDICTED: O...  XM_020490808   \n",
       "\n",
       "               evalue    coverage  \n",
       "264807   4.885760e-94  110.017889  \n",
       "791353   2.422560e-47  108.830549  \n",
       "63868   2.778670e-131  103.648069  \n",
       "175321  7.671280e-137  103.519669  \n",
       "46044    0.000000e+00  101.626016  "
      ]
     },
     "execution_count": 14,
     "metadata": {},
     "output_type": "execute_result"
    }
   ],
   "source": [
    "# łączenie odfiltrowanych mRNA z wynikami deseq\n",
    "\n",
    "df_mRNA_only_best_hit.rename(columns={'query' : 'ID'}, inplace=True)\n",
    "df_mRNA_only_best_hit.head()"
   ]
  },
  {
   "cell_type": "code",
   "execution_count": 15,
   "metadata": {},
   "outputs": [],
   "source": [
    "result = pd.merge(df_deseq_out, df_mRNA_only_best_hit, on='ID')\n",
    "result.sort_values(by='log2FoldChange', inplace=True)"
   ]
  },
  {
   "cell_type": "code",
   "execution_count": 16,
   "metadata": {},
   "outputs": [],
   "source": [
    "result.to_csv('/mnt/sdb1/Project_Sieja_MCLR_52/2_pipeline/7_counting_transcripts/noncoding_novel/opracowane_deseq/podejcie_MW/6d/PBS_1d_vs_MC2_6d_deseq_concat_with_mRNA_best_hit.csv', index=False)"
   ]
  },
  {
   "cell_type": "markdown",
   "metadata": {},
   "source": [
    "### filtrowanie chromosomes"
   ]
  },
  {
   "cell_type": "code",
   "execution_count": null,
   "metadata": {},
   "outputs": [],
   "source": [
    "# zgodnie z zasada [wszystkie - mRNA = reszta, czyli chromosomes]"
   ]
  },
  {
   "cell_type": "code",
   "execution_count": 11,
   "metadata": {},
   "outputs": [
    {
     "data": {
      "text/plain": [
       "(199, 5)"
      ]
     },
     "execution_count": 11,
     "metadata": {},
     "output_type": "execute_result"
    }
   ],
   "source": [
    "# best hit z calych wynikow blasta\n",
    "\n",
    "df_best_hit_all = df_blast_results_20cov.sort_values('evalue', ascending=True).drop_duplicates('query').sort_index()\n",
    "df_best_hit_all.shape"
   ]
  },
  {
   "cell_type": "code",
   "execution_count": 12,
   "metadata": {
    "scrolled": true
   },
   "outputs": [
    {
     "name": "stderr",
     "output_type": "stream",
     "text": [
      "/usr/lib/python3.7/site-packages/ipykernel_launcher.py:6: SettingWithCopyWarning: \n",
      "A value is trying to be set on a copy of a slice from a DataFrame\n",
      "\n",
      "See the caveats in the documentation: http://pandas.pydata.org/pandas-docs/stable/indexing.html#indexing-view-versus-copy\n",
      "  \n"
     ]
    }
   ],
   "source": [
    "# df1[~df1.isin(df2)].dropna()\n",
    "# jakos na zasadzie, jesli cos jest w jednym to usun to z drugiego\n",
    "df_non_mRNA_best_hit = df_best_hit_all[~df_best_hit_all['query'].isin(df_mRNA_only_best_hit['query'])]\n",
    "\n",
    "# sortowanie \n",
    "df_non_mRNA_best_hit.sort_values(by='coverage', ascending=False, inplace=True)\n",
    "\n",
    "# zapis\n",
    "df_non_mRNA_best_hit.to_csv('/mnt/sdb1/Project_Sieja_MCLR_52/2_pipeline/7_counting_transcripts/noncoding_novel/opracowane_deseq/podejcie_MW/6d/PBS1d_vs_MCLR6d_chromosome_only_best_hit.csv', index=False)"
   ]
  },
  {
   "cell_type": "code",
   "execution_count": 13,
   "metadata": {},
   "outputs": [
    {
     "name": "stderr",
     "output_type": "stream",
     "text": [
      "/usr/lib/python3.7/site-packages/pandas/core/frame.py:3781: SettingWithCopyWarning: \n",
      "A value is trying to be set on a copy of a slice from a DataFrame\n",
      "\n",
      "See the caveats in the documentation: http://pandas.pydata.org/pandas-docs/stable/indexing.html#indexing-view-versus-copy\n",
      "  return super(DataFrame, self).rename(**kwargs)\n"
     ]
    },
    {
     "data": {
      "text/html": [
       "<div>\n",
       "<style scoped>\n",
       "    .dataframe tbody tr th:only-of-type {\n",
       "        vertical-align: middle;\n",
       "    }\n",
       "\n",
       "    .dataframe tbody tr th {\n",
       "        vertical-align: top;\n",
       "    }\n",
       "\n",
       "    .dataframe thead th {\n",
       "        text-align: right;\n",
       "    }\n",
       "</style>\n",
       "<table border=\"1\" class=\"dataframe\">\n",
       "  <thead>\n",
       "    <tr style=\"text-align: right;\">\n",
       "      <th></th>\n",
       "      <th>ID</th>\n",
       "      <th>al_title</th>\n",
       "      <th>al_accession</th>\n",
       "      <th>evalue</th>\n",
       "      <th>coverage</th>\n",
       "    </tr>\n",
       "  </thead>\n",
       "  <tbody>\n",
       "    <tr>\n",
       "      <th>793485</th>\n",
       "      <td>TRINITY_DN99723_c8_g1_i2</td>\n",
       "      <td>gi|1711367680|emb|LR664382.1| Coregonus sp. 'b...</td>\n",
       "      <td>LR664382</td>\n",
       "      <td>2.838270e-116</td>\n",
       "      <td>104.074074</td>\n",
       "    </tr>\n",
       "    <tr>\n",
       "      <th>136062</th>\n",
       "      <td>TRINITY_DN101788_c3_g1_i1</td>\n",
       "      <td>gi|1614056736|emb|LR584438.1| Salmo trutta gen...</td>\n",
       "      <td>LR584438</td>\n",
       "      <td>0.000000e+00</td>\n",
       "      <td>103.287982</td>\n",
       "    </tr>\n",
       "    <tr>\n",
       "      <th>569886</th>\n",
       "      <td>TRINITY_DN113838_c9_g1_i3</td>\n",
       "      <td>gi|1711366400|emb|LR664358.1| Coregonus sp. 'b...</td>\n",
       "      <td>LR664358</td>\n",
       "      <td>2.209700e-112</td>\n",
       "      <td>102.492212</td>\n",
       "    </tr>\n",
       "    <tr>\n",
       "      <th>212253</th>\n",
       "      <td>TRINITY_DN93401_c2_g8_i1</td>\n",
       "      <td>gi|1614056714|emb|LR584416.1| Salmo trutta gen...</td>\n",
       "      <td>LR584416</td>\n",
       "      <td>0.000000e+00</td>\n",
       "      <td>102.445652</td>\n",
       "    </tr>\n",
       "    <tr>\n",
       "      <th>972419</th>\n",
       "      <td>TRINITY_DN99250_c2_g1_i11</td>\n",
       "      <td>gi|1711366093|emb|LR664351.1| Coregonus sp. 'b...</td>\n",
       "      <td>LR664351</td>\n",
       "      <td>9.784010e-146</td>\n",
       "      <td>102.318841</td>\n",
       "    </tr>\n",
       "  </tbody>\n",
       "</table>\n",
       "</div>"
      ],
      "text/plain": [
       "                               ID  \\\n",
       "793485   TRINITY_DN99723_c8_g1_i2   \n",
       "136062  TRINITY_DN101788_c3_g1_i1   \n",
       "569886  TRINITY_DN113838_c9_g1_i3   \n",
       "212253   TRINITY_DN93401_c2_g8_i1   \n",
       "972419  TRINITY_DN99250_c2_g1_i11   \n",
       "\n",
       "                                                 al_title al_accession  \\\n",
       "793485  gi|1711367680|emb|LR664382.1| Coregonus sp. 'b...     LR664382   \n",
       "136062  gi|1614056736|emb|LR584438.1| Salmo trutta gen...     LR584438   \n",
       "569886  gi|1711366400|emb|LR664358.1| Coregonus sp. 'b...     LR664358   \n",
       "212253  gi|1614056714|emb|LR584416.1| Salmo trutta gen...     LR584416   \n",
       "972419  gi|1711366093|emb|LR664351.1| Coregonus sp. 'b...     LR664351   \n",
       "\n",
       "               evalue    coverage  \n",
       "793485  2.838270e-116  104.074074  \n",
       "136062   0.000000e+00  103.287982  \n",
       "569886  2.209700e-112  102.492212  \n",
       "212253   0.000000e+00  102.445652  \n",
       "972419  9.784010e-146  102.318841  "
      ]
     },
     "execution_count": 13,
     "metadata": {},
     "output_type": "execute_result"
    }
   ],
   "source": [
    "df_non_mRNA_best_hit.rename(columns={'query' : 'ID'}, inplace=True)\n",
    "df_non_mRNA_best_hit.head()"
   ]
  },
  {
   "cell_type": "code",
   "execution_count": 14,
   "metadata": {
    "scrolled": true
   },
   "outputs": [],
   "source": [
    "### łączenie odfiltrowanych chromosomes z wynikami deseq\n",
    "\n",
    "result2 = pd.merge(df_deseq_out, df_non_mRNA_best_hit, on='ID')\n",
    "result2.sort_values(by='log2FoldChange', inplace=True)"
   ]
  },
  {
   "cell_type": "code",
   "execution_count": 15,
   "metadata": {},
   "outputs": [],
   "source": [
    "result2.to_csv('/mnt/sdb1/Project_Sieja_MCLR_52/2_pipeline/7_counting_transcripts/noncoding_novel/opracowane_deseq/podejcie_MW/6d/PBS_1d_vs_MC2_6d_deseq_concat_with_chromosome_best_hit.csv', index=False)\n"
   ]
  },
  {
   "cell_type": "code",
   "execution_count": 28,
   "metadata": {},
   "outputs": [],
   "source": []
  },
  {
   "cell_type": "code",
   "execution_count": null,
   "metadata": {},
   "outputs": [],
   "source": []
  },
  {
   "cell_type": "code",
   "execution_count": null,
   "metadata": {},
   "outputs": [],
   "source": []
  },
  {
   "cell_type": "code",
   "execution_count": null,
   "metadata": {},
   "outputs": [],
   "source": []
  }
 ],
 "metadata": {
  "kernelspec": {
   "display_name": "Python 3",
   "language": "python",
   "name": "python3"
  },
  "language_info": {
   "codemirror_mode": {
    "name": "ipython",
    "version": 3
   },
   "file_extension": ".py",
   "mimetype": "text/x-python",
   "name": "python",
   "nbconvert_exporter": "python",
   "pygments_lexer": "ipython3",
   "version": "3.7.3"
  }
 },
 "nbformat": 4,
 "nbformat_minor": 2
}
