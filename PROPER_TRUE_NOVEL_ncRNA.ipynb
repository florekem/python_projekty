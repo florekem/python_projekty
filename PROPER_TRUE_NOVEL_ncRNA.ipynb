{
 "cells": [
  {
   "cell_type": "code",
   "execution_count": 3,
   "metadata": {},
   "outputs": [],
   "source": [
    "import pandas as pd\n",
    "import numpy as np"
   ]
  },
  {
   "cell_type": "code",
   "execution_count": 4,
   "metadata": {},
   "outputs": [],
   "source": [
    "path='/mnt/sdb1/Project_Sieja_MCLR_52/2_pipeline/7_counting_transcripts/noncoding_novel/'"
   ]
  },
  {
   "cell_type": "code",
   "execution_count": null,
   "metadata": {},
   "outputs": [],
   "source": [
    "# deseq jest juz zrobiony przy okazji robienia grupy UTR/PROT"
   ]
  },
  {
   "cell_type": "code",
   "execution_count": 3,
   "metadata": {},
   "outputs": [],
   "source": [
    "# po deseq2:\n",
    "\n",
    "#zaladuj wyniki deseq (wszystkie novel)\n",
    "novel_deseq_results_d1 = pd.read_csv(path+'NOVEL_deseq2_result_from_R_1d.csv')"
   ]
  },
  {
   "cell_type": "code",
   "execution_count": 4,
   "metadata": {},
   "outputs": [],
   "source": [
    "# po deseq2:\n",
    "\n",
    "#zaladuj wyniki deseq\n",
    "novel_deseq_results_d6 = pd.read_csv(path+'NOVEL_deseq2_result_from_R_6d.csv')"
   ]
  },
  {
   "cell_type": "code",
   "execution_count": 5,
   "metadata": {},
   "outputs": [],
   "source": [
    "# po deseq2:\n",
    "\n",
    "#zaladuj wyniki deseq\n",
    "novel_deseq_results_d9 = pd.read_csv(path+'NOVEL_deseq2_result_from_R_9d.csv')"
   ]
  },
  {
   "cell_type": "code",
   "execution_count": 9,
   "metadata": {},
   "outputs": [
    {
     "data": {
      "text/plain": [
       "(188998, 6)"
      ]
     },
     "execution_count": 9,
     "metadata": {},
     "output_type": "execute_result"
    }
   ],
   "source": [
    "novel_deseq_results_d1.shape"
   ]
  },
  {
   "cell_type": "code",
   "execution_count": 6,
   "metadata": {},
   "outputs": [
    {
     "data": {
      "text/html": [
       "<div>\n",
       "<style scoped>\n",
       "    .dataframe tbody tr th:only-of-type {\n",
       "        vertical-align: middle;\n",
       "    }\n",
       "\n",
       "    .dataframe tbody tr th {\n",
       "        vertical-align: top;\n",
       "    }\n",
       "\n",
       "    .dataframe thead th {\n",
       "        text-align: right;\n",
       "    }\n",
       "</style>\n",
       "<table border=\"1\" class=\"dataframe\">\n",
       "  <thead>\n",
       "    <tr style=\"text-align: right;\">\n",
       "      <th></th>\n",
       "      <th>trinity</th>\n",
       "      <th>PBS_1d_1</th>\n",
       "      <th>PBS_1d_2</th>\n",
       "      <th>PBS_1d_3</th>\n",
       "      <th>PBS_1d_4</th>\n",
       "      <th>MC_1d_1</th>\n",
       "      <th>MC_1d_2</th>\n",
       "      <th>MC_1d_3</th>\n",
       "      <th>MC_6d_1</th>\n",
       "      <th>MC_6d_2</th>\n",
       "      <th>MC_6d_3</th>\n",
       "      <th>MC_9d_1</th>\n",
       "      <th>MC_9d_2</th>\n",
       "      <th>MC_9d_3</th>\n",
       "    </tr>\n",
       "  </thead>\n",
       "  <tbody>\n",
       "    <tr>\n",
       "      <th>0</th>\n",
       "      <td>TRINITY_DN100003_c1_g1_i1</td>\n",
       "      <td>8</td>\n",
       "      <td>16</td>\n",
       "      <td>29</td>\n",
       "      <td>1</td>\n",
       "      <td>24</td>\n",
       "      <td>21</td>\n",
       "      <td>24</td>\n",
       "      <td>1</td>\n",
       "      <td>1</td>\n",
       "      <td>2</td>\n",
       "      <td>7</td>\n",
       "      <td>2</td>\n",
       "      <td>34</td>\n",
       "    </tr>\n",
       "    <tr>\n",
       "      <th>1</th>\n",
       "      <td>TRINITY_DN100004_c4_g2_i2</td>\n",
       "      <td>9</td>\n",
       "      <td>22</td>\n",
       "      <td>24</td>\n",
       "      <td>8</td>\n",
       "      <td>23</td>\n",
       "      <td>50</td>\n",
       "      <td>45</td>\n",
       "      <td>65</td>\n",
       "      <td>53</td>\n",
       "      <td>95</td>\n",
       "      <td>76</td>\n",
       "      <td>29</td>\n",
       "      <td>74</td>\n",
       "    </tr>\n",
       "    <tr>\n",
       "      <th>2</th>\n",
       "      <td>TRINITY_DN100005_c7_g2_i1</td>\n",
       "      <td>800</td>\n",
       "      <td>798</td>\n",
       "      <td>577</td>\n",
       "      <td>913</td>\n",
       "      <td>1322</td>\n",
       "      <td>1276</td>\n",
       "      <td>1285</td>\n",
       "      <td>6952</td>\n",
       "      <td>5736</td>\n",
       "      <td>4279</td>\n",
       "      <td>6616</td>\n",
       "      <td>4073</td>\n",
       "      <td>3119</td>\n",
       "    </tr>\n",
       "    <tr>\n",
       "      <th>3</th>\n",
       "      <td>TRINITY_DN100005_c8_g3_i1</td>\n",
       "      <td>101</td>\n",
       "      <td>102</td>\n",
       "      <td>92</td>\n",
       "      <td>248</td>\n",
       "      <td>52</td>\n",
       "      <td>56</td>\n",
       "      <td>71</td>\n",
       "      <td>89</td>\n",
       "      <td>189</td>\n",
       "      <td>138</td>\n",
       "      <td>313</td>\n",
       "      <td>327</td>\n",
       "      <td>278</td>\n",
       "    </tr>\n",
       "    <tr>\n",
       "      <th>4</th>\n",
       "      <td>TRINITY_DN100005_c9_g1_i1</td>\n",
       "      <td>19</td>\n",
       "      <td>4</td>\n",
       "      <td>22</td>\n",
       "      <td>4</td>\n",
       "      <td>2</td>\n",
       "      <td>2</td>\n",
       "      <td>1</td>\n",
       "      <td>0</td>\n",
       "      <td>1</td>\n",
       "      <td>0</td>\n",
       "      <td>2</td>\n",
       "      <td>6</td>\n",
       "      <td>18</td>\n",
       "    </tr>\n",
       "  </tbody>\n",
       "</table>\n",
       "</div>"
      ],
      "text/plain": [
       "                     trinity  PBS_1d_1  PBS_1d_2  PBS_1d_3  PBS_1d_4  MC_1d_1  \\\n",
       "0  TRINITY_DN100003_c1_g1_i1         8        16        29         1       24   \n",
       "1  TRINITY_DN100004_c4_g2_i2         9        22        24         8       23   \n",
       "2  TRINITY_DN100005_c7_g2_i1       800       798       577       913     1322   \n",
       "3  TRINITY_DN100005_c8_g3_i1       101       102        92       248       52   \n",
       "4  TRINITY_DN100005_c9_g1_i1        19         4        22         4        2   \n",
       "\n",
       "   MC_1d_2  MC_1d_3  MC_6d_1  MC_6d_2  MC_6d_3  MC_9d_1  MC_9d_2  MC_9d_3  \n",
       "0       21       24        1        1        2        7        2       34  \n",
       "1       50       45       65       53       95       76       29       74  \n",
       "2     1276     1285     6952     5736     4279     6616     4073     3119  \n",
       "3       56       71       89      189      138      313      327      278  \n",
       "4        2        1        0        1        0        2        6       18  "
      ]
     },
     "execution_count": 6,
     "metadata": {},
     "output_type": "execute_result"
    }
   ],
   "source": [
    "matryca_novel = pd.read_csv(path+'PBS1d_MC_all_matryca.csv')\n",
    "matryca_novel.head()"
   ]
  },
  {
   "cell_type": "code",
   "execution_count": 7,
   "metadata": {},
   "outputs": [],
   "source": [
    "matryca_novel_1d = matryca_novel[['trinity', 'PBS_1d_1', 'PBS_1d_2', 'PBS_1d_3', 'PBS_1d_4', 'MC_1d_1',\n",
    "       'MC_1d_2', 'MC_1d_3']]"
   ]
  },
  {
   "cell_type": "code",
   "execution_count": 8,
   "metadata": {},
   "outputs": [],
   "source": [
    "matryca_novel_6d = matryca_novel[['trinity', 'PBS_1d_1', 'PBS_1d_2', 'PBS_1d_3', 'PBS_1d_4', 'MC_6d_1',\n",
    "       'MC_6d_2', 'MC_6d_3']]"
   ]
  },
  {
   "cell_type": "code",
   "execution_count": 9,
   "metadata": {},
   "outputs": [],
   "source": [
    "matryca_novel_9d = matryca_novel[['trinity', 'PBS_1d_1', 'PBS_1d_2', 'PBS_1d_3', 'PBS_1d_4', 'MC_9d_1',\n",
    "       'MC_9d_2', 'MC_9d_3']]"
   ]
  },
  {
   "cell_type": "code",
   "execution_count": 10,
   "metadata": {},
   "outputs": [],
   "source": [
    "# dodaj kolumny trinity oraz RC poszczegolnych grup do wynikow deseq:\n",
    "novel_deseq_results_d1 = pd.concat([matryca_novel_1d, novel_deseq_results_d1], axis=1, sort=False)"
   ]
  },
  {
   "cell_type": "code",
   "execution_count": 11,
   "metadata": {},
   "outputs": [],
   "source": [
    "# dodaj kolumny trinity oraz RC poszczegolnych grup do wynikow deseq:\n",
    "novel_deseq_results_d6 = pd.concat([matryca_novel_6d, novel_deseq_results_d6], axis=1, sort=False)"
   ]
  },
  {
   "cell_type": "code",
   "execution_count": 12,
   "metadata": {},
   "outputs": [],
   "source": [
    "# dodaj kolumny trinity oraz RC poszczegolnych grup do wynikow deseq:\n",
    "novel_deseq_results_d9 = pd.concat([matryca_novel_9d, novel_deseq_results_d9], axis=1, sort=False)"
   ]
  },
  {
   "cell_type": "code",
   "execution_count": 13,
   "metadata": {},
   "outputs": [
    {
     "data": {
      "text/html": [
       "<div>\n",
       "<style scoped>\n",
       "    .dataframe tbody tr th:only-of-type {\n",
       "        vertical-align: middle;\n",
       "    }\n",
       "\n",
       "    .dataframe tbody tr th {\n",
       "        vertical-align: top;\n",
       "    }\n",
       "\n",
       "    .dataframe thead th {\n",
       "        text-align: right;\n",
       "    }\n",
       "</style>\n",
       "<table border=\"1\" class=\"dataframe\">\n",
       "  <thead>\n",
       "    <tr style=\"text-align: right;\">\n",
       "      <th></th>\n",
       "      <th>id</th>\n",
       "    </tr>\n",
       "  </thead>\n",
       "  <tbody>\n",
       "    <tr>\n",
       "      <th>0</th>\n",
       "      <td>TRINITY_DN100003_c1_g1_i1</td>\n",
       "    </tr>\n",
       "    <tr>\n",
       "      <th>1</th>\n",
       "      <td>TRINITY_DN100013_c6_g1_i1</td>\n",
       "    </tr>\n",
       "    <tr>\n",
       "      <th>2</th>\n",
       "      <td>TRINITY_DN100024_c5_g1_i2</td>\n",
       "    </tr>\n",
       "    <tr>\n",
       "      <th>3</th>\n",
       "      <td>TRINITY_DN100024_c5_g5_i1</td>\n",
       "    </tr>\n",
       "    <tr>\n",
       "      <th>4</th>\n",
       "      <td>TRINITY_DN100030_c6_g1_i1</td>\n",
       "    </tr>\n",
       "  </tbody>\n",
       "</table>\n",
       "</div>"
      ],
      "text/plain": [
       "                          id\n",
       "0  TRINITY_DN100003_c1_g1_i1\n",
       "1  TRINITY_DN100013_c6_g1_i1\n",
       "2  TRINITY_DN100024_c5_g1_i2\n",
       "3  TRINITY_DN100024_c5_g5_i1\n",
       "4  TRINITY_DN100030_c6_g1_i1"
      ]
     },
     "execution_count": 13,
     "metadata": {},
     "output_type": "execute_result"
    }
   ],
   "source": [
    "# z matrycy wszystkich novel odfiltruj same TRUE NOVEL (NO HIT)\n",
    "\n",
    "no_hit_headers = pd.read_csv(path+\"NO_HIT_84974.headers\")\n",
    "no_hit_headers.head()"
   ]
  },
  {
   "cell_type": "code",
   "execution_count": 14,
   "metadata": {},
   "outputs": [
    {
     "data": {
      "text/plain": [
       "(84974, 14)"
      ]
     },
     "execution_count": 14,
     "metadata": {},
     "output_type": "execute_result"
    }
   ],
   "source": [
    "true_novel_ncRNA_1d_deseq = novel_deseq_results_d1[novel_deseq_results_d1['trinity'].isin(no_hit_headers['id'])]\n",
    "true_novel_ncRNA_1d_deseq.shape"
   ]
  },
  {
   "cell_type": "code",
   "execution_count": 15,
   "metadata": {},
   "outputs": [
    {
     "data": {
      "text/plain": [
       "(84974, 14)"
      ]
     },
     "execution_count": 15,
     "metadata": {},
     "output_type": "execute_result"
    }
   ],
   "source": [
    "true_novel_ncRNA_6d_deseq = novel_deseq_results_d6[novel_deseq_results_d6['trinity'].isin(no_hit_headers['id'])]\n",
    "true_novel_ncRNA_6d_deseq.shape"
   ]
  },
  {
   "cell_type": "code",
   "execution_count": 16,
   "metadata": {},
   "outputs": [
    {
     "data": {
      "text/plain": [
       "(84974, 14)"
      ]
     },
     "execution_count": 16,
     "metadata": {},
     "output_type": "execute_result"
    }
   ],
   "source": [
    "true_novel_ncRNA_9d_deseq = novel_deseq_results_d9[novel_deseq_results_d9['trinity'].isin(no_hit_headers['id'])]\n",
    "true_novel_ncRNA_9d_deseq.shape"
   ]
  },
  {
   "cell_type": "code",
   "execution_count": 17,
   "metadata": {
    "scrolled": true
   },
   "outputs": [
    {
     "data": {
      "text/html": [
       "<div>\n",
       "<style scoped>\n",
       "    .dataframe tbody tr th:only-of-type {\n",
       "        vertical-align: middle;\n",
       "    }\n",
       "\n",
       "    .dataframe tbody tr th {\n",
       "        vertical-align: top;\n",
       "    }\n",
       "\n",
       "    .dataframe thead th {\n",
       "        text-align: right;\n",
       "    }\n",
       "</style>\n",
       "<table border=\"1\" class=\"dataframe\">\n",
       "  <thead>\n",
       "    <tr style=\"text-align: right;\">\n",
       "      <th></th>\n",
       "      <th>trinity</th>\n",
       "      <th>PBS_1d_1</th>\n",
       "      <th>PBS_1d_2</th>\n",
       "      <th>PBS_1d_3</th>\n",
       "      <th>PBS_1d_4</th>\n",
       "      <th>MC_9d_1</th>\n",
       "      <th>MC_9d_2</th>\n",
       "      <th>MC_9d_3</th>\n",
       "      <th>baseMean</th>\n",
       "      <th>log2FoldChange</th>\n",
       "      <th>lfcSE</th>\n",
       "      <th>stat</th>\n",
       "      <th>pvalue</th>\n",
       "      <th>padj</th>\n",
       "    </tr>\n",
       "  </thead>\n",
       "  <tbody>\n",
       "    <tr>\n",
       "      <th>0</th>\n",
       "      <td>TRINITY_DN100003_c1_g1_i1</td>\n",
       "      <td>8</td>\n",
       "      <td>16</td>\n",
       "      <td>29</td>\n",
       "      <td>1</td>\n",
       "      <td>7</td>\n",
       "      <td>2</td>\n",
       "      <td>34</td>\n",
       "      <td>13.695100</td>\n",
       "      <td>0.575314</td>\n",
       "      <td>1.135625</td>\n",
       "      <td>0.506606</td>\n",
       "      <td>0.612431</td>\n",
       "      <td>0.744168</td>\n",
       "    </tr>\n",
       "    <tr>\n",
       "      <th>7</th>\n",
       "      <td>TRINITY_DN100013_c6_g1_i1</td>\n",
       "      <td>0</td>\n",
       "      <td>0</td>\n",
       "      <td>0</td>\n",
       "      <td>1</td>\n",
       "      <td>0</td>\n",
       "      <td>0</td>\n",
       "      <td>0</td>\n",
       "      <td>0.155286</td>\n",
       "      <td>1.300373</td>\n",
       "      <td>3.816939</td>\n",
       "      <td>0.340685</td>\n",
       "      <td>0.733341</td>\n",
       "      <td>NaN</td>\n",
       "    </tr>\n",
       "    <tr>\n",
       "      <th>15</th>\n",
       "      <td>TRINITY_DN100024_c5_g1_i2</td>\n",
       "      <td>47</td>\n",
       "      <td>94</td>\n",
       "      <td>18</td>\n",
       "      <td>19</td>\n",
       "      <td>168</td>\n",
       "      <td>64</td>\n",
       "      <td>81</td>\n",
       "      <td>64.130882</td>\n",
       "      <td>-0.676135</td>\n",
       "      <td>0.701629</td>\n",
       "      <td>-0.963664</td>\n",
       "      <td>0.335214</td>\n",
       "      <td>0.496912</td>\n",
       "    </tr>\n",
       "    <tr>\n",
       "      <th>16</th>\n",
       "      <td>TRINITY_DN100024_c5_g5_i1</td>\n",
       "      <td>23</td>\n",
       "      <td>26</td>\n",
       "      <td>3</td>\n",
       "      <td>15</td>\n",
       "      <td>59</td>\n",
       "      <td>52</td>\n",
       "      <td>88</td>\n",
       "      <td>32.735933</td>\n",
       "      <td>-1.406717</td>\n",
       "      <td>0.681387</td>\n",
       "      <td>-2.064489</td>\n",
       "      <td>0.038971</td>\n",
       "      <td>0.104043</td>\n",
       "    </tr>\n",
       "    <tr>\n",
       "      <th>21</th>\n",
       "      <td>TRINITY_DN100030_c6_g1_i1</td>\n",
       "      <td>0</td>\n",
       "      <td>4</td>\n",
       "      <td>7</td>\n",
       "      <td>40</td>\n",
       "      <td>2</td>\n",
       "      <td>1</td>\n",
       "      <td>39</td>\n",
       "      <td>12.472749</td>\n",
       "      <td>0.457441</td>\n",
       "      <td>1.467125</td>\n",
       "      <td>0.311794</td>\n",
       "      <td>0.755197</td>\n",
       "      <td>0.848454</td>\n",
       "    </tr>\n",
       "  </tbody>\n",
       "</table>\n",
       "</div>"
      ],
      "text/plain": [
       "                      trinity  PBS_1d_1  PBS_1d_2  PBS_1d_3  PBS_1d_4  \\\n",
       "0   TRINITY_DN100003_c1_g1_i1         8        16        29         1   \n",
       "7   TRINITY_DN100013_c6_g1_i1         0         0         0         1   \n",
       "15  TRINITY_DN100024_c5_g1_i2        47        94        18        19   \n",
       "16  TRINITY_DN100024_c5_g5_i1        23        26         3        15   \n",
       "21  TRINITY_DN100030_c6_g1_i1         0         4         7        40   \n",
       "\n",
       "    MC_9d_1  MC_9d_2  MC_9d_3   baseMean  log2FoldChange     lfcSE      stat  \\\n",
       "0         7        2       34  13.695100        0.575314  1.135625  0.506606   \n",
       "7         0        0        0   0.155286        1.300373  3.816939  0.340685   \n",
       "15      168       64       81  64.130882       -0.676135  0.701629 -0.963664   \n",
       "16       59       52       88  32.735933       -1.406717  0.681387 -2.064489   \n",
       "21        2        1       39  12.472749        0.457441  1.467125  0.311794   \n",
       "\n",
       "      pvalue      padj  \n",
       "0   0.612431  0.744168  \n",
       "7   0.733341       NaN  \n",
       "15  0.335214  0.496912  \n",
       "16  0.038971  0.104043  \n",
       "21  0.755197  0.848454  "
      ]
     },
     "execution_count": 17,
     "metadata": {},
     "output_type": "execute_result"
    }
   ],
   "source": [
    "true_novel_ncRNA_9d_deseq.head()"
   ]
  },
  {
   "cell_type": "code",
   "execution_count": 20,
   "metadata": {},
   "outputs": [],
   "source": [
    "true_novel_ncRNA_1d_deseq = true_novel_ncRNA_1d_deseq[true_novel_ncRNA_1d_deseq['padj'] < 0.001]"
   ]
  },
  {
   "cell_type": "code",
   "execution_count": 18,
   "metadata": {},
   "outputs": [],
   "source": [
    "true_novel_ncRNA_6d_deseq = true_novel_ncRNA_6d_deseq[true_novel_ncRNA_6d_deseq['padj'] < 0.001]"
   ]
  },
  {
   "cell_type": "code",
   "execution_count": 19,
   "metadata": {},
   "outputs": [],
   "source": [
    "true_novel_ncRNA_9d_deseq = true_novel_ncRNA_9d_deseq[true_novel_ncRNA_9d_deseq['padj'] < 0.001]"
   ]
  },
  {
   "cell_type": "code",
   "execution_count": 21,
   "metadata": {},
   "outputs": [],
   "source": [
    "true_novel_ncRNA_1d_deseq.sort_values(by='log2FoldChange', inplace=True)"
   ]
  },
  {
   "cell_type": "code",
   "execution_count": 20,
   "metadata": {},
   "outputs": [],
   "source": [
    "true_novel_ncRNA_6d_deseq.sort_values(by='log2FoldChange', inplace=True)"
   ]
  },
  {
   "cell_type": "code",
   "execution_count": 21,
   "metadata": {},
   "outputs": [],
   "source": [
    "true_novel_ncRNA_9d_deseq.sort_values(by='log2FoldChange', inplace=True)"
   ]
  },
  {
   "cell_type": "code",
   "execution_count": 22,
   "metadata": {},
   "outputs": [
    {
     "data": {
      "text/plain": [
       "(1100, 14)"
      ]
     },
     "execution_count": 22,
     "metadata": {},
     "output_type": "execute_result"
    }
   ],
   "source": [
    "true_novel_ncRNA_1d_deseq.shape"
   ]
  },
  {
   "cell_type": "code",
   "execution_count": 22,
   "metadata": {},
   "outputs": [
    {
     "data": {
      "text/plain": [
       "(3866, 14)"
      ]
     },
     "execution_count": 22,
     "metadata": {},
     "output_type": "execute_result"
    }
   ],
   "source": [
    "true_novel_ncRNA_6d_deseq.shape"
   ]
  },
  {
   "cell_type": "code",
   "execution_count": 23,
   "metadata": {},
   "outputs": [
    {
     "data": {
      "text/plain": [
       "(2543, 14)"
      ]
     },
     "execution_count": 23,
     "metadata": {},
     "output_type": "execute_result"
    }
   ],
   "source": [
    "true_novel_ncRNA_9d_deseq.shape"
   ]
  },
  {
   "cell_type": "code",
   "execution_count": 25,
   "metadata": {},
   "outputs": [],
   "source": [
    "true_novel_ncRNA_1d_deseq.to_csv(path+'TRUE_NOVEL_ncRNA_1d_after_deseq_w_trinity_names.csv', index=False)"
   ]
  },
  {
   "cell_type": "code",
   "execution_count": 24,
   "metadata": {},
   "outputs": [],
   "source": [
    "true_novel_ncRNA_6d_deseq.to_csv(path+'TRUE_NOVEL_ncRNA_6d_after_deseq_w_trinity_names.csv', index=False)"
   ]
  },
  {
   "cell_type": "code",
   "execution_count": 25,
   "metadata": {},
   "outputs": [],
   "source": [
    "true_novel_ncRNA_9d_deseq.to_csv(path+'TRUE_NOVEL_ncRNA_9d_after_deseq_w_trinity_names.csv', index=False)"
   ]
  },
  {
   "cell_type": "code",
   "execution_count": null,
   "metadata": {},
   "outputs": [],
   "source": []
  },
  {
   "cell_type": "markdown",
   "metadata": {},
   "source": [
    "## ////// BEGIN wspólne dla wszystkich dni TRUE NOVEL"
   ]
  },
  {
   "cell_type": "code",
   "execution_count": 13,
   "metadata": {},
   "outputs": [],
   "source": [
    "# zaladowanie powyzszych wynikow "
   ]
  },
  {
   "cell_type": "code",
   "execution_count": 5,
   "metadata": {},
   "outputs": [],
   "source": [
    "true_novel_ncRNA_1d_deseq = pd.read_csv(path+'TRUE_NOVEL_ncRNA_1d_after_deseq_w_trinity_names.csv')"
   ]
  },
  {
   "cell_type": "code",
   "execution_count": 6,
   "metadata": {},
   "outputs": [],
   "source": [
    "true_novel_ncRNA_6d_deseq = pd.read_csv(path+'TRUE_NOVEL_ncRNA_6d_after_deseq_w_trinity_names.csv')"
   ]
  },
  {
   "cell_type": "code",
   "execution_count": 7,
   "metadata": {},
   "outputs": [],
   "source": [
    "true_novel_ncRNA_9d_deseq = pd.read_csv(path+'TRUE_NOVEL_ncRNA_9d_after_deseq_w_trinity_names.csv')"
   ]
  },
  {
   "cell_type": "code",
   "execution_count": null,
   "metadata": {},
   "outputs": [],
   "source": [
    "# Eksport do pliku nazw trinity do porownania venneem"
   ]
  },
  {
   "cell_type": "code",
   "execution_count": 10,
   "metadata": {},
   "outputs": [],
   "source": [
    "trinity = true_novel_ncRNA_1d_deseq[true_novel_ncRNA_1d_deseq['log2FoldChange'] < 1]\n",
    "trinity['trinity'].to_csv(path+'true_novel_pliki/1d_UP', index=False)"
   ]
  },
  {
   "cell_type": "code",
   "execution_count": 12,
   "metadata": {},
   "outputs": [],
   "source": [
    "trinity = true_novel_ncRNA_6d_deseq[true_novel_ncRNA_6d_deseq['log2FoldChange'] < 1]\n",
    "trinity['trinity'].to_csv(path+'true_novel_pliki/6d_UP', index=False)"
   ]
  },
  {
   "cell_type": "code",
   "execution_count": 11,
   "metadata": {},
   "outputs": [],
   "source": [
    "trinity = true_novel_ncRNA_9d_deseq[true_novel_ncRNA_9d_deseq['log2FoldChange'] < 1]\n",
    "trinity['trinity'].to_csv(path+'true_novel_pliki/9d_UP', index=False)"
   ]
  },
  {
   "cell_type": "code",
   "execution_count": 15,
   "metadata": {},
   "outputs": [],
   "source": [
    "trinity = true_novel_ncRNA_1d_deseq[true_novel_ncRNA_1d_deseq['log2FoldChange'] > 1]\n",
    "trinity['trinity'].to_csv(path+'true_novel_pliki/1d_DOWN', index=False)"
   ]
  },
  {
   "cell_type": "code",
   "execution_count": 16,
   "metadata": {},
   "outputs": [],
   "source": [
    "trinity = true_novel_ncRNA_6d_deseq[true_novel_ncRNA_6d_deseq['log2FoldChange'] > 1] \n",
    "trinity['trinity'].to_csv(path+'true_novel_pliki/6d_down', index=False)"
   ]
  },
  {
   "cell_type": "code",
   "execution_count": 17,
   "metadata": {},
   "outputs": [],
   "source": [
    "trinity = true_novel_ncRNA_9d_deseq[true_novel_ncRNA_9d_deseq['log2FoldChange'] > 1]\n",
    "trinity['trinity'].to_csv(path+'true_novel_pliki/9d_DOWN', index=False)"
   ]
  },
  {
   "cell_type": "code",
   "execution_count": 18,
   "metadata": {},
   "outputs": [],
   "source": [
    "# po venie zaladuj liste trinity ze wspolnymi we wszystkich dniach\n",
    "\n",
    "wspolne_UP = pd.read_csv(path+'true_novel_pliki/wspolne_UP.headers')\n",
    "wspolne_DOWN = pd.read_csv(path+'true_novel_pliki/wspolne_DOWN.headers')"
   ]
  },
  {
   "cell_type": "code",
   "execution_count": 19,
   "metadata": {},
   "outputs": [
    {
     "data": {
      "text/html": [
       "<div>\n",
       "<style scoped>\n",
       "    .dataframe tbody tr th:only-of-type {\n",
       "        vertical-align: middle;\n",
       "    }\n",
       "\n",
       "    .dataframe tbody tr th {\n",
       "        vertical-align: top;\n",
       "    }\n",
       "\n",
       "    .dataframe thead th {\n",
       "        text-align: right;\n",
       "    }\n",
       "</style>\n",
       "<table border=\"1\" class=\"dataframe\">\n",
       "  <thead>\n",
       "    <tr style=\"text-align: right;\">\n",
       "      <th></th>\n",
       "      <th>trinity</th>\n",
       "    </tr>\n",
       "  </thead>\n",
       "  <tbody>\n",
       "    <tr>\n",
       "      <th>0</th>\n",
       "      <td>TRINITY_DN91249_c1_g4_i1</td>\n",
       "    </tr>\n",
       "    <tr>\n",
       "      <th>1</th>\n",
       "      <td>TRINITY_DN109734_c4_g5_i1</td>\n",
       "    </tr>\n",
       "  </tbody>\n",
       "</table>\n",
       "</div>"
      ],
      "text/plain": [
       "                     trinity\n",
       "0   TRINITY_DN91249_c1_g4_i1\n",
       "1  TRINITY_DN109734_c4_g5_i1"
      ]
     },
     "execution_count": 19,
     "metadata": {},
     "output_type": "execute_result"
    }
   ],
   "source": [
    "wspolne_UP.head(2)"
   ]
  },
  {
   "cell_type": "code",
   "execution_count": null,
   "metadata": {},
   "outputs": [],
   "source": [
    "# z deseq wszystkich wybierz tylko wspolne na podstawie list wspolnych"
   ]
  },
  {
   "cell_type": "markdown",
   "metadata": {},
   "source": [
    "### UP"
   ]
  },
  {
   "cell_type": "code",
   "execution_count": 44,
   "metadata": {},
   "outputs": [],
   "source": [
    "true_novel_ncRNA_1d_deseq_wspolne_UP = true_novel_ncRNA_1d_deseq[true_novel_ncRNA_1d_deseq['trinity'].isin(wspolne_UP['trinity'])]\n",
    "true_novel_ncRNA_6d_deseq_wspolne_UP = true_novel_ncRNA_6d_deseq[true_novel_ncRNA_6d_deseq['trinity'].isin(wspolne_UP['trinity'])]\n",
    "true_novel_ncRNA_9d_deseq_wspolne_UP = true_novel_ncRNA_9d_deseq[true_novel_ncRNA_9d_deseq['trinity'].isin(wspolne_UP['trinity'])]\n"
   ]
  },
  {
   "cell_type": "code",
   "execution_count": null,
   "metadata": {},
   "outputs": [],
   "source": [
    "# polaczyc je razem, ale najpierw zliczyc sume PBS i MCLR poszczegolnych readow\n",
    "# i polaczyc tylko te sumy, dla przejrzystosci"
   ]
  },
  {
   "cell_type": "code",
   "execution_count": 45,
   "metadata": {},
   "outputs": [
    {
     "data": {
      "text/html": [
       "<div>\n",
       "<style scoped>\n",
       "    .dataframe tbody tr th:only-of-type {\n",
       "        vertical-align: middle;\n",
       "    }\n",
       "\n",
       "    .dataframe tbody tr th {\n",
       "        vertical-align: top;\n",
       "    }\n",
       "\n",
       "    .dataframe thead th {\n",
       "        text-align: right;\n",
       "    }\n",
       "</style>\n",
       "<table border=\"1\" class=\"dataframe\">\n",
       "  <thead>\n",
       "    <tr style=\"text-align: right;\">\n",
       "      <th></th>\n",
       "      <th>trinity</th>\n",
       "      <th>PBS_1d_1</th>\n",
       "      <th>PBS_1d_2</th>\n",
       "      <th>PBS_1d_3</th>\n",
       "      <th>PBS_1d_4</th>\n",
       "      <th>MC_1d_1</th>\n",
       "      <th>MC_1d_2</th>\n",
       "      <th>MC_1d_3</th>\n",
       "      <th>baseMean</th>\n",
       "      <th>log2FoldChange</th>\n",
       "      <th>lfcSE</th>\n",
       "      <th>stat</th>\n",
       "      <th>pvalue</th>\n",
       "      <th>padj</th>\n",
       "    </tr>\n",
       "  </thead>\n",
       "  <tbody>\n",
       "    <tr>\n",
       "      <th>1</th>\n",
       "      <td>TRINITY_DN80414_c8_g1_i6</td>\n",
       "      <td>0</td>\n",
       "      <td>0</td>\n",
       "      <td>0</td>\n",
       "      <td>0</td>\n",
       "      <td>362</td>\n",
       "      <td>270</td>\n",
       "      <td>1007</td>\n",
       "      <td>259.628436</td>\n",
       "      <td>-11.779337</td>\n",
       "      <td>1.218279</td>\n",
       "      <td>-9.668834</td>\n",
       "      <td>4.090121e-22</td>\n",
       "      <td>2.657711e-19</td>\n",
       "    </tr>\n",
       "    <tr>\n",
       "      <th>2</th>\n",
       "      <td>TRINITY_DN91051_c3_g1_i1</td>\n",
       "      <td>0</td>\n",
       "      <td>0</td>\n",
       "      <td>0</td>\n",
       "      <td>1</td>\n",
       "      <td>1384</td>\n",
       "      <td>1152</td>\n",
       "      <td>467</td>\n",
       "      <td>423.763622</td>\n",
       "      <td>-11.765181</td>\n",
       "      <td>1.128072</td>\n",
       "      <td>-10.429458</td>\n",
       "      <td>1.819225e-25</td>\n",
       "      <td>1.879983e-22</td>\n",
       "    </tr>\n",
       "    <tr>\n",
       "      <th>3</th>\n",
       "      <td>TRINITY_DN91051_c3_g2_i1</td>\n",
       "      <td>5</td>\n",
       "      <td>2</td>\n",
       "      <td>2</td>\n",
       "      <td>3</td>\n",
       "      <td>10395</td>\n",
       "      <td>7797</td>\n",
       "      <td>3705</td>\n",
       "      <td>3115.040768</td>\n",
       "      <td>-11.333556</td>\n",
       "      <td>0.604409</td>\n",
       "      <td>-18.751472</td>\n",
       "      <td>1.883065e-78</td>\n",
       "      <td>8.075714e-74</td>\n",
       "    </tr>\n",
       "    <tr>\n",
       "      <th>4</th>\n",
       "      <td>TRINITY_DN106172_c0_g1_i1</td>\n",
       "      <td>2</td>\n",
       "      <td>0</td>\n",
       "      <td>0</td>\n",
       "      <td>0</td>\n",
       "      <td>1241</td>\n",
       "      <td>978</td>\n",
       "      <td>612</td>\n",
       "      <td>406.879937</td>\n",
       "      <td>-10.982787</td>\n",
       "      <td>1.097042</td>\n",
       "      <td>-10.011277</td>\n",
       "      <td>1.359852e-23</td>\n",
       "      <td>1.070066e-20</td>\n",
       "    </tr>\n",
       "    <tr>\n",
       "      <th>7</th>\n",
       "      <td>TRINITY_DN96413_c4_g3_i2</td>\n",
       "      <td>0</td>\n",
       "      <td>0</td>\n",
       "      <td>0</td>\n",
       "      <td>0</td>\n",
       "      <td>327</td>\n",
       "      <td>266</td>\n",
       "      <td>82</td>\n",
       "      <td>94.465682</td>\n",
       "      <td>-10.322092</td>\n",
       "      <td>1.183580</td>\n",
       "      <td>-8.721077</td>\n",
       "      <td>2.755677e-18</td>\n",
       "      <td>1.014420e-15</td>\n",
       "    </tr>\n",
       "  </tbody>\n",
       "</table>\n",
       "</div>"
      ],
      "text/plain": [
       "                     trinity  PBS_1d_1  PBS_1d_2  PBS_1d_3  PBS_1d_4  MC_1d_1  \\\n",
       "1   TRINITY_DN80414_c8_g1_i6         0         0         0         0      362   \n",
       "2   TRINITY_DN91051_c3_g1_i1         0         0         0         1     1384   \n",
       "3   TRINITY_DN91051_c3_g2_i1         5         2         2         3    10395   \n",
       "4  TRINITY_DN106172_c0_g1_i1         2         0         0         0     1241   \n",
       "7   TRINITY_DN96413_c4_g3_i2         0         0         0         0      327   \n",
       "\n",
       "   MC_1d_2  MC_1d_3     baseMean  log2FoldChange     lfcSE       stat  \\\n",
       "1      270     1007   259.628436      -11.779337  1.218279  -9.668834   \n",
       "2     1152      467   423.763622      -11.765181  1.128072 -10.429458   \n",
       "3     7797     3705  3115.040768      -11.333556  0.604409 -18.751472   \n",
       "4      978      612   406.879937      -10.982787  1.097042 -10.011277   \n",
       "7      266       82    94.465682      -10.322092  1.183580  -8.721077   \n",
       "\n",
       "         pvalue          padj  \n",
       "1  4.090121e-22  2.657711e-19  \n",
       "2  1.819225e-25  1.879983e-22  \n",
       "3  1.883065e-78  8.075714e-74  \n",
       "4  1.359852e-23  1.070066e-20  \n",
       "7  2.755677e-18  1.014420e-15  "
      ]
     },
     "execution_count": 45,
     "metadata": {},
     "output_type": "execute_result"
    }
   ],
   "source": [
    "true_novel_ncRNA_1d_deseq_wspolne_UP.head()"
   ]
  },
  {
   "cell_type": "code",
   "execution_count": 46,
   "metadata": {
    "scrolled": true
   },
   "outputs": [
    {
     "name": "stderr",
     "output_type": "stream",
     "text": [
      "/home/maciek/anaconda3/lib/python3.7/site-packages/ipykernel_launcher.py:3: SettingWithCopyWarning: \n",
      "A value is trying to be set on a copy of a slice from a DataFrame.\n",
      "Try using .loc[row_indexer,col_indexer] = value instead\n",
      "\n",
      "See the caveats in the documentation: http://pandas.pydata.org/pandas-docs/stable/indexing.html#indexing-view-versus-copy\n",
      "  This is separate from the ipykernel package so we can avoid doing imports until\n"
     ]
    }
   ],
   "source": [
    "true_novel_ncRNA_1d_deseq_wspolne_UP['PBS_SUM'] = true_novel_ncRNA_1d_deseq_wspolne_UP['PBS_1d_1'] + \\\n",
    "true_novel_ncRNA_1d_deseq_wspolne_UP['PBS_1d_2'] + true_novel_ncRNA_1d_deseq_wspolne_UP['PBS_1d_3'] + \\\n",
    "true_novel_ncRNA_1d_deseq_wspolne_UP['PBS_1d_4']"
   ]
  },
  {
   "cell_type": "code",
   "execution_count": 47,
   "metadata": {
    "scrolled": false
   },
   "outputs": [
    {
     "name": "stderr",
     "output_type": "stream",
     "text": [
      "/home/maciek/anaconda3/lib/python3.7/site-packages/ipykernel_launcher.py:2: SettingWithCopyWarning: \n",
      "A value is trying to be set on a copy of a slice from a DataFrame.\n",
      "Try using .loc[row_indexer,col_indexer] = value instead\n",
      "\n",
      "See the caveats in the documentation: http://pandas.pydata.org/pandas-docs/stable/indexing.html#indexing-view-versus-copy\n",
      "  \n"
     ]
    }
   ],
   "source": [
    "true_novel_ncRNA_1d_deseq_wspolne_UP['MC_SUM'] = true_novel_ncRNA_1d_deseq_wspolne_UP['MC_1d_1'] + \\\n",
    "true_novel_ncRNA_1d_deseq_wspolne_UP['MC_1d_2'] + true_novel_ncRNA_1d_deseq_wspolne_UP['MC_1d_3']"
   ]
  },
  {
   "cell_type": "code",
   "execution_count": 48,
   "metadata": {
    "scrolled": true
   },
   "outputs": [
    {
     "name": "stderr",
     "output_type": "stream",
     "text": [
      "/home/maciek/anaconda3/lib/python3.7/site-packages/ipykernel_launcher.py:3: SettingWithCopyWarning: \n",
      "A value is trying to be set on a copy of a slice from a DataFrame.\n",
      "Try using .loc[row_indexer,col_indexer] = value instead\n",
      "\n",
      "See the caveats in the documentation: http://pandas.pydata.org/pandas-docs/stable/indexing.html#indexing-view-versus-copy\n",
      "  This is separate from the ipykernel package so we can avoid doing imports until\n"
     ]
    }
   ],
   "source": [
    "true_novel_ncRNA_6d_deseq_wspolne_UP['PBS_SUM'] = true_novel_ncRNA_6d_deseq_wspolne_UP['PBS_1d_1'] + \\\n",
    "true_novel_ncRNA_6d_deseq_wspolne_UP['PBS_1d_2'] + true_novel_ncRNA_6d_deseq_wspolne_UP['PBS_1d_3'] + \\\n",
    "true_novel_ncRNA_6d_deseq_wspolne_UP['PBS_1d_4']"
   ]
  },
  {
   "cell_type": "code",
   "execution_count": 49,
   "metadata": {
    "scrolled": false
   },
   "outputs": [
    {
     "name": "stderr",
     "output_type": "stream",
     "text": [
      "/home/maciek/anaconda3/lib/python3.7/site-packages/ipykernel_launcher.py:2: SettingWithCopyWarning: \n",
      "A value is trying to be set on a copy of a slice from a DataFrame.\n",
      "Try using .loc[row_indexer,col_indexer] = value instead\n",
      "\n",
      "See the caveats in the documentation: http://pandas.pydata.org/pandas-docs/stable/indexing.html#indexing-view-versus-copy\n",
      "  \n"
     ]
    }
   ],
   "source": [
    "true_novel_ncRNA_6d_deseq_wspolne_UP['MC_SUM'] = true_novel_ncRNA_6d_deseq_wspolne_UP['MC_6d_1'] + \\\n",
    "true_novel_ncRNA_6d_deseq_wspolne_UP['MC_6d_2'] + true_novel_ncRNA_6d_deseq_wspolne_UP['MC_6d_3']"
   ]
  },
  {
   "cell_type": "code",
   "execution_count": null,
   "metadata": {},
   "outputs": [],
   "source": []
  },
  {
   "cell_type": "code",
   "execution_count": 50,
   "metadata": {
    "scrolled": false
   },
   "outputs": [
    {
     "name": "stderr",
     "output_type": "stream",
     "text": [
      "/home/maciek/anaconda3/lib/python3.7/site-packages/ipykernel_launcher.py:3: SettingWithCopyWarning: \n",
      "A value is trying to be set on a copy of a slice from a DataFrame.\n",
      "Try using .loc[row_indexer,col_indexer] = value instead\n",
      "\n",
      "See the caveats in the documentation: http://pandas.pydata.org/pandas-docs/stable/indexing.html#indexing-view-versus-copy\n",
      "  This is separate from the ipykernel package so we can avoid doing imports until\n"
     ]
    }
   ],
   "source": [
    "true_novel_ncRNA_9d_deseq_wspolne_UP['PBS_SUM'] = true_novel_ncRNA_9d_deseq_wspolne_UP['PBS_1d_1'] + \\\n",
    "true_novel_ncRNA_9d_deseq_wspolne_UP['PBS_1d_2'] + true_novel_ncRNA_9d_deseq_wspolne_UP['PBS_1d_3'] + \\\n",
    "true_novel_ncRNA_9d_deseq_wspolne_UP['PBS_1d_4']"
   ]
  },
  {
   "cell_type": "code",
   "execution_count": 51,
   "metadata": {
    "scrolled": false
   },
   "outputs": [
    {
     "name": "stderr",
     "output_type": "stream",
     "text": [
      "/home/maciek/anaconda3/lib/python3.7/site-packages/ipykernel_launcher.py:2: SettingWithCopyWarning: \n",
      "A value is trying to be set on a copy of a slice from a DataFrame.\n",
      "Try using .loc[row_indexer,col_indexer] = value instead\n",
      "\n",
      "See the caveats in the documentation: http://pandas.pydata.org/pandas-docs/stable/indexing.html#indexing-view-versus-copy\n",
      "  \n"
     ]
    }
   ],
   "source": [
    "true_novel_ncRNA_9d_deseq_wspolne_UP['MC_SUM'] = true_novel_ncRNA_9d_deseq_wspolne_UP['MC_9d_1'] + \\\n",
    "true_novel_ncRNA_9d_deseq_wspolne_UP['MC_9d_2'] + true_novel_ncRNA_9d_deseq_wspolne_UP['MC_9d_3']"
   ]
  },
  {
   "cell_type": "code",
   "execution_count": 58,
   "metadata": {},
   "outputs": [],
   "source": [
    "merged_1 = pd.merge(true_novel_ncRNA_1d_deseq_wspolne_UP[['trinity','PBS_SUM','MC_SUM']], true_novel_ncRNA_6d_deseq_wspolne_UP[['trinity','PBS_SUM','MC_SUM']], on='trinity')"
   ]
  },
  {
   "cell_type": "code",
   "execution_count": 60,
   "metadata": {},
   "outputs": [
    {
     "data": {
      "text/html": [
       "<div>\n",
       "<style scoped>\n",
       "    .dataframe tbody tr th:only-of-type {\n",
       "        vertical-align: middle;\n",
       "    }\n",
       "\n",
       "    .dataframe tbody tr th {\n",
       "        vertical-align: top;\n",
       "    }\n",
       "\n",
       "    .dataframe thead th {\n",
       "        text-align: right;\n",
       "    }\n",
       "</style>\n",
       "<table border=\"1\" class=\"dataframe\">\n",
       "  <thead>\n",
       "    <tr style=\"text-align: right;\">\n",
       "      <th></th>\n",
       "      <th>trinity</th>\n",
       "      <th>PBS_SUM_x</th>\n",
       "      <th>MC_SUM_x</th>\n",
       "      <th>PBS_SUM_y</th>\n",
       "      <th>MC_SUM_y</th>\n",
       "    </tr>\n",
       "  </thead>\n",
       "  <tbody>\n",
       "    <tr>\n",
       "      <th>0</th>\n",
       "      <td>TRINITY_DN80414_c8_g1_i6</td>\n",
       "      <td>0</td>\n",
       "      <td>1639</td>\n",
       "      <td>0</td>\n",
       "      <td>5125</td>\n",
       "    </tr>\n",
       "  </tbody>\n",
       "</table>\n",
       "</div>"
      ],
      "text/plain": [
       "                    trinity  PBS_SUM_x  MC_SUM_x  PBS_SUM_y  MC_SUM_y\n",
       "0  TRINITY_DN80414_c8_g1_i6          0      1639          0      5125"
      ]
     },
     "execution_count": 60,
     "metadata": {},
     "output_type": "execute_result"
    }
   ],
   "source": [
    "merged_1.head(1)"
   ]
  },
  {
   "cell_type": "code",
   "execution_count": 61,
   "metadata": {},
   "outputs": [],
   "source": [
    "merged_2 = pd.merge(merged_1, true_novel_ncRNA_9d_deseq_wspolne_UP[['trinity','PBS_SUM','MC_SUM']], on='trinity') "
   ]
  },
  {
   "cell_type": "code",
   "execution_count": 63,
   "metadata": {},
   "outputs": [],
   "source": [
    "# zapisuje i juz w xls pozmieniam nazwy kolumn\n",
    "merged_2.to_csv(path+'true_novel_pliki/wspolne_UP_sumy_PBS_MC_do wybrania_kandydatow.csv', index=False)"
   ]
  },
  {
   "cell_type": "code",
   "execution_count": null,
   "metadata": {},
   "outputs": [],
   "source": []
  },
  {
   "cell_type": "markdown",
   "metadata": {},
   "source": [
    "### DOWN"
   ]
  },
  {
   "cell_type": "code",
   "execution_count": 64,
   "metadata": {},
   "outputs": [],
   "source": [
    "true_novel_ncRNA_1d_deseq_wspolne_DOWN = true_novel_ncRNA_1d_deseq[true_novel_ncRNA_1d_deseq['trinity'].isin(wspolne_DOWN['trinity'])]\n",
    "true_novel_ncRNA_6d_deseq_wspolne_DOWN = true_novel_ncRNA_6d_deseq[true_novel_ncRNA_6d_deseq['trinity'].isin(wspolne_DOWN['trinity'])]\n",
    "true_novel_ncRNA_9d_deseq_wspolne_DOWN = true_novel_ncRNA_9d_deseq[true_novel_ncRNA_9d_deseq['trinity'].isin(wspolne_DOWN['trinity'])]\n"
   ]
  },
  {
   "cell_type": "code",
   "execution_count": null,
   "metadata": {},
   "outputs": [],
   "source": [
    "# polaczyc je razem, ale najpierw zliczyc sume PBS i MCLR poszczegolnych readow\n",
    "# i polaczyc tylko te sumy, dla przejrzystosci"
   ]
  },
  {
   "cell_type": "code",
   "execution_count": 65,
   "metadata": {},
   "outputs": [
    {
     "data": {
      "text/html": [
       "<div>\n",
       "<style scoped>\n",
       "    .dataframe tbody tr th:only-of-type {\n",
       "        vertical-align: middle;\n",
       "    }\n",
       "\n",
       "    .dataframe tbody tr th {\n",
       "        vertical-align: top;\n",
       "    }\n",
       "\n",
       "    .dataframe thead th {\n",
       "        text-align: right;\n",
       "    }\n",
       "</style>\n",
       "<table border=\"1\" class=\"dataframe\">\n",
       "  <thead>\n",
       "    <tr style=\"text-align: right;\">\n",
       "      <th></th>\n",
       "      <th>trinity</th>\n",
       "      <th>PBS_1d_1</th>\n",
       "      <th>PBS_1d_2</th>\n",
       "      <th>PBS_1d_3</th>\n",
       "      <th>PBS_1d_4</th>\n",
       "      <th>MC_1d_1</th>\n",
       "      <th>MC_1d_2</th>\n",
       "      <th>MC_1d_3</th>\n",
       "      <th>baseMean</th>\n",
       "      <th>log2FoldChange</th>\n",
       "      <th>lfcSE</th>\n",
       "      <th>stat</th>\n",
       "      <th>pvalue</th>\n",
       "      <th>padj</th>\n",
       "    </tr>\n",
       "  </thead>\n",
       "  <tbody>\n",
       "    <tr>\n",
       "      <th>548</th>\n",
       "      <td>TRINITY_DN84852_c3_g1_i1</td>\n",
       "      <td>394</td>\n",
       "      <td>487</td>\n",
       "      <td>375</td>\n",
       "      <td>447</td>\n",
       "      <td>156</td>\n",
       "      <td>221</td>\n",
       "      <td>91</td>\n",
       "      <td>292.367327</td>\n",
       "      <td>1.380295</td>\n",
       "      <td>0.325749</td>\n",
       "      <td>4.237296</td>\n",
       "      <td>0.000023</td>\n",
       "      <td>0.000496</td>\n",
       "    </tr>\n",
       "    <tr>\n",
       "      <th>549</th>\n",
       "      <td>TRINITY_DN96121_c5_g1_i2</td>\n",
       "      <td>738</td>\n",
       "      <td>804</td>\n",
       "      <td>761</td>\n",
       "      <td>839</td>\n",
       "      <td>204</td>\n",
       "      <td>448</td>\n",
       "      <td>170</td>\n",
       "      <td>533.156206</td>\n",
       "      <td>1.473842</td>\n",
       "      <td>0.340280</td>\n",
       "      <td>4.331260</td>\n",
       "      <td>0.000015</td>\n",
       "      <td>0.000349</td>\n",
       "    </tr>\n",
       "    <tr>\n",
       "      <th>550</th>\n",
       "      <td>TRINITY_DN112419_c3_g2_i1</td>\n",
       "      <td>272</td>\n",
       "      <td>398</td>\n",
       "      <td>329</td>\n",
       "      <td>307</td>\n",
       "      <td>114</td>\n",
       "      <td>159</td>\n",
       "      <td>62</td>\n",
       "      <td>220.907287</td>\n",
       "      <td>1.482955</td>\n",
       "      <td>0.354268</td>\n",
       "      <td>4.185969</td>\n",
       "      <td>0.000028</td>\n",
       "      <td>0.000601</td>\n",
       "    </tr>\n",
       "    <tr>\n",
       "      <th>552</th>\n",
       "      <td>TRINITY_DN100899_c5_g2_i1</td>\n",
       "      <td>196</td>\n",
       "      <td>321</td>\n",
       "      <td>160</td>\n",
       "      <td>280</td>\n",
       "      <td>50</td>\n",
       "      <td>82</td>\n",
       "      <td>76</td>\n",
       "      <td>157.049858</td>\n",
       "      <td>1.650514</td>\n",
       "      <td>0.403060</td>\n",
       "      <td>4.094961</td>\n",
       "      <td>0.000042</td>\n",
       "      <td>0.000844</td>\n",
       "    </tr>\n",
       "    <tr>\n",
       "      <th>553</th>\n",
       "      <td>TRINITY_DN86589_c7_g4_i2</td>\n",
       "      <td>499</td>\n",
       "      <td>455</td>\n",
       "      <td>434</td>\n",
       "      <td>745</td>\n",
       "      <td>176</td>\n",
       "      <td>185</td>\n",
       "      <td>105</td>\n",
       "      <td>350.517707</td>\n",
       "      <td>1.682682</td>\n",
       "      <td>0.344895</td>\n",
       "      <td>4.878824</td>\n",
       "      <td>0.000001</td>\n",
       "      <td>0.000036</td>\n",
       "    </tr>\n",
       "  </tbody>\n",
       "</table>\n",
       "</div>"
      ],
      "text/plain": [
       "                       trinity  PBS_1d_1  PBS_1d_2  PBS_1d_3  PBS_1d_4  \\\n",
       "548   TRINITY_DN84852_c3_g1_i1       394       487       375       447   \n",
       "549   TRINITY_DN96121_c5_g1_i2       738       804       761       839   \n",
       "550  TRINITY_DN112419_c3_g2_i1       272       398       329       307   \n",
       "552  TRINITY_DN100899_c5_g2_i1       196       321       160       280   \n",
       "553   TRINITY_DN86589_c7_g4_i2       499       455       434       745   \n",
       "\n",
       "     MC_1d_1  MC_1d_2  MC_1d_3    baseMean  log2FoldChange     lfcSE  \\\n",
       "548      156      221       91  292.367327        1.380295  0.325749   \n",
       "549      204      448      170  533.156206        1.473842  0.340280   \n",
       "550      114      159       62  220.907287        1.482955  0.354268   \n",
       "552       50       82       76  157.049858        1.650514  0.403060   \n",
       "553      176      185      105  350.517707        1.682682  0.344895   \n",
       "\n",
       "         stat    pvalue      padj  \n",
       "548  4.237296  0.000023  0.000496  \n",
       "549  4.331260  0.000015  0.000349  \n",
       "550  4.185969  0.000028  0.000601  \n",
       "552  4.094961  0.000042  0.000844  \n",
       "553  4.878824  0.000001  0.000036  "
      ]
     },
     "execution_count": 65,
     "metadata": {},
     "output_type": "execute_result"
    }
   ],
   "source": [
    "true_novel_ncRNA_1d_deseq_wspolne_DOWN.head()"
   ]
  },
  {
   "cell_type": "code",
   "execution_count": 67,
   "metadata": {
    "scrolled": true
   },
   "outputs": [
    {
     "name": "stderr",
     "output_type": "stream",
     "text": [
      "/home/maciek/anaconda3/lib/python3.7/site-packages/ipykernel_launcher.py:3: SettingWithCopyWarning: \n",
      "A value is trying to be set on a copy of a slice from a DataFrame.\n",
      "Try using .loc[row_indexer,col_indexer] = value instead\n",
      "\n",
      "See the caveats in the documentation: http://pandas.pydata.org/pandas-docs/stable/indexing.html#indexing-view-versus-copy\n",
      "  This is separate from the ipykernel package so we can avoid doing imports until\n"
     ]
    }
   ],
   "source": [
    "true_novel_ncRNA_1d_deseq_wspolne_DOWN['PBS_SUM'] = true_novel_ncRNA_1d_deseq_wspolne_DOWN['PBS_1d_1'] + \\\n",
    "true_novel_ncRNA_1d_deseq_wspolne_DOWN['PBS_1d_2'] + true_novel_ncRNA_1d_deseq_wspolne_DOWN['PBS_1d_3'] + \\\n",
    "true_novel_ncRNA_1d_deseq_wspolne_DOWN['PBS_1d_4']"
   ]
  },
  {
   "cell_type": "code",
   "execution_count": 68,
   "metadata": {
    "scrolled": false
   },
   "outputs": [
    {
     "name": "stderr",
     "output_type": "stream",
     "text": [
      "/home/maciek/anaconda3/lib/python3.7/site-packages/ipykernel_launcher.py:2: SettingWithCopyWarning: \n",
      "A value is trying to be set on a copy of a slice from a DataFrame.\n",
      "Try using .loc[row_indexer,col_indexer] = value instead\n",
      "\n",
      "See the caveats in the documentation: http://pandas.pydata.org/pandas-docs/stable/indexing.html#indexing-view-versus-copy\n",
      "  \n"
     ]
    }
   ],
   "source": [
    "true_novel_ncRNA_1d_deseq_wspolne_DOWN['MC_SUM'] = true_novel_ncRNA_1d_deseq_wspolne_DOWN['MC_1d_1'] + \\\n",
    "true_novel_ncRNA_1d_deseq_wspolne_DOWN['MC_1d_2'] + true_novel_ncRNA_1d_deseq_wspolne_DOWN['MC_1d_3']"
   ]
  },
  {
   "cell_type": "code",
   "execution_count": 69,
   "metadata": {
    "scrolled": true
   },
   "outputs": [
    {
     "name": "stderr",
     "output_type": "stream",
     "text": [
      "/home/maciek/anaconda3/lib/python3.7/site-packages/ipykernel_launcher.py:3: SettingWithCopyWarning: \n",
      "A value is trying to be set on a copy of a slice from a DataFrame.\n",
      "Try using .loc[row_indexer,col_indexer] = value instead\n",
      "\n",
      "See the caveats in the documentation: http://pandas.pydata.org/pandas-docs/stable/indexing.html#indexing-view-versus-copy\n",
      "  This is separate from the ipykernel package so we can avoid doing imports until\n"
     ]
    }
   ],
   "source": [
    "true_novel_ncRNA_6d_deseq_wspolne_DOWN['PBS_SUM'] = true_novel_ncRNA_6d_deseq_wspolne_DOWN['PBS_1d_1'] + \\\n",
    "true_novel_ncRNA_6d_deseq_wspolne_DOWN['PBS_1d_2'] + true_novel_ncRNA_6d_deseq_wspolne_DOWN['PBS_1d_3'] + \\\n",
    "true_novel_ncRNA_6d_deseq_wspolne_DOWN['PBS_1d_4']"
   ]
  },
  {
   "cell_type": "code",
   "execution_count": 70,
   "metadata": {
    "scrolled": false
   },
   "outputs": [
    {
     "name": "stderr",
     "output_type": "stream",
     "text": [
      "/home/maciek/anaconda3/lib/python3.7/site-packages/ipykernel_launcher.py:2: SettingWithCopyWarning: \n",
      "A value is trying to be set on a copy of a slice from a DataFrame.\n",
      "Try using .loc[row_indexer,col_indexer] = value instead\n",
      "\n",
      "See the caveats in the documentation: http://pandas.pydata.org/pandas-docs/stable/indexing.html#indexing-view-versus-copy\n",
      "  \n"
     ]
    }
   ],
   "source": [
    "true_novel_ncRNA_6d_deseq_wspolne_DOWN['MC_SUM'] = true_novel_ncRNA_6d_deseq_wspolne_DOWN['MC_6d_1'] + \\\n",
    "true_novel_ncRNA_6d_deseq_wspolne_DOWN['MC_6d_2'] + true_novel_ncRNA_6d_deseq_wspolne_DOWN['MC_6d_3']"
   ]
  },
  {
   "cell_type": "code",
   "execution_count": null,
   "metadata": {},
   "outputs": [],
   "source": []
  },
  {
   "cell_type": "code",
   "execution_count": 71,
   "metadata": {
    "scrolled": false
   },
   "outputs": [
    {
     "name": "stderr",
     "output_type": "stream",
     "text": [
      "/home/maciek/anaconda3/lib/python3.7/site-packages/ipykernel_launcher.py:3: SettingWithCopyWarning: \n",
      "A value is trying to be set on a copy of a slice from a DataFrame.\n",
      "Try using .loc[row_indexer,col_indexer] = value instead\n",
      "\n",
      "See the caveats in the documentation: http://pandas.pydata.org/pandas-docs/stable/indexing.html#indexing-view-versus-copy\n",
      "  This is separate from the ipykernel package so we can avoid doing imports until\n"
     ]
    }
   ],
   "source": [
    "true_novel_ncRNA_9d_deseq_wspolne_DOWN['PBS_SUM'] = true_novel_ncRNA_9d_deseq_wspolne_DOWN['PBS_1d_1'] + \\\n",
    "true_novel_ncRNA_9d_deseq_wspolne_DOWN['PBS_1d_2'] + true_novel_ncRNA_9d_deseq_wspolne_DOWN['PBS_1d_3'] + \\\n",
    "true_novel_ncRNA_9d_deseq_wspolne_DOWN['PBS_1d_4']"
   ]
  },
  {
   "cell_type": "code",
   "execution_count": 72,
   "metadata": {
    "scrolled": false
   },
   "outputs": [
    {
     "name": "stderr",
     "output_type": "stream",
     "text": [
      "/home/maciek/anaconda3/lib/python3.7/site-packages/ipykernel_launcher.py:2: SettingWithCopyWarning: \n",
      "A value is trying to be set on a copy of a slice from a DataFrame.\n",
      "Try using .loc[row_indexer,col_indexer] = value instead\n",
      "\n",
      "See the caveats in the documentation: http://pandas.pydata.org/pandas-docs/stable/indexing.html#indexing-view-versus-copy\n",
      "  \n"
     ]
    }
   ],
   "source": [
    "true_novel_ncRNA_9d_deseq_wspolne_DOWN['MC_SUM'] = true_novel_ncRNA_9d_deseq_wspolne_DOWN['MC_9d_1'] + \\\n",
    "true_novel_ncRNA_9d_deseq_wspolne_DOWN['MC_9d_2'] + true_novel_ncRNA_9d_deseq_wspolne_DOWN['MC_9d_3']"
   ]
  },
  {
   "cell_type": "code",
   "execution_count": 73,
   "metadata": {},
   "outputs": [],
   "source": [
    "merged_1 = pd.merge(true_novel_ncRNA_1d_deseq_wspolne_DOWN[['trinity','PBS_SUM','MC_SUM']], true_novel_ncRNA_6d_deseq_wspolne_DOWN[['trinity','PBS_SUM','MC_SUM']], on='trinity')"
   ]
  },
  {
   "cell_type": "code",
   "execution_count": 74,
   "metadata": {},
   "outputs": [
    {
     "data": {
      "text/html": [
       "<div>\n",
       "<style scoped>\n",
       "    .dataframe tbody tr th:only-of-type {\n",
       "        vertical-align: middle;\n",
       "    }\n",
       "\n",
       "    .dataframe tbody tr th {\n",
       "        vertical-align: top;\n",
       "    }\n",
       "\n",
       "    .dataframe thead th {\n",
       "        text-align: right;\n",
       "    }\n",
       "</style>\n",
       "<table border=\"1\" class=\"dataframe\">\n",
       "  <thead>\n",
       "    <tr style=\"text-align: right;\">\n",
       "      <th></th>\n",
       "      <th>trinity</th>\n",
       "      <th>PBS_SUM_x</th>\n",
       "      <th>MC_SUM_x</th>\n",
       "      <th>PBS_SUM_y</th>\n",
       "      <th>MC_SUM_y</th>\n",
       "    </tr>\n",
       "  </thead>\n",
       "  <tbody>\n",
       "    <tr>\n",
       "      <th>0</th>\n",
       "      <td>TRINITY_DN84852_c3_g1_i1</td>\n",
       "      <td>1703</td>\n",
       "      <td>468</td>\n",
       "      <td>1703</td>\n",
       "      <td>267</td>\n",
       "    </tr>\n",
       "  </tbody>\n",
       "</table>\n",
       "</div>"
      ],
      "text/plain": [
       "                    trinity  PBS_SUM_x  MC_SUM_x  PBS_SUM_y  MC_SUM_y\n",
       "0  TRINITY_DN84852_c3_g1_i1       1703       468       1703       267"
      ]
     },
     "execution_count": 74,
     "metadata": {},
     "output_type": "execute_result"
    }
   ],
   "source": [
    "merged_1.head(1)"
   ]
  },
  {
   "cell_type": "code",
   "execution_count": 75,
   "metadata": {},
   "outputs": [],
   "source": [
    "merged_2 = pd.merge(merged_1, true_novel_ncRNA_9d_deseq_wspolne_DOWN[['trinity','PBS_SUM','MC_SUM']], on='trinity') "
   ]
  },
  {
   "cell_type": "code",
   "execution_count": 76,
   "metadata": {},
   "outputs": [],
   "source": [
    "# zapisuje i juz w xls pozmieniam nazwy kolumn\n",
    "merged_2.to_csv(path+'true_novel_pliki/wspolne_DOWN_sumy_PBS_MC_do wybrania_kandydatow.csv', index=False)"
   ]
  },
  {
   "cell_type": "code",
   "execution_count": null,
   "metadata": {},
   "outputs": [],
   "source": []
  },
  {
   "cell_type": "code",
   "execution_count": null,
   "metadata": {},
   "outputs": [],
   "source": []
  },
  {
   "cell_type": "code",
   "execution_count": null,
   "metadata": {},
   "outputs": [],
   "source": []
  },
  {
   "cell_type": "code",
   "execution_count": null,
   "metadata": {},
   "outputs": [],
   "source": []
  }
 ],
 "metadata": {
  "kernelspec": {
   "display_name": "Python 3",
   "language": "python",
   "name": "python3"
  },
  "language_info": {
   "codemirror_mode": {
    "name": "ipython",
    "version": 3
   },
   "file_extension": ".py",
   "mimetype": "text/x-python",
   "name": "python",
   "nbconvert_exporter": "python",
   "pygments_lexer": "ipython3",
   "version": "3.7.3"
  }
 },
 "nbformat": 4,
 "nbformat_minor": 2
}
