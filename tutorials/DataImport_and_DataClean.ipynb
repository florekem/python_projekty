{
 "cells": [
  {
   "cell_type": "markdown",
   "metadata": {},
   "source": [
    "DataImport and DataClean\n",
    "====\n",
    "\n",
    "plik z najwazniejszymi komendami i trickami (wstawiaj tu nowe fajne rzeczy, ale też uzupelniaj z innych plikow, ktore juz tworzyles)"
   ]
  },
  {
   "cell_type": "code",
   "execution_count": 1,
   "metadata": {},
   "outputs": [],
   "source": [
    "import pandas as pd\n",
    "import numpy as np"
   ]
  },
  {
   "cell_type": "code",
   "execution_count": null,
   "metadata": {},
   "outputs": [],
   "source": [
    "# zmienia columne na dtype = float, pomijajac bledy, jak np. ukryty string, ktory zmieni na NaN\n",
    "# musi zostac przypisany do wartosci\n",
    "\n",
    "pd.to_numeric(dataframe.columnname, errors = 'coerce')"
   ]
  },
  {
   "cell_type": "code",
   "execution_count": null,
   "metadata": {},
   "outputs": [],
   "source": [
    "# dodawanie kolumn\n",
    "\n",
    "dataframe['nowa_kulumna'] = 'cos co chcemy, zeby nowa kolumna zawierala'"
   ]
  },
  {
   "cell_type": "code",
   "execution_count": null,
   "metadata": {},
   "outputs": [],
   "source": [
    "# pandas polacznie groupby z roznymi funkcjami\n",
    "\n",
    "df.groupby(['key1', 'key2'])[['data2']].mean()  # powstaje dataframe, bo przekazywana jest lista \n",
    "s_grouped = df.groupby(['key1', 'key2'])['data2']  # powstaje series object, bo przekazywana jest sama nazwa kolumny\n",
    "\n",
    "significant.groupby(significant['#target_name'].str.contains('rRNA')).count()\n",
    "\n",
    "planets.groupby('method')['orbital_period'].median()\n",
    "\n",
    "df.groupby('groupby_po_czym = key')[\"column_name_do_transformacji\"].transform('sum') # 'mean' i inne funkcje dzialaja tez"
   ]
  },
  {
   "cell_type": "code",
   "execution_count": null,
   "metadata": {},
   "outputs": [],
   "source": [
    "# differences in merge and concatenate and so on"
   ]
  },
  {
   "cell_type": "code",
   "execution_count": null,
   "metadata": {},
   "outputs": [],
   "source": []
  },
  {
   "cell_type": "code",
   "execution_count": null,
   "metadata": {},
   "outputs": [],
   "source": []
  },
  {
   "cell_type": "code",
   "execution_count": null,
   "metadata": {},
   "outputs": [],
   "source": []
  },
  {
   "cell_type": "code",
   "execution_count": null,
   "metadata": {},
   "outputs": [],
   "source": []
  }
 ],
 "metadata": {
  "kernelspec": {
   "display_name": "Python 3",
   "language": "python",
   "name": "python3"
  },
  "language_info": {
   "codemirror_mode": {
    "name": "ipython",
    "version": 3
   },
   "file_extension": ".py",
   "mimetype": "text/x-python",
   "name": "python",
   "nbconvert_exporter": "python",
   "pygments_lexer": "ipython3",
   "version": "3.7.1"
  }
 },
 "nbformat": 4,
 "nbformat_minor": 2
}
