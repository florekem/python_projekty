{
 "cells": [
  {
   "cell_type": "code",
   "execution_count": 1,
   "metadata": {},
   "outputs": [],
   "source": [
    "import pandas as pd\n",
    "import numpy as np\n",
    "import csv"
   ]
  },
  {
   "cell_type": "code",
   "execution_count": 2,
   "metadata": {},
   "outputs": [],
   "source": [
    "UTR_matryca = pd.read_csv('/mnt/sdb1/Project_Sieja_MCLR_52/2_pipeline/7_counting_transcripts/noncoding_novel/PBS1d_MC2_1d_6d_9d_ALL.txt', sep='\\t')"
   ]
  },
  {
   "cell_type": "code",
   "execution_count": 3,
   "metadata": {
    "scrolled": true
   },
   "outputs": [
    {
     "data": {
      "text/html": [
       "<div>\n",
       "<style scoped>\n",
       "    .dataframe tbody tr th:only-of-type {\n",
       "        vertical-align: middle;\n",
       "    }\n",
       "\n",
       "    .dataframe tbody tr th {\n",
       "        vertical-align: top;\n",
       "    }\n",
       "\n",
       "    .dataframe thead th {\n",
       "        text-align: right;\n",
       "    }\n",
       "</style>\n",
       "<table border=\"1\" class=\"dataframe\">\n",
       "  <thead>\n",
       "    <tr style=\"text-align: right;\">\n",
       "      <th></th>\n",
       "      <th>trinity</th>\n",
       "      <th>PBS_1d_1</th>\n",
       "      <th>PBS_1d_2</th>\n",
       "      <th>PBS_1d_3</th>\n",
       "      <th>PBS_1d_4</th>\n",
       "      <th>MC_1d_1</th>\n",
       "      <th>MC_1d_2</th>\n",
       "      <th>MC_1d_3</th>\n",
       "      <th>MC_6d_1</th>\n",
       "      <th>MC_6d_2</th>\n",
       "      <th>MC_6d_3</th>\n",
       "      <th>MC_9d_1</th>\n",
       "      <th>MC_9d_2</th>\n",
       "      <th>MC_9d_3</th>\n",
       "    </tr>\n",
       "  </thead>\n",
       "  <tbody>\n",
       "    <tr>\n",
       "      <th>0</th>\n",
       "      <td>TRINITY_DN100003_c1_g1_i1</td>\n",
       "      <td>8</td>\n",
       "      <td>16</td>\n",
       "      <td>29</td>\n",
       "      <td>1</td>\n",
       "      <td>24</td>\n",
       "      <td>21</td>\n",
       "      <td>24</td>\n",
       "      <td>1</td>\n",
       "      <td>1</td>\n",
       "      <td>2</td>\n",
       "      <td>7</td>\n",
       "      <td>2</td>\n",
       "      <td>34</td>\n",
       "    </tr>\n",
       "    <tr>\n",
       "      <th>1</th>\n",
       "      <td>TRINITY_DN100004_c4_g2_i2</td>\n",
       "      <td>9</td>\n",
       "      <td>22</td>\n",
       "      <td>24</td>\n",
       "      <td>8</td>\n",
       "      <td>23</td>\n",
       "      <td>50</td>\n",
       "      <td>45</td>\n",
       "      <td>65</td>\n",
       "      <td>53</td>\n",
       "      <td>95</td>\n",
       "      <td>76</td>\n",
       "      <td>29</td>\n",
       "      <td>74</td>\n",
       "    </tr>\n",
       "    <tr>\n",
       "      <th>2</th>\n",
       "      <td>TRINITY_DN100005_c7_g2_i1</td>\n",
       "      <td>800</td>\n",
       "      <td>798</td>\n",
       "      <td>577</td>\n",
       "      <td>913</td>\n",
       "      <td>1322</td>\n",
       "      <td>1276</td>\n",
       "      <td>1285</td>\n",
       "      <td>6952</td>\n",
       "      <td>5736</td>\n",
       "      <td>4279</td>\n",
       "      <td>6616</td>\n",
       "      <td>4073</td>\n",
       "      <td>3119</td>\n",
       "    </tr>\n",
       "    <tr>\n",
       "      <th>3</th>\n",
       "      <td>TRINITY_DN100005_c8_g3_i1</td>\n",
       "      <td>101</td>\n",
       "      <td>102</td>\n",
       "      <td>92</td>\n",
       "      <td>248</td>\n",
       "      <td>52</td>\n",
       "      <td>56</td>\n",
       "      <td>71</td>\n",
       "      <td>89</td>\n",
       "      <td>189</td>\n",
       "      <td>138</td>\n",
       "      <td>313</td>\n",
       "      <td>327</td>\n",
       "      <td>278</td>\n",
       "    </tr>\n",
       "    <tr>\n",
       "      <th>4</th>\n",
       "      <td>TRINITY_DN100005_c9_g1_i1</td>\n",
       "      <td>19</td>\n",
       "      <td>4</td>\n",
       "      <td>22</td>\n",
       "      <td>4</td>\n",
       "      <td>2</td>\n",
       "      <td>2</td>\n",
       "      <td>1</td>\n",
       "      <td>0</td>\n",
       "      <td>1</td>\n",
       "      <td>0</td>\n",
       "      <td>2</td>\n",
       "      <td>6</td>\n",
       "      <td>18</td>\n",
       "    </tr>\n",
       "  </tbody>\n",
       "</table>\n",
       "</div>"
      ],
      "text/plain": [
       "                     trinity  PBS_1d_1  PBS_1d_2  PBS_1d_3  PBS_1d_4  MC_1d_1  \\\n",
       "0  TRINITY_DN100003_c1_g1_i1         8        16        29         1       24   \n",
       "1  TRINITY_DN100004_c4_g2_i2         9        22        24         8       23   \n",
       "2  TRINITY_DN100005_c7_g2_i1       800       798       577       913     1322   \n",
       "3  TRINITY_DN100005_c8_g3_i1       101       102        92       248       52   \n",
       "4  TRINITY_DN100005_c9_g1_i1        19         4        22         4        2   \n",
       "\n",
       "   MC_1d_2  MC_1d_3  MC_6d_1  MC_6d_2  MC_6d_3  MC_9d_1  MC_9d_2  MC_9d_3  \n",
       "0       21       24        1        1        2        7        2       34  \n",
       "1       50       45       65       53       95       76       29       74  \n",
       "2     1276     1285     6952     5736     4279     6616     4073     3119  \n",
       "3       56       71       89      189      138      313      327      278  \n",
       "4        2        1        0        1        0        2        6       18  "
      ]
     },
     "execution_count": 3,
     "metadata": {},
     "output_type": "execute_result"
    }
   ],
   "source": [
    "UTR_matryca.head()"
   ]
  },
  {
   "cell_type": "code",
   "execution_count": 5,
   "metadata": {},
   "outputs": [],
   "source": [
    "day1 = UTR_matryca[['trinity', 'PBS_1d_1', 'PBS_1d_2', 'PBS_1d_3', 'PBS_1d_4', 'MC_1d_1', 'MC_1d_2', 'MC_1d_3']]"
   ]
  },
  {
   "cell_type": "code",
   "execution_count": 7,
   "metadata": {},
   "outputs": [],
   "source": [
    "day1.columns = [str(col) + '_UTR' for col in day1]"
   ]
  },
  {
   "cell_type": "code",
   "execution_count": 8,
   "metadata": {},
   "outputs": [
    {
     "name": "stderr",
     "output_type": "stream",
     "text": [
      "/home/maciek/anaconda3/lib/python3.7/site-packages/pandas/core/frame.py:3781: SettingWithCopyWarning: \n",
      "A value is trying to be set on a copy of a slice from a DataFrame\n",
      "\n",
      "See the caveats in the documentation: http://pandas.pydata.org/pandas-docs/stable/indexing.html#indexing-view-versus-copy\n",
      "  return super(DataFrame, self).rename(**kwargs)\n"
     ]
    }
   ],
   "source": [
    "day1.rename(columns={'trinity_UTR':'ID_UTR'}, inplace=True)"
   ]
  },
  {
   "cell_type": "code",
   "execution_count": 9,
   "metadata": {},
   "outputs": [],
   "source": [
    "trinity_id_UTR_PROT = pd.read_csv('/mnt/sdb1/Project_Sieja_MCLR_52/2_pipeline/7_counting_transcripts/noncoding_novel/UTR_vs_PROT_DESEQ/trinity_id_UTR_PROT.csv')"
   ]
  },
  {
   "cell_type": "code",
   "execution_count": 10,
   "metadata": {},
   "outputs": [
    {
     "data": {
      "text/html": [
       "<div>\n",
       "<style scoped>\n",
       "    .dataframe tbody tr th:only-of-type {\n",
       "        vertical-align: middle;\n",
       "    }\n",
       "\n",
       "    .dataframe tbody tr th {\n",
       "        vertical-align: top;\n",
       "    }\n",
       "\n",
       "    .dataframe thead th {\n",
       "        text-align: right;\n",
       "    }\n",
       "</style>\n",
       "<table border=\"1\" class=\"dataframe\">\n",
       "  <thead>\n",
       "    <tr style=\"text-align: right;\">\n",
       "      <th></th>\n",
       "      <th>Entry name_PROTEIN</th>\n",
       "      <th>ID_UTR</th>\n",
       "      <th>ID_PROTEIN</th>\n",
       "    </tr>\n",
       "  </thead>\n",
       "  <tbody>\n",
       "    <tr>\n",
       "      <th>0</th>\n",
       "      <td>A0A1S3LZ95_SALSA</td>\n",
       "      <td>TRINITY_DN84758_c12_g1_i1</td>\n",
       "      <td>TRINITY_DN83918_c6_g2_i2</td>\n",
       "    </tr>\n",
       "    <tr>\n",
       "      <th>1</th>\n",
       "      <td>A0A1S3SPM9_SALSA</td>\n",
       "      <td>TRINITY_DN90008_c5_g5_i1</td>\n",
       "      <td>TRINITY_DN102983_c8_g1_i1</td>\n",
       "    </tr>\n",
       "    <tr>\n",
       "      <th>2</th>\n",
       "      <td>A0A1S3SPM9_SALSA</td>\n",
       "      <td>TRINITY_DN90008_c5_g5_i1</td>\n",
       "      <td>TRINITY_DN102983_c8_g1_i2</td>\n",
       "    </tr>\n",
       "    <tr>\n",
       "      <th>3</th>\n",
       "      <td>A0A1S3SPM9_SALSA</td>\n",
       "      <td>TRINITY_DN90008_c5_g5_i1</td>\n",
       "      <td>TRINITY_DN102983_c8_g1_i3</td>\n",
       "    </tr>\n",
       "    <tr>\n",
       "      <th>4</th>\n",
       "      <td>A0A1S3SPM9_SALSA</td>\n",
       "      <td>TRINITY_DN90008_c5_g5_i1</td>\n",
       "      <td>TRINITY_DN102983_c8_g1_i5</td>\n",
       "    </tr>\n",
       "  </tbody>\n",
       "</table>\n",
       "</div>"
      ],
      "text/plain": [
       "  Entry name_PROTEIN                     ID_UTR                 ID_PROTEIN\n",
       "0   A0A1S3LZ95_SALSA  TRINITY_DN84758_c12_g1_i1   TRINITY_DN83918_c6_g2_i2\n",
       "1   A0A1S3SPM9_SALSA   TRINITY_DN90008_c5_g5_i1  TRINITY_DN102983_c8_g1_i1\n",
       "2   A0A1S3SPM9_SALSA   TRINITY_DN90008_c5_g5_i1  TRINITY_DN102983_c8_g1_i2\n",
       "3   A0A1S3SPM9_SALSA   TRINITY_DN90008_c5_g5_i1  TRINITY_DN102983_c8_g1_i3\n",
       "4   A0A1S3SPM9_SALSA   TRINITY_DN90008_c5_g5_i1  TRINITY_DN102983_c8_g1_i5"
      ]
     },
     "execution_count": 10,
     "metadata": {},
     "output_type": "execute_result"
    }
   ],
   "source": [
    "trinity_id_UTR_PROT.head()"
   ]
  },
  {
   "cell_type": "code",
   "execution_count": 11,
   "metadata": {},
   "outputs": [],
   "source": [
    "merged = pd.merge(trinity_id_UTR_PROT, day1, on='ID_UTR')"
   ]
  },
  {
   "cell_type": "code",
   "execution_count": 12,
   "metadata": {},
   "outputs": [
    {
     "data": {
      "text/plain": [
       "(219, 10)"
      ]
     },
     "execution_count": 12,
     "metadata": {},
     "output_type": "execute_result"
    }
   ],
   "source": [
    "merged.shape"
   ]
  },
  {
   "cell_type": "code",
   "execution_count": 20,
   "metadata": {},
   "outputs": [],
   "source": [
    "PROT_matryca = pd.read_csv('/mnt/sdb1/Project_Sieja_MCLR_52/2_pipeline/7_counting_transcripts/noncoding_novel/UTR_vs_PROT_DESEQ/proteins_salmo_only_matryca.csv')"
   ]
  },
  {
   "cell_type": "code",
   "execution_count": 21,
   "metadata": {},
   "outputs": [
    {
     "data": {
      "text/html": [
       "<div>\n",
       "<style scoped>\n",
       "    .dataframe tbody tr th:only-of-type {\n",
       "        vertical-align: middle;\n",
       "    }\n",
       "\n",
       "    .dataframe tbody tr th {\n",
       "        vertical-align: top;\n",
       "    }\n",
       "\n",
       "    .dataframe thead th {\n",
       "        text-align: right;\n",
       "    }\n",
       "</style>\n",
       "<table border=\"1\" class=\"dataframe\">\n",
       "  <thead>\n",
       "    <tr style=\"text-align: right;\">\n",
       "      <th></th>\n",
       "      <th>trinity</th>\n",
       "      <th>PBS_1d_1</th>\n",
       "      <th>PBS_1d_2</th>\n",
       "      <th>PBS_1d_3</th>\n",
       "      <th>PBS_1d_4</th>\n",
       "      <th>MC_1d_1</th>\n",
       "      <th>MC_1d_2</th>\n",
       "      <th>MC_1d_3</th>\n",
       "      <th>MC_6d_1</th>\n",
       "      <th>MC_6d_2</th>\n",
       "      <th>MC_6d_3</th>\n",
       "      <th>MC_9d_1</th>\n",
       "      <th>MC_9d_2</th>\n",
       "      <th>MC_9d_3</th>\n",
       "    </tr>\n",
       "  </thead>\n",
       "  <tbody>\n",
       "    <tr>\n",
       "      <th>0</th>\n",
       "      <td>TRINITY_DN100000_c5_g1_i2</td>\n",
       "      <td>0.0</td>\n",
       "      <td>3.0</td>\n",
       "      <td>2.0</td>\n",
       "      <td>0.0</td>\n",
       "      <td>0.0</td>\n",
       "      <td>0.0</td>\n",
       "      <td>0.0</td>\n",
       "      <td>0</td>\n",
       "      <td>0</td>\n",
       "      <td>0</td>\n",
       "      <td>5</td>\n",
       "      <td>0</td>\n",
       "      <td>0</td>\n",
       "    </tr>\n",
       "    <tr>\n",
       "      <th>1</th>\n",
       "      <td>TRINITY_DN100000_c5_g1_i6</td>\n",
       "      <td>374.0</td>\n",
       "      <td>506.0</td>\n",
       "      <td>607.0</td>\n",
       "      <td>594.0</td>\n",
       "      <td>511.0</td>\n",
       "      <td>726.0</td>\n",
       "      <td>517.0</td>\n",
       "      <td>192</td>\n",
       "      <td>195</td>\n",
       "      <td>227</td>\n",
       "      <td>427</td>\n",
       "      <td>219</td>\n",
       "      <td>339</td>\n",
       "    </tr>\n",
       "    <tr>\n",
       "      <th>2</th>\n",
       "      <td>TRINITY_DN100001_c2_g2_i2</td>\n",
       "      <td>1232.0</td>\n",
       "      <td>1264.0</td>\n",
       "      <td>998.0</td>\n",
       "      <td>1040.0</td>\n",
       "      <td>1162.0</td>\n",
       "      <td>1784.0</td>\n",
       "      <td>938.0</td>\n",
       "      <td>1730</td>\n",
       "      <td>1743</td>\n",
       "      <td>1974</td>\n",
       "      <td>2315</td>\n",
       "      <td>2067</td>\n",
       "      <td>2386</td>\n",
       "    </tr>\n",
       "    <tr>\n",
       "      <th>3</th>\n",
       "      <td>TRINITY_DN100001_c2_g2_i7</td>\n",
       "      <td>562.0</td>\n",
       "      <td>408.0</td>\n",
       "      <td>311.0</td>\n",
       "      <td>353.0</td>\n",
       "      <td>402.0</td>\n",
       "      <td>471.0</td>\n",
       "      <td>420.0</td>\n",
       "      <td>1378</td>\n",
       "      <td>1338</td>\n",
       "      <td>1428</td>\n",
       "      <td>1291</td>\n",
       "      <td>1139</td>\n",
       "      <td>1344</td>\n",
       "    </tr>\n",
       "    <tr>\n",
       "      <th>4</th>\n",
       "      <td>TRINITY_DN100001_c2_g3_i3</td>\n",
       "      <td>565.0</td>\n",
       "      <td>525.0</td>\n",
       "      <td>384.0</td>\n",
       "      <td>406.0</td>\n",
       "      <td>555.0</td>\n",
       "      <td>552.0</td>\n",
       "      <td>529.0</td>\n",
       "      <td>1553</td>\n",
       "      <td>1461</td>\n",
       "      <td>1684</td>\n",
       "      <td>1436</td>\n",
       "      <td>1416</td>\n",
       "      <td>1447</td>\n",
       "    </tr>\n",
       "  </tbody>\n",
       "</table>\n",
       "</div>"
      ],
      "text/plain": [
       "                     trinity  PBS_1d_1  PBS_1d_2  PBS_1d_3  PBS_1d_4  MC_1d_1  \\\n",
       "0  TRINITY_DN100000_c5_g1_i2       0.0       3.0       2.0       0.0      0.0   \n",
       "1  TRINITY_DN100000_c5_g1_i6     374.0     506.0     607.0     594.0    511.0   \n",
       "2  TRINITY_DN100001_c2_g2_i2    1232.0    1264.0     998.0    1040.0   1162.0   \n",
       "3  TRINITY_DN100001_c2_g2_i7     562.0     408.0     311.0     353.0    402.0   \n",
       "4  TRINITY_DN100001_c2_g3_i3     565.0     525.0     384.0     406.0    555.0   \n",
       "\n",
       "   MC_1d_2  MC_1d_3  MC_6d_1  MC_6d_2  MC_6d_3  MC_9d_1  MC_9d_2  MC_9d_3  \n",
       "0      0.0      0.0        0        0        0        5        0        0  \n",
       "1    726.0    517.0      192      195      227      427      219      339  \n",
       "2   1784.0    938.0     1730     1743     1974     2315     2067     2386  \n",
       "3    471.0    420.0     1378     1338     1428     1291     1139     1344  \n",
       "4    552.0    529.0     1553     1461     1684     1436     1416     1447  "
      ]
     },
     "execution_count": 21,
     "metadata": {},
     "output_type": "execute_result"
    }
   ],
   "source": [
    "PROT_matryca.head()"
   ]
  },
  {
   "cell_type": "code",
   "execution_count": 22,
   "metadata": {},
   "outputs": [],
   "source": [
    "PROT_matryca.columns = [str(col) + '_PROT' for col in PROT_matryca.columns]"
   ]
  },
  {
   "cell_type": "code",
   "execution_count": 24,
   "metadata": {},
   "outputs": [],
   "source": [
    "PROT_matryca.rename(columns={'trinity_PROT':'ID_PROT'}, inplace=True)"
   ]
  },
  {
   "cell_type": "code",
   "execution_count": 28,
   "metadata": {
    "scrolled": false
   },
   "outputs": [
    {
     "data": {
      "text/html": [
       "<div>\n",
       "<style scoped>\n",
       "    .dataframe tbody tr th:only-of-type {\n",
       "        vertical-align: middle;\n",
       "    }\n",
       "\n",
       "    .dataframe tbody tr th {\n",
       "        vertical-align: top;\n",
       "    }\n",
       "\n",
       "    .dataframe thead th {\n",
       "        text-align: right;\n",
       "    }\n",
       "</style>\n",
       "<table border=\"1\" class=\"dataframe\">\n",
       "  <thead>\n",
       "    <tr style=\"text-align: right;\">\n",
       "      <th></th>\n",
       "      <th>Entry name_PROTEIN</th>\n",
       "      <th>ID_UTR</th>\n",
       "      <th>ID_PROTEIN</th>\n",
       "      <th>PBS_1d_1_UTR</th>\n",
       "      <th>PBS_1d_2_UTR</th>\n",
       "      <th>PBS_1d_3_UTR</th>\n",
       "      <th>PBS_1d_4_UTR</th>\n",
       "      <th>MC_1d_1_UTR</th>\n",
       "      <th>MC_1d_2_UTR</th>\n",
       "      <th>MC_1d_3_UTR</th>\n",
       "      <th>MC_6d_1_UTR</th>\n",
       "      <th>MC_6d_2_UTR</th>\n",
       "      <th>MC_6d_3_UTR</th>\n",
       "      <th>MC_9d_1_UTR</th>\n",
       "      <th>MC_9d_2_UTR</th>\n",
       "      <th>MC_9d_3_UTR</th>\n",
       "    </tr>\n",
       "  </thead>\n",
       "  <tbody>\n",
       "    <tr>\n",
       "      <th>0</th>\n",
       "      <td>A0A1S3LZ95_SALSA</td>\n",
       "      <td>TRINITY_DN84758_c12_g1_i1</td>\n",
       "      <td>TRINITY_DN83918_c6_g2_i2</td>\n",
       "      <td>77</td>\n",
       "      <td>105</td>\n",
       "      <td>208</td>\n",
       "      <td>89</td>\n",
       "      <td>0</td>\n",
       "      <td>0</td>\n",
       "      <td>0</td>\n",
       "      <td>0</td>\n",
       "      <td>0</td>\n",
       "      <td>0</td>\n",
       "      <td>0</td>\n",
       "      <td>0</td>\n",
       "      <td>6</td>\n",
       "    </tr>\n",
       "    <tr>\n",
       "      <th>1</th>\n",
       "      <td>A0A1S3SPM9_SALSA</td>\n",
       "      <td>TRINITY_DN90008_c5_g5_i1</td>\n",
       "      <td>TRINITY_DN102983_c8_g1_i1</td>\n",
       "      <td>222</td>\n",
       "      <td>935</td>\n",
       "      <td>533</td>\n",
       "      <td>263</td>\n",
       "      <td>0</td>\n",
       "      <td>3</td>\n",
       "      <td>0</td>\n",
       "      <td>0</td>\n",
       "      <td>2</td>\n",
       "      <td>0</td>\n",
       "      <td>0</td>\n",
       "      <td>0</td>\n",
       "      <td>5</td>\n",
       "    </tr>\n",
       "    <tr>\n",
       "      <th>2</th>\n",
       "      <td>A0A1S3SPM9_SALSA</td>\n",
       "      <td>TRINITY_DN90008_c5_g5_i1</td>\n",
       "      <td>TRINITY_DN102983_c8_g1_i2</td>\n",
       "      <td>222</td>\n",
       "      <td>935</td>\n",
       "      <td>533</td>\n",
       "      <td>263</td>\n",
       "      <td>0</td>\n",
       "      <td>3</td>\n",
       "      <td>0</td>\n",
       "      <td>0</td>\n",
       "      <td>2</td>\n",
       "      <td>0</td>\n",
       "      <td>0</td>\n",
       "      <td>0</td>\n",
       "      <td>5</td>\n",
       "    </tr>\n",
       "    <tr>\n",
       "      <th>3</th>\n",
       "      <td>A0A1S3SPM9_SALSA</td>\n",
       "      <td>TRINITY_DN90008_c5_g5_i1</td>\n",
       "      <td>TRINITY_DN102983_c8_g1_i3</td>\n",
       "      <td>222</td>\n",
       "      <td>935</td>\n",
       "      <td>533</td>\n",
       "      <td>263</td>\n",
       "      <td>0</td>\n",
       "      <td>3</td>\n",
       "      <td>0</td>\n",
       "      <td>0</td>\n",
       "      <td>2</td>\n",
       "      <td>0</td>\n",
       "      <td>0</td>\n",
       "      <td>0</td>\n",
       "      <td>5</td>\n",
       "    </tr>\n",
       "    <tr>\n",
       "      <th>4</th>\n",
       "      <td>A0A1S3SPM9_SALSA</td>\n",
       "      <td>TRINITY_DN90008_c5_g5_i1</td>\n",
       "      <td>TRINITY_DN102983_c8_g1_i5</td>\n",
       "      <td>222</td>\n",
       "      <td>935</td>\n",
       "      <td>533</td>\n",
       "      <td>263</td>\n",
       "      <td>0</td>\n",
       "      <td>3</td>\n",
       "      <td>0</td>\n",
       "      <td>0</td>\n",
       "      <td>2</td>\n",
       "      <td>0</td>\n",
       "      <td>0</td>\n",
       "      <td>0</td>\n",
       "      <td>5</td>\n",
       "    </tr>\n",
       "  </tbody>\n",
       "</table>\n",
       "</div>"
      ],
      "text/plain": [
       "  Entry name_PROTEIN                     ID_UTR                 ID_PROTEIN  \\\n",
       "0   A0A1S3LZ95_SALSA  TRINITY_DN84758_c12_g1_i1   TRINITY_DN83918_c6_g2_i2   \n",
       "1   A0A1S3SPM9_SALSA   TRINITY_DN90008_c5_g5_i1  TRINITY_DN102983_c8_g1_i1   \n",
       "2   A0A1S3SPM9_SALSA   TRINITY_DN90008_c5_g5_i1  TRINITY_DN102983_c8_g1_i2   \n",
       "3   A0A1S3SPM9_SALSA   TRINITY_DN90008_c5_g5_i1  TRINITY_DN102983_c8_g1_i3   \n",
       "4   A0A1S3SPM9_SALSA   TRINITY_DN90008_c5_g5_i1  TRINITY_DN102983_c8_g1_i5   \n",
       "\n",
       "   PBS_1d_1_UTR  PBS_1d_2_UTR  PBS_1d_3_UTR  PBS_1d_4_UTR  MC_1d_1_UTR  \\\n",
       "0            77           105           208            89            0   \n",
       "1           222           935           533           263            0   \n",
       "2           222           935           533           263            0   \n",
       "3           222           935           533           263            0   \n",
       "4           222           935           533           263            0   \n",
       "\n",
       "   MC_1d_2_UTR  MC_1d_3_UTR  MC_6d_1_UTR  MC_6d_2_UTR  MC_6d_3_UTR  \\\n",
       "0            0            0            0            0            0   \n",
       "1            3            0            0            2            0   \n",
       "2            3            0            0            2            0   \n",
       "3            3            0            0            2            0   \n",
       "4            3            0            0            2            0   \n",
       "\n",
       "   MC_9d_1_UTR  MC_9d_2_UTR  MC_9d_3_UTR  \n",
       "0            0            0            6  \n",
       "1            0            0            5  \n",
       "2            0            0            5  \n",
       "3            0            0            5  \n",
       "4            0            0            5  "
      ]
     },
     "execution_count": 28,
     "metadata": {},
     "output_type": "execute_result"
    }
   ],
   "source": [
    "UTR_matryca.columns = [str(col) + '_UTR' for col in UTR_matryca.columns]"
   ]
  },
  {
   "cell_type": "code",
   "execution_count": 34,
   "metadata": {},
   "outputs": [],
   "source": [
    "merged.rename(columns={'ID_PROTEIN':'ID_PROT'}, inplace=True)"
   ]
  },
  {
   "cell_type": "code",
   "execution_count": 36,
   "metadata": {},
   "outputs": [],
   "source": [
    "merged2 = pd.merge(merged, PROT_matryca, on='ID_PROT')"
   ]
  },
  {
   "cell_type": "code",
   "execution_count": 37,
   "metadata": {},
   "outputs": [
    {
     "data": {
      "text/plain": [
       "(219, 29)"
      ]
     },
     "execution_count": 37,
     "metadata": {},
     "output_type": "execute_result"
    }
   ],
   "source": [
    "merged2.shape"
   ]
  },
  {
   "cell_type": "code",
   "execution_count": 38,
   "metadata": {},
   "outputs": [],
   "source": [
    "merged2.to_csv('/mnt/sdb1/Project_Sieja_MCLR_52/2_pipeline/7_counting_transcripts/noncoding_novel/UTR_vs_PROT_DESEQ/UTR_PROT_matryca_merged.csv')"
   ]
  },
  {
   "cell_type": "code",
   "execution_count": null,
   "metadata": {},
   "outputs": [],
   "source": []
  },
  {
   "cell_type": "code",
   "execution_count": null,
   "metadata": {},
   "outputs": [],
   "source": [
    "wyniki z deseq2 (R):\n",
    "\n",
    "    \n",
    "1d\n",
    "out of 219 with nonzero total read count\n",
    "adjusted p-value < 0.05\n",
    "LFC > 0 (up)       : 88, 40%\n",
    "LFC < 0 (down)     : 86, 39%\n",
    "outliers [1]       : 13, 5.9%\n",
    "low counts [2]     : 0, 0%\n",
    "(mean count < 27)\n",
    "\n",
    "\n",
    "    \n",
    "    \n",
    "6d    \n",
    "out of 219 with nonzero total read count\n",
    "adjusted p-value < 0.05\n",
    "LFC > 0 (up)       : 67, 31%\n",
    "LFC < 0 (down)     : 63, 29%\n",
    "outliers [1]       : 3, 1.4%\n",
    "low counts [2]     : 0, 0%\n",
    "(mean count < 2)    \n",
    "    \n",
    "    \n",
    "9d\n",
    "out of 219 with nonzero total read count\n",
    "adjusted p-value < 0.05\n",
    "LFC > 0 (up)       : 67, 31%\n",
    "LFC < 0 (down)     : 63, 29%\n",
    "outliers [1]       : 3, 1.4%\n",
    "low counts [2]     : 0, 0%\n",
    "(mean count < 2)\n",
    "\n",
    "\n",
    "\n",
    "\n",
    "\n",
    "    \n",
    "    \n",
    "    \n",
    "    \n",
    "    "
   ]
  },
  {
   "cell_type": "code",
   "execution_count": null,
   "metadata": {},
   "outputs": [],
   "source": []
  },
  {
   "cell_type": "code",
   "execution_count": null,
   "metadata": {},
   "outputs": [],
   "source": []
  },
  {
   "cell_type": "code",
   "execution_count": null,
   "metadata": {},
   "outputs": [],
   "source": []
  },
  {
   "cell_type": "code",
   "execution_count": null,
   "metadata": {},
   "outputs": [],
   "source": []
  },
  {
   "cell_type": "code",
   "execution_count": null,
   "metadata": {},
   "outputs": [],
   "source": []
  },
  {
   "cell_type": "code",
   "execution_count": null,
   "metadata": {},
   "outputs": [],
   "source": []
  },
  {
   "cell_type": "code",
   "execution_count": null,
   "metadata": {},
   "outputs": [],
   "source": []
  },
  {
   "cell_type": "code",
   "execution_count": null,
   "metadata": {},
   "outputs": [],
   "source": []
  },
  {
   "cell_type": "code",
   "execution_count": null,
   "metadata": {},
   "outputs": [],
   "source": []
  },
  {
   "cell_type": "code",
   "execution_count": null,
   "metadata": {},
   "outputs": [],
   "source": []
  },
  {
   "cell_type": "code",
   "execution_count": null,
   "metadata": {},
   "outputs": [],
   "source": []
  },
  {
   "cell_type": "code",
   "execution_count": null,
   "metadata": {},
   "outputs": [],
   "source": []
  },
  {
   "cell_type": "code",
   "execution_count": null,
   "metadata": {},
   "outputs": [],
   "source": []
  },
  {
   "cell_type": "code",
   "execution_count": null,
   "metadata": {},
   "outputs": [],
   "source": []
  },
  {
   "cell_type": "code",
   "execution_count": null,
   "metadata": {},
   "outputs": [],
   "source": []
  },
  {
   "cell_type": "code",
   "execution_count": null,
   "metadata": {},
   "outputs": [],
   "source": []
  },
  {
   "cell_type": "code",
   "execution_count": null,
   "metadata": {},
   "outputs": [],
   "source": []
  },
  {
   "cell_type": "code",
   "execution_count": null,
   "metadata": {},
   "outputs": [],
   "source": []
  },
  {
   "cell_type": "code",
   "execution_count": null,
   "metadata": {},
   "outputs": [],
   "source": []
  },
  {
   "cell_type": "code",
   "execution_count": null,
   "metadata": {},
   "outputs": [],
   "source": []
  },
  {
   "cell_type": "code",
   "execution_count": null,
   "metadata": {},
   "outputs": [],
   "source": []
  },
  {
   "cell_type": "code",
   "execution_count": null,
   "metadata": {},
   "outputs": [],
   "source": []
  }
 ],
 "metadata": {
  "kernelspec": {
   "display_name": "Python 3",
   "language": "python",
   "name": "python3"
  },
  "language_info": {
   "codemirror_mode": {
    "name": "ipython",
    "version": 3
   },
   "file_extension": ".py",
   "mimetype": "text/x-python",
   "name": "python",
   "nbconvert_exporter": "python",
   "pygments_lexer": "ipython3",
   "version": "3.7.3"
  }
 },
 "nbformat": 4,
 "nbformat_minor": 2
}
