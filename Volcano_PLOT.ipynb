{
 "cells": [
  {
   "cell_type": "code",
   "execution_count": 1,
   "metadata": {},
   "outputs": [],
   "source": [
    "import pandas as pd\n",
    "from bioinfokit import analys, visuz"
   ]
  },
  {
   "cell_type": "code",
   "execution_count": 2,
   "metadata": {},
   "outputs": [],
   "source": [
    "#KNOWN"
   ]
  },
  {
   "cell_type": "code",
   "execution_count": 5,
   "metadata": {},
   "outputs": [],
   "source": [
    "#all known\n",
    "df = pd.read_csv('/mnt/sdb1/Project_Sieja_MCLR_52/2_pipeline/7_counting_transcripts/noncoding_known/up_down_known_DESEQ_1d_with_names.csv')\n",
    "df6 = pd.read_csv('/mnt/sdb1/Project_Sieja_MCLR_52/2_pipeline/7_counting_transcripts/noncoding_known/up_down_known_DESEQ_6d_with_names.csv')\n",
    "df9 = pd.read_csv('/mnt/sdb1/Project_Sieja_MCLR_52/2_pipeline/7_counting_transcripts/noncoding_known/up_down_known_DESEQ_9d_with_names.csv')"
   ]
  },
  {
   "cell_type": "code",
   "execution_count": 8,
   "metadata": {},
   "outputs": [],
   "source": [
    "#lncOnly\n",
    "df = pd.read_csv('/mnt/sdb1/Project_Sieja_MCLR_52/2_pipeline/7_counting_transcripts/noncoding_known/up_down_known_DESEQ_1d_with_names_lnc_only.csv')\n",
    "df6 = pd.read_csv('/mnt/sdb1/Project_Sieja_MCLR_52/2_pipeline/7_counting_transcripts/noncoding_known/up_down_known_DESEQ_6d_with_names_lnc_only.csv')\n",
    "df9 = pd.read_csv('/mnt/sdb1/Project_Sieja_MCLR_52/2_pipeline/7_counting_transcripts/noncoding_known/up_down_known_DESEQ_9d_with_names_lnc_only.csv')"
   ]
  },
  {
   "cell_type": "code",
   "execution_count": 10,
   "metadata": {},
   "outputs": [],
   "source": [
    "visuz.gene_exp.volcano(d=df9, lfc='log2FoldChange', pv='padj', geneid='name', genenames=({\"MALAT1\":\"MALAT1\", \"HOTAIR_1\":\"HOTAIR\", \"HOTTIP_2\":\"HOTTIP\", \"HULC\":\"HULC\"}), gstyle=1, valpha=0.5, xlm=(-15,16,5), ylm=(0,91, 10))\n",
    "#visuz.gene_exp.volcano(d=df9, lfc='log2FoldChange', pv='padj', geneid='name', gstyle=1, valpha=0.5, xlm=(-15,16,5), ylm=(0,91, 10))"
   ]
  },
  {
   "cell_type": "code",
   "execution_count": 3,
   "metadata": {},
   "outputs": [],
   "source": [
    "#NOVEL"
   ]
  },
  {
   "cell_type": "code",
   "execution_count": 2,
   "metadata": {},
   "outputs": [],
   "source": [
    "path = '/mnt/sdb1/Project_Sieja_MCLR_52/2_pipeline/7_counting_transcripts/noncoding_novel/'\n",
    "df = pd.read_csv(path+'TRUE_NOVEL_ncRNA_1d_after_deseq_w_trinity_names.csv')\n",
    "df6 = pd.read_csv(path+'TRUE_NOVEL_ncRNA_6d_after_deseq_w_trinity_names.csv')\n",
    "df9 = pd.read_csv(path+'TRUE_NOVEL_ncRNA_9d_after_deseq_w_trinity_names.csv')\n",
    "\n"
   ]
  },
  {
   "cell_type": "code",
   "execution_count": 28,
   "metadata": {},
   "outputs": [],
   "source": [
    "visuz.gene_exp.volcano(d=df9, lfc='log2FoldChange', pv='padj', geneid='name', gstyle=1, valpha=0.5, xlm=(-15,16,5), ylm=(0,91, 10))"
   ]
  },
  {
   "cell_type": "code",
   "execution_count": null,
   "metadata": {},
   "outputs": [],
   "source": []
  }
 ],
 "metadata": {
  "kernelspec": {
   "display_name": "Python 3",
   "language": "python",
   "name": "python3"
  },
  "language_info": {
   "codemirror_mode": {
    "name": "ipython",
    "version": 3
   },
   "file_extension": ".py",
   "mimetype": "text/x-python",
   "name": "python",
   "nbconvert_exporter": "python",
   "pygments_lexer": "ipython3",
   "version": "3.7.3"
  }
 },
 "nbformat": 4,
 "nbformat_minor": 2
}
