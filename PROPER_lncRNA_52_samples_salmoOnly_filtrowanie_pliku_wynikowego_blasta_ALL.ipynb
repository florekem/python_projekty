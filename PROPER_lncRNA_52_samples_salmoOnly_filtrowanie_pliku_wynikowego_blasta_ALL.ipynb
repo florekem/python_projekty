{
 "cells": [
  {
   "cell_type": "code",
   "execution_count": 1,
   "metadata": {},
   "outputs": [],
   "source": [
    "import pandas as pd\n",
    "import numpy as np"
   ]
  },
  {
   "cell_type": "code",
   "execution_count": 2,
   "metadata": {},
   "outputs": [],
   "source": [
    "path='/mnt/sdb1/Project_Sieja_MCLR_52/2_pipeline/7_counting_transcripts/noncoding_novel/'"
   ]
  },
  {
   "cell_type": "markdown",
   "metadata": {},
   "source": [
    "# filtrowanie pliku wynikowego blasta"
   ]
  },
  {
   "cell_type": "code",
   "execution_count": 3,
   "metadata": {},
   "outputs": [
    {
     "data": {
      "text/plain": [
       "(4271458, 5)"
      ]
     },
     "execution_count": 3,
     "metadata": {},
     "output_type": "execute_result"
    }
   ],
   "source": [
    "df_blast_results = pd.read_csv(path+'novel_counted_1d-6d-9d_salmo_blasted.csv', sep='\\t', low_memory=False)\n",
    "df_blast_results.shape"
   ]
  },
  {
   "cell_type": "markdown",
   "metadata": {},
   "source": [
    "### odfiltrowanie zbyt niskiego coverage (pomijamy w tej wersji salmo only)"
   ]
  },
  {
   "cell_type": "markdown",
   "metadata": {},
   "source": [
    "### filtrowanie mRNA only"
   ]
  },
  {
   "cell_type": "code",
   "execution_count": 4,
   "metadata": {},
   "outputs": [],
   "source": [
    "# select best hit based on evalue (drop_duplicates)\n",
    "df_best_hit = df_blast_results.sort_values('evalue', ascending=True).drop_duplicates('query').sort_index()\n"
   ]
  },
  {
   "cell_type": "code",
   "execution_count": 5,
   "metadata": {},
   "outputs": [
    {
     "data": {
      "text/plain": [
       "(104024, 5)"
      ]
     },
     "execution_count": 5,
     "metadata": {},
     "output_type": "execute_result"
    }
   ],
   "source": [
    "df_best_hit.shape"
   ]
  },
  {
   "cell_type": "code",
   "execution_count": 6,
   "metadata": {},
   "outputs": [
    {
     "data": {
      "text/plain": [
       "(93064, 5)"
      ]
     },
     "execution_count": 6,
     "metadata": {},
     "output_type": "execute_result"
    }
   ],
   "source": [
    "# select what you need based on string\n",
    "\n",
    "# w tym wypadku mRNA only oznacza pominiecie blastów z ncRNA, mixRNA i innych dziwnych, nie oznacza natomiast\n",
    "# zabawy z chromosome i filtrowaniem tego dodatkowo, poniewaz blastujac tylko do salmo salar, nie mam (chyba)\n",
    "# zadnych hitow chromosome. Chromosome (czyli hity bez mRNA) w tym wypadku to takie, ktore w blascie mialy NO HIT.\n",
    "# czyli zamiast filtrowania po chromosome nalezy wrzucic w te grupe trinity, ktore mialy NO HIT.\n",
    "\n",
    "df_mRNA_only = df_best_hit[df_best_hit['al_title'].str.contains('mRNA')]\n",
    "df_mRNA_only.shape\n"
   ]
  },
  {
   "cell_type": "code",
   "execution_count": 7,
   "metadata": {},
   "outputs": [],
   "source": [
    "df_mRNA_only.to_csv(path+'PBS_vs_MC_all_days_mRNA_only.csv', index=False)"
   ]
  },
  {
   "cell_type": "code",
   "execution_count": 8,
   "metadata": {},
   "outputs": [],
   "source": [
    "mRNA_XM = df_mRNA_only[['al_accession']]#.to_csv(path+'xm_list_to_convet_to_xp.txt', index=False)\n"
   ]
  },
  {
   "cell_type": "code",
   "execution_count": 9,
   "metadata": {},
   "outputs": [
    {
     "data": {
      "text/plain": [
       "(93064, 1)"
      ]
     },
     "execution_count": 9,
     "metadata": {},
     "output_type": "execute_result"
    }
   ],
   "source": [
    "mRNA_XM.shape"
   ]
  },
  {
   "cell_type": "code",
   "execution_count": 10,
   "metadata": {},
   "outputs": [
    {
     "name": "stderr",
     "output_type": "stream",
     "text": [
      "/home/maciek/anaconda3/lib/python3.7/site-packages/ipykernel_launcher.py:1: SettingWithCopyWarning: \n",
      "A value is trying to be set on a copy of a slice from a DataFrame\n",
      "\n",
      "See the caveats in the documentation: http://pandas.pydata.org/pandas-docs/stable/indexing.html#indexing-view-versus-copy\n",
      "  \"\"\"Entry point for launching an IPython kernel.\n"
     ]
    },
    {
     "data": {
      "text/plain": [
       "(30010, 1)"
      ]
     },
     "execution_count": 10,
     "metadata": {},
     "output_type": "execute_result"
    }
   ],
   "source": [
    "mRNA_XM.drop_duplicates(inplace=True)\n",
    "mRNA_XM.shape"
   ]
  },
  {
   "cell_type": "markdown",
   "metadata": {},
   "source": [
    "# TO DO: XM z tego ^^ pozamieniac na XP w unirefie"
   ]
  },
  {
   "cell_type": "code",
   "execution_count": null,
   "metadata": {},
   "outputs": [],
   "source": [
    "not mapped\n",
    "XR_001330223\n",
    "XR_001324603\n",
    "NM_001360919\n",
    "XR_001324726\n",
    "NM_001361122\n",
    "NM_001360942\n",
    "\n",
    "\n",
    "30004 out of 30010 RefSeq Nucleotide identifiers were successfully mapped to 27345 UniProtKB IDs in the table below. \n"
   ]
  },
  {
   "cell_type": "code",
   "execution_count": 62,
   "metadata": {},
   "outputs": [],
   "source": [
    "uniprot_converted = pd.read_csv('/mnt/sdb1/Project_Sieja_MCLR_52/2_pipeline/7_counting_transcripts/noncoding_novel/xm_to_uniprot.tab', sep='\\t')"
   ]
  },
  {
   "cell_type": "code",
   "execution_count": 49,
   "metadata": {},
   "outputs": [
    {
     "data": {
      "text/html": [
       "<div>\n",
       "<style scoped>\n",
       "    .dataframe tbody tr th:only-of-type {\n",
       "        vertical-align: middle;\n",
       "    }\n",
       "\n",
       "    .dataframe tbody tr th {\n",
       "        vertical-align: top;\n",
       "    }\n",
       "\n",
       "    .dataframe thead th {\n",
       "        text-align: right;\n",
       "    }\n",
       "</style>\n",
       "<table border=\"1\" class=\"dataframe\">\n",
       "  <thead>\n",
       "    <tr style=\"text-align: right;\">\n",
       "      <th></th>\n",
       "      <th>Entry</th>\n",
       "      <th>Protein names</th>\n",
       "      <th>Gene names</th>\n",
       "      <th>al_accession</th>\n",
       "    </tr>\n",
       "  </thead>\n",
       "  <tbody>\n",
       "    <tr>\n",
       "      <th>0</th>\n",
       "      <td>A0A1S3P3U9</td>\n",
       "      <td>forkhead box protein P4-like isoform X8</td>\n",
       "      <td>LOC106583051</td>\n",
       "      <td>XM_014166828</td>\n",
       "    </tr>\n",
       "  </tbody>\n",
       "</table>\n",
       "</div>"
      ],
      "text/plain": [
       "        Entry                            Protein names    Gene names  \\\n",
       "0  A0A1S3P3U9  forkhead box protein P4-like isoform X8  LOC106583051   \n",
       "\n",
       "   al_accession  \n",
       "0  XM_014166828  "
      ]
     },
     "execution_count": 49,
     "metadata": {},
     "output_type": "execute_result"
    }
   ],
   "source": [
    "uniprot_converted.head(1)"
   ]
  },
  {
   "cell_type": "code",
   "execution_count": 63,
   "metadata": {
    "scrolled": true
   },
   "outputs": [
    {
     "data": {
      "text/plain": [
       "(27345, 4)"
      ]
     },
     "execution_count": 63,
     "metadata": {},
     "output_type": "execute_result"
    }
   ],
   "source": [
    "uniprot_converted.shape"
   ]
  },
  {
   "cell_type": "code",
   "execution_count": 70,
   "metadata": {},
   "outputs": [
    {
     "data": {
      "text/html": [
       "<div>\n",
       "<style scoped>\n",
       "    .dataframe tbody tr th:only-of-type {\n",
       "        vertical-align: middle;\n",
       "    }\n",
       "\n",
       "    .dataframe tbody tr th {\n",
       "        vertical-align: top;\n",
       "    }\n",
       "\n",
       "    .dataframe thead th {\n",
       "        text-align: right;\n",
       "    }\n",
       "</style>\n",
       "<table border=\"1\" class=\"dataframe\">\n",
       "  <thead>\n",
       "    <tr style=\"text-align: right;\">\n",
       "      <th></th>\n",
       "      <th>Entry</th>\n",
       "      <th>al_accession</th>\n",
       "    </tr>\n",
       "  </thead>\n",
       "  <tbody>\n",
       "    <tr>\n",
       "      <th>0</th>\n",
       "      <td>A0A1S3P3U9</td>\n",
       "      <td>XM_014166828</td>\n",
       "    </tr>\n",
       "    <tr>\n",
       "      <th>1</th>\n",
       "      <td>A0A1S3T2R9</td>\n",
       "      <td>XM_014215408</td>\n",
       "    </tr>\n",
       "    <tr>\n",
       "      <th>2</th>\n",
       "      <td>A0A1S3SRF3</td>\n",
       "      <td>XM_014211429</td>\n",
       "    </tr>\n",
       "    <tr>\n",
       "      <th>3</th>\n",
       "      <td>A0A1S3RP07</td>\n",
       "      <td>XM_014198580</td>\n",
       "    </tr>\n",
       "    <tr>\n",
       "      <th>4</th>\n",
       "      <td>A0A1S3NG44</td>\n",
       "      <td>XM_014158943</td>\n",
       "    </tr>\n",
       "  </tbody>\n",
       "</table>\n",
       "</div>"
      ],
      "text/plain": [
       "        Entry  al_accession\n",
       "0  A0A1S3P3U9  XM_014166828\n",
       "1  A0A1S3T2R9  XM_014215408\n",
       "2  A0A1S3SRF3  XM_014211429\n",
       "3  A0A1S3RP07  XM_014198580\n",
       "4  A0A1S3NG44  XM_014158943"
      ]
     },
     "execution_count": 70,
     "metadata": {},
     "output_type": "execute_result"
    }
   ],
   "source": [
    "# w przypadku jesli dany hit ma dwa lub wiecej numerow accession (XM_014212336,XM_014212334)\n",
    "# rozdzielenie na osobne wiersze, z ktorych kazdy bedzie mial teraz tylko jeden numer\n",
    "#new_df = pd.DataFrame(df.City.str.split('|').tolist(), \n",
    "\n",
    "uniprot_converted_split_al_accession = pd.DataFrame(uniprot_converted['al_accession'].str.split(',').tolist(), index=uniprot_converted.Entry).stack()\n",
    "uniprot_converted_split_al_accession = uniprot_converted_split_al_accession.reset_index([0, 'Entry'])\n",
    "#uniprot_converted_split_al_accession.to_csv(\"/home/maciek/Pobrane/test.csv\")\n",
    "#uniprot_converted_split_al_accession.reset_index()\n",
    "uniprot_converted_split_al_accession.columns = ['Entry', 'al_accession']\n",
    "uniprot_converted_split_al_accession.head()"
   ]
  },
  {
   "cell_type": "code",
   "execution_count": 76,
   "metadata": {},
   "outputs": [
    {
     "data": {
      "text/html": [
       "<div>\n",
       "<style scoped>\n",
       "    .dataframe tbody tr th:only-of-type {\n",
       "        vertical-align: middle;\n",
       "    }\n",
       "\n",
       "    .dataframe tbody tr th {\n",
       "        vertical-align: top;\n",
       "    }\n",
       "\n",
       "    .dataframe thead th {\n",
       "        text-align: right;\n",
       "    }\n",
       "</style>\n",
       "<table border=\"1\" class=\"dataframe\">\n",
       "  <thead>\n",
       "    <tr style=\"text-align: right;\">\n",
       "      <th></th>\n",
       "      <th>Entry</th>\n",
       "      <th>Protein names</th>\n",
       "      <th>Gene names</th>\n",
       "      <th>al_accession</th>\n",
       "    </tr>\n",
       "  </thead>\n",
       "  <tbody>\n",
       "    <tr>\n",
       "      <th>0</th>\n",
       "      <td>A0A1S3P3U9</td>\n",
       "      <td>forkhead box protein P4-like isoform X8</td>\n",
       "      <td>LOC106583051</td>\n",
       "      <td>XM_014166828</td>\n",
       "    </tr>\n",
       "    <tr>\n",
       "      <th>1</th>\n",
       "      <td>A0A1S3T2R9</td>\n",
       "      <td>protein CASP-like</td>\n",
       "      <td>LOC106613315</td>\n",
       "      <td>XM_014215408</td>\n",
       "    </tr>\n",
       "    <tr>\n",
       "      <th>2</th>\n",
       "      <td>A0A1S3SRF3</td>\n",
       "      <td>DNA (Cytosine-5)-methyltransferase 3A-like iso...</td>\n",
       "      <td>LOC106611330</td>\n",
       "      <td>XM_014211429</td>\n",
       "    </tr>\n",
       "    <tr>\n",
       "      <th>3</th>\n",
       "      <td>A0A1S3RP07</td>\n",
       "      <td>uncharacterized protein LOC106604161</td>\n",
       "      <td>LOC106604161</td>\n",
       "      <td>XM_014198580</td>\n",
       "    </tr>\n",
       "    <tr>\n",
       "      <th>4</th>\n",
       "      <td>A0A1S3NG44</td>\n",
       "      <td>serine/arginine repetitive matrix protein 1-li...</td>\n",
       "      <td>LOC106579139</td>\n",
       "      <td>XM_014158943</td>\n",
       "    </tr>\n",
       "  </tbody>\n",
       "</table>\n",
       "</div>"
      ],
      "text/plain": [
       "        Entry                                      Protein names  \\\n",
       "0  A0A1S3P3U9            forkhead box protein P4-like isoform X8   \n",
       "1  A0A1S3T2R9                                  protein CASP-like   \n",
       "2  A0A1S3SRF3  DNA (Cytosine-5)-methyltransferase 3A-like iso...   \n",
       "3  A0A1S3RP07               uncharacterized protein LOC106604161   \n",
       "4  A0A1S3NG44  serine/arginine repetitive matrix protein 1-li...   \n",
       "\n",
       "     Gene names  al_accession  \n",
       "0  LOC106583051  XM_014166828  \n",
       "1  LOC106613315  XM_014215408  \n",
       "2  LOC106611330  XM_014211429  \n",
       "3  LOC106604161  XM_014198580  \n",
       "4  LOC106579139  XM_014158943  "
      ]
     },
     "execution_count": 76,
     "metadata": {},
     "output_type": "execute_result"
    }
   ],
   "source": [
    "# merge with other columns from uniprot_converted\n",
    "\n",
    "uniprot_converted_split_al_accession_w_protein_gene_names = pd.merge(uniprot_converted, uniprot_converted_split_al_accession, on='Entry')\n",
    "del uniprot_converted_split_al_accession_w_protein_gene_names['al_accession_x']\n",
    "uniprot_converted_split_al_accession_w_protein_gene_names.rename(columns={'al_accession_y':'al_accession'}, inplace=True)\n",
    "uniprot_converted_split_al_accession_w_protein_gene_names.head()\n"
   ]
  },
  {
   "cell_type": "code",
   "execution_count": null,
   "metadata": {},
   "outputs": [],
   "source": []
  },
  {
   "cell_type": "code",
   "execution_count": 41,
   "metadata": {},
   "outputs": [],
   "source": [
    "#uniprot_converted_entry = uniprot_converted[['al_accession', 'Entry']]"
   ]
  },
  {
   "cell_type": "code",
   "execution_count": 77,
   "metadata": {},
   "outputs": [],
   "source": [
    "merged = pd.merge(df_mRNA_only, uniprot_converted_split_al_accession_w_protein_gene_names, on='al_accession', how='inner') "
   ]
  },
  {
   "cell_type": "code",
   "execution_count": 78,
   "metadata": {},
   "outputs": [
    {
     "data": {
      "text/plain": [
       "(93208, 8)"
      ]
     },
     "execution_count": 78,
     "metadata": {},
     "output_type": "execute_result"
    }
   ],
   "source": [
    "merged.shape"
   ]
  },
  {
   "cell_type": "code",
   "execution_count": 86,
   "metadata": {},
   "outputs": [
    {
     "data": {
      "text/html": [
       "<div>\n",
       "<style scoped>\n",
       "    .dataframe tbody tr th:only-of-type {\n",
       "        vertical-align: middle;\n",
       "    }\n",
       "\n",
       "    .dataframe tbody tr th {\n",
       "        vertical-align: top;\n",
       "    }\n",
       "\n",
       "    .dataframe thead th {\n",
       "        text-align: right;\n",
       "    }\n",
       "</style>\n",
       "<table border=\"1\" class=\"dataframe\">\n",
       "  <thead>\n",
       "    <tr style=\"text-align: right;\">\n",
       "      <th></th>\n",
       "      <th>query</th>\n",
       "      <th>al_title</th>\n",
       "      <th>al_accession</th>\n",
       "      <th>evalue</th>\n",
       "      <th>coverage</th>\n",
       "      <th>Entry</th>\n",
       "      <th>Protein names</th>\n",
       "      <th>Gene names</th>\n",
       "    </tr>\n",
       "  </thead>\n",
       "  <tbody>\n",
       "    <tr>\n",
       "      <th>0</th>\n",
       "      <td>TRINITY_DN100004_c4_g2_i2</td>\n",
       "      <td>gi|929290304|ref|XM_014166828.1| PREDICTED: Sa...</td>\n",
       "      <td>XM_014166828</td>\n",
       "      <td>0.000000e+00</td>\n",
       "      <td>100.183824</td>\n",
       "      <td>A0A1S3P3U9</td>\n",
       "      <td>forkhead box protein P4-like isoform X8</td>\n",
       "      <td>LOC106583051</td>\n",
       "    </tr>\n",
       "    <tr>\n",
       "      <th>1</th>\n",
       "      <td>TRINITY_DN100005_c7_g2_i1</td>\n",
       "      <td>gi|929057222|ref|XM_014212676.1| PREDICTED: Sa...</td>\n",
       "      <td>XM_014212676</td>\n",
       "      <td>0.000000e+00</td>\n",
       "      <td>83.712322</td>\n",
       "      <td>A0A1S3SUX9</td>\n",
       "      <td>alpha-N-acetylgalactosaminide alpha-2,6-sialyl...</td>\n",
       "      <td>LOC106611954</td>\n",
       "    </tr>\n",
       "    <tr>\n",
       "      <th>2</th>\n",
       "      <td>TRINITY_DN81030_c8_g4_i1</td>\n",
       "      <td>gi|929057222|ref|XM_014212676.1| PREDICTED: Sa...</td>\n",
       "      <td>XM_014212676</td>\n",
       "      <td>5.808660e-77</td>\n",
       "      <td>100.000000</td>\n",
       "      <td>A0A1S3SUX9</td>\n",
       "      <td>alpha-N-acetylgalactosaminide alpha-2,6-sialyl...</td>\n",
       "      <td>LOC106611954</td>\n",
       "    </tr>\n",
       "    <tr>\n",
       "      <th>3</th>\n",
       "      <td>TRINITY_DN83202_c8_g4_i2</td>\n",
       "      <td>gi|929057222|ref|XM_014212676.1| PREDICTED: Sa...</td>\n",
       "      <td>XM_014212676</td>\n",
       "      <td>2.955540e-50</td>\n",
       "      <td>44.669366</td>\n",
       "      <td>A0A1S3SUX9</td>\n",
       "      <td>alpha-N-acetylgalactosaminide alpha-2,6-sialyl...</td>\n",
       "      <td>LOC106611954</td>\n",
       "    </tr>\n",
       "    <tr>\n",
       "      <th>4</th>\n",
       "      <td>TRINITY_DN105298_c5_g1_i2</td>\n",
       "      <td>gi|929057222|ref|XM_014212676.1| PREDICTED: Sa...</td>\n",
       "      <td>XM_014212676</td>\n",
       "      <td>3.652550e-55</td>\n",
       "      <td>93.772894</td>\n",
       "      <td>A0A1S3SUX9</td>\n",
       "      <td>alpha-N-acetylgalactosaminide alpha-2,6-sialyl...</td>\n",
       "      <td>LOC106611954</td>\n",
       "    </tr>\n",
       "  </tbody>\n",
       "</table>\n",
       "</div>"
      ],
      "text/plain": [
       "                       query  \\\n",
       "0  TRINITY_DN100004_c4_g2_i2   \n",
       "1  TRINITY_DN100005_c7_g2_i1   \n",
       "2   TRINITY_DN81030_c8_g4_i1   \n",
       "3   TRINITY_DN83202_c8_g4_i2   \n",
       "4  TRINITY_DN105298_c5_g1_i2   \n",
       "\n",
       "                                            al_title  al_accession  \\\n",
       "0  gi|929290304|ref|XM_014166828.1| PREDICTED: Sa...  XM_014166828   \n",
       "1  gi|929057222|ref|XM_014212676.1| PREDICTED: Sa...  XM_014212676   \n",
       "2  gi|929057222|ref|XM_014212676.1| PREDICTED: Sa...  XM_014212676   \n",
       "3  gi|929057222|ref|XM_014212676.1| PREDICTED: Sa...  XM_014212676   \n",
       "4  gi|929057222|ref|XM_014212676.1| PREDICTED: Sa...  XM_014212676   \n",
       "\n",
       "         evalue    coverage       Entry  \\\n",
       "0  0.000000e+00  100.183824  A0A1S3P3U9   \n",
       "1  0.000000e+00   83.712322  A0A1S3SUX9   \n",
       "2  5.808660e-77  100.000000  A0A1S3SUX9   \n",
       "3  2.955540e-50   44.669366  A0A1S3SUX9   \n",
       "4  3.652550e-55   93.772894  A0A1S3SUX9   \n",
       "\n",
       "                                       Protein names    Gene names  \n",
       "0            forkhead box protein P4-like isoform X8  LOC106583051  \n",
       "1  alpha-N-acetylgalactosaminide alpha-2,6-sialyl...  LOC106611954  \n",
       "2  alpha-N-acetylgalactosaminide alpha-2,6-sialyl...  LOC106611954  \n",
       "3  alpha-N-acetylgalactosaminide alpha-2,6-sialyl...  LOC106611954  \n",
       "4  alpha-N-acetylgalactosaminide alpha-2,6-sialyl...  LOC106611954  "
      ]
     },
     "execution_count": 86,
     "metadata": {},
     "output_type": "execute_result"
    }
   ],
   "source": [
    "merged.head()"
   ]
  },
  {
   "cell_type": "code",
   "execution_count": null,
   "metadata": {},
   "outputs": [],
   "source": [
    "# i chyba na tym powinienem poprzestac. Mam entry dla kazdego trinity (query) i teraz\n",
    "# polacze to z matryca UTR (trinity+entry)\n",
    "# to samo dla listy bialek i polaczyc obie matryce utr i prot w jedna matryce"
   ]
  },
  {
   "cell_type": "code",
   "execution_count": 81,
   "metadata": {},
   "outputs": [],
   "source": [
    "merged.to_csv(path+'mRNA_only_merged_w_XP.csv', index=False)\n",
    "#merged.to_csv('/mnt/sdb1/Project_Sieja_MCLR_52/2_pipeline/7_counting_transcripts/noncoding_novel/opracowane_deseq/podejcie_MW/6d/salmo_salar_only/FINAL_RESULT/merged.csv', index=False)\n",
    "#merged.to_csv('/mnt/sdb1/Project_Sieja_MCLR_52/2_pipeline/7_counting_transcripts/noncoding_novel/opracowane_deseq/podejcie_MW/9d/salmo_salar_only/FINAL_RESULT/merged.csv', index=False)"
   ]
  },
  {
   "cell_type": "code",
   "execution_count": 79,
   "metadata": {},
   "outputs": [
    {
     "data": {
      "text/plain": [
       "(16, 5)"
      ]
     },
     "execution_count": 79,
     "metadata": {},
     "output_type": "execute_result"
    }
   ],
   "source": [
    "# sprawdzenie czy merge zostal zrobiony dobrze: czy te, ktore nie pojawily sie w merged rzeczywiscie nie zostaly zmapowane\n",
    "\n",
    "test_if_merged_correctly = df_mRNA_only[~df_mRNA_only['query'].isin(merged['query'])]\n",
    "test_if_merged_correctly.shape"
   ]
  },
  {
   "cell_type": "code",
   "execution_count": 80,
   "metadata": {},
   "outputs": [
    {
     "data": {
      "text/html": [
       "<div>\n",
       "<style scoped>\n",
       "    .dataframe tbody tr th:only-of-type {\n",
       "        vertical-align: middle;\n",
       "    }\n",
       "\n",
       "    .dataframe tbody tr th {\n",
       "        vertical-align: top;\n",
       "    }\n",
       "\n",
       "    .dataframe thead th {\n",
       "        text-align: right;\n",
       "    }\n",
       "</style>\n",
       "<table border=\"1\" class=\"dataframe\">\n",
       "  <thead>\n",
       "    <tr style=\"text-align: right;\">\n",
       "      <th></th>\n",
       "      <th>query</th>\n",
       "      <th>al_title</th>\n",
       "      <th>al_accession</th>\n",
       "      <th>evalue</th>\n",
       "      <th>coverage</th>\n",
       "    </tr>\n",
       "  </thead>\n",
       "  <tbody>\n",
       "    <tr>\n",
       "      <th>15271</th>\n",
       "      <td>TRINITY_DN100586_c3_g3_i1</td>\n",
       "      <td>gi|929113998|ref|XR_001330223.1| PREDICTED: Sa...</td>\n",
       "      <td>XR_001330223</td>\n",
       "      <td>0.000000e+00</td>\n",
       "      <td>70.874751</td>\n",
       "    </tr>\n",
       "    <tr>\n",
       "      <th>190183</th>\n",
       "      <td>TRINITY_DN107559_c0_g1_i1</td>\n",
       "      <td>gi|929309491|ref|XR_001324603.1| PREDICTED: Sa...</td>\n",
       "      <td>XR_001324603</td>\n",
       "      <td>7.882420e-57</td>\n",
       "      <td>90.510949</td>\n",
       "    </tr>\n",
       "    <tr>\n",
       "      <th>562362</th>\n",
       "      <td>TRINITY_DN84073_c2_g3_i1</td>\n",
       "      <td>gi|1344537309|ref|NM_001360919.1| Salmo salar ...</td>\n",
       "      <td>NM_001360919</td>\n",
       "      <td>2.131430e-58</td>\n",
       "      <td>66.568047</td>\n",
       "    </tr>\n",
       "    <tr>\n",
       "      <th>933439</th>\n",
       "      <td>TRINITY_DN96039_c7_g2_i1</td>\n",
       "      <td>gi|929113998|ref|XR_001330223.1| PREDICTED: Sa...</td>\n",
       "      <td>XR_001330223</td>\n",
       "      <td>1.553100e-09</td>\n",
       "      <td>29.000000</td>\n",
       "    </tr>\n",
       "    <tr>\n",
       "      <th>1057874</th>\n",
       "      <td>TRINITY_DN101445_c8_g5_i1</td>\n",
       "      <td>gi|1344537309|ref|NM_001360919.1| Salmo salar ...</td>\n",
       "      <td>NM_001360919</td>\n",
       "      <td>1.253290e-37</td>\n",
       "      <td>23.900574</td>\n",
       "    </tr>\n",
       "    <tr>\n",
       "      <th>2328356</th>\n",
       "      <td>TRINITY_DN100513_c3_g1_i2</td>\n",
       "      <td>gi|929113998|ref|XR_001330223.1| PREDICTED: Sa...</td>\n",
       "      <td>XR_001330223</td>\n",
       "      <td>1.151990e-51</td>\n",
       "      <td>32.558140</td>\n",
       "    </tr>\n",
       "    <tr>\n",
       "      <th>2503615</th>\n",
       "      <td>TRINITY_DN113439_c10_g5_i2</td>\n",
       "      <td>gi|1344537309|ref|NM_001360919.1| Salmo salar ...</td>\n",
       "      <td>NM_001360919</td>\n",
       "      <td>3.068830e-60</td>\n",
       "      <td>81.702128</td>\n",
       "    </tr>\n",
       "    <tr>\n",
       "      <th>2634549</th>\n",
       "      <td>TRINITY_DN89745_c6_g1_i1</td>\n",
       "      <td>gi|1344537309|ref|NM_001360919.1| Salmo salar ...</td>\n",
       "      <td>NM_001360919</td>\n",
       "      <td>1.229830e-38</td>\n",
       "      <td>67.164179</td>\n",
       "    </tr>\n",
       "    <tr>\n",
       "      <th>2827679</th>\n",
       "      <td>TRINITY_DN109765_c5_g1_i2</td>\n",
       "      <td>gi|929312198|ref|XR_001324726.1| PREDICTED: Sa...</td>\n",
       "      <td>XR_001324726</td>\n",
       "      <td>0.000000e+00</td>\n",
       "      <td>101.380898</td>\n",
       "    </tr>\n",
       "    <tr>\n",
       "      <th>3053488</th>\n",
       "      <td>TRINITY_DN83351_c12_g1_i2</td>\n",
       "      <td>gi|1344537309|ref|NM_001360919.1| Salmo salar ...</td>\n",
       "      <td>NM_001360919</td>\n",
       "      <td>1.566220e-46</td>\n",
       "      <td>39.181287</td>\n",
       "    </tr>\n",
       "    <tr>\n",
       "      <th>3162065</th>\n",
       "      <td>TRINITY_DN91064_c3_g2_i1</td>\n",
       "      <td>gi|1351844054|ref|NM_001361122.1| Salmo salar ...</td>\n",
       "      <td>NM_001361122</td>\n",
       "      <td>2.067580e-18</td>\n",
       "      <td>20.192308</td>\n",
       "    </tr>\n",
       "    <tr>\n",
       "      <th>3496989</th>\n",
       "      <td>TRINITY_DN88854_c12_g1_i1</td>\n",
       "      <td>gi|1351844054|ref|NM_001361122.1| Salmo salar ...</td>\n",
       "      <td>NM_001361122</td>\n",
       "      <td>1.610870e-28</td>\n",
       "      <td>37.301587</td>\n",
       "    </tr>\n",
       "    <tr>\n",
       "      <th>3835913</th>\n",
       "      <td>TRINITY_DN87993_c2_g1_i1</td>\n",
       "      <td>gi|1345670327|ref|NM_001360942.1| Salmo salar ...</td>\n",
       "      <td>NM_001360942</td>\n",
       "      <td>4.914230e-18</td>\n",
       "      <td>81.860465</td>\n",
       "    </tr>\n",
       "    <tr>\n",
       "      <th>4050844</th>\n",
       "      <td>TRINITY_DN100378_c1_g1_i1</td>\n",
       "      <td>gi|929309491|ref|XR_001324603.1| PREDICTED: Sa...</td>\n",
       "      <td>XR_001324603</td>\n",
       "      <td>5.860530e-31</td>\n",
       "      <td>15.325670</td>\n",
       "    </tr>\n",
       "    <tr>\n",
       "      <th>4079359</th>\n",
       "      <td>TRINITY_DN94711_c3_g1_i1</td>\n",
       "      <td>gi|929309491|ref|XR_001324603.1| PREDICTED: Sa...</td>\n",
       "      <td>XR_001324603</td>\n",
       "      <td>2.076370e-37</td>\n",
       "      <td>13.647059</td>\n",
       "    </tr>\n",
       "    <tr>\n",
       "      <th>4220372</th>\n",
       "      <td>TRINITY_DN114119_c1_g1_i3</td>\n",
       "      <td>gi|1344537309|ref|NM_001360919.1| Salmo salar ...</td>\n",
       "      <td>NM_001360919</td>\n",
       "      <td>1.291160e-58</td>\n",
       "      <td>79.534884</td>\n",
       "    </tr>\n",
       "  </tbody>\n",
       "</table>\n",
       "</div>"
      ],
      "text/plain": [
       "                              query  \\\n",
       "15271     TRINITY_DN100586_c3_g3_i1   \n",
       "190183    TRINITY_DN107559_c0_g1_i1   \n",
       "562362     TRINITY_DN84073_c2_g3_i1   \n",
       "933439     TRINITY_DN96039_c7_g2_i1   \n",
       "1057874   TRINITY_DN101445_c8_g5_i1   \n",
       "2328356   TRINITY_DN100513_c3_g1_i2   \n",
       "2503615  TRINITY_DN113439_c10_g5_i2   \n",
       "2634549    TRINITY_DN89745_c6_g1_i1   \n",
       "2827679   TRINITY_DN109765_c5_g1_i2   \n",
       "3053488   TRINITY_DN83351_c12_g1_i2   \n",
       "3162065    TRINITY_DN91064_c3_g2_i1   \n",
       "3496989   TRINITY_DN88854_c12_g1_i1   \n",
       "3835913    TRINITY_DN87993_c2_g1_i1   \n",
       "4050844   TRINITY_DN100378_c1_g1_i1   \n",
       "4079359    TRINITY_DN94711_c3_g1_i1   \n",
       "4220372   TRINITY_DN114119_c1_g1_i3   \n",
       "\n",
       "                                                  al_title  al_accession  \\\n",
       "15271    gi|929113998|ref|XR_001330223.1| PREDICTED: Sa...  XR_001330223   \n",
       "190183   gi|929309491|ref|XR_001324603.1| PREDICTED: Sa...  XR_001324603   \n",
       "562362   gi|1344537309|ref|NM_001360919.1| Salmo salar ...  NM_001360919   \n",
       "933439   gi|929113998|ref|XR_001330223.1| PREDICTED: Sa...  XR_001330223   \n",
       "1057874  gi|1344537309|ref|NM_001360919.1| Salmo salar ...  NM_001360919   \n",
       "2328356  gi|929113998|ref|XR_001330223.1| PREDICTED: Sa...  XR_001330223   \n",
       "2503615  gi|1344537309|ref|NM_001360919.1| Salmo salar ...  NM_001360919   \n",
       "2634549  gi|1344537309|ref|NM_001360919.1| Salmo salar ...  NM_001360919   \n",
       "2827679  gi|929312198|ref|XR_001324726.1| PREDICTED: Sa...  XR_001324726   \n",
       "3053488  gi|1344537309|ref|NM_001360919.1| Salmo salar ...  NM_001360919   \n",
       "3162065  gi|1351844054|ref|NM_001361122.1| Salmo salar ...  NM_001361122   \n",
       "3496989  gi|1351844054|ref|NM_001361122.1| Salmo salar ...  NM_001361122   \n",
       "3835913  gi|1345670327|ref|NM_001360942.1| Salmo salar ...  NM_001360942   \n",
       "4050844  gi|929309491|ref|XR_001324603.1| PREDICTED: Sa...  XR_001324603   \n",
       "4079359  gi|929309491|ref|XR_001324603.1| PREDICTED: Sa...  XR_001324603   \n",
       "4220372  gi|1344537309|ref|NM_001360919.1| Salmo salar ...  NM_001360919   \n",
       "\n",
       "               evalue    coverage  \n",
       "15271    0.000000e+00   70.874751  \n",
       "190183   7.882420e-57   90.510949  \n",
       "562362   2.131430e-58   66.568047  \n",
       "933439   1.553100e-09   29.000000  \n",
       "1057874  1.253290e-37   23.900574  \n",
       "2328356  1.151990e-51   32.558140  \n",
       "2503615  3.068830e-60   81.702128  \n",
       "2634549  1.229830e-38   67.164179  \n",
       "2827679  0.000000e+00  101.380898  \n",
       "3053488  1.566220e-46   39.181287  \n",
       "3162065  2.067580e-18   20.192308  \n",
       "3496989  1.610870e-28   37.301587  \n",
       "3835913  4.914230e-18   81.860465  \n",
       "4050844  5.860530e-31   15.325670  \n",
       "4079359  2.076370e-37   13.647059  \n",
       "4220372  1.291160e-58   79.534884  "
      ]
     },
     "execution_count": 80,
     "metadata": {},
     "output_type": "execute_result"
    }
   ],
   "source": [
    "test_if_merged_correctly # wyglada ze wszystko jest juz ok, zostaly tylko nie zmapowane z listy powyzej."
   ]
  },
  {
   "cell_type": "markdown",
   "metadata": {},
   "source": [
    "krok 2: na podsawie 'Entry' polaczyc z tabela bialek"
   ]
  },
  {
   "cell_type": "code",
   "execution_count": 82,
   "metadata": {},
   "outputs": [],
   "source": [
    "# uniprot_proteins_all to wszystkie bialka, jakie udalo sie zblastowac trinity.\n",
    "uniprot_proteins_all = pd.read_csv('/mnt/sdb1/Project_Sieja_MCLR_52/2_pipeline/7_counting_transcripts/proteins_salmo/uniprot_all_proteins.tab', sep='\\t')"
   ]
  },
  {
   "cell_type": "code",
   "execution_count": 83,
   "metadata": {},
   "outputs": [],
   "source": [
    "mRNA_with_proteins = pd.merge(merged, uniprot_proteins_all, on='Entry', suffixes=('_UTR', '_PROTEIN'))"
   ]
  },
  {
   "cell_type": "code",
   "execution_count": 84,
   "metadata": {},
   "outputs": [
    {
     "data": {
      "text/plain": [
       "(55322, 16)"
      ]
     },
     "execution_count": 84,
     "metadata": {},
     "output_type": "execute_result"
    }
   ],
   "source": [
    "mRNA_with_proteins.shape"
   ]
  },
  {
   "cell_type": "code",
   "execution_count": 85,
   "metadata": {},
   "outputs": [],
   "source": [
    "mRNA_with_proteins.to_csv(path+'mRNA_UTR_PROTEINS_merged.csv', index=False)\n",
    "#merged_with_proteins_deseq.to_csv('/mnt/sdb1/Project_Sieja_MCLR_52/2_pipeline/7_counting_transcripts/noncoding_novel/opracowane_deseq/podejcie_MW/6d/salmo_salar_only/FINAL_RESULT/mRNA_UTR_PROTEINS_DESEQ_merged_6d.csv', index=False)\n",
    "#merged_with_proteins_deseq.to_csv('/mnt/sdb1/Project_Sieja_MCLR_52/2_pipeline/7_counting_transcripts/noncoding_novel/opracowane_deseq/podejcie_MW/9d/salmo_salar_only/FINAL_RESULT/mRNA_UTR_PROTEINS_DESEQ_merged_9d.csv', index=False)"
   ]
  },
  {
   "cell_type": "markdown",
   "metadata": {},
   "source": [
    "### ponizsze nie wiem czy bedzie potrzebne, zostawiam na wszelki wypadek"
   ]
  },
  {
   "cell_type": "code",
   "execution_count": 16,
   "metadata": {
    "scrolled": true
   },
   "outputs": [
    {
     "name": "stderr",
     "output_type": "stream",
     "text": [
      "/home/maciek/anaconda3/lib/python3.7/site-packages/pandas/core/frame.py:3781: SettingWithCopyWarning: \n",
      "A value is trying to be set on a copy of a slice from a DataFrame\n",
      "\n",
      "See the caveats in the documentation: http://pandas.pydata.org/pandas-docs/stable/indexing.html#indexing-view-versus-copy\n",
      "  return super(DataFrame, self).rename(**kwargs)\n"
     ]
    },
    {
     "data": {
      "text/html": [
       "<div>\n",
       "<style scoped>\n",
       "    .dataframe tbody tr th:only-of-type {\n",
       "        vertical-align: middle;\n",
       "    }\n",
       "\n",
       "    .dataframe tbody tr th {\n",
       "        vertical-align: top;\n",
       "    }\n",
       "\n",
       "    .dataframe thead th {\n",
       "        text-align: right;\n",
       "    }\n",
       "</style>\n",
       "<table border=\"1\" class=\"dataframe\">\n",
       "  <thead>\n",
       "    <tr style=\"text-align: right;\">\n",
       "      <th></th>\n",
       "      <th>ID</th>\n",
       "      <th>al_title</th>\n",
       "      <th>al_accession</th>\n",
       "      <th>evalue</th>\n",
       "      <th>coverage</th>\n",
       "    </tr>\n",
       "  </thead>\n",
       "  <tbody>\n",
       "    <tr>\n",
       "      <th>0</th>\n",
       "      <td>TRINITY_DN100004_c4_g2_i2</td>\n",
       "      <td>gi|929290304|ref|XM_014166828.1| PREDICTED: Sa...</td>\n",
       "      <td>XM_014166828</td>\n",
       "      <td>0.000000e+00</td>\n",
       "      <td>100.183824</td>\n",
       "    </tr>\n",
       "    <tr>\n",
       "      <th>12</th>\n",
       "      <td>TRINITY_DN100005_c7_g2_i1</td>\n",
       "      <td>gi|929057222|ref|XM_014212676.1| PREDICTED: Sa...</td>\n",
       "      <td>XM_014212676</td>\n",
       "      <td>0.000000e+00</td>\n",
       "      <td>83.712322</td>\n",
       "    </tr>\n",
       "    <tr>\n",
       "      <th>58</th>\n",
       "      <td>TRINITY_DN100005_c8_g3_i1</td>\n",
       "      <td>gi|929100757|ref|XM_014205961.1| PREDICTED: Sa...</td>\n",
       "      <td>XM_014205961</td>\n",
       "      <td>2.836380e-18</td>\n",
       "      <td>8.125000</td>\n",
       "    </tr>\n",
       "    <tr>\n",
       "      <th>75</th>\n",
       "      <td>TRINITY_DN100005_c9_g1_i1</td>\n",
       "      <td>gi|929082593|ref|XM_014196305.1| PREDICTED: Sa...</td>\n",
       "      <td>XM_014196305</td>\n",
       "      <td>7.129640e-39</td>\n",
       "      <td>51.275510</td>\n",
       "    </tr>\n",
       "    <tr>\n",
       "      <th>87</th>\n",
       "      <td>TRINITY_DN100008_c3_g3_i1</td>\n",
       "      <td>gi|929118624|ref|XM_014215408.1| PREDICTED: Sa...</td>\n",
       "      <td>XM_014215408</td>\n",
       "      <td>8.892420e-18</td>\n",
       "      <td>17.934783</td>\n",
       "    </tr>\n",
       "  </tbody>\n",
       "</table>\n",
       "</div>"
      ],
      "text/plain": [
       "                           ID  \\\n",
       "0   TRINITY_DN100004_c4_g2_i2   \n",
       "12  TRINITY_DN100005_c7_g2_i1   \n",
       "58  TRINITY_DN100005_c8_g3_i1   \n",
       "75  TRINITY_DN100005_c9_g1_i1   \n",
       "87  TRINITY_DN100008_c3_g3_i1   \n",
       "\n",
       "                                             al_title  al_accession  \\\n",
       "0   gi|929290304|ref|XM_014166828.1| PREDICTED: Sa...  XM_014166828   \n",
       "12  gi|929057222|ref|XM_014212676.1| PREDICTED: Sa...  XM_014212676   \n",
       "58  gi|929100757|ref|XM_014205961.1| PREDICTED: Sa...  XM_014205961   \n",
       "75  gi|929082593|ref|XM_014196305.1| PREDICTED: Sa...  XM_014196305   \n",
       "87  gi|929118624|ref|XM_014215408.1| PREDICTED: Sa...  XM_014215408   \n",
       "\n",
       "          evalue    coverage  \n",
       "0   0.000000e+00  100.183824  \n",
       "12  0.000000e+00   83.712322  \n",
       "58  2.836380e-18    8.125000  \n",
       "75  7.129640e-39   51.275510  \n",
       "87  8.892420e-18   17.934783  "
      ]
     },
     "execution_count": 16,
     "metadata": {},
     "output_type": "execute_result"
    }
   ],
   "source": [
    "# łączenie odfiltrowanych mRNA z wynikami deseq\n",
    "\n",
    "df_mRNA_only.rename(columns={'query' : 'ID'}, inplace=True)\n",
    "df_mRNA_only.head()"
   ]
  },
  {
   "cell_type": "code",
   "execution_count": 17,
   "metadata": {},
   "outputs": [],
   "source": [
    "result = pd.merge(df_deseq_out, df_mRNA_only, on='ID')\n",
    "#result.sort_values(by='log2FoldChange', inplace=True)"
   ]
  },
  {
   "cell_type": "code",
   "execution_count": 25,
   "metadata": {},
   "outputs": [
    {
     "data": {
      "text/plain": [
       "(74221, 17)"
      ]
     },
     "execution_count": 25,
     "metadata": {},
     "output_type": "execute_result"
    }
   ],
   "source": [
    "result.shape"
   ]
  },
  {
   "cell_type": "code",
   "execution_count": 21,
   "metadata": {},
   "outputs": [],
   "source": [
    "result.to_csv(path+'FINAL_RESULT/mRNA_PBS_1d_vs_MC2_1d_deseq_w_mRNA_names.csv', index=False)"
   ]
  },
  {
   "cell_type": "code",
   "execution_count": 24,
   "metadata": {},
   "outputs": [],
   "source": [
    "result_pajd = result[result['padj'] < 0.001]"
   ]
  },
  {
   "cell_type": "code",
   "execution_count": 26,
   "metadata": {},
   "outputs": [
    {
     "data": {
      "text/plain": [
       "(3605, 17)"
      ]
     },
     "execution_count": 26,
     "metadata": {},
     "output_type": "execute_result"
    }
   ],
   "source": [
    "result_pajd.shape"
   ]
  },
  {
   "cell_type": "markdown",
   "metadata": {},
   "source": [
    "### filtrowanie hitów innych niz mRNA: ncRNA, miscRNA. ZDECYDOWAC CO Z NIMI"
   ]
  },
  {
   "cell_type": "code",
   "execution_count": 28,
   "metadata": {},
   "outputs": [],
   "source": [
    "non_mRNA = df_best_hit[~df_best_hit['al_title'].str.contains('mRNA')]\n"
   ]
  },
  {
   "cell_type": "code",
   "execution_count": 29,
   "metadata": {},
   "outputs": [
    {
     "data": {
      "text/plain": [
       "(6, 5)"
      ]
     },
     "execution_count": 29,
     "metadata": {},
     "output_type": "execute_result"
    }
   ],
   "source": [
    "\n",
    "non_mRNA.shape"
   ]
  },
  {
   "cell_type": "code",
   "execution_count": 30,
   "metadata": {},
   "outputs": [
    {
     "data": {
      "text/html": [
       "<div>\n",
       "<style scoped>\n",
       "    .dataframe tbody tr th:only-of-type {\n",
       "        vertical-align: middle;\n",
       "    }\n",
       "\n",
       "    .dataframe tbody tr th {\n",
       "        vertical-align: top;\n",
       "    }\n",
       "\n",
       "    .dataframe thead th {\n",
       "        text-align: right;\n",
       "    }\n",
       "</style>\n",
       "<table border=\"1\" class=\"dataframe\">\n",
       "  <thead>\n",
       "    <tr style=\"text-align: right;\">\n",
       "      <th></th>\n",
       "      <th>query</th>\n",
       "      <th>al_title</th>\n",
       "      <th>al_accession</th>\n",
       "      <th>evalue</th>\n",
       "      <th>coverage</th>\n",
       "    </tr>\n",
       "  </thead>\n",
       "  <tbody>\n",
       "    <tr>\n",
       "      <th>1045</th>\n",
       "      <td>TRINITY_DN106385_c5_g2_i1</td>\n",
       "      <td>gi|929246779|ref|XR_001320874.1| PREDICTED: Sa...</td>\n",
       "      <td>XR_001320874</td>\n",
       "      <td>4.447370e-19</td>\n",
       "      <td>15.862069</td>\n",
       "    </tr>\n",
       "  </tbody>\n",
       "</table>\n",
       "</div>"
      ],
      "text/plain": [
       "                          query  \\\n",
       "1045  TRINITY_DN106385_c5_g2_i1   \n",
       "\n",
       "                                               al_title  al_accession  \\\n",
       "1045  gi|929246779|ref|XR_001320874.1| PREDICTED: Sa...  XR_001320874   \n",
       "\n",
       "            evalue   coverage  \n",
       "1045  4.447370e-19  15.862069  "
      ]
     },
     "execution_count": 30,
     "metadata": {},
     "output_type": "execute_result"
    }
   ],
   "source": [
    "non_mRNA.head(1)"
   ]
  },
  {
   "cell_type": "code",
   "execution_count": 31,
   "metadata": {},
   "outputs": [],
   "source": [
    "non_mRNA.rename(columns={'query' : 'ID'}, inplace=True)"
   ]
  },
  {
   "cell_type": "code",
   "execution_count": 32,
   "metadata": {},
   "outputs": [],
   "source": [
    "result2 = pd.merge(df_deseq_out, non_mRNA, on='ID')\n",
    "result2.sort_values(by='log2FoldChange', inplace=True)"
   ]
  },
  {
   "cell_type": "code",
   "execution_count": 33,
   "metadata": {},
   "outputs": [],
   "source": [
    "result2.to_csv('/mnt/sdb1/Project_Sieja_MCLR_52/2_pipeline/7_counting_transcripts/noncoding_novel/opracowane_deseq/podejcie_MW/9d/salmo_salar_only/FINAL_RESULT/non_mRNA_PBS_1d_vs_MC2_9d_deseq_w_mRNA_names.csv', index=False)"
   ]
  },
  {
   "cell_type": "markdown",
   "metadata": {},
   "source": [
    "### filtrowanie NO HIT\n",
    "#### chromosome poprzednio == no hit teraz"
   ]
  },
  {
   "cell_type": "code",
   "execution_count": 12,
   "metadata": {},
   "outputs": [],
   "source": [
    "# wszystkie blastowane trinity\n",
    "all_trinity_to_blast = pd.read_csv(path+'novel_counted-1d-6d-9d.headers')"
   ]
  },
  {
   "cell_type": "code",
   "execution_count": 13,
   "metadata": {},
   "outputs": [
    {
     "data": {
      "text/plain": [
       "(188998, 1)"
      ]
     },
     "execution_count": 13,
     "metadata": {},
     "output_type": "execute_result"
    }
   ],
   "source": [
    "all_trinity_to_blast.shape"
   ]
  },
  {
   "cell_type": "code",
   "execution_count": 14,
   "metadata": {},
   "outputs": [
    {
     "data": {
      "text/html": [
       "<div>\n",
       "<style scoped>\n",
       "    .dataframe tbody tr th:only-of-type {\n",
       "        vertical-align: middle;\n",
       "    }\n",
       "\n",
       "    .dataframe tbody tr th {\n",
       "        vertical-align: top;\n",
       "    }\n",
       "\n",
       "    .dataframe thead th {\n",
       "        text-align: right;\n",
       "    }\n",
       "</style>\n",
       "<table border=\"1\" class=\"dataframe\">\n",
       "  <thead>\n",
       "    <tr style=\"text-align: right;\">\n",
       "      <th></th>\n",
       "      <th>id</th>\n",
       "    </tr>\n",
       "  </thead>\n",
       "  <tbody>\n",
       "    <tr>\n",
       "      <th>0</th>\n",
       "      <td>TRINITY_DN100003_c1_g1_i1</td>\n",
       "    </tr>\n",
       "    <tr>\n",
       "      <th>1</th>\n",
       "      <td>TRINITY_DN100004_c4_g2_i2</td>\n",
       "    </tr>\n",
       "    <tr>\n",
       "      <th>2</th>\n",
       "      <td>TRINITY_DN100005_c7_g2_i1</td>\n",
       "    </tr>\n",
       "    <tr>\n",
       "      <th>3</th>\n",
       "      <td>TRINITY_DN100005_c8_g3_i1</td>\n",
       "    </tr>\n",
       "    <tr>\n",
       "      <th>4</th>\n",
       "      <td>TRINITY_DN100005_c9_g1_i1</td>\n",
       "    </tr>\n",
       "  </tbody>\n",
       "</table>\n",
       "</div>"
      ],
      "text/plain": [
       "                          id\n",
       "0  TRINITY_DN100003_c1_g1_i1\n",
       "1  TRINITY_DN100004_c4_g2_i2\n",
       "2  TRINITY_DN100005_c7_g2_i1\n",
       "3  TRINITY_DN100005_c8_g3_i1\n",
       "4  TRINITY_DN100005_c9_g1_i1"
      ]
     },
     "execution_count": 14,
     "metadata": {},
     "output_type": "execute_result"
    }
   ],
   "source": [
    "all_trinity_to_blast.head()"
   ]
  },
  {
   "cell_type": "code",
   "execution_count": 15,
   "metadata": {},
   "outputs": [],
   "source": [
    "df_best_hit.rename(columns={'query' : 'ID'}, inplace=True)"
   ]
  },
  {
   "cell_type": "code",
   "execution_count": 16,
   "metadata": {},
   "outputs": [],
   "source": [
    "# wszystkie odjac te ktore mialy hit w blascie, jakikolwiek hit\n",
    "no_hit = all_trinity_to_blast[~all_trinity_to_blast['id'].isin(df_best_hit['ID'])]"
   ]
  },
  {
   "cell_type": "code",
   "execution_count": 17,
   "metadata": {},
   "outputs": [
    {
     "data": {
      "text/plain": [
       "(84974, 1)"
      ]
     },
     "execution_count": 17,
     "metadata": {},
     "output_type": "execute_result"
    }
   ],
   "source": [
    "no_hit.shape"
   ]
  },
  {
   "cell_type": "code",
   "execution_count": 19,
   "metadata": {},
   "outputs": [],
   "source": [
    "no_hit.to_csv(path+'NO_HIT_84974.headers', index=False)"
   ]
  },
  {
   "cell_type": "code",
   "execution_count": 40,
   "metadata": {},
   "outputs": [
    {
     "name": "stderr",
     "output_type": "stream",
     "text": [
      "/home/maciek/anaconda3/lib/python3.7/site-packages/pandas/core/frame.py:3781: SettingWithCopyWarning: \n",
      "A value is trying to be set on a copy of a slice from a DataFrame\n",
      "\n",
      "See the caveats in the documentation: http://pandas.pydata.org/pandas-docs/stable/indexing.html#indexing-view-versus-copy\n",
      "  return super(DataFrame, self).rename(**kwargs)\n"
     ]
    }
   ],
   "source": [
    "no_hit.rename(columns={'id' : 'ID'}, inplace=True)"
   ]
  },
  {
   "cell_type": "code",
   "execution_count": 41,
   "metadata": {},
   "outputs": [],
   "source": [
    "# RACZEJ BREDNIE STARE\n",
    "# lista NO HIT czyli dawna chromosomes, ktora idzie do analizy novel lncRNA\n",
    "#result3 = pd.merge(df_deseq_out, no_hit, on='ID')\n",
    "#result3.sort_values(by='log2FoldChange', inplace=True)"
   ]
  },
  {
   "cell_type": "code",
   "execution_count": 42,
   "metadata": {},
   "outputs": [],
   "source": [
    "#result3.to_csv('/mnt/sdb1/Project_Sieja_MCLR_52/2_pipeline/7_counting_transcripts/noncoding_novel/opracowane_deseq/podejcie_MW/9d/salmo_salar_only/FINAL_RESULT/NO_HIT_PBS_1d_vs_MC2_9d_deseq_w_mRNA_names.csv', index=False)"
   ]
  },
  {
   "cell_type": "code",
   "execution_count": 18,
   "metadata": {},
   "outputs": [
    {
     "data": {
      "text/plain": [
       "188998"
      ]
     },
     "execution_count": 18,
     "metadata": {},
     "output_type": "execute_result"
    }
   ],
   "source": [
    "wszystkie_test = 104024+84974 # jakis hit + no hit\n",
    "wszystkie_test"
   ]
  },
  {
   "cell_type": "code",
   "execution_count": null,
   "metadata": {},
   "outputs": [],
   "source": []
  }
 ],
 "metadata": {
  "kernelspec": {
   "display_name": "Python 3",
   "language": "python",
   "name": "python3"
  },
  "language_info": {
   "codemirror_mode": {
    "name": "ipython",
    "version": 3
   },
   "file_extension": ".py",
   "mimetype": "text/x-python",
   "name": "python",
   "nbconvert_exporter": "python",
   "pygments_lexer": "ipython3",
   "version": "3.7.3"
  }
 },
 "nbformat": 4,
 "nbformat_minor": 2
}
