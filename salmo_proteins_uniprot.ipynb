{
 "cells": [
  {
   "cell_type": "code",
   "execution_count": 2,
   "metadata": {},
   "outputs": [],
   "source": [
    "import pandas as pd\n",
    "import numpy as np"
   ]
  },
  {
   "cell_type": "code",
   "execution_count": 2,
   "metadata": {},
   "outputs": [],
   "source": [
    "salmo_rep_with_annot = pd.read_csv('/mnt/sdb1/Project_Sieja_MCLR_53/1_code/report_salmo_annot_feature_map.txt', sep='\\t', low_memory=False)"
   ]
  },
  {
   "cell_type": "code",
   "execution_count": 4,
   "metadata": {},
   "outputs": [
    {
     "data": {
      "text/html": [
       "<div>\n",
       "<style scoped>\n",
       "    .dataframe tbody tr th:only-of-type {\n",
       "        vertical-align: middle;\n",
       "    }\n",
       "\n",
       "    .dataframe tbody tr th {\n",
       "        vertical-align: top;\n",
       "    }\n",
       "\n",
       "    .dataframe thead th {\n",
       "        text-align: right;\n",
       "    }\n",
       "</style>\n",
       "<table border=\"1\" class=\"dataframe\">\n",
       "  <thead>\n",
       "    <tr style=\"text-align: right;\">\n",
       "      <th></th>\n",
       "      <th>id</th>\n",
       "      <th>ident</th>\n",
       "    </tr>\n",
       "  </thead>\n",
       "  <tbody>\n",
       "    <tr>\n",
       "      <th>0</th>\n",
       "      <td>TRINITY_DN100000_c5_g1</td>\n",
       "      <td>CAPON_HUMAN^CAPON_MOUSE</td>\n",
       "    </tr>\n",
       "    <tr>\n",
       "      <th>1</th>\n",
       "      <td>TRINITY_DN100000_c5_g1_i2</td>\n",
       "      <td>CAPON_HUMAN</td>\n",
       "    </tr>\n",
       "    <tr>\n",
       "      <th>2</th>\n",
       "      <td>TRINITY_DN100000_c5_g1_i6</td>\n",
       "      <td>CAPON_MOUSE</td>\n",
       "    </tr>\n",
       "    <tr>\n",
       "      <th>3</th>\n",
       "      <td>TRINITY_DN100000_c9_g1</td>\n",
       "      <td>CH049_HUMAN</td>\n",
       "    </tr>\n",
       "    <tr>\n",
       "      <th>4</th>\n",
       "      <td>TRINITY_DN100000_c9_g1_i1</td>\n",
       "      <td>CH049_HUMAN</td>\n",
       "    </tr>\n",
       "  </tbody>\n",
       "</table>\n",
       "</div>"
      ],
      "text/plain": [
       "                          id                    ident\n",
       "0     TRINITY_DN100000_c5_g1  CAPON_HUMAN^CAPON_MOUSE\n",
       "1  TRINITY_DN100000_c5_g1_i2              CAPON_HUMAN\n",
       "2  TRINITY_DN100000_c5_g1_i6              CAPON_MOUSE\n",
       "3     TRINITY_DN100000_c9_g1              CH049_HUMAN\n",
       "4  TRINITY_DN100000_c9_g1_i1              CH049_HUMAN"
      ]
     },
     "execution_count": 4,
     "metadata": {},
     "output_type": "execute_result"
    }
   ],
   "source": [
    "salmo_rep_with_annot.head()"
   ]
  },
  {
   "cell_type": "code",
   "execution_count": null,
   "metadata": {},
   "outputs": [],
   "source": [
    "#df_mRNA_only = df_blast_results_20cov[df_blast_results_20cov['al_title'].str.contains('mRNA')]"
   ]
  },
  {
   "cell_type": "code",
   "execution_count": 3,
   "metadata": {},
   "outputs": [],
   "source": [
    "salmo_rep_with_annot_i = salmo_rep_with_annot[salmo_rep_with_annot['id'].str.contains('_i')]"
   ]
  },
  {
   "cell_type": "code",
   "execution_count": 4,
   "metadata": {},
   "outputs": [
    {
     "name": "stderr",
     "output_type": "stream",
     "text": [
      "/home/maciek/anaconda3/lib/python3.7/site-packages/ipykernel_launcher.py:1: SettingWithCopyWarning: \n",
      "A value is trying to be set on a copy of a slice from a DataFrame\n",
      "\n",
      "See the caveats in the documentation: http://pandas.pydata.org/pandas-docs/stable/indexing.html#indexing-view-versus-copy\n",
      "  \"\"\"Entry point for launching an IPython kernel.\n"
     ]
    }
   ],
   "source": [
    "salmo_rep_with_annot_i.dropna(inplace=True)"
   ]
  },
  {
   "cell_type": "code",
   "execution_count": 5,
   "metadata": {},
   "outputs": [
    {
     "data": {
      "text/plain": [
       "(125839, 2)"
      ]
     },
     "execution_count": 5,
     "metadata": {},
     "output_type": "execute_result"
    }
   ],
   "source": [
    "salmo_rep_with_annot_i.shape"
   ]
  },
  {
   "cell_type": "code",
   "execution_count": 5,
   "metadata": {},
   "outputs": [],
   "source": [
    "salmo_rep_with_annot_i['id'].to_csv('/mnt/sdb1/Project_Sieja_MCLR_52/1_code/protein.headers', index=False)"
   ]
  },
  {
   "cell_type": "code",
   "execution_count": 6,
   "metadata": {},
   "outputs": [],
   "source": [
    "salmo_rep_with_annot_i.to_csv('/mnt/sdb1/Project_Sieja_MCLR_52/1_code/protein_ident.headers', sep='\\t', index=False)"
   ]
  },
  {
   "cell_type": "code",
   "execution_count": null,
   "metadata": {},
   "outputs": [],
   "source": []
  },
  {
   "cell_type": "code",
   "execution_count": null,
   "metadata": {},
   "outputs": [],
   "source": []
  },
  {
   "cell_type": "code",
   "execution_count": null,
   "metadata": {},
   "outputs": [],
   "source": []
  },
  {
   "cell_type": "code",
   "execution_count": 10,
   "metadata": {},
   "outputs": [
    {
     "data": {
      "text/html": [
       "<div>\n",
       "<style scoped>\n",
       "    .dataframe tbody tr th:only-of-type {\n",
       "        vertical-align: middle;\n",
       "    }\n",
       "\n",
       "    .dataframe tbody tr th {\n",
       "        vertical-align: top;\n",
       "    }\n",
       "\n",
       "    .dataframe thead th {\n",
       "        text-align: right;\n",
       "    }\n",
       "</style>\n",
       "<table border=\"1\" class=\"dataframe\">\n",
       "  <thead>\n",
       "    <tr style=\"text-align: right;\">\n",
       "      <th></th>\n",
       "      <th>id</th>\n",
       "      <th>ident</th>\n",
       "    </tr>\n",
       "  </thead>\n",
       "  <tbody>\n",
       "    <tr>\n",
       "      <th>1</th>\n",
       "      <td>TRINITY_DN100000_c5_g1_i2</td>\n",
       "      <td>CAPON_HUMAN</td>\n",
       "    </tr>\n",
       "    <tr>\n",
       "      <th>2</th>\n",
       "      <td>TRINITY_DN100000_c5_g1_i6</td>\n",
       "      <td>CAPON_MOUSE</td>\n",
       "    </tr>\n",
       "    <tr>\n",
       "      <th>4</th>\n",
       "      <td>TRINITY_DN100000_c9_g1_i1</td>\n",
       "      <td>CH049_HUMAN</td>\n",
       "    </tr>\n",
       "    <tr>\n",
       "      <th>8</th>\n",
       "      <td>TRINITY_DN100001_c2_g2_i2</td>\n",
       "      <td>CIO1B_SALSA</td>\n",
       "    </tr>\n",
       "    <tr>\n",
       "      <th>9</th>\n",
       "      <td>TRINITY_DN100001_c2_g2_i7</td>\n",
       "      <td>CIO1B_SALSA</td>\n",
       "    </tr>\n",
       "    <tr>\n",
       "      <th>11</th>\n",
       "      <td>TRINITY_DN100001_c2_g3_i3</td>\n",
       "      <td>CIO1B_SALSA</td>\n",
       "    </tr>\n",
       "  </tbody>\n",
       "</table>\n",
       "</div>"
      ],
      "text/plain": [
       "                           id        ident\n",
       "1   TRINITY_DN100000_c5_g1_i2  CAPON_HUMAN\n",
       "2   TRINITY_DN100000_c5_g1_i6  CAPON_MOUSE\n",
       "4   TRINITY_DN100000_c9_g1_i1  CH049_HUMAN\n",
       "8   TRINITY_DN100001_c2_g2_i2  CIO1B_SALSA\n",
       "9   TRINITY_DN100001_c2_g2_i7  CIO1B_SALSA\n",
       "11  TRINITY_DN100001_c2_g3_i3  CIO1B_SALSA"
      ]
     },
     "execution_count": 10,
     "metadata": {},
     "output_type": "execute_result"
    }
   ],
   "source": [
    "salmo_rep_with_annot_i.head(6)"
   ]
  },
  {
   "cell_type": "code",
   "execution_count": null,
   "metadata": {},
   "outputs": [],
   "source": []
  },
  {
   "cell_type": "code",
   "execution_count": 7,
   "metadata": {},
   "outputs": [],
   "source": [
    "counted = pd.read_csv('/mnt/sdb1/Project_Sieja_MCLR_52/2_pipeline/7_counting_transcripts/proteins_uniprot/MC2_9d_W7_167_proteins_counted.txt', sep='\\t', low_memory=False)"
   ]
  },
  {
   "cell_type": "code",
   "execution_count": 7,
   "metadata": {},
   "outputs": [
    {
     "data": {
      "text/plain": [
       "(125839, 4)"
      ]
     },
     "execution_count": 7,
     "metadata": {},
     "output_type": "execute_result"
    }
   ],
   "source": [
    "counted.shape"
   ]
  },
  {
   "cell_type": "code",
   "execution_count": 8,
   "metadata": {
    "scrolled": true
   },
   "outputs": [
    {
     "data": {
      "text/html": [
       "<div>\n",
       "<style scoped>\n",
       "    .dataframe tbody tr th:only-of-type {\n",
       "        vertical-align: middle;\n",
       "    }\n",
       "\n",
       "    .dataframe tbody tr th {\n",
       "        vertical-align: top;\n",
       "    }\n",
       "\n",
       "    .dataframe thead th {\n",
       "        text-align: right;\n",
       "    }\n",
       "</style>\n",
       "<table border=\"1\" class=\"dataframe\">\n",
       "  <thead>\n",
       "    <tr style=\"text-align: right;\">\n",
       "      <th></th>\n",
       "      <th>id</th>\n",
       "      <th>len</th>\n",
       "      <th>mapped</th>\n",
       "      <th>unmapped</th>\n",
       "    </tr>\n",
       "  </thead>\n",
       "  <tbody>\n",
       "    <tr>\n",
       "      <th>0</th>\n",
       "      <td>TRINITY_DN100000_c5_g1_i2</td>\n",
       "      <td>340</td>\n",
       "      <td>0</td>\n",
       "      <td>0</td>\n",
       "    </tr>\n",
       "    <tr>\n",
       "      <th>1</th>\n",
       "      <td>TRINITY_DN100000_c5_g1_i6</td>\n",
       "      <td>2830</td>\n",
       "      <td>219</td>\n",
       "      <td>19</td>\n",
       "    </tr>\n",
       "    <tr>\n",
       "      <th>2</th>\n",
       "      <td>TRINITY_DN100000_c9_g1_i1</td>\n",
       "      <td>247</td>\n",
       "      <td>0</td>\n",
       "      <td>0</td>\n",
       "    </tr>\n",
       "    <tr>\n",
       "      <th>3</th>\n",
       "      <td>TRINITY_DN100001_c2_g2_i2</td>\n",
       "      <td>1591</td>\n",
       "      <td>2066</td>\n",
       "      <td>76</td>\n",
       "    </tr>\n",
       "    <tr>\n",
       "      <th>4</th>\n",
       "      <td>TRINITY_DN100001_c2_g2_i7</td>\n",
       "      <td>1164</td>\n",
       "      <td>1139</td>\n",
       "      <td>10</td>\n",
       "    </tr>\n",
       "  </tbody>\n",
       "</table>\n",
       "</div>"
      ],
      "text/plain": [
       "                          id   len  mapped  unmapped\n",
       "0  TRINITY_DN100000_c5_g1_i2   340       0         0\n",
       "1  TRINITY_DN100000_c5_g1_i6  2830     219        19\n",
       "2  TRINITY_DN100000_c9_g1_i1   247       0         0\n",
       "3  TRINITY_DN100001_c2_g2_i2  1591    2066        76\n",
       "4  TRINITY_DN100001_c2_g2_i7  1164    1139        10"
      ]
     },
     "execution_count": 8,
     "metadata": {},
     "output_type": "execute_result"
    }
   ],
   "source": [
    "counted.head()"
   ]
  },
  {
   "cell_type": "code",
   "execution_count": 8,
   "metadata": {},
   "outputs": [],
   "source": [
    "counted_with_annot = counted.merge(salmo_rep_with_annot_i, on='id')"
   ]
  },
  {
   "cell_type": "code",
   "execution_count": 22,
   "metadata": {},
   "outputs": [
    {
     "data": {
      "text/plain": [
       "(125839, 5)"
      ]
     },
     "execution_count": 22,
     "metadata": {},
     "output_type": "execute_result"
    }
   ],
   "source": [
    "counted_with_annot.shape"
   ]
  },
  {
   "cell_type": "code",
   "execution_count": 10,
   "metadata": {
    "scrolled": true
   },
   "outputs": [
    {
     "data": {
      "text/html": [
       "<div>\n",
       "<style scoped>\n",
       "    .dataframe tbody tr th:only-of-type {\n",
       "        vertical-align: middle;\n",
       "    }\n",
       "\n",
       "    .dataframe tbody tr th {\n",
       "        vertical-align: top;\n",
       "    }\n",
       "\n",
       "    .dataframe thead th {\n",
       "        text-align: right;\n",
       "    }\n",
       "</style>\n",
       "<table border=\"1\" class=\"dataframe\">\n",
       "  <thead>\n",
       "    <tr style=\"text-align: right;\">\n",
       "      <th></th>\n",
       "      <th>id</th>\n",
       "      <th>len</th>\n",
       "      <th>mapped</th>\n",
       "      <th>unmapped</th>\n",
       "      <th>ident</th>\n",
       "    </tr>\n",
       "  </thead>\n",
       "  <tbody>\n",
       "    <tr>\n",
       "      <th>0</th>\n",
       "      <td>TRINITY_DN100000_c5_g1_i2</td>\n",
       "      <td>340</td>\n",
       "      <td>0</td>\n",
       "      <td>0</td>\n",
       "      <td>CAPON_HUMAN</td>\n",
       "    </tr>\n",
       "    <tr>\n",
       "      <th>1</th>\n",
       "      <td>TRINITY_DN100000_c5_g1_i6</td>\n",
       "      <td>2830</td>\n",
       "      <td>219</td>\n",
       "      <td>19</td>\n",
       "      <td>CAPON_MOUSE</td>\n",
       "    </tr>\n",
       "    <tr>\n",
       "      <th>2</th>\n",
       "      <td>TRINITY_DN100000_c9_g1_i1</td>\n",
       "      <td>247</td>\n",
       "      <td>0</td>\n",
       "      <td>0</td>\n",
       "      <td>CH049_HUMAN</td>\n",
       "    </tr>\n",
       "    <tr>\n",
       "      <th>3</th>\n",
       "      <td>TRINITY_DN100001_c2_g2_i2</td>\n",
       "      <td>1591</td>\n",
       "      <td>2066</td>\n",
       "      <td>76</td>\n",
       "      <td>CIO1B_SALSA</td>\n",
       "    </tr>\n",
       "    <tr>\n",
       "      <th>4</th>\n",
       "      <td>TRINITY_DN100001_c2_g2_i7</td>\n",
       "      <td>1164</td>\n",
       "      <td>1139</td>\n",
       "      <td>10</td>\n",
       "      <td>CIO1B_SALSA</td>\n",
       "    </tr>\n",
       "  </tbody>\n",
       "</table>\n",
       "</div>"
      ],
      "text/plain": [
       "                          id   len  mapped  unmapped        ident\n",
       "0  TRINITY_DN100000_c5_g1_i2   340       0         0  CAPON_HUMAN\n",
       "1  TRINITY_DN100000_c5_g1_i6  2830     219        19  CAPON_MOUSE\n",
       "2  TRINITY_DN100000_c9_g1_i1   247       0         0  CH049_HUMAN\n",
       "3  TRINITY_DN100001_c2_g2_i2  1591    2066        76  CIO1B_SALSA\n",
       "4  TRINITY_DN100001_c2_g2_i7  1164    1139        10  CIO1B_SALSA"
      ]
     },
     "execution_count": 10,
     "metadata": {},
     "output_type": "execute_result"
    }
   ],
   "source": [
    "counted_with_annot.head()"
   ]
  },
  {
   "cell_type": "code",
   "execution_count": 9,
   "metadata": {},
   "outputs": [],
   "source": [
    "counted_with_annot['id_id'] = counted_with_annot['id'] + \"*\" + counted_with_annot['ident']"
   ]
  },
  {
   "cell_type": "code",
   "execution_count": 10,
   "metadata": {},
   "outputs": [
    {
     "data": {
      "text/html": [
       "<div>\n",
       "<style scoped>\n",
       "    .dataframe tbody tr th:only-of-type {\n",
       "        vertical-align: middle;\n",
       "    }\n",
       "\n",
       "    .dataframe tbody tr th {\n",
       "        vertical-align: top;\n",
       "    }\n",
       "\n",
       "    .dataframe thead th {\n",
       "        text-align: right;\n",
       "    }\n",
       "</style>\n",
       "<table border=\"1\" class=\"dataframe\">\n",
       "  <thead>\n",
       "    <tr style=\"text-align: right;\">\n",
       "      <th></th>\n",
       "      <th>id</th>\n",
       "      <th>len</th>\n",
       "      <th>mapped</th>\n",
       "      <th>unmapped</th>\n",
       "      <th>ident</th>\n",
       "      <th>id_id</th>\n",
       "    </tr>\n",
       "  </thead>\n",
       "  <tbody>\n",
       "    <tr>\n",
       "      <th>0</th>\n",
       "      <td>TRINITY_DN100000_c5_g1_i2</td>\n",
       "      <td>340</td>\n",
       "      <td>0</td>\n",
       "      <td>0</td>\n",
       "      <td>CAPON_HUMAN</td>\n",
       "      <td>TRINITY_DN100000_c5_g1_i2*CAPON_HUMAN</td>\n",
       "    </tr>\n",
       "    <tr>\n",
       "      <th>1</th>\n",
       "      <td>TRINITY_DN100000_c5_g1_i6</td>\n",
       "      <td>2830</td>\n",
       "      <td>219</td>\n",
       "      <td>19</td>\n",
       "      <td>CAPON_MOUSE</td>\n",
       "      <td>TRINITY_DN100000_c5_g1_i6*CAPON_MOUSE</td>\n",
       "    </tr>\n",
       "    <tr>\n",
       "      <th>2</th>\n",
       "      <td>TRINITY_DN100000_c9_g1_i1</td>\n",
       "      <td>247</td>\n",
       "      <td>0</td>\n",
       "      <td>0</td>\n",
       "      <td>CH049_HUMAN</td>\n",
       "      <td>TRINITY_DN100000_c9_g1_i1*CH049_HUMAN</td>\n",
       "    </tr>\n",
       "    <tr>\n",
       "      <th>3</th>\n",
       "      <td>TRINITY_DN100001_c2_g2_i2</td>\n",
       "      <td>1591</td>\n",
       "      <td>2066</td>\n",
       "      <td>76</td>\n",
       "      <td>CIO1B_SALSA</td>\n",
       "      <td>TRINITY_DN100001_c2_g2_i2*CIO1B_SALSA</td>\n",
       "    </tr>\n",
       "    <tr>\n",
       "      <th>4</th>\n",
       "      <td>TRINITY_DN100001_c2_g2_i7</td>\n",
       "      <td>1164</td>\n",
       "      <td>1139</td>\n",
       "      <td>10</td>\n",
       "      <td>CIO1B_SALSA</td>\n",
       "      <td>TRINITY_DN100001_c2_g2_i7*CIO1B_SALSA</td>\n",
       "    </tr>\n",
       "  </tbody>\n",
       "</table>\n",
       "</div>"
      ],
      "text/plain": [
       "                          id   len  mapped  unmapped        ident  \\\n",
       "0  TRINITY_DN100000_c5_g1_i2   340       0         0  CAPON_HUMAN   \n",
       "1  TRINITY_DN100000_c5_g1_i6  2830     219        19  CAPON_MOUSE   \n",
       "2  TRINITY_DN100000_c9_g1_i1   247       0         0  CH049_HUMAN   \n",
       "3  TRINITY_DN100001_c2_g2_i2  1591    2066        76  CIO1B_SALSA   \n",
       "4  TRINITY_DN100001_c2_g2_i7  1164    1139        10  CIO1B_SALSA   \n",
       "\n",
       "                                   id_id  \n",
       "0  TRINITY_DN100000_c5_g1_i2*CAPON_HUMAN  \n",
       "1  TRINITY_DN100000_c5_g1_i6*CAPON_MOUSE  \n",
       "2  TRINITY_DN100000_c9_g1_i1*CH049_HUMAN  \n",
       "3  TRINITY_DN100001_c2_g2_i2*CIO1B_SALSA  \n",
       "4  TRINITY_DN100001_c2_g2_i7*CIO1B_SALSA  "
      ]
     },
     "execution_count": 10,
     "metadata": {},
     "output_type": "execute_result"
    }
   ],
   "source": [
    "counted_with_annot.head()"
   ]
  },
  {
   "cell_type": "code",
   "execution_count": 11,
   "metadata": {},
   "outputs": [],
   "source": [
    "del counted_with_annot['id']\n",
    "\n",
    "del counted_with_annot['len']\n",
    "del counted_with_annot['unmapped']\n",
    "del counted_with_annot['ident']\n",
    "\n",
    "\n"
   ]
  },
  {
   "cell_type": "code",
   "execution_count": 12,
   "metadata": {},
   "outputs": [
    {
     "data": {
      "text/html": [
       "<div>\n",
       "<style scoped>\n",
       "    .dataframe tbody tr th:only-of-type {\n",
       "        vertical-align: middle;\n",
       "    }\n",
       "\n",
       "    .dataframe tbody tr th {\n",
       "        vertical-align: top;\n",
       "    }\n",
       "\n",
       "    .dataframe thead th {\n",
       "        text-align: right;\n",
       "    }\n",
       "</style>\n",
       "<table border=\"1\" class=\"dataframe\">\n",
       "  <thead>\n",
       "    <tr style=\"text-align: right;\">\n",
       "      <th></th>\n",
       "      <th>mapped</th>\n",
       "      <th>id_id</th>\n",
       "    </tr>\n",
       "  </thead>\n",
       "  <tbody>\n",
       "    <tr>\n",
       "      <th>0</th>\n",
       "      <td>0</td>\n",
       "      <td>TRINITY_DN100000_c5_g1_i2*CAPON_HUMAN</td>\n",
       "    </tr>\n",
       "    <tr>\n",
       "      <th>1</th>\n",
       "      <td>219</td>\n",
       "      <td>TRINITY_DN100000_c5_g1_i6*CAPON_MOUSE</td>\n",
       "    </tr>\n",
       "    <tr>\n",
       "      <th>2</th>\n",
       "      <td>0</td>\n",
       "      <td>TRINITY_DN100000_c9_g1_i1*CH049_HUMAN</td>\n",
       "    </tr>\n",
       "    <tr>\n",
       "      <th>3</th>\n",
       "      <td>2066</td>\n",
       "      <td>TRINITY_DN100001_c2_g2_i2*CIO1B_SALSA</td>\n",
       "    </tr>\n",
       "    <tr>\n",
       "      <th>4</th>\n",
       "      <td>1139</td>\n",
       "      <td>TRINITY_DN100001_c2_g2_i7*CIO1B_SALSA</td>\n",
       "    </tr>\n",
       "  </tbody>\n",
       "</table>\n",
       "</div>"
      ],
      "text/plain": [
       "   mapped                                  id_id\n",
       "0       0  TRINITY_DN100000_c5_g1_i2*CAPON_HUMAN\n",
       "1     219  TRINITY_DN100000_c5_g1_i6*CAPON_MOUSE\n",
       "2       0  TRINITY_DN100000_c9_g1_i1*CH049_HUMAN\n",
       "3    2066  TRINITY_DN100001_c2_g2_i2*CIO1B_SALSA\n",
       "4    1139  TRINITY_DN100001_c2_g2_i7*CIO1B_SALSA"
      ]
     },
     "execution_count": 12,
     "metadata": {},
     "output_type": "execute_result"
    }
   ],
   "source": [
    "counted_with_annot.head()"
   ]
  },
  {
   "cell_type": "code",
   "execution_count": 13,
   "metadata": {},
   "outputs": [],
   "source": [
    "counted_with_annot.to_csv('/mnt/sdb1/Project_Sieja_MCLR_52/2_pipeline/7_counting_transcripts/proteins_uniprot_matryca.txt', index=False)"
   ]
  },
  {
   "cell_type": "code",
   "execution_count": null,
   "metadata": {},
   "outputs": [],
   "source": []
  },
  {
   "cell_type": "markdown",
   "metadata": {},
   "source": [
    "Podejscie drugie, SALMO PROTEINS, nie uniprot"
   ]
  },
  {
   "cell_type": "code",
   "execution_count": null,
   "metadata": {},
   "outputs": [],
   "source": []
  },
  {
   "cell_type": "code",
   "execution_count": null,
   "metadata": {},
   "outputs": [],
   "source": []
  },
  {
   "cell_type": "code",
   "execution_count": null,
   "metadata": {},
   "outputs": [],
   "source": []
  },
  {
   "cell_type": "code",
   "execution_count": null,
   "metadata": {},
   "outputs": [],
   "source": []
  },
  {
   "cell_type": "code",
   "execution_count": null,
   "metadata": {},
   "outputs": [],
   "source": []
  }
 ],
 "metadata": {
  "kernelspec": {
   "display_name": "Python 3",
   "language": "python",
   "name": "python3"
  },
  "language_info": {
   "codemirror_mode": {
    "name": "ipython",
    "version": 3
   },
   "file_extension": ".py",
   "mimetype": "text/x-python",
   "name": "python",
   "nbconvert_exporter": "python",
   "pygments_lexer": "ipython3",
   "version": "3.7.3"
  }
 },
 "nbformat": 4,
 "nbformat_minor": 2
}
