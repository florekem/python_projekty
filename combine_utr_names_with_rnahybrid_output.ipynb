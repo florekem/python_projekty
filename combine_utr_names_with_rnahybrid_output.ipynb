{
 "cells": [
  {
   "cell_type": "code",
   "execution_count": 1,
   "metadata": {},
   "outputs": [],
   "source": [
    "import pandas as pd"
   ]
  },
  {
   "cell_type": "code",
   "execution_count": 2,
   "metadata": {},
   "outputs": [],
   "source": [
    "path='/mnt/sdb1/Project_Sieja_MCLR_52/2_pipeline/7_counting_transcripts/noncoding_novel/RNAhybrid_PB/'"
   ]
  },
  {
   "cell_type": "code",
   "execution_count": 3,
   "metadata": {},
   "outputs": [],
   "source": [
    "RNAhyb_output = pd.read_csv(path+'/seed_7/output_PCT_UTR_sklejone_razem.csv')"
   ]
  },
  {
   "cell_type": "code",
   "execution_count": 4,
   "metadata": {},
   "outputs": [
    {
     "data": {
      "text/plain": [
       "(17567, 11)"
      ]
     },
     "execution_count": 4,
     "metadata": {},
     "output_type": "execute_result"
    }
   ],
   "source": [
    "RNAhyb_output.shape\n"
   ]
  },
  {
   "cell_type": "code",
   "execution_count": 5,
   "metadata": {},
   "outputs": [],
   "source": [
    "# nie wiem dlaczego, ale output rnahybrida moze miec zduplikowanie rowy\n",
    "RNAhyb_output.drop_duplicates(inplace=True)"
   ]
  },
  {
   "cell_type": "code",
   "execution_count": 6,
   "metadata": {},
   "outputs": [
    {
     "data": {
      "text/plain": [
       "(17556, 11)"
      ]
     },
     "execution_count": 6,
     "metadata": {},
     "output_type": "execute_result"
    }
   ],
   "source": [
    "RNAhyb_output.shape"
   ]
  },
  {
   "cell_type": "code",
   "execution_count": 7,
   "metadata": {},
   "outputs": [],
   "source": [
    "#utr = pd.read_csv(path+'mRNA_UTR_PROTEINS_merged_edited_copy.csv')\n",
    "pct_utr = pd.read_csv(path+'transcripts_XP_idents_UTR_PCT_appended.csv', low_memory=False)\n"
   ]
  },
  {
   "cell_type": "code",
   "execution_count": 8,
   "metadata": {},
   "outputs": [
    {
     "data": {
      "text/html": [
       "<div>\n",
       "<style scoped>\n",
       "    .dataframe tbody tr th:only-of-type {\n",
       "        vertical-align: middle;\n",
       "    }\n",
       "\n",
       "    .dataframe tbody tr th {\n",
       "        vertical-align: top;\n",
       "    }\n",
       "\n",
       "    .dataframe thead th {\n",
       "        text-align: right;\n",
       "    }\n",
       "</style>\n",
       "<table border=\"1\" class=\"dataframe\">\n",
       "  <thead>\n",
       "    <tr style=\"text-align: right;\">\n",
       "      <th></th>\n",
       "      <th>query</th>\n",
       "      <th>XP_01</th>\n",
       "    </tr>\n",
       "  </thead>\n",
       "  <tbody>\n",
       "    <tr>\n",
       "      <th>0</th>\n",
       "      <td>TRINITY_DN100005_c7_g2_i1</td>\n",
       "      <td>XP_014068145.1</td>\n",
       "    </tr>\n",
       "    <tr>\n",
       "      <th>1</th>\n",
       "      <td>TRINITY_DN81030_c8_g4_i1</td>\n",
       "      <td>XP_014068145.1</td>\n",
       "    </tr>\n",
       "    <tr>\n",
       "      <th>2</th>\n",
       "      <td>TRINITY_DN83202_c8_g4_i2</td>\n",
       "      <td>XP_014068145.1</td>\n",
       "    </tr>\n",
       "    <tr>\n",
       "      <th>3</th>\n",
       "      <td>TRINITY_DN105298_c5_g1_i2</td>\n",
       "      <td>XP_014068145.1</td>\n",
       "    </tr>\n",
       "    <tr>\n",
       "      <th>4</th>\n",
       "      <td>TRINITY_DN91961_c5_g1_i1</td>\n",
       "      <td>XP_014068145.1</td>\n",
       "    </tr>\n",
       "  </tbody>\n",
       "</table>\n",
       "</div>"
      ],
      "text/plain": [
       "                       query           XP_01\n",
       "0  TRINITY_DN100005_c7_g2_i1  XP_014068145.1\n",
       "1   TRINITY_DN81030_c8_g4_i1  XP_014068145.1\n",
       "2   TRINITY_DN83202_c8_g4_i2  XP_014068145.1\n",
       "3  TRINITY_DN105298_c5_g1_i2  XP_014068145.1\n",
       "4   TRINITY_DN91961_c5_g1_i1  XP_014068145.1"
      ]
     },
     "execution_count": 8,
     "metadata": {},
     "output_type": "execute_result"
    }
   ],
   "source": [
    "#utr.head()\n",
    "pct_utr.head()"
   ]
  },
  {
   "cell_type": "code",
   "execution_count": 9,
   "metadata": {},
   "outputs": [
    {
     "data": {
      "text/plain": [
       "(387202, 2)"
      ]
     },
     "execution_count": 9,
     "metadata": {},
     "output_type": "execute_result"
    }
   ],
   "source": [
    "#utr.shape\n",
    "pct_utr.shape"
   ]
  },
  {
   "cell_type": "code",
   "execution_count": 10,
   "metadata": {},
   "outputs": [],
   "source": [
    "#utr.drop_duplicates(inplace=True)\n",
    "pct_utr.drop_duplicates(inplace=True)"
   ]
  },
  {
   "cell_type": "code",
   "execution_count": 11,
   "metadata": {},
   "outputs": [
    {
     "data": {
      "text/plain": [
       "(387202, 2)"
      ]
     },
     "execution_count": 11,
     "metadata": {},
     "output_type": "execute_result"
    }
   ],
   "source": [
    "#utr.shape\n",
    "pct_utr.shape"
   ]
  },
  {
   "cell_type": "code",
   "execution_count": 12,
   "metadata": {},
   "outputs": [],
   "source": [
    "merged = RNAhyb_output.merge(pct_utr, on='query')"
   ]
  },
  {
   "cell_type": "code",
   "execution_count": 13,
   "metadata": {},
   "outputs": [
    {
     "data": {
      "text/plain": [
       "(17557, 12)"
      ]
     },
     "execution_count": 13,
     "metadata": {},
     "output_type": "execute_result"
    }
   ],
   "source": [
    "merged.shape"
   ]
  },
  {
   "cell_type": "code",
   "execution_count": 14,
   "metadata": {},
   "outputs": [],
   "source": [
    "merged.drop_duplicates(inplace=True)"
   ]
  },
  {
   "cell_type": "code",
   "execution_count": 15,
   "metadata": {},
   "outputs": [
    {
     "data": {
      "text/plain": [
       "(17557, 12)"
      ]
     },
     "execution_count": 15,
     "metadata": {},
     "output_type": "execute_result"
    }
   ],
   "source": [
    "merged.shape"
   ]
  },
  {
   "cell_type": "code",
   "execution_count": 17,
   "metadata": {},
   "outputs": [],
   "source": [
    "merged.to_csv(path+'outout_pct_merged_test.csv', index=False)"
   ]
  },
  {
   "cell_type": "code",
   "execution_count": null,
   "metadata": {},
   "outputs": [],
   "source": [
    "# search DE output for XP_01 entries (wytypowane przez rnahybrid)"
   ]
  },
  {
   "cell_type": "code",
   "execution_count": 105,
   "metadata": {},
   "outputs": [],
   "source": [
    "#mismim1d = pd.read_csv(path+'MIM_deseq/1d_MIS_vs_MIM_DESEQ_annotated.csv', low_memory=False)\n",
    "mismim1d = pd.read_csv(path+'INH_deseq/8d_MIS_vs_INH_DESEQ_annotated.csv', low_memory=False)"
   ]
  },
  {
   "cell_type": "code",
   "execution_count": 94,
   "metadata": {},
   "outputs": [
    {
     "data": {
      "text/plain": [
       "(170757, 15)"
      ]
     },
     "execution_count": 94,
     "metadata": {},
     "output_type": "execute_result"
    }
   ],
   "source": [
    "mismim1d.shape"
   ]
  },
  {
   "cell_type": "code",
   "execution_count": 95,
   "metadata": {},
   "outputs": [
    {
     "data": {
      "text/plain": [
       "(170757, 15)"
      ]
     },
     "execution_count": 95,
     "metadata": {},
     "output_type": "execute_result"
    }
   ],
   "source": [
    "mismim1d.drop_duplicates().shape"
   ]
  },
  {
   "cell_type": "code",
   "execution_count": 106,
   "metadata": {},
   "outputs": [],
   "source": [
    "#To select rows whose column value is in an iterable, some_values, use isin:\n",
    "mismim1d_rnahyb = mismim1d.loc[mismim1d['XP_01'].isin(merged['XP_01'])]"
   ]
  },
  {
   "cell_type": "code",
   "execution_count": 107,
   "metadata": {},
   "outputs": [],
   "source": [
    "mismim1d_rnahyb_padj = mismim1d_rnahyb[mismim1d_rnahyb['padj'] < 0.05]"
   ]
  },
  {
   "cell_type": "code",
   "execution_count": 108,
   "metadata": {},
   "outputs": [],
   "source": [
    "mismim1d_rnahyb_padj_droped = mismim1d_rnahyb_padj.sort_values('padj', ascending=True).drop_duplicates('XP_01').sort_index()"
   ]
  },
  {
   "cell_type": "code",
   "execution_count": 109,
   "metadata": {},
   "outputs": [],
   "source": [
    "mismim1d_rnahyb_padj_droped.to_csv(path+'kolejny_test3_false.csv', index=False)"
   ]
  },
  {
   "cell_type": "code",
   "execution_count": null,
   "metadata": {},
   "outputs": [],
   "source": []
  },
  {
   "cell_type": "code",
   "execution_count": 16,
   "metadata": {},
   "outputs": [],
   "source": [
    "# merge with MCLR deseq2 results"
   ]
  },
  {
   "cell_type": "code",
   "execution_count": 19,
   "metadata": {},
   "outputs": [],
   "source": [
    "deseq_d1 = pd.read_csv(path+'novel_deseq_results_d1_w_names.csv')\n",
    "deseq_d6 = pd.read_csv(path+'novel_deseq_results_d6_w_names.csv')\n",
    "deseq_d9 = pd.read_csv(path+'novel_deseq_results_d9_w_names.csv')"
   ]
  },
  {
   "cell_type": "code",
   "execution_count": 20,
   "metadata": {},
   "outputs": [],
   "source": [
    "merged_w_deseq_d1 = merged.merge(deseq_d1, on='query')"
   ]
  },
  {
   "cell_type": "code",
   "execution_count": 23,
   "metadata": {},
   "outputs": [],
   "source": [
    "merged_w_deseq_d1.to_csv(path+'deseq_1d_rnahybrid_output_w_names.csv', index=False)"
   ]
  },
  {
   "cell_type": "code",
   "execution_count": 22,
   "metadata": {},
   "outputs": [],
   "source": [
    "merged_w_deseq_d6 = merged.merge(deseq_d6, on='query')"
   ]
  },
  {
   "cell_type": "code",
   "execution_count": 24,
   "metadata": {},
   "outputs": [],
   "source": [
    "merged_w_deseq_d6.to_csv(path+'deseq_6d_rnahybrid_output_w_names.csv', index=False)"
   ]
  },
  {
   "cell_type": "code",
   "execution_count": 25,
   "metadata": {},
   "outputs": [],
   "source": [
    "merged_w_deseq_d9 = merged.merge(deseq_d9, on='query')"
   ]
  },
  {
   "cell_type": "code",
   "execution_count": 26,
   "metadata": {},
   "outputs": [],
   "source": [
    "merged_w_deseq_d9.to_csv(path+'deseq_9d_rnahybrid_output_w_names.csv', index=False)"
   ]
  },
  {
   "cell_type": "code",
   "execution_count": 27,
   "metadata": {},
   "outputs": [],
   "source": [
    "# merge with MIS vs MIM deseq2 results on XP_01"
   ]
  },
  {
   "cell_type": "code",
   "execution_count": 32,
   "metadata": {},
   "outputs": [],
   "source": [
    "mismim1d = pd.read_csv(path+'MIM_deseq/1d_MIS_vs_MIM_DESEQ_annotated.csv', low_memory=False)"
   ]
  },
  {
   "cell_type": "code",
   "execution_count": 33,
   "metadata": {},
   "outputs": [
    {
     "data": {
      "text/html": [
       "<div>\n",
       "<style scoped>\n",
       "    .dataframe tbody tr th:only-of-type {\n",
       "        vertical-align: middle;\n",
       "    }\n",
       "\n",
       "    .dataframe tbody tr th {\n",
       "        vertical-align: top;\n",
       "    }\n",
       "\n",
       "    .dataframe thead th {\n",
       "        text-align: right;\n",
       "    }\n",
       "</style>\n",
       "<table border=\"1\" class=\"dataframe\">\n",
       "  <thead>\n",
       "    <tr style=\"text-align: right;\">\n",
       "      <th></th>\n",
       "      <th>query</th>\n",
       "      <th>ident_uniprot</th>\n",
       "      <th>MIS_1d_1</th>\n",
       "      <th>MIS_1d_2</th>\n",
       "      <th>MIS_1d_3</th>\n",
       "      <th>MIM_1d_1</th>\n",
       "      <th>MIM_1d_2</th>\n",
       "      <th>MIM_1d_3</th>\n",
       "      <th>baseMean</th>\n",
       "      <th>log2FoldChange</th>\n",
       "      <th>lfcSE</th>\n",
       "      <th>stat</th>\n",
       "      <th>pvalue</th>\n",
       "      <th>padj</th>\n",
       "      <th>XP_01</th>\n",
       "    </tr>\n",
       "  </thead>\n",
       "  <tbody>\n",
       "    <tr>\n",
       "      <th>0</th>\n",
       "      <td>TRINITY_DN100000_c5_g1_i6</td>\n",
       "      <td>CAPON_MOUSE</td>\n",
       "      <td>683</td>\n",
       "      <td>674</td>\n",
       "      <td>487</td>\n",
       "      <td>332</td>\n",
       "      <td>561</td>\n",
       "      <td>588</td>\n",
       "      <td>539.059009</td>\n",
       "      <td>0.026450</td>\n",
       "      <td>0.302506</td>\n",
       "      <td>0.087436</td>\n",
       "      <td>0.930325</td>\n",
       "      <td>0.99999</td>\n",
       "      <td>XP_013978521.1</td>\n",
       "    </tr>\n",
       "    <tr>\n",
       "      <th>1</th>\n",
       "      <td>TRINITY_DN100000_c9_g1_i1</td>\n",
       "      <td>CH049_HUMAN</td>\n",
       "      <td>0</td>\n",
       "      <td>0</td>\n",
       "      <td>0</td>\n",
       "      <td>0</td>\n",
       "      <td>0</td>\n",
       "      <td>0</td>\n",
       "      <td>0.000000</td>\n",
       "      <td>NaN</td>\n",
       "      <td>NaN</td>\n",
       "      <td>NaN</td>\n",
       "      <td>NaN</td>\n",
       "      <td>NaN</td>\n",
       "      <td>NaN</td>\n",
       "    </tr>\n",
       "    <tr>\n",
       "      <th>2</th>\n",
       "      <td>TRINITY_DN100001_c2_g2_i2</td>\n",
       "      <td>CIO1B_SALSA</td>\n",
       "      <td>1190</td>\n",
       "      <td>1280</td>\n",
       "      <td>1223</td>\n",
       "      <td>1330</td>\n",
       "      <td>962</td>\n",
       "      <td>1226</td>\n",
       "      <td>1204.694469</td>\n",
       "      <td>-0.283106</td>\n",
       "      <td>0.305356</td>\n",
       "      <td>-0.927132</td>\n",
       "      <td>0.353858</td>\n",
       "      <td>0.99999</td>\n",
       "      <td>XP_014027367.1</td>\n",
       "    </tr>\n",
       "    <tr>\n",
       "      <th>3</th>\n",
       "      <td>TRINITY_DN100001_c2_g2_i7</td>\n",
       "      <td>CIO1B_SALSA</td>\n",
       "      <td>451</td>\n",
       "      <td>464</td>\n",
       "      <td>516</td>\n",
       "      <td>518</td>\n",
       "      <td>434</td>\n",
       "      <td>368</td>\n",
       "      <td>458.240789</td>\n",
       "      <td>-0.232912</td>\n",
       "      <td>0.316372</td>\n",
       "      <td>-0.736197</td>\n",
       "      <td>0.461611</td>\n",
       "      <td>0.99999</td>\n",
       "      <td>XP_014015694.1</td>\n",
       "    </tr>\n",
       "    <tr>\n",
       "      <th>4</th>\n",
       "      <td>TRINITY_DN100001_c2_g3_i3</td>\n",
       "      <td>CIO1B_SALSA</td>\n",
       "      <td>547</td>\n",
       "      <td>568</td>\n",
       "      <td>579</td>\n",
       "      <td>466</td>\n",
       "      <td>487</td>\n",
       "      <td>429</td>\n",
       "      <td>505.126771</td>\n",
       "      <td>-0.036150</td>\n",
       "      <td>0.260897</td>\n",
       "      <td>-0.138559</td>\n",
       "      <td>0.889798</td>\n",
       "      <td>0.99999</td>\n",
       "      <td>XP_014027367.1</td>\n",
       "    </tr>\n",
       "  </tbody>\n",
       "</table>\n",
       "</div>"
      ],
      "text/plain": [
       "                       query ident_uniprot  MIS_1d_1  MIS_1d_2  MIS_1d_3  \\\n",
       "0  TRINITY_DN100000_c5_g1_i6   CAPON_MOUSE       683       674       487   \n",
       "1  TRINITY_DN100000_c9_g1_i1   CH049_HUMAN         0         0         0   \n",
       "2  TRINITY_DN100001_c2_g2_i2   CIO1B_SALSA      1190      1280      1223   \n",
       "3  TRINITY_DN100001_c2_g2_i7   CIO1B_SALSA       451       464       516   \n",
       "4  TRINITY_DN100001_c2_g3_i3   CIO1B_SALSA       547       568       579   \n",
       "\n",
       "   MIM_1d_1  MIM_1d_2  MIM_1d_3     baseMean  log2FoldChange     lfcSE  \\\n",
       "0       332       561       588   539.059009        0.026450  0.302506   \n",
       "1         0         0         0     0.000000             NaN       NaN   \n",
       "2      1330       962      1226  1204.694469       -0.283106  0.305356   \n",
       "3       518       434       368   458.240789       -0.232912  0.316372   \n",
       "4       466       487       429   505.126771       -0.036150  0.260897   \n",
       "\n",
       "       stat    pvalue     padj           XP_01  \n",
       "0  0.087436  0.930325  0.99999  XP_013978521.1  \n",
       "1       NaN       NaN      NaN             NaN  \n",
       "2 -0.927132  0.353858  0.99999  XP_014027367.1  \n",
       "3 -0.736197  0.461611  0.99999  XP_014015694.1  \n",
       "4 -0.138559  0.889798  0.99999  XP_014027367.1  "
      ]
     },
     "execution_count": 33,
     "metadata": {},
     "output_type": "execute_result"
    }
   ],
   "source": [
    "mismim1d.head()\n"
   ]
  },
  {
   "cell_type": "code",
   "execution_count": 34,
   "metadata": {},
   "outputs": [
    {
     "data": {
      "text/plain": [
       "(170757, 15)"
      ]
     },
     "execution_count": 34,
     "metadata": {},
     "output_type": "execute_result"
    }
   ],
   "source": [
    "mismim1d.shape"
   ]
  },
  {
   "cell_type": "code",
   "execution_count": 37,
   "metadata": {},
   "outputs": [],
   "source": [
    "merged_mim1d = merged.merge(mismim1d, on='XP_01')"
   ]
  },
  {
   "cell_type": "code",
   "execution_count": 38,
   "metadata": {},
   "outputs": [
    {
     "data": {
      "text/plain": [
       "(6688, 27)"
      ]
     },
     "execution_count": 38,
     "metadata": {},
     "output_type": "execute_result"
    }
   ],
   "source": [
    "merged_mim1d.shape"
   ]
  },
  {
   "cell_type": "code",
   "execution_count": 39,
   "metadata": {},
   "outputs": [
    {
     "data": {
      "text/plain": [
       "(6688, 27)"
      ]
     },
     "execution_count": 39,
     "metadata": {},
     "output_type": "execute_result"
    }
   ],
   "source": [
    "merged_mim1d.drop_duplicates().shape"
   ]
  },
  {
   "cell_type": "code",
   "execution_count": 42,
   "metadata": {},
   "outputs": [],
   "source": [
    "merged_mim1d_padj = merged_mim1d[merged_mim1d['padj'] < 0.05]\n",
    "merged_mim1d_padj_sorted = merged_mim1d_padj.sort_values(by='padj')"
   ]
  },
  {
   "cell_type": "code",
   "execution_count": 43,
   "metadata": {},
   "outputs": [],
   "source": [
    "merged_mim1d_padj_sorted.to_csv(path+'TEST_deseq_MIM_1d_rnahybrid_output_w_names.csv', index=False)"
   ]
  },
  {
   "cell_type": "code",
   "execution_count": null,
   "metadata": {},
   "outputs": [],
   "source": []
  },
  {
   "cell_type": "code",
   "execution_count": 14,
   "metadata": {},
   "outputs": [],
   "source": [
    "mismim6d = pd.read_csv(path+'MIM_deseq/6d_MIS_vs_MIM_DESEQ_annotated.csv', low_memory=False)"
   ]
  },
  {
   "cell_type": "code",
   "execution_count": 15,
   "metadata": {},
   "outputs": [
    {
     "data": {
      "text/html": [
       "<div>\n",
       "<style scoped>\n",
       "    .dataframe tbody tr th:only-of-type {\n",
       "        vertical-align: middle;\n",
       "    }\n",
       "\n",
       "    .dataframe tbody tr th {\n",
       "        vertical-align: top;\n",
       "    }\n",
       "\n",
       "    .dataframe thead th {\n",
       "        text-align: right;\n",
       "    }\n",
       "</style>\n",
       "<table border=\"1\" class=\"dataframe\">\n",
       "  <thead>\n",
       "    <tr style=\"text-align: right;\">\n",
       "      <th></th>\n",
       "      <th>query</th>\n",
       "      <th>ident_uniprot</th>\n",
       "      <th>MIS_6d_1</th>\n",
       "      <th>MIS_6d_2</th>\n",
       "      <th>MIS_6d_3</th>\n",
       "      <th>MIM_6d_1</th>\n",
       "      <th>MIM_6d_2</th>\n",
       "      <th>MIM_6d_3</th>\n",
       "      <th>baseMean</th>\n",
       "      <th>log2FoldChange</th>\n",
       "      <th>lfcSE</th>\n",
       "      <th>stat</th>\n",
       "      <th>pvalue</th>\n",
       "      <th>padj</th>\n",
       "      <th>XP_01</th>\n",
       "    </tr>\n",
       "  </thead>\n",
       "  <tbody>\n",
       "    <tr>\n",
       "      <th>0</th>\n",
       "      <td>TRINITY_DN100000_c5_g1_i6</td>\n",
       "      <td>CAPON_MOUSE</td>\n",
       "      <td>461</td>\n",
       "      <td>313</td>\n",
       "      <td>373</td>\n",
       "      <td>643</td>\n",
       "      <td>455</td>\n",
       "      <td>423</td>\n",
       "      <td>435.965642</td>\n",
       "      <td>-0.164060</td>\n",
       "      <td>0.348457</td>\n",
       "      <td>-0.470820</td>\n",
       "      <td>0.637769</td>\n",
       "      <td>0.999906</td>\n",
       "      <td>XP_013978521.1</td>\n",
       "    </tr>\n",
       "    <tr>\n",
       "      <th>1</th>\n",
       "      <td>TRINITY_DN100000_c9_g1_i1</td>\n",
       "      <td>CH049_HUMAN</td>\n",
       "      <td>0</td>\n",
       "      <td>0</td>\n",
       "      <td>0</td>\n",
       "      <td>0</td>\n",
       "      <td>0</td>\n",
       "      <td>0</td>\n",
       "      <td>0.000000</td>\n",
       "      <td>NaN</td>\n",
       "      <td>NaN</td>\n",
       "      <td>NaN</td>\n",
       "      <td>NaN</td>\n",
       "      <td>NaN</td>\n",
       "      <td>NaN</td>\n",
       "    </tr>\n",
       "    <tr>\n",
       "      <th>2</th>\n",
       "      <td>TRINITY_DN100001_c2_g2_i2</td>\n",
       "      <td>CIO1B_SALSA</td>\n",
       "      <td>1286</td>\n",
       "      <td>1440</td>\n",
       "      <td>947</td>\n",
       "      <td>1267</td>\n",
       "      <td>1339</td>\n",
       "      <td>980</td>\n",
       "      <td>1191.567772</td>\n",
       "      <td>0.237441</td>\n",
       "      <td>0.293703</td>\n",
       "      <td>0.808438</td>\n",
       "      <td>0.418838</td>\n",
       "      <td>0.999906</td>\n",
       "      <td>XP_014027367.1</td>\n",
       "    </tr>\n",
       "    <tr>\n",
       "      <th>3</th>\n",
       "      <td>TRINITY_DN100001_c2_g2_i7</td>\n",
       "      <td>CIO1B_SALSA</td>\n",
       "      <td>355</td>\n",
       "      <td>433</td>\n",
       "      <td>368</td>\n",
       "      <td>328</td>\n",
       "      <td>348</td>\n",
       "      <td>340</td>\n",
       "      <td>359.435656</td>\n",
       "      <td>0.386872</td>\n",
       "      <td>0.282533</td>\n",
       "      <td>1.369299</td>\n",
       "      <td>0.170906</td>\n",
       "      <td>0.999906</td>\n",
       "      <td>XP_014015694.1</td>\n",
       "    </tr>\n",
       "    <tr>\n",
       "      <th>4</th>\n",
       "      <td>TRINITY_DN100001_c2_g3_i3</td>\n",
       "      <td>CIO1B_SALSA</td>\n",
       "      <td>429</td>\n",
       "      <td>587</td>\n",
       "      <td>379</td>\n",
       "      <td>393</td>\n",
       "      <td>395</td>\n",
       "      <td>417</td>\n",
       "      <td>428.426882</td>\n",
       "      <td>0.399730</td>\n",
       "      <td>0.292712</td>\n",
       "      <td>1.365611</td>\n",
       "      <td>0.172061</td>\n",
       "      <td>0.999906</td>\n",
       "      <td>XP_014027367.1</td>\n",
       "    </tr>\n",
       "  </tbody>\n",
       "</table>\n",
       "</div>"
      ],
      "text/plain": [
       "                       query ident_uniprot  MIS_6d_1  MIS_6d_2  MIS_6d_3  \\\n",
       "0  TRINITY_DN100000_c5_g1_i6   CAPON_MOUSE       461       313       373   \n",
       "1  TRINITY_DN100000_c9_g1_i1   CH049_HUMAN         0         0         0   \n",
       "2  TRINITY_DN100001_c2_g2_i2   CIO1B_SALSA      1286      1440       947   \n",
       "3  TRINITY_DN100001_c2_g2_i7   CIO1B_SALSA       355       433       368   \n",
       "4  TRINITY_DN100001_c2_g3_i3   CIO1B_SALSA       429       587       379   \n",
       "\n",
       "   MIM_6d_1  MIM_6d_2  MIM_6d_3     baseMean  log2FoldChange     lfcSE  \\\n",
       "0       643       455       423   435.965642       -0.164060  0.348457   \n",
       "1         0         0         0     0.000000             NaN       NaN   \n",
       "2      1267      1339       980  1191.567772        0.237441  0.293703   \n",
       "3       328       348       340   359.435656        0.386872  0.282533   \n",
       "4       393       395       417   428.426882        0.399730  0.292712   \n",
       "\n",
       "       stat    pvalue      padj           XP_01  \n",
       "0 -0.470820  0.637769  0.999906  XP_013978521.1  \n",
       "1       NaN       NaN       NaN             NaN  \n",
       "2  0.808438  0.418838  0.999906  XP_014027367.1  \n",
       "3  1.369299  0.170906  0.999906  XP_014015694.1  \n",
       "4  1.365611  0.172061  0.999906  XP_014027367.1  "
      ]
     },
     "execution_count": 15,
     "metadata": {},
     "output_type": "execute_result"
    }
   ],
   "source": [
    "mismim6d.head()"
   ]
  },
  {
   "cell_type": "code",
   "execution_count": 16,
   "metadata": {},
   "outputs": [],
   "source": [
    "merged_mim6d = merged.merge(mismim6d, on='XP_01')"
   ]
  },
  {
   "cell_type": "code",
   "execution_count": 17,
   "metadata": {},
   "outputs": [],
   "source": [
    "merged_mim6d.to_csv(path+'deseq_MIM_6d_rnahybrid_output_w_names.csv', index=False)"
   ]
  },
  {
   "cell_type": "code",
   "execution_count": null,
   "metadata": {},
   "outputs": [],
   "source": []
  },
  {
   "cell_type": "code",
   "execution_count": 22,
   "metadata": {},
   "outputs": [],
   "source": [
    "mismim8d = pd.read_csv(path+'MIM_deseq/8d_MIS_vs_MIM_DESEQ_annotated.csv', low_memory=False)"
   ]
  },
  {
   "cell_type": "code",
   "execution_count": 23,
   "metadata": {},
   "outputs": [
    {
     "data": {
      "text/html": [
       "<div>\n",
       "<style scoped>\n",
       "    .dataframe tbody tr th:only-of-type {\n",
       "        vertical-align: middle;\n",
       "    }\n",
       "\n",
       "    .dataframe tbody tr th {\n",
       "        vertical-align: top;\n",
       "    }\n",
       "\n",
       "    .dataframe thead th {\n",
       "        text-align: right;\n",
       "    }\n",
       "</style>\n",
       "<table border=\"1\" class=\"dataframe\">\n",
       "  <thead>\n",
       "    <tr style=\"text-align: right;\">\n",
       "      <th></th>\n",
       "      <th>query</th>\n",
       "      <th>ident_uniprot</th>\n",
       "      <th>MIS_8d_1</th>\n",
       "      <th>MIS_8d_2</th>\n",
       "      <th>MIS_8d_3</th>\n",
       "      <th>MIM_8d_1</th>\n",
       "      <th>MIM_8d_2</th>\n",
       "      <th>MIM_8d_3</th>\n",
       "      <th>baseMean</th>\n",
       "      <th>log2FoldChange</th>\n",
       "      <th>lfcSE</th>\n",
       "      <th>stat</th>\n",
       "      <th>pvalue</th>\n",
       "      <th>padj</th>\n",
       "      <th>XP_01</th>\n",
       "    </tr>\n",
       "  </thead>\n",
       "  <tbody>\n",
       "    <tr>\n",
       "      <th>0</th>\n",
       "      <td>TRINITY_DN100000_c5_g1_i6</td>\n",
       "      <td>CAPON_MOUSE</td>\n",
       "      <td>413</td>\n",
       "      <td>554</td>\n",
       "      <td>634</td>\n",
       "      <td>415</td>\n",
       "      <td>556</td>\n",
       "      <td>253</td>\n",
       "      <td>453.488632</td>\n",
       "      <td>0.213960</td>\n",
       "      <td>0.314849</td>\n",
       "      <td>0.679564</td>\n",
       "      <td>0.496780</td>\n",
       "      <td>0.999971</td>\n",
       "      <td>XP_013978521.1</td>\n",
       "    </tr>\n",
       "    <tr>\n",
       "      <th>1</th>\n",
       "      <td>TRINITY_DN100000_c9_g1_i1</td>\n",
       "      <td>CH049_HUMAN</td>\n",
       "      <td>0</td>\n",
       "      <td>0</td>\n",
       "      <td>0</td>\n",
       "      <td>0</td>\n",
       "      <td>0</td>\n",
       "      <td>0</td>\n",
       "      <td>0.000000</td>\n",
       "      <td>NaN</td>\n",
       "      <td>NaN</td>\n",
       "      <td>NaN</td>\n",
       "      <td>NaN</td>\n",
       "      <td>NaN</td>\n",
       "      <td>NaN</td>\n",
       "    </tr>\n",
       "    <tr>\n",
       "      <th>2</th>\n",
       "      <td>TRINITY_DN100001_c2_g2_i2</td>\n",
       "      <td>CIO1B_SALSA</td>\n",
       "      <td>1019</td>\n",
       "      <td>1089</td>\n",
       "      <td>1135</td>\n",
       "      <td>940</td>\n",
       "      <td>1042</td>\n",
       "      <td>1237</td>\n",
       "      <td>1066.823351</td>\n",
       "      <td>-0.183666</td>\n",
       "      <td>0.266745</td>\n",
       "      <td>-0.688546</td>\n",
       "      <td>0.491109</td>\n",
       "      <td>0.999971</td>\n",
       "      <td>XP_014027367.1</td>\n",
       "    </tr>\n",
       "    <tr>\n",
       "      <th>3</th>\n",
       "      <td>TRINITY_DN100001_c2_g2_i7</td>\n",
       "      <td>CIO1B_SALSA</td>\n",
       "      <td>309</td>\n",
       "      <td>394</td>\n",
       "      <td>412</td>\n",
       "      <td>243</td>\n",
       "      <td>290</td>\n",
       "      <td>280</td>\n",
       "      <td>312.751830</td>\n",
       "      <td>0.261589</td>\n",
       "      <td>0.261880</td>\n",
       "      <td>0.998889</td>\n",
       "      <td>0.317849</td>\n",
       "      <td>0.999971</td>\n",
       "      <td>XP_014015694.1</td>\n",
       "    </tr>\n",
       "    <tr>\n",
       "      <th>4</th>\n",
       "      <td>TRINITY_DN100001_c2_g3_i3</td>\n",
       "      <td>CIO1B_SALSA</td>\n",
       "      <td>382</td>\n",
       "      <td>375</td>\n",
       "      <td>456</td>\n",
       "      <td>275</td>\n",
       "      <td>364</td>\n",
       "      <td>350</td>\n",
       "      <td>359.009621</td>\n",
       "      <td>0.112693</td>\n",
       "      <td>0.265376</td>\n",
       "      <td>0.424654</td>\n",
       "      <td>0.671089</td>\n",
       "      <td>0.999971</td>\n",
       "      <td>XP_014027367.1</td>\n",
       "    </tr>\n",
       "  </tbody>\n",
       "</table>\n",
       "</div>"
      ],
      "text/plain": [
       "                       query ident_uniprot  MIS_8d_1  MIS_8d_2  MIS_8d_3  \\\n",
       "0  TRINITY_DN100000_c5_g1_i6   CAPON_MOUSE       413       554       634   \n",
       "1  TRINITY_DN100000_c9_g1_i1   CH049_HUMAN         0         0         0   \n",
       "2  TRINITY_DN100001_c2_g2_i2   CIO1B_SALSA      1019      1089      1135   \n",
       "3  TRINITY_DN100001_c2_g2_i7   CIO1B_SALSA       309       394       412   \n",
       "4  TRINITY_DN100001_c2_g3_i3   CIO1B_SALSA       382       375       456   \n",
       "\n",
       "   MIM_8d_1  MIM_8d_2  MIM_8d_3     baseMean  log2FoldChange     lfcSE  \\\n",
       "0       415       556       253   453.488632        0.213960  0.314849   \n",
       "1         0         0         0     0.000000             NaN       NaN   \n",
       "2       940      1042      1237  1066.823351       -0.183666  0.266745   \n",
       "3       243       290       280   312.751830        0.261589  0.261880   \n",
       "4       275       364       350   359.009621        0.112693  0.265376   \n",
       "\n",
       "       stat    pvalue      padj           XP_01  \n",
       "0  0.679564  0.496780  0.999971  XP_013978521.1  \n",
       "1       NaN       NaN       NaN             NaN  \n",
       "2 -0.688546  0.491109  0.999971  XP_014027367.1  \n",
       "3  0.998889  0.317849  0.999971  XP_014015694.1  \n",
       "4  0.424654  0.671089  0.999971  XP_014027367.1  "
      ]
     },
     "execution_count": 23,
     "metadata": {},
     "output_type": "execute_result"
    }
   ],
   "source": [
    "mismim8d.head()"
   ]
  },
  {
   "cell_type": "code",
   "execution_count": 24,
   "metadata": {},
   "outputs": [],
   "source": [
    "merged_mim8d = merged.merge(mismim8d, on='XP_01')"
   ]
  },
  {
   "cell_type": "code",
   "execution_count": 25,
   "metadata": {},
   "outputs": [],
   "source": [
    "merged_mim8d.to_csv(path+'deseq_MIM_8d_rnahybrid_output_w_names.csv', index=False)"
   ]
  },
  {
   "cell_type": "code",
   "execution_count": null,
   "metadata": {},
   "outputs": [],
   "source": []
  },
  {
   "cell_type": "code",
   "execution_count": 23,
   "metadata": {},
   "outputs": [],
   "source": [
    "# połączenie identów transkryptów UTR z PCT\n",
    "utr = pd.read_csv(path+'mRNA_UTR_PROTEINS_merged_edited_copy.csv', low_memory=False)\n",
    "pct = pd.read_csv(path+'report_salmo_annot_feature_map_salmo_proteins_xp01_copy.csv', low_memory=False)"
   ]
  },
  {
   "cell_type": "code",
   "execution_count": 28,
   "metadata": {},
   "outputs": [
    {
     "data": {
      "text/plain": [
       "(387202, 2)"
      ]
     },
     "execution_count": 28,
     "metadata": {},
     "output_type": "execute_result"
    }
   ],
   "source": [
    "appended = utr.append(pct, sort=False)"
   ]
  },
  {
   "cell_type": "code",
   "execution_count": 25,
   "metadata": {},
   "outputs": [
    {
     "data": {
      "text/plain": [
       "(387352, 2)"
      ]
     },
     "execution_count": 25,
     "metadata": {},
     "output_type": "execute_result"
    }
   ],
   "source": [
    "appended.shape"
   ]
  },
  {
   "cell_type": "code",
   "execution_count": 26,
   "metadata": {},
   "outputs": [
    {
     "data": {
      "text/plain": [
       "387352"
      ]
     },
     "execution_count": 26,
     "metadata": {},
     "output_type": "execute_result"
    }
   ],
   "source": [
    "utr.shape[0] + pct.shape[0]"
   ]
  },
  {
   "cell_type": "code",
   "execution_count": 29,
   "metadata": {},
   "outputs": [],
   "source": [
    "appended.drop_duplicates(inplace=True)"
   ]
  },
  {
   "cell_type": "code",
   "execution_count": 30,
   "metadata": {},
   "outputs": [],
   "source": [
    "appended.to_csv(path+'transcripts_XP_idents_UTR_PCT_appended.csv', index=False)"
   ]
  },
  {
   "cell_type": "code",
   "execution_count": null,
   "metadata": {},
   "outputs": [],
   "source": []
  }
 ],
 "metadata": {
  "kernelspec": {
   "display_name": "Python 3",
   "language": "python",
   "name": "python3"
  },
  "language_info": {
   "codemirror_mode": {
    "name": "ipython",
    "version": 3
   },
   "file_extension": ".py",
   "mimetype": "text/x-python",
   "name": "python",
   "nbconvert_exporter": "python",
   "pygments_lexer": "ipython3",
   "version": "3.7.3"
  }
 },
 "nbformat": 4,
 "nbformat_minor": 2
}
