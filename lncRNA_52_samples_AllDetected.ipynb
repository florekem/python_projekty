{
 "cells": [
  {
   "cell_type": "code",
   "execution_count": 1,
   "metadata": {},
   "outputs": [],
   "source": [
    "import pandas as pd\n",
    "import numpy as np\n",
    "import csv\n",
    "import matplotlib as mpl \n",
    "import matplotlib.pyplot as plt\n",
    "import seaborn as sns"
   ]
  },
  {
   "cell_type": "code",
   "execution_count": 2,
   "metadata": {},
   "outputs": [],
   "source": [
    "df_allDet_1d = pd.read_csv('/mnt/sdb1/Project_Sieja_MCLR_52/2_pipeline/7_counting_transcripts/noncoding_novel/opracowane_deseq/podejcie_MW/alldetected/alldetected_1d.csv', low_memory=False)\n",
    "df_allDet_6d = pd.read_csv('/mnt/sdb1/Project_Sieja_MCLR_52/2_pipeline/7_counting_transcripts/noncoding_novel/opracowane_deseq/podejcie_MW/alldetected/alldetected_6d.csv', low_memory=False)\n",
    "df_allDet_9d = pd.read_csv('/mnt/sdb1/Project_Sieja_MCLR_52/2_pipeline/7_counting_transcripts/noncoding_novel/opracowane_deseq/podejcie_MW/alldetected/alldetected_9d.csv', low_memory=False)"
   ]
  },
  {
   "cell_type": "code",
   "execution_count": 3,
   "metadata": {},
   "outputs": [
    {
     "data": {
      "text/html": [
       "<div>\n",
       "<style scoped>\n",
       "    .dataframe tbody tr th:only-of-type {\n",
       "        vertical-align: middle;\n",
       "    }\n",
       "\n",
       "    .dataframe tbody tr th {\n",
       "        vertical-align: top;\n",
       "    }\n",
       "\n",
       "    .dataframe thead th {\n",
       "        text-align: right;\n",
       "    }\n",
       "</style>\n",
       "<table border=\"1\" class=\"dataframe\">\n",
       "  <thead>\n",
       "    <tr style=\"text-align: right;\">\n",
       "      <th></th>\n",
       "      <th>PBS_1d_1</th>\n",
       "      <th>PBS_1d_2</th>\n",
       "      <th>PBS_1d_3</th>\n",
       "      <th>PBS_1d_4</th>\n",
       "      <th>MC_1d_1</th>\n",
       "      <th>MC_1d_2</th>\n",
       "      <th>MC_1d_3</th>\n",
       "      <th>padj</th>\n",
       "      <th>log2FoldChange</th>\n",
       "      <th>pvalue</th>\n",
       "      <th>foldChange</th>\n",
       "      <th>log10padj</th>\n",
       "      <th>day</th>\n",
       "    </tr>\n",
       "    <tr>\n",
       "      <th>ID</th>\n",
       "      <th></th>\n",
       "      <th></th>\n",
       "      <th></th>\n",
       "      <th></th>\n",
       "      <th></th>\n",
       "      <th></th>\n",
       "      <th></th>\n",
       "      <th></th>\n",
       "      <th></th>\n",
       "      <th></th>\n",
       "      <th></th>\n",
       "      <th></th>\n",
       "      <th></th>\n",
       "    </tr>\n",
       "  </thead>\n",
       "  <tbody>\n",
       "    <tr>\n",
       "      <th>TRINITY_DN100003_c1_g1_i1</th>\n",
       "      <td>7.817199</td>\n",
       "      <td>14.355224</td>\n",
       "      <td>28.491641</td>\n",
       "      <td>0.905415</td>\n",
       "      <td>24.794599</td>\n",
       "      <td>17.592376</td>\n",
       "      <td>28.838706</td>\n",
       "      <td>0.591315</td>\n",
       "      <td>0.880855</td>\n",
       "      <td>0.340774</td>\n",
       "      <td>1.841467</td>\n",
       "      <td>0.228181</td>\n",
       "      <td>1</td>\n",
       "    </tr>\n",
       "    <tr>\n",
       "      <th>TRINITY_DN100004_c4_g2_i2</th>\n",
       "      <td>8.794349</td>\n",
       "      <td>19.738433</td>\n",
       "      <td>23.579289</td>\n",
       "      <td>7.243323</td>\n",
       "      <td>23.761490</td>\n",
       "      <td>41.886609</td>\n",
       "      <td>54.072574</td>\n",
       "      <td>0.121629</td>\n",
       "      <td>1.426325</td>\n",
       "      <td>0.025610</td>\n",
       "      <td>2.687613</td>\n",
       "      <td>0.914965</td>\n",
       "      <td>1</td>\n",
       "    </tr>\n",
       "    <tr>\n",
       "      <th>TRINITY_DN100005_c7_g2_i1</th>\n",
       "      <td>781.719872</td>\n",
       "      <td>715.966796</td>\n",
       "      <td>566.885408</td>\n",
       "      <td>826.644268</td>\n",
       "      <td>1365.769144</td>\n",
       "      <td>1068.946249</td>\n",
       "      <td>1544.072397</td>\n",
       "      <td>0.008319</td>\n",
       "      <td>0.875168</td>\n",
       "      <td>0.000725</td>\n",
       "      <td>1.834222</td>\n",
       "      <td>2.079922</td>\n",
       "      <td>1</td>\n",
       "    </tr>\n",
       "    <tr>\n",
       "      <th>TRINITY_DN100005_c8_g3_i1</th>\n",
       "      <td>98.692134</td>\n",
       "      <td>91.514553</td>\n",
       "      <td>90.387275</td>\n",
       "      <td>224.543021</td>\n",
       "      <td>53.721630</td>\n",
       "      <td>46.913002</td>\n",
       "      <td>85.314506</td>\n",
       "      <td>0.162885</td>\n",
       "      <td>-1.031555</td>\n",
       "      <td>0.039173</td>\n",
       "      <td>0.489183</td>\n",
       "      <td>0.788120</td>\n",
       "      <td>1</td>\n",
       "    </tr>\n",
       "    <tr>\n",
       "      <th>TRINITY_DN100005_c9_g1_i1</th>\n",
       "      <td>18.565847</td>\n",
       "      <td>3.588806</td>\n",
       "      <td>21.614348</td>\n",
       "      <td>3.621662</td>\n",
       "      <td>2.066217</td>\n",
       "      <td>1.675464</td>\n",
       "      <td>1.201613</td>\n",
       "      <td>0.102135</td>\n",
       "      <td>-2.832575</td>\n",
       "      <td>0.019972</td>\n",
       "      <td>0.140382</td>\n",
       "      <td>0.990827</td>\n",
       "      <td>1</td>\n",
       "    </tr>\n",
       "  </tbody>\n",
       "</table>\n",
       "</div>"
      ],
      "text/plain": [
       "                             PBS_1d_1    PBS_1d_2    PBS_1d_3    PBS_1d_4  \\\n",
       "ID                                                                          \n",
       "TRINITY_DN100003_c1_g1_i1    7.817199   14.355224   28.491641    0.905415   \n",
       "TRINITY_DN100004_c4_g2_i2    8.794349   19.738433   23.579289    7.243323   \n",
       "TRINITY_DN100005_c7_g2_i1  781.719872  715.966796  566.885408  826.644268   \n",
       "TRINITY_DN100005_c8_g3_i1   98.692134   91.514553   90.387275  224.543021   \n",
       "TRINITY_DN100005_c9_g1_i1   18.565847    3.588806   21.614348    3.621662   \n",
       "\n",
       "                               MC_1d_1      MC_1d_2      MC_1d_3      padj  \\\n",
       "ID                                                                           \n",
       "TRINITY_DN100003_c1_g1_i1    24.794599    17.592376    28.838706  0.591315   \n",
       "TRINITY_DN100004_c4_g2_i2    23.761490    41.886609    54.072574  0.121629   \n",
       "TRINITY_DN100005_c7_g2_i1  1365.769144  1068.946249  1544.072397  0.008319   \n",
       "TRINITY_DN100005_c8_g3_i1    53.721630    46.913002    85.314506  0.162885   \n",
       "TRINITY_DN100005_c9_g1_i1     2.066217     1.675464     1.201613  0.102135   \n",
       "\n",
       "                           log2FoldChange    pvalue  foldChange  log10padj  \\\n",
       "ID                                                                           \n",
       "TRINITY_DN100003_c1_g1_i1        0.880855  0.340774    1.841467   0.228181   \n",
       "TRINITY_DN100004_c4_g2_i2        1.426325  0.025610    2.687613   0.914965   \n",
       "TRINITY_DN100005_c7_g2_i1        0.875168  0.000725    1.834222   2.079922   \n",
       "TRINITY_DN100005_c8_g3_i1       -1.031555  0.039173    0.489183   0.788120   \n",
       "TRINITY_DN100005_c9_g1_i1       -2.832575  0.019972    0.140382   0.990827   \n",
       "\n",
       "                           day  \n",
       "ID                              \n",
       "TRINITY_DN100003_c1_g1_i1    1  \n",
       "TRINITY_DN100004_c4_g2_i2    1  \n",
       "TRINITY_DN100005_c7_g2_i1    1  \n",
       "TRINITY_DN100005_c8_g3_i1    1  \n",
       "TRINITY_DN100005_c9_g1_i1    1  "
      ]
     },
     "execution_count": 3,
     "metadata": {},
     "output_type": "execute_result"
    }
   ],
   "source": [
    "df_allDet_1d.set_index('ID', inplace=True)\n",
    "df_allDet_1d['day'] = 1\n",
    "df_allDet_6d.set_index('ID', inplace=True)\n",
    "df_allDet_6d['day'] = 6\n",
    "df_allDet_9d.set_index('ID', inplace=True)\n",
    "df_allDet_9d['day'] = 9\n",
    "df_allDet_1d.head()"
   ]
  },
  {
   "cell_type": "code",
   "execution_count": null,
   "metadata": {},
   "outputs": [],
   "source": [
    "# TRINITY_DN81499_c3_g6_i1 \n",
    "# TRINITY_DN80414_c8_g1_i6"
   ]
  },
  {
   "cell_type": "code",
   "execution_count": 45,
   "metadata": {},
   "outputs": [],
   "source": [
    "df_trin1 = df_allDet_1d[['log2FoldChange', 'day']].loc[['TRINITY_DN81499_c3_g6_i1', 'TRINITY_DN80414_c8_g1_i6']]"
   ]
  },
  {
   "cell_type": "code",
   "execution_count": 46,
   "metadata": {},
   "outputs": [],
   "source": [
    "df_trin6 = df_allDet_6d[['log2FoldChange', 'day']].loc[['TRINITY_DN81499_c3_g6_i1', 'TRINITY_DN80414_c8_g1_i6']]"
   ]
  },
  {
   "cell_type": "code",
   "execution_count": 47,
   "metadata": {},
   "outputs": [],
   "source": [
    "df_trin9 = df_allDet_9d[['log2FoldChange', 'day']].loc[['TRINITY_DN81499_c3_g6_i1', 'TRINITY_DN80414_c8_g1_i6']]"
   ]
  },
  {
   "cell_type": "code",
   "execution_count": 48,
   "metadata": {
    "scrolled": true
   },
   "outputs": [
    {
     "data": {
      "text/html": [
       "<div>\n",
       "<style scoped>\n",
       "    .dataframe tbody tr th:only-of-type {\n",
       "        vertical-align: middle;\n",
       "    }\n",
       "\n",
       "    .dataframe tbody tr th {\n",
       "        vertical-align: top;\n",
       "    }\n",
       "\n",
       "    .dataframe thead th {\n",
       "        text-align: right;\n",
       "    }\n",
       "</style>\n",
       "<table border=\"1\" class=\"dataframe\">\n",
       "  <thead>\n",
       "    <tr style=\"text-align: right;\">\n",
       "      <th></th>\n",
       "      <th>ID</th>\n",
       "      <th>log2FoldChange</th>\n",
       "      <th>day</th>\n",
       "    </tr>\n",
       "  </thead>\n",
       "  <tbody>\n",
       "    <tr>\n",
       "      <th>0</th>\n",
       "      <td>TRINITY_DN81499_c3_g6_i1</td>\n",
       "      <td>-8.601977</td>\n",
       "      <td>1</td>\n",
       "    </tr>\n",
       "    <tr>\n",
       "      <th>1</th>\n",
       "      <td>TRINITY_DN80414_c8_g1_i6</td>\n",
       "      <td>11.768755</td>\n",
       "      <td>1</td>\n",
       "    </tr>\n",
       "    <tr>\n",
       "      <th>2</th>\n",
       "      <td>TRINITY_DN81499_c3_g6_i1</td>\n",
       "      <td>-9.912948</td>\n",
       "      <td>6</td>\n",
       "    </tr>\n",
       "    <tr>\n",
       "      <th>3</th>\n",
       "      <td>TRINITY_DN80414_c8_g1_i6</td>\n",
       "      <td>12.956501</td>\n",
       "      <td>6</td>\n",
       "    </tr>\n",
       "    <tr>\n",
       "      <th>4</th>\n",
       "      <td>TRINITY_DN81499_c3_g6_i1</td>\n",
       "      <td>-8.452093</td>\n",
       "      <td>9</td>\n",
       "    </tr>\n",
       "    <tr>\n",
       "      <th>5</th>\n",
       "      <td>TRINITY_DN80414_c8_g1_i6</td>\n",
       "      <td>11.686998</td>\n",
       "      <td>9</td>\n",
       "    </tr>\n",
       "  </tbody>\n",
       "</table>\n",
       "</div>"
      ],
      "text/plain": [
       "                         ID  log2FoldChange  day\n",
       "0  TRINITY_DN81499_c3_g6_i1       -8.601977    1\n",
       "1  TRINITY_DN80414_c8_g1_i6       11.768755    1\n",
       "2  TRINITY_DN81499_c3_g6_i1       -9.912948    6\n",
       "3  TRINITY_DN80414_c8_g1_i6       12.956501    6\n",
       "4  TRINITY_DN81499_c3_g6_i1       -8.452093    9\n",
       "5  TRINITY_DN80414_c8_g1_i6       11.686998    9"
      ]
     },
     "execution_count": 48,
     "metadata": {},
     "output_type": "execute_result"
    }
   ],
   "source": [
    "df = [df_trin1, df_trin6, df_trin9]\n",
    "\n",
    "test = pd.concat(df, axis=0)\n",
    "\n",
    "test.reset_index(inplace=True)\n",
    "test"
   ]
  },
  {
   "cell_type": "code",
   "execution_count": 50,
   "metadata": {
    "scrolled": false
   },
   "outputs": [
    {
     "data": {
      "text/plain": [
       "<matplotlib.axes._subplots.AxesSubplot at 0x7f415bbf26d0>"
      ]
     },
     "execution_count": 50,
     "metadata": {},
     "output_type": "execute_result"
    },
    {
     "data": {
      "image/png": "[encoded data removed]",
      "text/plain": [
       "<Figure size 432x288 with 1 Axes>"
      ]
     },
     "metadata": {
      "needs_background": "light"
     },
     "output_type": "display_data"
    }
   ],
   "source": [
    "#sns.boxplot(x='day', y='log2FoldChange',  data=test, hue='ID')\n",
    "sns.lineplot(x='day', y='log2FoldChange', data=test, hue='ID')"
   ]
  },
  {
   "cell_type": "code",
   "execution_count": 35,
   "metadata": {},
   "outputs": [
    {
     "data": {
      "text/html": [
       "<div>\n",
       "<style scoped>\n",
       "    .dataframe tbody tr th:only-of-type {\n",
       "        vertical-align: middle;\n",
       "    }\n",
       "\n",
       "    .dataframe tbody tr th {\n",
       "        vertical-align: top;\n",
       "    }\n",
       "\n",
       "    .dataframe thead th {\n",
       "        text-align: right;\n",
       "    }\n",
       "</style>\n",
       "<table border=\"1\" class=\"dataframe\">\n",
       "  <thead>\n",
       "    <tr style=\"text-align: right;\">\n",
       "      <th></th>\n",
       "      <th>total_bill</th>\n",
       "      <th>tip</th>\n",
       "      <th>sex</th>\n",
       "      <th>smoker</th>\n",
       "      <th>day</th>\n",
       "      <th>time</th>\n",
       "      <th>size</th>\n",
       "    </tr>\n",
       "  </thead>\n",
       "  <tbody>\n",
       "    <tr>\n",
       "      <th>0</th>\n",
       "      <td>16.99</td>\n",
       "      <td>1.01</td>\n",
       "      <td>Female</td>\n",
       "      <td>No</td>\n",
       "      <td>Sun</td>\n",
       "      <td>Dinner</td>\n",
       "      <td>2</td>\n",
       "    </tr>\n",
       "    <tr>\n",
       "      <th>1</th>\n",
       "      <td>10.34</td>\n",
       "      <td>1.66</td>\n",
       "      <td>Male</td>\n",
       "      <td>No</td>\n",
       "      <td>Sun</td>\n",
       "      <td>Dinner</td>\n",
       "      <td>3</td>\n",
       "    </tr>\n",
       "    <tr>\n",
       "      <th>2</th>\n",
       "      <td>21.01</td>\n",
       "      <td>3.50</td>\n",
       "      <td>Male</td>\n",
       "      <td>No</td>\n",
       "      <td>Sun</td>\n",
       "      <td>Dinner</td>\n",
       "      <td>3</td>\n",
       "    </tr>\n",
       "    <tr>\n",
       "      <th>3</th>\n",
       "      <td>23.68</td>\n",
       "      <td>3.31</td>\n",
       "      <td>Male</td>\n",
       "      <td>No</td>\n",
       "      <td>Sun</td>\n",
       "      <td>Dinner</td>\n",
       "      <td>2</td>\n",
       "    </tr>\n",
       "    <tr>\n",
       "      <th>4</th>\n",
       "      <td>24.59</td>\n",
       "      <td>3.61</td>\n",
       "      <td>Female</td>\n",
       "      <td>No</td>\n",
       "      <td>Sun</td>\n",
       "      <td>Dinner</td>\n",
       "      <td>4</td>\n",
       "    </tr>\n",
       "  </tbody>\n",
       "</table>\n",
       "</div>"
      ],
      "text/plain": [
       "   total_bill   tip     sex smoker  day    time  size\n",
       "0       16.99  1.01  Female     No  Sun  Dinner     2\n",
       "1       10.34  1.66    Male     No  Sun  Dinner     3\n",
       "2       21.01  3.50    Male     No  Sun  Dinner     3\n",
       "3       23.68  3.31    Male     No  Sun  Dinner     2\n",
       "4       24.59  3.61  Female     No  Sun  Dinner     4"
      ]
     },
     "execution_count": 35,
     "metadata": {},
     "output_type": "execute_result"
    }
   ],
   "source": [
    "tips = sns.load_dataset(\"tips\")\n",
    "tips.head()"
   ]
  },
  {
   "cell_type": "code",
   "execution_count": null,
   "metadata": {},
   "outputs": [],
   "source": []
  },
  {
   "cell_type": "code",
   "execution_count": null,
   "metadata": {},
   "outputs": [],
   "source": []
  },
  {
   "cell_type": "code",
   "execution_count": null,
   "metadata": {},
   "outputs": [],
   "source": []
  }
 ],
 "metadata": {
  "kernelspec": {
   "display_name": "Python 3",
   "language": "python",
   "name": "python3"
  },
  "language_info": {
   "codemirror_mode": {
    "name": "ipython",
    "version": 3
   },
   "file_extension": ".py",
   "mimetype": "text/x-python",
   "name": "python",
   "nbconvert_exporter": "python",
   "pygments_lexer": "ipython3",
   "version": "3.7.3"
  }
 },
 "nbformat": 4,
 "nbformat_minor": 2
}
