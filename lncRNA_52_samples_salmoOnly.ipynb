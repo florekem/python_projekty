{
 "cells": [
  {
   "cell_type": "code",
   "execution_count": 1,
   "metadata": {},
   "outputs": [],
   "source": [
    "import pandas as pd\n",
    "import numpy as np\n",
    "import csv\n",
    "import matplotlib as mpl \n",
    "import matplotlib.pyplot as plt"
   ]
  },
  {
   "cell_type": "markdown",
   "metadata": {},
   "source": [
    "### deseq OUT"
   ]
  },
  {
   "cell_type": "code",
   "execution_count": 4,
   "metadata": {},
   "outputs": [],
   "source": [
    "# podejcie MW #\n",
    "#--------------#\n",
    "# wyniki deseq:\n",
    "# pvalue jest normalizowane do padj przez \"the Holm method\" http://www.math.ucla.edu/~anderson/rw1001/library/base/html/p.adjust.html\n",
    "# w analizie odciecie jest przy padj = 0.001 (mozliwe bylo w DEBROWSER) i taki mam plik wynikowy, podzielony na UP/DOWN\n",
    "# (w zasadzie dwa pliki), z ktorych na podstawie najwyzszego log2foldchange wzialem po 100 najwyzszch sekwencji,\n",
    "# polaczylem razem i zblastowalem. Plik ktory jest ponizej to zlepek 100UP i 100DOWN wynikow deseq, tych samych, ktore sie blastowaly"
   ]
  },
  {
   "cell_type": "code",
   "execution_count": 3,
   "metadata": {},
   "outputs": [
    {
     "data": {
      "text/html": [
       "<div>\n",
       "<style scoped>\n",
       "    .dataframe tbody tr th:only-of-type {\n",
       "        vertical-align: middle;\n",
       "    }\n",
       "\n",
       "    .dataframe tbody tr th {\n",
       "        vertical-align: top;\n",
       "    }\n",
       "\n",
       "    .dataframe thead th {\n",
       "        text-align: right;\n",
       "    }\n",
       "</style>\n",
       "<table border=\"1\" class=\"dataframe\">\n",
       "  <thead>\n",
       "    <tr style=\"text-align: right;\">\n",
       "      <th></th>\n",
       "      <th>ID</th>\n",
       "      <th>PBS_1d_1</th>\n",
       "      <th>PBS_1d_2</th>\n",
       "      <th>PBS_1d_3</th>\n",
       "      <th>PBS_1d_4</th>\n",
       "      <th>MC_1d_1</th>\n",
       "      <th>MC_1d_2</th>\n",
       "      <th>MC_1d_3</th>\n",
       "      <th>padj</th>\n",
       "      <th>log2FoldChange</th>\n",
       "      <th>pvalue</th>\n",
       "      <th>foldChange</th>\n",
       "      <th>log10padj</th>\n",
       "    </tr>\n",
       "  </thead>\n",
       "  <tbody>\n",
       "    <tr>\n",
       "      <th>0</th>\n",
       "      <td>TRINITY_DN96009_c1_g3_i3</td>\n",
       "      <td>0.0</td>\n",
       "      <td>0.0</td>\n",
       "      <td>0.0</td>\n",
       "      <td>0.000000</td>\n",
       "      <td>1926.746939</td>\n",
       "      <td>838.569902</td>\n",
       "      <td>912.024085</td>\n",
       "      <td>1.819644e-43</td>\n",
       "      <td>12.791799</td>\n",
       "      <td>2.678902e-47</td>\n",
       "      <td>7091.127494</td>\n",
       "      <td>42.740014</td>\n",
       "    </tr>\n",
       "    <tr>\n",
       "      <th>1</th>\n",
       "      <td>TRINITY_DN96009_c1_g7_i1</td>\n",
       "      <td>0.0</td>\n",
       "      <td>0.0</td>\n",
       "      <td>0.0</td>\n",
       "      <td>0.000000</td>\n",
       "      <td>1545.529985</td>\n",
       "      <td>939.097763</td>\n",
       "      <td>954.080531</td>\n",
       "      <td>2.081684e-60</td>\n",
       "      <td>12.695019</td>\n",
       "      <td>1.094528e-64</td>\n",
       "      <td>6631.036435</td>\n",
       "      <td>59.681585</td>\n",
       "    </tr>\n",
       "    <tr>\n",
       "      <th>2</th>\n",
       "      <td>TRINITY_DN96413_c4_g3_i1</td>\n",
       "      <td>0.0</td>\n",
       "      <td>0.0</td>\n",
       "      <td>0.0</td>\n",
       "      <td>0.000000</td>\n",
       "      <td>1395.729284</td>\n",
       "      <td>899.724351</td>\n",
       "      <td>217.491910</td>\n",
       "      <td>4.846018e-22</td>\n",
       "      <td>12.242750</td>\n",
       "      <td>5.707493e-25</td>\n",
       "      <td>4846.575702</td>\n",
       "      <td>21.314615</td>\n",
       "    </tr>\n",
       "    <tr>\n",
       "      <th>3</th>\n",
       "      <td>TRINITY_DN80414_c8_g1_i6</td>\n",
       "      <td>0.0</td>\n",
       "      <td>0.0</td>\n",
       "      <td>0.0</td>\n",
       "      <td>0.000000</td>\n",
       "      <td>373.985197</td>\n",
       "      <td>226.187686</td>\n",
       "      <td>1210.024049</td>\n",
       "      <td>2.914640e-20</td>\n",
       "      <td>11.768755</td>\n",
       "      <td>4.260318e-23</td>\n",
       "      <td>3489.378944</td>\n",
       "      <td>19.535415</td>\n",
       "    </tr>\n",
       "    <tr>\n",
       "      <th>4</th>\n",
       "      <td>TRINITY_DN91051_c3_g1_i1</td>\n",
       "      <td>0.0</td>\n",
       "      <td>0.0</td>\n",
       "      <td>0.0</td>\n",
       "      <td>0.905415</td>\n",
       "      <td>1429.821857</td>\n",
       "      <td>965.067460</td>\n",
       "      <td>561.153159</td>\n",
       "      <td>7.112150e-42</td>\n",
       "      <td>11.755678</td>\n",
       "      <td>1.271429e-45</td>\n",
       "      <td>3457.893280</td>\n",
       "      <td>41.147999</td>\n",
       "    </tr>\n",
       "  </tbody>\n",
       "</table>\n",
       "</div>"
      ],
      "text/plain": [
       "                         ID  PBS_1d_1  PBS_1d_2  PBS_1d_3  PBS_1d_4  \\\n",
       "0  TRINITY_DN96009_c1_g3_i3       0.0       0.0       0.0  0.000000   \n",
       "1  TRINITY_DN96009_c1_g7_i1       0.0       0.0       0.0  0.000000   \n",
       "2  TRINITY_DN96413_c4_g3_i1       0.0       0.0       0.0  0.000000   \n",
       "3  TRINITY_DN80414_c8_g1_i6       0.0       0.0       0.0  0.000000   \n",
       "4  TRINITY_DN91051_c3_g1_i1       0.0       0.0       0.0  0.905415   \n",
       "\n",
       "       MC_1d_1     MC_1d_2      MC_1d_3          padj  log2FoldChange  \\\n",
       "0  1926.746939  838.569902   912.024085  1.819644e-43       12.791799   \n",
       "1  1545.529985  939.097763   954.080531  2.081684e-60       12.695019   \n",
       "2  1395.729284  899.724351   217.491910  4.846018e-22       12.242750   \n",
       "3   373.985197  226.187686  1210.024049  2.914640e-20       11.768755   \n",
       "4  1429.821857  965.067460   561.153159  7.112150e-42       11.755678   \n",
       "\n",
       "         pvalue   foldChange  log10padj  \n",
       "0  2.678902e-47  7091.127494  42.740014  \n",
       "1  1.094528e-64  6631.036435  59.681585  \n",
       "2  5.707493e-25  4846.575702  21.314615  \n",
       "3  4.260318e-23  3489.378944  19.535415  \n",
       "4  1.271429e-45  3457.893280  41.147999  "
      ]
     },
     "execution_count": 3,
     "metadata": {},
     "output_type": "execute_result"
    }
   ],
   "source": [
    "df_deseq_out = pd.read_csv('/mnt/sdb1/Project_Sieja_MCLR_52/2_pipeline/7_counting_transcripts/noncoding_novel/opracowane_deseq/podejcie_MW/1d/PBS1d_vs_MC1d_DESEQ_100UP_100DOWN_together.csv', sep='\\t')\n",
    "#df_deseq_out = pd.read_csv('/mnt/sdb1/Project_Sieja_MCLR_52/2_pipeline/7_counting_transcripts/noncoding_novel/opracowane_deseq/podejcie_MW/6d/PBS1d_vs_MC6d_DESEQ_100UP_100DOWN_together.csv')\n",
    "#df_deseq_out = pd.read_csv('/mnt/sdb1/Project_Sieja_MCLR_52/2_pipeline/7_counting_transcripts/noncoding_novel/opracowane_deseq/podejcie_MW/9d/PBS1d_vs_MC9d_DESEQ_100UP_100DOWN_together.csv')\n",
    "df_deseq_out.head()"
   ]
  },
  {
   "cell_type": "markdown",
   "metadata": {},
   "source": [
    "# filtrowanie pliku wynikowego blasta"
   ]
  },
  {
   "cell_type": "code",
   "execution_count": 3,
   "metadata": {},
   "outputs": [
    {
     "data": {
      "text/plain": [
       "(5265, 5)"
      ]
     },
     "execution_count": 3,
     "metadata": {},
     "output_type": "execute_result"
    }
   ],
   "source": [
    "df_blast_results = pd.read_csv('/mnt/sdb1/Project_Sieja_MCLR_52/2_pipeline/7_counting_transcripts/noncoding_novel/opracowane_deseq/podejcie_MW/9d/salmo_salar_only/blast_salmo_ony.csv', sep='\\t', low_memory=False)\n",
    "df_blast_results.shape"
   ]
  },
  {
   "cell_type": "markdown",
   "metadata": {},
   "source": [
    "### odfiltrowanie zbyt niskiego coverage (pomijamy w tej wersji salmo only)"
   ]
  },
  {
   "cell_type": "markdown",
   "metadata": {},
   "source": [
    "### filtrowanie mRNA only"
   ]
  },
  {
   "cell_type": "code",
   "execution_count": 4,
   "metadata": {},
   "outputs": [],
   "source": [
    "# select best hit based on evalue (drop_duplicates)\n",
    "df_best_hit = df_blast_results.sort_values('evalue', ascending=True).drop_duplicates('query').sort_index()\n"
   ]
  },
  {
   "cell_type": "code",
   "execution_count": 5,
   "metadata": {},
   "outputs": [
    {
     "data": {
      "text/plain": [
       "(146, 5)"
      ]
     },
     "execution_count": 5,
     "metadata": {},
     "output_type": "execute_result"
    }
   ],
   "source": [
    "df_best_hit.shape"
   ]
  },
  {
   "cell_type": "code",
   "execution_count": 6,
   "metadata": {},
   "outputs": [
    {
     "data": {
      "text/plain": [
       "(140, 5)"
      ]
     },
     "execution_count": 6,
     "metadata": {},
     "output_type": "execute_result"
    }
   ],
   "source": [
    "# select what you need based on string\n",
    "\n",
    "# w tym wypadku mRNA only oznacza pominiecie blastów z ncRNA, mixRNA i innych dziwnych, nie oznacza natomiast\n",
    "# zabawy z chromosome i filtrowaniem tego dodatkowo, poniewaz blastujac tylko do salmo salar, nie mam (chyba)\n",
    "# zadnych hitow chromosome. Chromosome (czyli hity bez mRNA) w tym wypadku to takie, ktore w blascie mialy NO HIT.\n",
    "# czyli zamiast filtrowania po chromosome nalezy wrzucic w te grupe trinity, ktore mialy NO HIT.\n",
    "\n",
    "df_mRNA_only = df_best_hit[df_best_hit['al_title'].str.contains('mRNA')]\n",
    "df_mRNA_only.shape\n"
   ]
  },
  {
   "cell_type": "code",
   "execution_count": 7,
   "metadata": {},
   "outputs": [],
   "source": [
    "df_mRNA_only.to_csv('/mnt/sdb1/Project_Sieja_MCLR_52/2_pipeline/7_counting_transcripts/noncoding_novel/opracowane_deseq/podejcie_MW/9d/salmo_salar_only/PBS1d_vs_MCLR9d_mRNA_only_wo_cov20.csv', index=False)"
   ]
  },
  {
   "cell_type": "code",
   "execution_count": 8,
   "metadata": {},
   "outputs": [
    {
     "name": "stderr",
     "output_type": "stream",
     "text": [
      "/home/maciek/anaconda3/lib/python3.7/site-packages/pandas/core/frame.py:3781: SettingWithCopyWarning: \n",
      "A value is trying to be set on a copy of a slice from a DataFrame\n",
      "\n",
      "See the caveats in the documentation: http://pandas.pydata.org/pandas-docs/stable/indexing.html#indexing-view-versus-copy\n",
      "  return super(DataFrame, self).rename(**kwargs)\n"
     ]
    },
    {
     "data": {
      "text/html": [
       "<div>\n",
       "<style scoped>\n",
       "    .dataframe tbody tr th:only-of-type {\n",
       "        vertical-align: middle;\n",
       "    }\n",
       "\n",
       "    .dataframe tbody tr th {\n",
       "        vertical-align: top;\n",
       "    }\n",
       "\n",
       "    .dataframe thead th {\n",
       "        text-align: right;\n",
       "    }\n",
       "</style>\n",
       "<table border=\"1\" class=\"dataframe\">\n",
       "  <thead>\n",
       "    <tr style=\"text-align: right;\">\n",
       "      <th></th>\n",
       "      <th>ID</th>\n",
       "      <th>al_title</th>\n",
       "      <th>al_accession</th>\n",
       "      <th>evalue</th>\n",
       "      <th>coverage</th>\n",
       "    </tr>\n",
       "  </thead>\n",
       "  <tbody>\n",
       "    <tr>\n",
       "      <th>0</th>\n",
       "      <td>TRINITY_DN103835_c12_g1_i10</td>\n",
       "      <td>gi|929125660|ref|XM_014125024.1| PREDICTED: Sa...</td>\n",
       "      <td>XM_014125024</td>\n",
       "      <td>5.793890e-13</td>\n",
       "      <td>19.583333</td>\n",
       "    </tr>\n",
       "    <tr>\n",
       "      <th>1</th>\n",
       "      <td>TRINITY_DN106993_c0_g2_i1</td>\n",
       "      <td>gi|929283969|ref|XM_014163494.1| PREDICTED: Sa...</td>\n",
       "      <td>XM_014163494</td>\n",
       "      <td>1.500890e-63</td>\n",
       "      <td>84.444444</td>\n",
       "    </tr>\n",
       "    <tr>\n",
       "      <th>2</th>\n",
       "      <td>TRINITY_DN95065_c7_g1_i9</td>\n",
       "      <td>gi|929231010|ref|XM_014136583.1| PREDICTED: Sa...</td>\n",
       "      <td>XM_014136583</td>\n",
       "      <td>2.025710e-32</td>\n",
       "      <td>12.116564</td>\n",
       "    </tr>\n",
       "    <tr>\n",
       "      <th>104</th>\n",
       "      <td>TRINITY_DN90972_c8_g1_i1</td>\n",
       "      <td>gi|929280255|ref|XM_014161528.1| PREDICTED: Sa...</td>\n",
       "      <td>XM_014161528</td>\n",
       "      <td>3.389730e-30</td>\n",
       "      <td>7.692308</td>\n",
       "    </tr>\n",
       "    <tr>\n",
       "      <th>210</th>\n",
       "      <td>TRINITY_DN96539_c2_g1_i1</td>\n",
       "      <td>gi|929304890|ref|XM_014174496.1| PREDICTED: Sa...</td>\n",
       "      <td>XM_014174496</td>\n",
       "      <td>4.620110e-173</td>\n",
       "      <td>40.988593</td>\n",
       "    </tr>\n",
       "  </tbody>\n",
       "</table>\n",
       "</div>"
      ],
      "text/plain": [
       "                              ID  \\\n",
       "0    TRINITY_DN103835_c12_g1_i10   \n",
       "1      TRINITY_DN106993_c0_g2_i1   \n",
       "2       TRINITY_DN95065_c7_g1_i9   \n",
       "104     TRINITY_DN90972_c8_g1_i1   \n",
       "210     TRINITY_DN96539_c2_g1_i1   \n",
       "\n",
       "                                              al_title  al_accession  \\\n",
       "0    gi|929125660|ref|XM_014125024.1| PREDICTED: Sa...  XM_014125024   \n",
       "1    gi|929283969|ref|XM_014163494.1| PREDICTED: Sa...  XM_014163494   \n",
       "2    gi|929231010|ref|XM_014136583.1| PREDICTED: Sa...  XM_014136583   \n",
       "104  gi|929280255|ref|XM_014161528.1| PREDICTED: Sa...  XM_014161528   \n",
       "210  gi|929304890|ref|XM_014174496.1| PREDICTED: Sa...  XM_014174496   \n",
       "\n",
       "            evalue   coverage  \n",
       "0     5.793890e-13  19.583333  \n",
       "1     1.500890e-63  84.444444  \n",
       "2     2.025710e-32  12.116564  \n",
       "104   3.389730e-30   7.692308  \n",
       "210  4.620110e-173  40.988593  "
      ]
     },
     "execution_count": 8,
     "metadata": {},
     "output_type": "execute_result"
    }
   ],
   "source": [
    "# łączenie odfiltrowanych mRNA z wynikami deseq\n",
    "\n",
    "df_mRNA_only.rename(columns={'query' : 'ID'}, inplace=True)\n",
    "df_mRNA_only.head()"
   ]
  },
  {
   "cell_type": "code",
   "execution_count": 9,
   "metadata": {},
   "outputs": [],
   "source": [
    "result = pd.merge(df_deseq_out, df_mRNA_only, on='ID')\n",
    "result.sort_values(by='log2FoldChange', inplace=True)"
   ]
  },
  {
   "cell_type": "code",
   "execution_count": 10,
   "metadata": {},
   "outputs": [],
   "source": [
    "result.to_csv('/mnt/sdb1/Project_Sieja_MCLR_52/2_pipeline/7_counting_transcripts/noncoding_novel/opracowane_deseq/podejcie_MW/9d/salmo_salar_only/FINAL_RESULT/mRNA_PBS_1d_vs_MC2_9d_deseq_w_mRNA_names.csv', index=False)"
   ]
  },
  {
   "cell_type": "markdown",
   "metadata": {},
   "source": [
    "# TO DO: XM z tego ^^ pozamieniac na XP w unirefie"
   ]
  },
  {
   "cell_type": "code",
   "execution_count": null,
   "metadata": {},
   "outputs": [],
   "source": []
  },
  {
   "cell_type": "markdown",
   "metadata": {},
   "source": [
    "XM zamienilem na XP, ale tez na Entry, czyli taki akcession, ktory ma w sobie wszystkie XM danego rodzaju, czyli wszystkie transcript warianty mieszcza sie pod tym numerem. dlatego bede porownywal ze soba nie XP, ale wlasnie Entry "
   ]
  },
  {
   "cell_type": "code",
   "execution_count": 4,
   "metadata": {},
   "outputs": [],
   "source": [
    "mRNA = pd.read_csv('/mnt/sdb1/Project_Sieja_MCLR_52/2_pipeline/7_counting_transcripts/noncoding_novel/opracowane_deseq/podejcie_MW/1d/salmo_salar_only/FINAL_RESULT/mRNA_PBS_1d_vs_MC2_1d_deseq_w_mRNA_names.csv')\n",
    "#mRNA = pd.read_csv('/mnt/sdb1/Project_Sieja_MCLR_52/2_pipeline/7_counting_transcripts/noncoding_novel/opracowane_deseq/podejcie_MW/6d/salmo_salar_only/FINAL_RESULT/mRNA_PBS_1d_vs_MC2_6d_deseq_w_mRNA_names.csv')\n",
    "#mRNA = pd.read_csv('/mnt/sdb1/Project_Sieja_MCLR_52/2_pipeline/7_counting_transcripts/noncoding_novel/opracowane_deseq/podejcie_MW/9d/salmo_salar_only/FINAL_RESULT/mRNA_PBS_1d_vs_MC2_9d_deseq_w_mRNA_names.csv')"
   ]
  },
  {
   "cell_type": "code",
   "execution_count": 5,
   "metadata": {},
   "outputs": [
    {
     "data": {
      "text/html": [
       "<div>\n",
       "<style scoped>\n",
       "    .dataframe tbody tr th:only-of-type {\n",
       "        vertical-align: middle;\n",
       "    }\n",
       "\n",
       "    .dataframe tbody tr th {\n",
       "        vertical-align: top;\n",
       "    }\n",
       "\n",
       "    .dataframe thead th {\n",
       "        text-align: right;\n",
       "    }\n",
       "</style>\n",
       "<table border=\"1\" class=\"dataframe\">\n",
       "  <thead>\n",
       "    <tr style=\"text-align: right;\">\n",
       "      <th></th>\n",
       "      <th>ID</th>\n",
       "      <th>PBS_1d_1</th>\n",
       "      <th>PBS_1d_2</th>\n",
       "      <th>PBS_1d_3</th>\n",
       "      <th>PBS_1d_4</th>\n",
       "      <th>MC_6d_1</th>\n",
       "      <th>MC_6d_2</th>\n",
       "      <th>MC_6d_3</th>\n",
       "      <th>padj</th>\n",
       "      <th>log2FoldChange</th>\n",
       "      <th>pvalue</th>\n",
       "      <th>foldChange</th>\n",
       "      <th>log10padj</th>\n",
       "      <th>al_title</th>\n",
       "      <th>al_accession</th>\n",
       "      <th>evalue</th>\n",
       "      <th>coverage</th>\n",
       "    </tr>\n",
       "  </thead>\n",
       "  <tbody>\n",
       "    <tr>\n",
       "      <th>0</th>\n",
       "      <td>TRINITY_DN99250_c2_g1_i11</td>\n",
       "      <td>133.321807</td>\n",
       "      <td>61.189811</td>\n",
       "      <td>85.545861</td>\n",
       "      <td>388.751130</td>\n",
       "      <td>0.000000</td>\n",
       "      <td>0.000000</td>\n",
       "      <td>0.0</td>\n",
       "      <td>3.221348e-12</td>\n",
       "      <td>-10,0036064708546</td>\n",
       "      <td>1.583056e-13</td>\n",
       "      <td>0.000974</td>\n",
       "      <td>11.491962</td>\n",
       "      <td>gi|929103804|ref|XM_014207544.1| PREDICTED: Sa...</td>\n",
       "      <td>XM_014207544</td>\n",
       "      <td>1.315190e-06</td>\n",
       "      <td>9.565217</td>\n",
       "    </tr>\n",
       "    <tr>\n",
       "      <th>1</th>\n",
       "      <td>TRINITY_DN95730_c6_g1_i1</td>\n",
       "      <td>336.014309</td>\n",
       "      <td>145.451191</td>\n",
       "      <td>154.640595</td>\n",
       "      <td>47.602179</td>\n",
       "      <td>0.000000</td>\n",
       "      <td>0.000000</td>\n",
       "      <td>0.0</td>\n",
       "      <td>1.463072e-13</td>\n",
       "      <td>-10,0346168100071</td>\n",
       "      <td>6.035825e-15</td>\n",
       "      <td>0.000953</td>\n",
       "      <td>12.834734</td>\n",
       "      <td>gi|929335812|ref|XM_014185888.1| PREDICTED: Sa...</td>\n",
       "      <td>XM_014185888</td>\n",
       "      <td>3.579930e-22</td>\n",
       "      <td>11.173975</td>\n",
       "    </tr>\n",
       "    <tr>\n",
       "      <th>2</th>\n",
       "      <td>TRINITY_DN111070_c5_g1_i1</td>\n",
       "      <td>401.049337</td>\n",
       "      <td>787.442653</td>\n",
       "      <td>610.885186</td>\n",
       "      <td>788.411093</td>\n",
       "      <td>0.000000</td>\n",
       "      <td>1.835489</td>\n",
       "      <td>0.0</td>\n",
       "      <td>5.516161e-40</td>\n",
       "      <td>-10,0946395263019</td>\n",
       "      <td>1.478208e-42</td>\n",
       "      <td>0.000915</td>\n",
       "      <td>39.258363</td>\n",
       "      <td>gi|929240879|ref|XM_014140918.1| PREDICTED: Sa...</td>\n",
       "      <td>XM_014140918</td>\n",
       "      <td>1.596360e-50</td>\n",
       "      <td>23.388582</td>\n",
       "    </tr>\n",
       "    <tr>\n",
       "      <th>3</th>\n",
       "      <td>TRINITY_DN108512_c0_g5_i1</td>\n",
       "      <td>557.133403</td>\n",
       "      <td>803.492440</td>\n",
       "      <td>809.395453</td>\n",
       "      <td>410.568795</td>\n",
       "      <td>1.679643</td>\n",
       "      <td>0.000000</td>\n",
       "      <td>0.0</td>\n",
       "      <td>4.176010e-39</td>\n",
       "      <td>-10,1005511170429</td>\n",
       "      <td>1.220047e-41</td>\n",
       "      <td>0.000911</td>\n",
       "      <td>38.379238</td>\n",
       "      <td>gi|929143564|ref|XM_014127772.1| PREDICTED: Sa...</td>\n",
       "      <td>XM_014127772</td>\n",
       "      <td>9.607620e-48</td>\n",
       "      <td>28.832117</td>\n",
       "    </tr>\n",
       "    <tr>\n",
       "      <th>4</th>\n",
       "      <td>TRINITY_DN108989_c16_g1_i1</td>\n",
       "      <td>114.895215</td>\n",
       "      <td>153.476084</td>\n",
       "      <td>257.734324</td>\n",
       "      <td>198.342413</td>\n",
       "      <td>0.000000</td>\n",
       "      <td>0.000000</td>\n",
       "      <td>0.0</td>\n",
       "      <td>1.181058e-25</td>\n",
       "      <td>-10,1184268669784</td>\n",
       "      <td>1.232673e-27</td>\n",
       "      <td>0.000900</td>\n",
       "      <td>24.927729</td>\n",
       "      <td>gi|929107150|ref|XM_014209300.1| PREDICTED: Sa...</td>\n",
       "      <td>XM_014209300</td>\n",
       "      <td>5.782300e-45</td>\n",
       "      <td>20.299728</td>\n",
       "    </tr>\n",
       "  </tbody>\n",
       "</table>\n",
       "</div>"
      ],
      "text/plain": [
       "                           ID    PBS_1d_1    PBS_1d_2    PBS_1d_3    PBS_1d_4  \\\n",
       "0   TRINITY_DN99250_c2_g1_i11  133.321807   61.189811   85.545861  388.751130   \n",
       "1    TRINITY_DN95730_c6_g1_i1  336.014309  145.451191  154.640595   47.602179   \n",
       "2   TRINITY_DN111070_c5_g1_i1  401.049337  787.442653  610.885186  788.411093   \n",
       "3   TRINITY_DN108512_c0_g5_i1  557.133403  803.492440  809.395453  410.568795   \n",
       "4  TRINITY_DN108989_c16_g1_i1  114.895215  153.476084  257.734324  198.342413   \n",
       "\n",
       "    MC_6d_1   MC_6d_2  MC_6d_3          padj     log2FoldChange        pvalue  \\\n",
       "0  0.000000  0.000000      0.0  3.221348e-12  -10,0036064708546  1.583056e-13   \n",
       "1  0.000000  0.000000      0.0  1.463072e-13  -10,0346168100071  6.035825e-15   \n",
       "2  0.000000  1.835489      0.0  5.516161e-40  -10,0946395263019  1.478208e-42   \n",
       "3  1.679643  0.000000      0.0  4.176010e-39  -10,1005511170429  1.220047e-41   \n",
       "4  0.000000  0.000000      0.0  1.181058e-25  -10,1184268669784  1.232673e-27   \n",
       "\n",
       "   foldChange  log10padj                                           al_title  \\\n",
       "0    0.000974  11.491962  gi|929103804|ref|XM_014207544.1| PREDICTED: Sa...   \n",
       "1    0.000953  12.834734  gi|929335812|ref|XM_014185888.1| PREDICTED: Sa...   \n",
       "2    0.000915  39.258363  gi|929240879|ref|XM_014140918.1| PREDICTED: Sa...   \n",
       "3    0.000911  38.379238  gi|929143564|ref|XM_014127772.1| PREDICTED: Sa...   \n",
       "4    0.000900  24.927729  gi|929107150|ref|XM_014209300.1| PREDICTED: Sa...   \n",
       "\n",
       "   al_accession        evalue   coverage  \n",
       "0  XM_014207544  1.315190e-06   9.565217  \n",
       "1  XM_014185888  3.579930e-22  11.173975  \n",
       "2  XM_014140918  1.596360e-50  23.388582  \n",
       "3  XM_014127772  9.607620e-48  28.832117  \n",
       "4  XM_014209300  5.782300e-45  20.299728  "
      ]
     },
     "execution_count": 5,
     "metadata": {},
     "output_type": "execute_result"
    }
   ],
   "source": [
    "mRNA.head()"
   ]
  },
  {
   "cell_type": "code",
   "execution_count": 5,
   "metadata": {},
   "outputs": [
    {
     "data": {
      "text/plain": [
       "(117, 17)"
      ]
     },
     "execution_count": 5,
     "metadata": {},
     "output_type": "execute_result"
    }
   ],
   "source": [
    "mRNA.shape"
   ]
  },
  {
   "cell_type": "markdown",
   "metadata": {},
   "source": [
    "krok 1: dodac do tabelki mRNA deseq 'Entry' (de facto wszystko z tej tabelki, ale tylko Entry mnie interesuje najbardziej) na podstawie 'al_accesion'"
   ]
  },
  {
   "cell_type": "code",
   "execution_count": 9,
   "metadata": {},
   "outputs": [],
   "source": [
    "uniprot_converted = pd.read_csv('/mnt/sdb1/Project_Sieja_MCLR_52/2_pipeline/7_counting_transcripts/noncoding_novel/opracowane_deseq/podejcie_MW/1d/salmo_salar_only/FINAL_RESULT/1d_XM_to_XP_Entry.tab', sep='\\t')\n",
    "#uniprot_converted = pd.read_csv('/mnt/sdb1/Project_Sieja_MCLR_52/2_pipeline/7_counting_transcripts/noncoding_novel/opracowane_deseq/podejcie_MW/6d/salmo_salar_only/FINAL_RESULT/6d_XM_to_XP_Entry.tab', sep='\\t')\n",
    "#uniprot_converted = pd.read_csv('/mnt/sdb1/Project_Sieja_MCLR_52/2_pipeline/7_counting_transcripts/noncoding_novel/opracowane_deseq/podejcie_MW/9d/salmo_salar_only/FINAL_RESULT/9d_XM_to_XP_Entry.tab', sep='\\t')"
   ]
  },
  {
   "cell_type": "code",
   "execution_count": 10,
   "metadata": {},
   "outputs": [
    {
     "data": {
      "text/html": [
       "<div>\n",
       "<style scoped>\n",
       "    .dataframe tbody tr th:only-of-type {\n",
       "        vertical-align: middle;\n",
       "    }\n",
       "\n",
       "    .dataframe tbody tr th {\n",
       "        vertical-align: top;\n",
       "    }\n",
       "\n",
       "    .dataframe thead th {\n",
       "        text-align: right;\n",
       "    }\n",
       "</style>\n",
       "<table border=\"1\" class=\"dataframe\">\n",
       "  <thead>\n",
       "    <tr style=\"text-align: right;\">\n",
       "      <th></th>\n",
       "      <th>al_accession</th>\n",
       "      <th>Entry</th>\n",
       "      <th>Entry name</th>\n",
       "      <th>Status</th>\n",
       "      <th>Protein names</th>\n",
       "      <th>Gene names</th>\n",
       "      <th>Organism</th>\n",
       "      <th>Length</th>\n",
       "      <th>Cross-reference (RefSeq)</th>\n",
       "      <th>Gene ontology (biological process)</th>\n",
       "      <th>Gene ontology (cellular component)</th>\n",
       "      <th>Gene ontology (GO)</th>\n",
       "      <th>Gene ontology (molecular function)</th>\n",
       "      <th>Gene ontology IDs</th>\n",
       "    </tr>\n",
       "  </thead>\n",
       "  <tbody>\n",
       "    <tr>\n",
       "      <th>0</th>\n",
       "      <td>XM_014155425</td>\n",
       "      <td>A0A1S3N679</td>\n",
       "      <td>A0A1S3N679_SALSA</td>\n",
       "      <td>unreviewed</td>\n",
       "      <td>leucine-rich repeat and calponin homology doma...</td>\n",
       "      <td>LOC106577445</td>\n",
       "      <td>Salmo salar (Atlantic salmon)</td>\n",
       "      <td>222</td>\n",
       "      <td>XP_014010900.1;XP_014010901.1;XP_014010902.1;</td>\n",
       "      <td>NaN</td>\n",
       "      <td>NaN</td>\n",
       "      <td>NaN</td>\n",
       "      <td>NaN</td>\n",
       "      <td>NaN</td>\n",
       "    </tr>\n",
       "  </tbody>\n",
       "</table>\n",
       "</div>"
      ],
      "text/plain": [
       "   al_accession       Entry        Entry name      Status  \\\n",
       "0  XM_014155425  A0A1S3N679  A0A1S3N679_SALSA  unreviewed   \n",
       "\n",
       "                                       Protein names    Gene names  \\\n",
       "0  leucine-rich repeat and calponin homology doma...  LOC106577445   \n",
       "\n",
       "                        Organism  Length  \\\n",
       "0  Salmo salar (Atlantic salmon)     222   \n",
       "\n",
       "                        Cross-reference (RefSeq)  \\\n",
       "0  XP_014010900.1;XP_014010901.1;XP_014010902.1;   \n",
       "\n",
       "  Gene ontology (biological process) Gene ontology (cellular component)  \\\n",
       "0                                NaN                                NaN   \n",
       "\n",
       "  Gene ontology (GO) Gene ontology (molecular function) Gene ontology IDs  \n",
       "0                NaN                                NaN               NaN  "
      ]
     },
     "execution_count": 10,
     "metadata": {},
     "output_type": "execute_result"
    }
   ],
   "source": [
    "uniprot_converted.head(1)"
   ]
  },
  {
   "cell_type": "code",
   "execution_count": 11,
   "metadata": {},
   "outputs": [
    {
     "data": {
      "text/plain": [
       "(111, 14)"
      ]
     },
     "execution_count": 11,
     "metadata": {},
     "output_type": "execute_result"
    }
   ],
   "source": [
    "uniprot_converted.shape"
   ]
  },
  {
   "cell_type": "code",
   "execution_count": 15,
   "metadata": {},
   "outputs": [],
   "source": [
    "uniprot_converted_entry = uniprot_converted[['al_accession', 'Entry']]"
   ]
  },
  {
   "cell_type": "code",
   "execution_count": 20,
   "metadata": {},
   "outputs": [
    {
     "data": {
      "text/plain": [
       "(120, 2)"
      ]
     },
     "execution_count": 20,
     "metadata": {},
     "output_type": "execute_result"
    }
   ],
   "source": [
    "# uniprot_converted_entry.shape"
   ]
  },
  {
   "cell_type": "code",
   "execution_count": 12,
   "metadata": {},
   "outputs": [],
   "source": [
    "merged = pd.merge(mRNA, uniprot_converted, on='al_accession') "
   ]
  },
  {
   "cell_type": "code",
   "execution_count": 13,
   "metadata": {},
   "outputs": [
    {
     "data": {
      "text/plain": [
       "(116, 30)"
      ]
     },
     "execution_count": 13,
     "metadata": {},
     "output_type": "execute_result"
    }
   ],
   "source": [
    "merged.shape # BT odpadly, nie dalo sie ich przeksztalcic na XP, na razie zostawiam, ale trzeba bedzie je zamienic na XM"
   ]
  },
  {
   "cell_type": "code",
   "execution_count": 14,
   "metadata": {},
   "outputs": [],
   "source": [
    "merged.to_csv('/mnt/sdb1/Project_Sieja_MCLR_52/2_pipeline/7_counting_transcripts/noncoding_novel/opracowane_deseq/podejcie_MW/1d/salmo_salar_only/FINAL_RESULT/merged.csv', index=False)\n",
    "#merged.to_csv('/mnt/sdb1/Project_Sieja_MCLR_52/2_pipeline/7_counting_transcripts/noncoding_novel/opracowane_deseq/podejcie_MW/6d/salmo_salar_only/FINAL_RESULT/merged.csv', index=False)\n",
    "#merged.to_csv('/mnt/sdb1/Project_Sieja_MCLR_52/2_pipeline/7_counting_transcripts/noncoding_novel/opracowane_deseq/podejcie_MW/9d/salmo_salar_only/FINAL_RESULT/merged.csv', index=False)"
   ]
  },
  {
   "cell_type": "markdown",
   "metadata": {},
   "source": [
    "krok 2: na podsawie 'Entry' polaczyc ^^ powyzsza tabelke z tabela bialek"
   ]
  },
  {
   "cell_type": "code",
   "execution_count": 15,
   "metadata": {},
   "outputs": [],
   "source": [
    "deseq_proteins = pd.read_csv('/mnt/sdb1/Project_Sieja_MCLR_52/2_pipeline/7_counting_transcripts/proteins_salmo/PBS1d_MC1d_up+down_DESEQ_prawdopodobnie_wszystkie_with_protein_names.csv', low_memory=False)\n",
    "#deseq_proteins = pd.read_csv('/mnt/sdb1/Project_Sieja_MCLR_52/2_pipeline/7_counting_transcripts/proteins_salmo/PBS1d_MC6d_up+down_DESEQ_prawdopodobnie_wszystkie_with_protein_names.csv', low_memory=False)\n",
    "#deseq_proteins = pd.read_csv('/mnt/sdb1/Project_Sieja_MCLR_52/2_pipeline/7_counting_transcripts/proteins_salmo/PBS1d_MC9d_up+down_DESEQ_prawdopodobnie_wszystkie_with_protein_names.csv', low_memory=False)"
   ]
  },
  {
   "cell_type": "code",
   "execution_count": 16,
   "metadata": {},
   "outputs": [],
   "source": [
    "merged_with_proteins_deseq = pd.merge(merged, deseq_proteins, on='Entry', suffixes=('_UTR', '_PROTEIN'))"
   ]
  },
  {
   "cell_type": "code",
   "execution_count": 17,
   "metadata": {},
   "outputs": [
    {
     "data": {
      "text/plain": [
       "(219, 57)"
      ]
     },
     "execution_count": 17,
     "metadata": {},
     "output_type": "execute_result"
    }
   ],
   "source": [
    "merged_with_proteins_deseq.shape"
   ]
  },
  {
   "cell_type": "code",
   "execution_count": 18,
   "metadata": {},
   "outputs": [],
   "source": [
    "merged_with_proteins_deseq.to_csv('/mnt/sdb1/Project_Sieja_MCLR_52/2_pipeline/7_counting_transcripts/noncoding_novel/opracowane_deseq/podejcie_MW/1d/salmo_salar_only/FINAL_RESULT/mRNA_UTR_PROTEINS_DESEQ_merged_1d.csv', index=False)\n",
    "#merged_with_proteins_deseq.to_csv('/mnt/sdb1/Project_Sieja_MCLR_52/2_pipeline/7_counting_transcripts/noncoding_novel/opracowane_deseq/podejcie_MW/6d/salmo_salar_only/FINAL_RESULT/mRNA_UTR_PROTEINS_DESEQ_merged_6d.csv', index=False)\n",
    "#merged_with_proteins_deseq.to_csv('/mnt/sdb1/Project_Sieja_MCLR_52/2_pipeline/7_counting_transcripts/noncoding_novel/opracowane_deseq/podejcie_MW/9d/salmo_salar_only/FINAL_RESULT/mRNA_UTR_PROTEINS_DESEQ_merged_9d.csv', index=False)"
   ]
  },
  {
   "cell_type": "markdown",
   "metadata": {},
   "source": [
    "### filtrowanie hitów innych niz mRNA: ncRNA, miscRNA. ZDECYDOWAC CO Z NIMI"
   ]
  },
  {
   "cell_type": "code",
   "execution_count": 28,
   "metadata": {},
   "outputs": [],
   "source": [
    "non_mRNA = df_best_hit[~df_best_hit['al_title'].str.contains('mRNA')]\n"
   ]
  },
  {
   "cell_type": "code",
   "execution_count": 29,
   "metadata": {},
   "outputs": [
    {
     "data": {
      "text/plain": [
       "(6, 5)"
      ]
     },
     "execution_count": 29,
     "metadata": {},
     "output_type": "execute_result"
    }
   ],
   "source": [
    "\n",
    "non_mRNA.shape"
   ]
  },
  {
   "cell_type": "code",
   "execution_count": 30,
   "metadata": {},
   "outputs": [
    {
     "data": {
      "text/html": [
       "<div>\n",
       "<style scoped>\n",
       "    .dataframe tbody tr th:only-of-type {\n",
       "        vertical-align: middle;\n",
       "    }\n",
       "\n",
       "    .dataframe tbody tr th {\n",
       "        vertical-align: top;\n",
       "    }\n",
       "\n",
       "    .dataframe thead th {\n",
       "        text-align: right;\n",
       "    }\n",
       "</style>\n",
       "<table border=\"1\" class=\"dataframe\">\n",
       "  <thead>\n",
       "    <tr style=\"text-align: right;\">\n",
       "      <th></th>\n",
       "      <th>query</th>\n",
       "      <th>al_title</th>\n",
       "      <th>al_accession</th>\n",
       "      <th>evalue</th>\n",
       "      <th>coverage</th>\n",
       "    </tr>\n",
       "  </thead>\n",
       "  <tbody>\n",
       "    <tr>\n",
       "      <th>1045</th>\n",
       "      <td>TRINITY_DN106385_c5_g2_i1</td>\n",
       "      <td>gi|929246779|ref|XR_001320874.1| PREDICTED: Sa...</td>\n",
       "      <td>XR_001320874</td>\n",
       "      <td>4.447370e-19</td>\n",
       "      <td>15.862069</td>\n",
       "    </tr>\n",
       "  </tbody>\n",
       "</table>\n",
       "</div>"
      ],
      "text/plain": [
       "                          query  \\\n",
       "1045  TRINITY_DN106385_c5_g2_i1   \n",
       "\n",
       "                                               al_title  al_accession  \\\n",
       "1045  gi|929246779|ref|XR_001320874.1| PREDICTED: Sa...  XR_001320874   \n",
       "\n",
       "            evalue   coverage  \n",
       "1045  4.447370e-19  15.862069  "
      ]
     },
     "execution_count": 30,
     "metadata": {},
     "output_type": "execute_result"
    }
   ],
   "source": [
    "non_mRNA.head(1)"
   ]
  },
  {
   "cell_type": "code",
   "execution_count": 31,
   "metadata": {},
   "outputs": [],
   "source": [
    "non_mRNA.rename(columns={'query' : 'ID'}, inplace=True)"
   ]
  },
  {
   "cell_type": "code",
   "execution_count": 32,
   "metadata": {},
   "outputs": [],
   "source": [
    "result2 = pd.merge(df_deseq_out, non_mRNA, on='ID')\n",
    "result2.sort_values(by='log2FoldChange', inplace=True)"
   ]
  },
  {
   "cell_type": "code",
   "execution_count": 33,
   "metadata": {},
   "outputs": [],
   "source": [
    "result2.to_csv('/mnt/sdb1/Project_Sieja_MCLR_52/2_pipeline/7_counting_transcripts/noncoding_novel/opracowane_deseq/podejcie_MW/9d/salmo_salar_only/FINAL_RESULT/non_mRNA_PBS_1d_vs_MC2_9d_deseq_w_mRNA_names.csv', index=False)"
   ]
  },
  {
   "cell_type": "markdown",
   "metadata": {},
   "source": [
    "### filtrowanie NO HIT\n",
    "#### chromosome poprzednio == no hit teraz"
   ]
  },
  {
   "cell_type": "code",
   "execution_count": 35,
   "metadata": {},
   "outputs": [],
   "source": [
    "# wszystkie blastowane trinity (100UP + 100DOWN)\n",
    "all_trinity_to_blast = pd.read_csv('/mnt/sdb1/Project_Sieja_MCLR_52/2_pipeline/7_counting_transcripts/noncoding_novel/opracowane_deseq/podejcie_MW/9d/100_UP_100_DOWN_best_fold_change.headers')"
   ]
  },
  {
   "cell_type": "code",
   "execution_count": 36,
   "metadata": {},
   "outputs": [
    {
     "data": {
      "text/plain": [
       "(200, 1)"
      ]
     },
     "execution_count": 36,
     "metadata": {},
     "output_type": "execute_result"
    }
   ],
   "source": [
    "all_trinity_to_blast.shape"
   ]
  },
  {
   "cell_type": "code",
   "execution_count": 37,
   "metadata": {},
   "outputs": [],
   "source": [
    "df_best_hit.rename(columns={'query' : 'ID'}, inplace=True)"
   ]
  },
  {
   "cell_type": "code",
   "execution_count": 38,
   "metadata": {},
   "outputs": [],
   "source": [
    "# wszystkie odjac te ktore mialy hit w blascie, jakikolwiek hit\n",
    "no_hit = all_trinity_to_blast[~all_trinity_to_blast['id'].isin(df_best_hit['ID'])]"
   ]
  },
  {
   "cell_type": "code",
   "execution_count": 39,
   "metadata": {},
   "outputs": [
    {
     "data": {
      "text/plain": [
       "(54, 1)"
      ]
     },
     "execution_count": 39,
     "metadata": {},
     "output_type": "execute_result"
    }
   ],
   "source": [
    "no_hit.shape"
   ]
  },
  {
   "cell_type": "code",
   "execution_count": 40,
   "metadata": {},
   "outputs": [
    {
     "name": "stderr",
     "output_type": "stream",
     "text": [
      "/home/maciek/anaconda3/lib/python3.7/site-packages/pandas/core/frame.py:3781: SettingWithCopyWarning: \n",
      "A value is trying to be set on a copy of a slice from a DataFrame\n",
      "\n",
      "See the caveats in the documentation: http://pandas.pydata.org/pandas-docs/stable/indexing.html#indexing-view-versus-copy\n",
      "  return super(DataFrame, self).rename(**kwargs)\n"
     ]
    }
   ],
   "source": [
    "no_hit.rename(columns={'id' : 'ID'}, inplace=True)"
   ]
  },
  {
   "cell_type": "code",
   "execution_count": 41,
   "metadata": {},
   "outputs": [],
   "source": [
    "# lista NO HIT czyli dawna chromosomes, ktora idzie do analizy novel lncRNA\n",
    "result3 = pd.merge(df_deseq_out, no_hit, on='ID')\n",
    "result3.sort_values(by='log2FoldChange', inplace=True)"
   ]
  },
  {
   "cell_type": "code",
   "execution_count": 42,
   "metadata": {},
   "outputs": [],
   "source": [
    "result3.to_csv('/mnt/sdb1/Project_Sieja_MCLR_52/2_pipeline/7_counting_transcripts/noncoding_novel/opracowane_deseq/podejcie_MW/9d/salmo_salar_only/FINAL_RESULT/NO_HIT_PBS_1d_vs_MC2_9d_deseq_w_mRNA_names.csv', index=False)"
   ]
  },
  {
   "cell_type": "code",
   "execution_count": 16,
   "metadata": {},
   "outputs": [
    {
     "data": {
      "text/plain": [
       "200"
      ]
     },
     "execution_count": 16,
     "metadata": {},
     "output_type": "execute_result"
    }
   ],
   "source": [
    "wszystkie_test = 51 + 17 + 132\n",
    "wszystkie_test"
   ]
  },
  {
   "cell_type": "code",
   "execution_count": null,
   "metadata": {},
   "outputs": [],
   "source": []
  }
 ],
 "metadata": {
  "kernelspec": {
   "display_name": "Python 3",
   "language": "python",
   "name": "python3"
  },
  "language_info": {
   "codemirror_mode": {
    "name": "ipython",
    "version": 3
   },
   "file_extension": ".py",
   "mimetype": "text/x-python",
   "name": "python",
   "nbconvert_exporter": "python",
   "pygments_lexer": "ipython3",
   "version": "3.7.3"
  }
 },
 "nbformat": 4,
 "nbformat_minor": 2
}
