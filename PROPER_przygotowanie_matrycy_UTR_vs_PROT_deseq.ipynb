{
 "cells": [
  {
   "cell_type": "code",
   "execution_count": 1,
   "metadata": {},
   "outputs": [],
   "source": [
    "import pandas as pd\n",
    "import numpy as np\n",
    "import matplotlib.pyplot as plt\n",
    "from matplotlib import rc"
   ]
  },
  {
   "cell_type": "code",
   "execution_count": 2,
   "metadata": {},
   "outputs": [],
   "source": [
    "path='/mnt/sdb1/Project_Sieja_MCLR_52/2_pipeline/7_counting_transcripts/noncoding_novel/'\n",
    "#path='/media/WinToUSB/7_counting_transcripts/noncoding_novel/'\n"
   ]
  },
  {
   "cell_type": "markdown",
   "metadata": {},
   "source": [
    "# BEGIN // dotyczy:\n",
    "I am interested in exploring whether there is a difference in the ratio A/B between the two conditions. Just to clarify: I am not interested in finding out whether there are significant differences between A and B (there are), but whether those differences between A and B change between condition treated vs. untreated."
   ]
  },
  {
   "cell_type": "code",
   "execution_count": 3,
   "metadata": {},
   "outputs": [
    {
     "data": {
      "text/html": [
       "<div>\n",
       "<style scoped>\n",
       "    .dataframe tbody tr th:only-of-type {\n",
       "        vertical-align: middle;\n",
       "    }\n",
       "\n",
       "    .dataframe tbody tr th {\n",
       "        vertical-align: top;\n",
       "    }\n",
       "\n",
       "    .dataframe thead th {\n",
       "        text-align: right;\n",
       "    }\n",
       "</style>\n",
       "<table border=\"1\" class=\"dataframe\">\n",
       "  <thead>\n",
       "    <tr style=\"text-align: right;\">\n",
       "      <th></th>\n",
       "      <th>query</th>\n",
       "      <th>al_title</th>\n",
       "      <th>al_accession</th>\n",
       "      <th>evalue</th>\n",
       "      <th>coverage</th>\n",
       "      <th>Entry</th>\n",
       "      <th>Protein names</th>\n",
       "      <th>Gene names</th>\n",
       "    </tr>\n",
       "  </thead>\n",
       "  <tbody>\n",
       "    <tr>\n",
       "      <th>0</th>\n",
       "      <td>TRINITY_DN100004_c4_g2_i2</td>\n",
       "      <td>gi|929290304|ref|XM_014166828.1| PREDICTED: Sa...</td>\n",
       "      <td>XM_014166828</td>\n",
       "      <td>0.0</td>\n",
       "      <td>100.183824</td>\n",
       "      <td>A0A1S3P3U9</td>\n",
       "      <td>forkhead box protein P4-like isoform X8</td>\n",
       "      <td>LOC106583051</td>\n",
       "    </tr>\n",
       "  </tbody>\n",
       "</table>\n",
       "</div>"
      ],
      "text/plain": [
       "                       query  \\\n",
       "0  TRINITY_DN100004_c4_g2_i2   \n",
       "\n",
       "                                            al_title  al_accession  evalue  \\\n",
       "0  gi|929290304|ref|XM_014166828.1| PREDICTED: Sa...  XM_014166828     0.0   \n",
       "\n",
       "     coverage       Entry                            Protein names  \\\n",
       "0  100.183824  A0A1S3P3U9  forkhead box protein P4-like isoform X8   \n",
       "\n",
       "     Gene names  \n",
       "0  LOC106583051  "
      ]
     },
     "execution_count": 3,
     "metadata": {},
     "output_type": "execute_result"
    }
   ],
   "source": [
    "UTR = pd.read_csv(path+'mRNA_only_merged_w_XP.csv')\n",
    "UTR.head(1)"
   ]
  },
  {
   "cell_type": "code",
   "execution_count": 4,
   "metadata": {
    "scrolled": true
   },
   "outputs": [
    {
     "data": {
      "text/html": [
       "<div>\n",
       "<style scoped>\n",
       "    .dataframe tbody tr th:only-of-type {\n",
       "        vertical-align: middle;\n",
       "    }\n",
       "\n",
       "    .dataframe tbody tr th {\n",
       "        vertical-align: top;\n",
       "    }\n",
       "\n",
       "    .dataframe thead th {\n",
       "        text-align: right;\n",
       "    }\n",
       "</style>\n",
       "<table border=\"1\" class=\"dataframe\">\n",
       "  <thead>\n",
       "    <tr style=\"text-align: right;\">\n",
       "      <th></th>\n",
       "      <th>query</th>\n",
       "      <th>Entry</th>\n",
       "    </tr>\n",
       "  </thead>\n",
       "  <tbody>\n",
       "    <tr>\n",
       "      <th>0</th>\n",
       "      <td>TRINITY_DN100004_c4_g2_i2</td>\n",
       "      <td>A0A1S3P3U9</td>\n",
       "    </tr>\n",
       "  </tbody>\n",
       "</table>\n",
       "</div>"
      ],
      "text/plain": [
       "                       query       Entry\n",
       "0  TRINITY_DN100004_c4_g2_i2  A0A1S3P3U9"
      ]
     },
     "execution_count": 4,
     "metadata": {},
     "output_type": "execute_result"
    }
   ],
   "source": [
    "UTR = UTR[['query', 'Entry']]\n",
    "UTR.head(1)"
   ]
  },
  {
   "cell_type": "code",
   "execution_count": 5,
   "metadata": {},
   "outputs": [],
   "source": [
    "UTR.rename(columns={'query':'trinity'}, inplace=True)"
   ]
  },
  {
   "cell_type": "code",
   "execution_count": 6,
   "metadata": {},
   "outputs": [
    {
     "data": {
      "text/html": [
       "<div>\n",
       "<style scoped>\n",
       "    .dataframe tbody tr th:only-of-type {\n",
       "        vertical-align: middle;\n",
       "    }\n",
       "\n",
       "    .dataframe tbody tr th {\n",
       "        vertical-align: top;\n",
       "    }\n",
       "\n",
       "    .dataframe thead th {\n",
       "        text-align: right;\n",
       "    }\n",
       "</style>\n",
       "<table border=\"1\" class=\"dataframe\">\n",
       "  <thead>\n",
       "    <tr style=\"text-align: right;\">\n",
       "      <th></th>\n",
       "      <th>trinity</th>\n",
       "      <th>Entry</th>\n",
       "    </tr>\n",
       "  </thead>\n",
       "  <tbody>\n",
       "    <tr>\n",
       "      <th>0</th>\n",
       "      <td>TRINITY_DN100004_c4_g2_i2</td>\n",
       "      <td>A0A1S3P3U9</td>\n",
       "    </tr>\n",
       "  </tbody>\n",
       "</table>\n",
       "</div>"
      ],
      "text/plain": [
       "                     trinity       Entry\n",
       "0  TRINITY_DN100004_c4_g2_i2  A0A1S3P3U9"
      ]
     },
     "execution_count": 6,
     "metadata": {},
     "output_type": "execute_result"
    }
   ],
   "source": [
    "UTR.head(1)"
   ]
  },
  {
   "cell_type": "code",
   "execution_count": 8,
   "metadata": {},
   "outputs": [
    {
     "data": {
      "text/html": [
       "<div>\n",
       "<style scoped>\n",
       "    .dataframe tbody tr th:only-of-type {\n",
       "        vertical-align: middle;\n",
       "    }\n",
       "\n",
       "    .dataframe tbody tr th {\n",
       "        vertical-align: top;\n",
       "    }\n",
       "\n",
       "    .dataframe thead th {\n",
       "        text-align: right;\n",
       "    }\n",
       "</style>\n",
       "<table border=\"1\" class=\"dataframe\">\n",
       "  <thead>\n",
       "    <tr style=\"text-align: right;\">\n",
       "      <th></th>\n",
       "      <th>trinity</th>\n",
       "      <th>PBS_1d_1</th>\n",
       "      <th>PBS_1d_2</th>\n",
       "      <th>PBS_1d_3</th>\n",
       "      <th>PBS_1d_4</th>\n",
       "      <th>MC_1d_1</th>\n",
       "      <th>MC_1d_2</th>\n",
       "      <th>MC_1d_3</th>\n",
       "      <th>MC_6d_1</th>\n",
       "      <th>MC_6d_2</th>\n",
       "      <th>MC_6d_3</th>\n",
       "      <th>MC_9d_1</th>\n",
       "      <th>MC_9d_2</th>\n",
       "      <th>MC_9d_3</th>\n",
       "    </tr>\n",
       "  </thead>\n",
       "  <tbody>\n",
       "    <tr>\n",
       "      <th>0</th>\n",
       "      <td>TRINITY_DN100003_c1_g1_i1</td>\n",
       "      <td>8</td>\n",
       "      <td>16</td>\n",
       "      <td>29</td>\n",
       "      <td>1</td>\n",
       "      <td>24</td>\n",
       "      <td>21</td>\n",
       "      <td>24</td>\n",
       "      <td>1</td>\n",
       "      <td>1</td>\n",
       "      <td>2</td>\n",
       "      <td>7</td>\n",
       "      <td>2</td>\n",
       "      <td>34</td>\n",
       "    </tr>\n",
       "    <tr>\n",
       "      <th>1</th>\n",
       "      <td>TRINITY_DN100004_c4_g2_i2</td>\n",
       "      <td>9</td>\n",
       "      <td>22</td>\n",
       "      <td>24</td>\n",
       "      <td>8</td>\n",
       "      <td>23</td>\n",
       "      <td>50</td>\n",
       "      <td>45</td>\n",
       "      <td>65</td>\n",
       "      <td>53</td>\n",
       "      <td>95</td>\n",
       "      <td>76</td>\n",
       "      <td>29</td>\n",
       "      <td>74</td>\n",
       "    </tr>\n",
       "    <tr>\n",
       "      <th>2</th>\n",
       "      <td>TRINITY_DN100005_c7_g2_i1</td>\n",
       "      <td>800</td>\n",
       "      <td>798</td>\n",
       "      <td>577</td>\n",
       "      <td>913</td>\n",
       "      <td>1322</td>\n",
       "      <td>1276</td>\n",
       "      <td>1285</td>\n",
       "      <td>6952</td>\n",
       "      <td>5736</td>\n",
       "      <td>4279</td>\n",
       "      <td>6616</td>\n",
       "      <td>4073</td>\n",
       "      <td>3119</td>\n",
       "    </tr>\n",
       "    <tr>\n",
       "      <th>3</th>\n",
       "      <td>TRINITY_DN100005_c8_g3_i1</td>\n",
       "      <td>101</td>\n",
       "      <td>102</td>\n",
       "      <td>92</td>\n",
       "      <td>248</td>\n",
       "      <td>52</td>\n",
       "      <td>56</td>\n",
       "      <td>71</td>\n",
       "      <td>89</td>\n",
       "      <td>189</td>\n",
       "      <td>138</td>\n",
       "      <td>313</td>\n",
       "      <td>327</td>\n",
       "      <td>278</td>\n",
       "    </tr>\n",
       "    <tr>\n",
       "      <th>4</th>\n",
       "      <td>TRINITY_DN100005_c9_g1_i1</td>\n",
       "      <td>19</td>\n",
       "      <td>4</td>\n",
       "      <td>22</td>\n",
       "      <td>4</td>\n",
       "      <td>2</td>\n",
       "      <td>2</td>\n",
       "      <td>1</td>\n",
       "      <td>0</td>\n",
       "      <td>1</td>\n",
       "      <td>0</td>\n",
       "      <td>2</td>\n",
       "      <td>6</td>\n",
       "      <td>18</td>\n",
       "    </tr>\n",
       "  </tbody>\n",
       "</table>\n",
       "</div>"
      ],
      "text/plain": [
       "                     trinity  PBS_1d_1  PBS_1d_2  PBS_1d_3  PBS_1d_4  MC_1d_1  \\\n",
       "0  TRINITY_DN100003_c1_g1_i1         8        16        29         1       24   \n",
       "1  TRINITY_DN100004_c4_g2_i2         9        22        24         8       23   \n",
       "2  TRINITY_DN100005_c7_g2_i1       800       798       577       913     1322   \n",
       "3  TRINITY_DN100005_c8_g3_i1       101       102        92       248       52   \n",
       "4  TRINITY_DN100005_c9_g1_i1        19         4        22         4        2   \n",
       "\n",
       "   MC_1d_2  MC_1d_3  MC_6d_1  MC_6d_2  MC_6d_3  MC_9d_1  MC_9d_2  MC_9d_3  \n",
       "0       21       24        1        1        2        7        2       34  \n",
       "1       50       45       65       53       95       76       29       74  \n",
       "2     1276     1285     6952     5736     4279     6616     4073     3119  \n",
       "3       56       71       89      189      138      313      327      278  \n",
       "4        2        1        0        1        0        2        6       18  "
      ]
     },
     "execution_count": 8,
     "metadata": {},
     "output_type": "execute_result"
    }
   ],
   "source": [
    "matryca_novel = pd.read_csv(path+'PBS1d_MC_all_matryca.csv')\n",
    "matryca_novel.head()"
   ]
  },
  {
   "cell_type": "code",
   "execution_count": 21,
   "metadata": {},
   "outputs": [
    {
     "data": {
      "text/plain": [
       "(188998, 14)"
      ]
     },
     "execution_count": 21,
     "metadata": {},
     "output_type": "execute_result"
    }
   ],
   "source": [
    "matryca_novel.shape"
   ]
  },
  {
   "cell_type": "code",
   "execution_count": 9,
   "metadata": {},
   "outputs": [
    {
     "data": {
      "text/html": [
       "<div>\n",
       "<style scoped>\n",
       "    .dataframe tbody tr th:only-of-type {\n",
       "        vertical-align: middle;\n",
       "    }\n",
       "\n",
       "    .dataframe tbody tr th {\n",
       "        vertical-align: top;\n",
       "    }\n",
       "\n",
       "    .dataframe thead th {\n",
       "        text-align: right;\n",
       "    }\n",
       "</style>\n",
       "<table border=\"1\" class=\"dataframe\">\n",
       "  <thead>\n",
       "    <tr style=\"text-align: right;\">\n",
       "      <th></th>\n",
       "      <th>trinity</th>\n",
       "      <th>Entry</th>\n",
       "      <th>PBS_1d_1</th>\n",
       "      <th>PBS_1d_2</th>\n",
       "      <th>PBS_1d_3</th>\n",
       "      <th>PBS_1d_4</th>\n",
       "      <th>MC_1d_1</th>\n",
       "      <th>MC_1d_2</th>\n",
       "      <th>MC_1d_3</th>\n",
       "      <th>MC_6d_1</th>\n",
       "      <th>MC_6d_2</th>\n",
       "      <th>MC_6d_3</th>\n",
       "      <th>MC_9d_1</th>\n",
       "      <th>MC_9d_2</th>\n",
       "      <th>MC_9d_3</th>\n",
       "    </tr>\n",
       "  </thead>\n",
       "  <tbody>\n",
       "    <tr>\n",
       "      <th>0</th>\n",
       "      <td>TRINITY_DN100004_c4_g2_i2</td>\n",
       "      <td>A0A1S3P3U9</td>\n",
       "      <td>9</td>\n",
       "      <td>22</td>\n",
       "      <td>24</td>\n",
       "      <td>8</td>\n",
       "      <td>23</td>\n",
       "      <td>50</td>\n",
       "      <td>45</td>\n",
       "      <td>65</td>\n",
       "      <td>53</td>\n",
       "      <td>95</td>\n",
       "      <td>76</td>\n",
       "      <td>29</td>\n",
       "      <td>74</td>\n",
       "    </tr>\n",
       "    <tr>\n",
       "      <th>1</th>\n",
       "      <td>TRINITY_DN100005_c7_g2_i1</td>\n",
       "      <td>A0A1S3SUX9</td>\n",
       "      <td>800</td>\n",
       "      <td>798</td>\n",
       "      <td>577</td>\n",
       "      <td>913</td>\n",
       "      <td>1322</td>\n",
       "      <td>1276</td>\n",
       "      <td>1285</td>\n",
       "      <td>6952</td>\n",
       "      <td>5736</td>\n",
       "      <td>4279</td>\n",
       "      <td>6616</td>\n",
       "      <td>4073</td>\n",
       "      <td>3119</td>\n",
       "    </tr>\n",
       "    <tr>\n",
       "      <th>2</th>\n",
       "      <td>TRINITY_DN81030_c8_g4_i1</td>\n",
       "      <td>A0A1S3SUX9</td>\n",
       "      <td>47</td>\n",
       "      <td>44</td>\n",
       "      <td>18</td>\n",
       "      <td>47</td>\n",
       "      <td>62</td>\n",
       "      <td>74</td>\n",
       "      <td>62</td>\n",
       "      <td>335</td>\n",
       "      <td>306</td>\n",
       "      <td>196</td>\n",
       "      <td>292</td>\n",
       "      <td>162</td>\n",
       "      <td>121</td>\n",
       "    </tr>\n",
       "    <tr>\n",
       "      <th>3</th>\n",
       "      <td>TRINITY_DN83202_c8_g4_i2</td>\n",
       "      <td>A0A1S3SUX9</td>\n",
       "      <td>35</td>\n",
       "      <td>21</td>\n",
       "      <td>30</td>\n",
       "      <td>30</td>\n",
       "      <td>13</td>\n",
       "      <td>28</td>\n",
       "      <td>32</td>\n",
       "      <td>8</td>\n",
       "      <td>6</td>\n",
       "      <td>13</td>\n",
       "      <td>21</td>\n",
       "      <td>15</td>\n",
       "      <td>38</td>\n",
       "    </tr>\n",
       "    <tr>\n",
       "      <th>4</th>\n",
       "      <td>TRINITY_DN105298_c5_g1_i2</td>\n",
       "      <td>A0A1S3SUX9</td>\n",
       "      <td>23</td>\n",
       "      <td>15</td>\n",
       "      <td>19</td>\n",
       "      <td>25</td>\n",
       "      <td>7</td>\n",
       "      <td>12</td>\n",
       "      <td>10</td>\n",
       "      <td>1</td>\n",
       "      <td>13</td>\n",
       "      <td>8</td>\n",
       "      <td>22</td>\n",
       "      <td>8</td>\n",
       "      <td>13</td>\n",
       "    </tr>\n",
       "  </tbody>\n",
       "</table>\n",
       "</div>"
      ],
      "text/plain": [
       "                     trinity       Entry  PBS_1d_1  PBS_1d_2  PBS_1d_3  \\\n",
       "0  TRINITY_DN100004_c4_g2_i2  A0A1S3P3U9         9        22        24   \n",
       "1  TRINITY_DN100005_c7_g2_i1  A0A1S3SUX9       800       798       577   \n",
       "2   TRINITY_DN81030_c8_g4_i1  A0A1S3SUX9        47        44        18   \n",
       "3   TRINITY_DN83202_c8_g4_i2  A0A1S3SUX9        35        21        30   \n",
       "4  TRINITY_DN105298_c5_g1_i2  A0A1S3SUX9        23        15        19   \n",
       "\n",
       "   PBS_1d_4  MC_1d_1  MC_1d_2  MC_1d_3  MC_6d_1  MC_6d_2  MC_6d_3  MC_9d_1  \\\n",
       "0         8       23       50       45       65       53       95       76   \n",
       "1       913     1322     1276     1285     6952     5736     4279     6616   \n",
       "2        47       62       74       62      335      306      196      292   \n",
       "3        30       13       28       32        8        6       13       21   \n",
       "4        25        7       12       10        1       13        8       22   \n",
       "\n",
       "   MC_9d_2  MC_9d_3  \n",
       "0       29       74  \n",
       "1     4073     3119  \n",
       "2      162      121  \n",
       "3       15       38  \n",
       "4        8       13  "
      ]
     },
     "execution_count": 9,
     "metadata": {},
     "output_type": "execute_result"
    }
   ],
   "source": [
    "matryca_w_entry = pd.merge(UTR, matryca_novel, on='trinity', how='inner')\n",
    "matryca_w_entry.head()"
   ]
  },
  {
   "cell_type": "code",
   "execution_count": 9,
   "metadata": {},
   "outputs": [
    {
     "data": {
      "text/plain": [
       "(93208, 15)"
      ]
     },
     "execution_count": 9,
     "metadata": {},
     "output_type": "execute_result"
    }
   ],
   "source": [
    "matryca_w_entry.shape #mamy tu tylko trinity zidentyfikowane jako mRNA bialka (UTR)"
   ]
  },
  {
   "cell_type": "code",
   "execution_count": 10,
   "metadata": {},
   "outputs": [],
   "source": [
    "matryca_w_entry.columns = [str(col) + '_UTR' for col in matryca_w_entry.columns]"
   ]
  },
  {
   "cell_type": "code",
   "execution_count": 11,
   "metadata": {},
   "outputs": [],
   "source": [
    "matryca_w_entry.rename(columns={'Entry_UTR':'Entry', 'trinity_UTR':'id_UTR'}, inplace=True)"
   ]
  },
  {
   "cell_type": "code",
   "execution_count": 12,
   "metadata": {
    "scrolled": false
   },
   "outputs": [
    {
     "data": {
      "text/html": [
       "<div>\n",
       "<style scoped>\n",
       "    .dataframe tbody tr th:only-of-type {\n",
       "        vertical-align: middle;\n",
       "    }\n",
       "\n",
       "    .dataframe tbody tr th {\n",
       "        vertical-align: top;\n",
       "    }\n",
       "\n",
       "    .dataframe thead th {\n",
       "        text-align: right;\n",
       "    }\n",
       "</style>\n",
       "<table border=\"1\" class=\"dataframe\">\n",
       "  <thead>\n",
       "    <tr style=\"text-align: right;\">\n",
       "      <th></th>\n",
       "      <th>id_UTR</th>\n",
       "      <th>Entry</th>\n",
       "      <th>PBS_1d_1_UTR</th>\n",
       "      <th>PBS_1d_2_UTR</th>\n",
       "      <th>PBS_1d_3_UTR</th>\n",
       "      <th>PBS_1d_4_UTR</th>\n",
       "      <th>MC_1d_1_UTR</th>\n",
       "      <th>MC_1d_2_UTR</th>\n",
       "      <th>MC_1d_3_UTR</th>\n",
       "      <th>MC_6d_1_UTR</th>\n",
       "      <th>MC_6d_2_UTR</th>\n",
       "      <th>MC_6d_3_UTR</th>\n",
       "      <th>MC_9d_1_UTR</th>\n",
       "      <th>MC_9d_2_UTR</th>\n",
       "      <th>MC_9d_3_UTR</th>\n",
       "    </tr>\n",
       "  </thead>\n",
       "  <tbody>\n",
       "    <tr>\n",
       "      <th>0</th>\n",
       "      <td>TRINITY_DN100004_c4_g2_i2</td>\n",
       "      <td>A0A1S3P3U9</td>\n",
       "      <td>9</td>\n",
       "      <td>22</td>\n",
       "      <td>24</td>\n",
       "      <td>8</td>\n",
       "      <td>23</td>\n",
       "      <td>50</td>\n",
       "      <td>45</td>\n",
       "      <td>65</td>\n",
       "      <td>53</td>\n",
       "      <td>95</td>\n",
       "      <td>76</td>\n",
       "      <td>29</td>\n",
       "      <td>74</td>\n",
       "    </tr>\n",
       "    <tr>\n",
       "      <th>1</th>\n",
       "      <td>TRINITY_DN100005_c7_g2_i1</td>\n",
       "      <td>A0A1S3SUX9</td>\n",
       "      <td>800</td>\n",
       "      <td>798</td>\n",
       "      <td>577</td>\n",
       "      <td>913</td>\n",
       "      <td>1322</td>\n",
       "      <td>1276</td>\n",
       "      <td>1285</td>\n",
       "      <td>6952</td>\n",
       "      <td>5736</td>\n",
       "      <td>4279</td>\n",
       "      <td>6616</td>\n",
       "      <td>4073</td>\n",
       "      <td>3119</td>\n",
       "    </tr>\n",
       "    <tr>\n",
       "      <th>2</th>\n",
       "      <td>TRINITY_DN81030_c8_g4_i1</td>\n",
       "      <td>A0A1S3SUX9</td>\n",
       "      <td>47</td>\n",
       "      <td>44</td>\n",
       "      <td>18</td>\n",
       "      <td>47</td>\n",
       "      <td>62</td>\n",
       "      <td>74</td>\n",
       "      <td>62</td>\n",
       "      <td>335</td>\n",
       "      <td>306</td>\n",
       "      <td>196</td>\n",
       "      <td>292</td>\n",
       "      <td>162</td>\n",
       "      <td>121</td>\n",
       "    </tr>\n",
       "    <tr>\n",
       "      <th>3</th>\n",
       "      <td>TRINITY_DN83202_c8_g4_i2</td>\n",
       "      <td>A0A1S3SUX9</td>\n",
       "      <td>35</td>\n",
       "      <td>21</td>\n",
       "      <td>30</td>\n",
       "      <td>30</td>\n",
       "      <td>13</td>\n",
       "      <td>28</td>\n",
       "      <td>32</td>\n",
       "      <td>8</td>\n",
       "      <td>6</td>\n",
       "      <td>13</td>\n",
       "      <td>21</td>\n",
       "      <td>15</td>\n",
       "      <td>38</td>\n",
       "    </tr>\n",
       "    <tr>\n",
       "      <th>4</th>\n",
       "      <td>TRINITY_DN105298_c5_g1_i2</td>\n",
       "      <td>A0A1S3SUX9</td>\n",
       "      <td>23</td>\n",
       "      <td>15</td>\n",
       "      <td>19</td>\n",
       "      <td>25</td>\n",
       "      <td>7</td>\n",
       "      <td>12</td>\n",
       "      <td>10</td>\n",
       "      <td>1</td>\n",
       "      <td>13</td>\n",
       "      <td>8</td>\n",
       "      <td>22</td>\n",
       "      <td>8</td>\n",
       "      <td>13</td>\n",
       "    </tr>\n",
       "  </tbody>\n",
       "</table>\n",
       "</div>"
      ],
      "text/plain": [
       "                      id_UTR       Entry  PBS_1d_1_UTR  PBS_1d_2_UTR  \\\n",
       "0  TRINITY_DN100004_c4_g2_i2  A0A1S3P3U9             9            22   \n",
       "1  TRINITY_DN100005_c7_g2_i1  A0A1S3SUX9           800           798   \n",
       "2   TRINITY_DN81030_c8_g4_i1  A0A1S3SUX9            47            44   \n",
       "3   TRINITY_DN83202_c8_g4_i2  A0A1S3SUX9            35            21   \n",
       "4  TRINITY_DN105298_c5_g1_i2  A0A1S3SUX9            23            15   \n",
       "\n",
       "   PBS_1d_3_UTR  PBS_1d_4_UTR  MC_1d_1_UTR  MC_1d_2_UTR  MC_1d_3_UTR  \\\n",
       "0            24             8           23           50           45   \n",
       "1           577           913         1322         1276         1285   \n",
       "2            18            47           62           74           62   \n",
       "3            30            30           13           28           32   \n",
       "4            19            25            7           12           10   \n",
       "\n",
       "   MC_6d_1_UTR  MC_6d_2_UTR  MC_6d_3_UTR  MC_9d_1_UTR  MC_9d_2_UTR  \\\n",
       "0           65           53           95           76           29   \n",
       "1         6952         5736         4279         6616         4073   \n",
       "2          335          306          196          292          162   \n",
       "3            8            6           13           21           15   \n",
       "4            1           13            8           22            8   \n",
       "\n",
       "   MC_9d_3_UTR  \n",
       "0           74  \n",
       "1         3119  \n",
       "2          121  \n",
       "3           38  \n",
       "4           13  "
      ]
     },
     "execution_count": 12,
     "metadata": {},
     "output_type": "execute_result"
    }
   ],
   "source": [
    "matryca_w_entry.head()"
   ]
  },
  {
   "cell_type": "markdown",
   "metadata": {},
   "source": [
    "## BIAŁKA PROT"
   ]
  },
  {
   "cell_type": "code",
   "execution_count": 13,
   "metadata": {},
   "outputs": [
    {
     "data": {
      "text/html": [
       "<div>\n",
       "<style scoped>\n",
       "    .dataframe tbody tr th:only-of-type {\n",
       "        vertical-align: middle;\n",
       "    }\n",
       "\n",
       "    .dataframe tbody tr th {\n",
       "        vertical-align: top;\n",
       "    }\n",
       "\n",
       "    .dataframe thead th {\n",
       "        text-align: right;\n",
       "    }\n",
       "</style>\n",
       "<table border=\"1\" class=\"dataframe\">\n",
       "  <thead>\n",
       "    <tr style=\"text-align: right;\">\n",
       "      <th></th>\n",
       "      <th>id_UTR</th>\n",
       "      <th>Entry</th>\n",
       "      <th>PBS_1d_1_UTR</th>\n",
       "      <th>PBS_1d_2_UTR</th>\n",
       "      <th>PBS_1d_3_UTR</th>\n",
       "      <th>PBS_1d_4_UTR</th>\n",
       "      <th>MC_1d_1_UTR</th>\n",
       "      <th>MC_1d_2_UTR</th>\n",
       "      <th>MC_1d_3_UTR</th>\n",
       "      <th>MC_6d_1_UTR</th>\n",
       "      <th>MC_6d_2_UTR</th>\n",
       "      <th>MC_6d_3_UTR</th>\n",
       "      <th>MC_9d_1_UTR</th>\n",
       "      <th>MC_9d_2_UTR</th>\n",
       "      <th>MC_9d_3_UTR</th>\n",
       "    </tr>\n",
       "  </thead>\n",
       "  <tbody>\n",
       "    <tr>\n",
       "      <th>0</th>\n",
       "      <td>TRINITY_DN100004_c4_g2_i2</td>\n",
       "      <td>A0A1S3P3U9</td>\n",
       "      <td>9</td>\n",
       "      <td>22</td>\n",
       "      <td>24</td>\n",
       "      <td>8</td>\n",
       "      <td>23</td>\n",
       "      <td>50</td>\n",
       "      <td>45</td>\n",
       "      <td>65</td>\n",
       "      <td>53</td>\n",
       "      <td>95</td>\n",
       "      <td>76</td>\n",
       "      <td>29</td>\n",
       "      <td>74</td>\n",
       "    </tr>\n",
       "    <tr>\n",
       "      <th>1</th>\n",
       "      <td>TRINITY_DN100005_c7_g2_i1</td>\n",
       "      <td>A0A1S3SUX9</td>\n",
       "      <td>800</td>\n",
       "      <td>798</td>\n",
       "      <td>577</td>\n",
       "      <td>913</td>\n",
       "      <td>1322</td>\n",
       "      <td>1276</td>\n",
       "      <td>1285</td>\n",
       "      <td>6952</td>\n",
       "      <td>5736</td>\n",
       "      <td>4279</td>\n",
       "      <td>6616</td>\n",
       "      <td>4073</td>\n",
       "      <td>3119</td>\n",
       "    </tr>\n",
       "    <tr>\n",
       "      <th>2</th>\n",
       "      <td>TRINITY_DN81030_c8_g4_i1</td>\n",
       "      <td>A0A1S3SUX9</td>\n",
       "      <td>47</td>\n",
       "      <td>44</td>\n",
       "      <td>18</td>\n",
       "      <td>47</td>\n",
       "      <td>62</td>\n",
       "      <td>74</td>\n",
       "      <td>62</td>\n",
       "      <td>335</td>\n",
       "      <td>306</td>\n",
       "      <td>196</td>\n",
       "      <td>292</td>\n",
       "      <td>162</td>\n",
       "      <td>121</td>\n",
       "    </tr>\n",
       "    <tr>\n",
       "      <th>3</th>\n",
       "      <td>TRINITY_DN83202_c8_g4_i2</td>\n",
       "      <td>A0A1S3SUX9</td>\n",
       "      <td>35</td>\n",
       "      <td>21</td>\n",
       "      <td>30</td>\n",
       "      <td>30</td>\n",
       "      <td>13</td>\n",
       "      <td>28</td>\n",
       "      <td>32</td>\n",
       "      <td>8</td>\n",
       "      <td>6</td>\n",
       "      <td>13</td>\n",
       "      <td>21</td>\n",
       "      <td>15</td>\n",
       "      <td>38</td>\n",
       "    </tr>\n",
       "    <tr>\n",
       "      <th>4</th>\n",
       "      <td>TRINITY_DN105298_c5_g1_i2</td>\n",
       "      <td>A0A1S3SUX9</td>\n",
       "      <td>23</td>\n",
       "      <td>15</td>\n",
       "      <td>19</td>\n",
       "      <td>25</td>\n",
       "      <td>7</td>\n",
       "      <td>12</td>\n",
       "      <td>10</td>\n",
       "      <td>1</td>\n",
       "      <td>13</td>\n",
       "      <td>8</td>\n",
       "      <td>22</td>\n",
       "      <td>8</td>\n",
       "      <td>13</td>\n",
       "    </tr>\n",
       "  </tbody>\n",
       "</table>\n",
       "</div>"
      ],
      "text/plain": [
       "                      id_UTR       Entry  PBS_1d_1_UTR  PBS_1d_2_UTR  \\\n",
       "0  TRINITY_DN100004_c4_g2_i2  A0A1S3P3U9             9            22   \n",
       "1  TRINITY_DN100005_c7_g2_i1  A0A1S3SUX9           800           798   \n",
       "2   TRINITY_DN81030_c8_g4_i1  A0A1S3SUX9            47            44   \n",
       "3   TRINITY_DN83202_c8_g4_i2  A0A1S3SUX9            35            21   \n",
       "4  TRINITY_DN105298_c5_g1_i2  A0A1S3SUX9            23            15   \n",
       "\n",
       "   PBS_1d_3_UTR  PBS_1d_4_UTR  MC_1d_1_UTR  MC_1d_2_UTR  MC_1d_3_UTR  \\\n",
       "0            24             8           23           50           45   \n",
       "1           577           913         1322         1276         1285   \n",
       "2            18            47           62           74           62   \n",
       "3            30            30           13           28           32   \n",
       "4            19            25            7           12           10   \n",
       "\n",
       "   MC_6d_1_UTR  MC_6d_2_UTR  MC_6d_3_UTR  MC_9d_1_UTR  MC_9d_2_UTR  \\\n",
       "0           65           53           95           76           29   \n",
       "1         6952         5736         4279         6616         4073   \n",
       "2          335          306          196          292          162   \n",
       "3            8            6           13           21           15   \n",
       "4            1           13            8           22            8   \n",
       "\n",
       "   MC_9d_3_UTR  \n",
       "0           74  \n",
       "1         3119  \n",
       "2          121  \n",
       "3           38  \n",
       "4           13  "
      ]
     },
     "execution_count": 13,
     "metadata": {},
     "output_type": "execute_result"
    }
   ],
   "source": [
    "matryca_w_entry.head()"
   ]
  },
  {
   "cell_type": "code",
   "execution_count": 14,
   "metadata": {},
   "outputs": [],
   "source": [
    "# BIALKA:\n",
    "\n",
    "salmo_rep_with_annot = pd.read_csv('/mnt/sdb1/Project_Sieja_MCLR_52/1_code/report_salmo_annot_feature_map_salmo_proteins_xp01.csv', sep='\\t', low_memory=False)"
   ]
  },
  {
   "cell_type": "code",
   "execution_count": 15,
   "metadata": {
    "scrolled": false
   },
   "outputs": [
    {
     "data": {
      "text/html": [
       "<div>\n",
       "<style scoped>\n",
       "    .dataframe tbody tr th:only-of-type {\n",
       "        vertical-align: middle;\n",
       "    }\n",
       "\n",
       "    .dataframe tbody tr th {\n",
       "        vertical-align: top;\n",
       "    }\n",
       "\n",
       "    .dataframe thead th {\n",
       "        text-align: right;\n",
       "    }\n",
       "</style>\n",
       "<table border=\"1\" class=\"dataframe\">\n",
       "  <thead>\n",
       "    <tr style=\"text-align: right;\">\n",
       "      <th></th>\n",
       "      <th>id</th>\n",
       "      <th>ident</th>\n",
       "    </tr>\n",
       "  </thead>\n",
       "  <tbody>\n",
       "    <tr>\n",
       "      <th>0</th>\n",
       "      <td>TRINITY_DN100000_c5_g1</td>\n",
       "      <td>XP_013978521.1</td>\n",
       "    </tr>\n",
       "    <tr>\n",
       "      <th>1</th>\n",
       "      <td>TRINITY_DN100000_c5_g1_i2</td>\n",
       "      <td>XP_014024532.1</td>\n",
       "    </tr>\n",
       "    <tr>\n",
       "      <th>2</th>\n",
       "      <td>TRINITY_DN100000_c5_g1_i6</td>\n",
       "      <td>XP_013978521.1</td>\n",
       "    </tr>\n",
       "    <tr>\n",
       "      <th>3</th>\n",
       "      <td>TRINITY_DN100000_c9_g1</td>\n",
       "      <td>NaN</td>\n",
       "    </tr>\n",
       "    <tr>\n",
       "      <th>4</th>\n",
       "      <td>TRINITY_DN100000_c9_g1_i1</td>\n",
       "      <td>NaN</td>\n",
       "    </tr>\n",
       "  </tbody>\n",
       "</table>\n",
       "</div>"
      ],
      "text/plain": [
       "                          id           ident\n",
       "0     TRINITY_DN100000_c5_g1  XP_013978521.1\n",
       "1  TRINITY_DN100000_c5_g1_i2  XP_014024532.1\n",
       "2  TRINITY_DN100000_c5_g1_i6  XP_013978521.1\n",
       "3     TRINITY_DN100000_c9_g1             NaN\n",
       "4  TRINITY_DN100000_c9_g1_i1             NaN"
      ]
     },
     "execution_count": 15,
     "metadata": {},
     "output_type": "execute_result"
    }
   ],
   "source": [
    "salmo_rep_with_annot.head()"
   ]
  },
  {
   "cell_type": "code",
   "execution_count": 16,
   "metadata": {},
   "outputs": [
    {
     "data": {
      "text/plain": [
       "(332030, 2)"
      ]
     },
     "execution_count": 16,
     "metadata": {},
     "output_type": "execute_result"
    }
   ],
   "source": [
    "salmo_rep_with_annot.shape"
   ]
  },
  {
   "cell_type": "code",
   "execution_count": 17,
   "metadata": {},
   "outputs": [
    {
     "data": {
      "text/plain": [
       "(257125, 2)"
      ]
     },
     "execution_count": 17,
     "metadata": {},
     "output_type": "execute_result"
    }
   ],
   "source": [
    "salmo_rep_with_annot.dropna(inplace=True)\n",
    "salmo_rep_with_annot.shape"
   ]
  },
  {
   "cell_type": "code",
   "execution_count": 18,
   "metadata": {},
   "outputs": [
    {
     "data": {
      "text/html": [
       "<div>\n",
       "<style scoped>\n",
       "    .dataframe tbody tr th:only-of-type {\n",
       "        vertical-align: middle;\n",
       "    }\n",
       "\n",
       "    .dataframe tbody tr th {\n",
       "        vertical-align: top;\n",
       "    }\n",
       "\n",
       "    .dataframe thead th {\n",
       "        text-align: right;\n",
       "    }\n",
       "</style>\n",
       "<table border=\"1\" class=\"dataframe\">\n",
       "  <thead>\n",
       "    <tr style=\"text-align: right;\">\n",
       "      <th></th>\n",
       "      <th>id</th>\n",
       "      <th>ident</th>\n",
       "    </tr>\n",
       "  </thead>\n",
       "  <tbody>\n",
       "    <tr>\n",
       "      <th>0</th>\n",
       "      <td>TRINITY_DN100000_c5_g1</td>\n",
       "      <td>XP_013978521.1</td>\n",
       "    </tr>\n",
       "    <tr>\n",
       "      <th>1</th>\n",
       "      <td>TRINITY_DN100000_c5_g1_i2</td>\n",
       "      <td>XP_014024532.1</td>\n",
       "    </tr>\n",
       "    <tr>\n",
       "      <th>2</th>\n",
       "      <td>TRINITY_DN100000_c5_g1_i6</td>\n",
       "      <td>XP_013978521.1</td>\n",
       "    </tr>\n",
       "    <tr>\n",
       "      <th>7</th>\n",
       "      <td>TRINITY_DN100001_c2_g2</td>\n",
       "      <td>XP_014027367.1</td>\n",
       "    </tr>\n",
       "    <tr>\n",
       "      <th>8</th>\n",
       "      <td>TRINITY_DN100001_c2_g2_i2</td>\n",
       "      <td>XP_014027367.1</td>\n",
       "    </tr>\n",
       "  </tbody>\n",
       "</table>\n",
       "</div>"
      ],
      "text/plain": [
       "                          id           ident\n",
       "0     TRINITY_DN100000_c5_g1  XP_013978521.1\n",
       "1  TRINITY_DN100000_c5_g1_i2  XP_014024532.1\n",
       "2  TRINITY_DN100000_c5_g1_i6  XP_013978521.1\n",
       "7     TRINITY_DN100001_c2_g2  XP_014027367.1\n",
       "8  TRINITY_DN100001_c2_g2_i2  XP_014027367.1"
      ]
     },
     "execution_count": 18,
     "metadata": {},
     "output_type": "execute_result"
    }
   ],
   "source": [
    "salmo_rep_with_annot.head()"
   ]
  },
  {
   "cell_type": "code",
   "execution_count": 41,
   "metadata": {
    "scrolled": true
   },
   "outputs": [
    {
     "data": {
      "text/plain": [
       "id       object\n",
       "ident    object\n",
       "dtype: object"
      ]
     },
     "execution_count": 41,
     "metadata": {},
     "output_type": "execute_result"
    }
   ],
   "source": [
    "salmo_rep_with_annot.dtypes"
   ]
  },
  {
   "cell_type": "code",
   "execution_count": 52,
   "metadata": {},
   "outputs": [],
   "source": [
    "salmo_rep_with_annot['ident'].to_csv(path+'xp_to_uniref.txt', index=False)"
   ]
  },
  {
   "cell_type": "code",
   "execution_count": 21,
   "metadata": {},
   "outputs": [
    {
     "data": {
      "text/html": [
       "<div>\n",
       "<style scoped>\n",
       "    .dataframe tbody tr th:only-of-type {\n",
       "        vertical-align: middle;\n",
       "    }\n",
       "\n",
       "    .dataframe tbody tr th {\n",
       "        vertical-align: top;\n",
       "    }\n",
       "\n",
       "    .dataframe thead th {\n",
       "        text-align: right;\n",
       "    }\n",
       "</style>\n",
       "<table border=\"1\" class=\"dataframe\">\n",
       "  <thead>\n",
       "    <tr style=\"text-align: right;\">\n",
       "      <th></th>\n",
       "      <th>Entry</th>\n",
       "      <th>ident</th>\n",
       "      <th>Entry name</th>\n",
       "      <th>Status</th>\n",
       "      <th>Protein names</th>\n",
       "      <th>Gene names</th>\n",
       "      <th>Organism</th>\n",
       "      <th>Length</th>\n",
       "    </tr>\n",
       "  </thead>\n",
       "  <tbody>\n",
       "    <tr>\n",
       "      <th>0</th>\n",
       "      <td>A0A1S3KIG4</td>\n",
       "      <td>XP_013978521.1</td>\n",
       "      <td>A0A1S3KIG4_SALSA</td>\n",
       "      <td>unreviewed</td>\n",
       "      <td>carboxyl-terminal PDZ ligand of neuronal nitri...</td>\n",
       "      <td>LOC106560293</td>\n",
       "      <td>Salmo salar (Atlantic salmon)</td>\n",
       "      <td>758</td>\n",
       "    </tr>\n",
       "    <tr>\n",
       "      <th>1</th>\n",
       "      <td>A0A1S3PAG0</td>\n",
       "      <td>XP_014024532.1</td>\n",
       "      <td>A0A1S3PAG0_SALSA</td>\n",
       "      <td>unreviewed</td>\n",
       "      <td>carboxyl-terminal PDZ ligand of neuronal nitri...</td>\n",
       "      <td>LOC106584141</td>\n",
       "      <td>Salmo salar (Atlantic salmon)</td>\n",
       "      <td>754</td>\n",
       "    </tr>\n",
       "    <tr>\n",
       "      <th>2</th>\n",
       "      <td>A0A1S3PIA6</td>\n",
       "      <td>XP_014027367.1</td>\n",
       "      <td>A0A1S3PIA6_SALSA</td>\n",
       "      <td>unreviewed</td>\n",
       "      <td>Probable cytosolic iron-sulfur protein assembl...</td>\n",
       "      <td>LOC106585549 CIAO1</td>\n",
       "      <td>Salmo salar (Atlantic salmon)</td>\n",
       "      <td>333</td>\n",
       "    </tr>\n",
       "    <tr>\n",
       "      <th>3</th>\n",
       "      <td>B5X212</td>\n",
       "      <td>XP_014027367.1</td>\n",
       "      <td>CIO1B_SALSA</td>\n",
       "      <td>reviewed</td>\n",
       "      <td>Probable cytosolic iron-sulfur protein assembl...</td>\n",
       "      <td>ciao1b</td>\n",
       "      <td>Salmo salar (Atlantic salmon)</td>\n",
       "      <td>333</td>\n",
       "    </tr>\n",
       "    <tr>\n",
       "      <th>4</th>\n",
       "      <td>A0A1S3NJU9</td>\n",
       "      <td>XP_014015694.1</td>\n",
       "      <td>A0A1S3NJU9_SALSA</td>\n",
       "      <td>unreviewed</td>\n",
       "      <td>Probable cytosolic iron-sulfur protein assembl...</td>\n",
       "      <td>LOC106579887 CIAO1</td>\n",
       "      <td>Salmo salar (Atlantic salmon)</td>\n",
       "      <td>330</td>\n",
       "    </tr>\n",
       "  </tbody>\n",
       "</table>\n",
       "</div>"
      ],
      "text/plain": [
       "        Entry           ident        Entry name      Status  \\\n",
       "0  A0A1S3KIG4  XP_013978521.1  A0A1S3KIG4_SALSA  unreviewed   \n",
       "1  A0A1S3PAG0  XP_014024532.1  A0A1S3PAG0_SALSA  unreviewed   \n",
       "2  A0A1S3PIA6  XP_014027367.1  A0A1S3PIA6_SALSA  unreviewed   \n",
       "3      B5X212  XP_014027367.1       CIO1B_SALSA    reviewed   \n",
       "4  A0A1S3NJU9  XP_014015694.1  A0A1S3NJU9_SALSA  unreviewed   \n",
       "\n",
       "                                       Protein names          Gene names  \\\n",
       "0  carboxyl-terminal PDZ ligand of neuronal nitri...        LOC106560293   \n",
       "1  carboxyl-terminal PDZ ligand of neuronal nitri...        LOC106584141   \n",
       "2  Probable cytosolic iron-sulfur protein assembl...  LOC106585549 CIAO1   \n",
       "3  Probable cytosolic iron-sulfur protein assembl...              ciao1b   \n",
       "4  Probable cytosolic iron-sulfur protein assembl...  LOC106579887 CIAO1   \n",
       "\n",
       "                        Organism  Length  \n",
       "0  Salmo salar (Atlantic salmon)     758  \n",
       "1  Salmo salar (Atlantic salmon)     754  \n",
       "2  Salmo salar (Atlantic salmon)     333  \n",
       "3  Salmo salar (Atlantic salmon)     333  \n",
       "4  Salmo salar (Atlantic salmon)     330  "
      ]
     },
     "execution_count": 21,
     "metadata": {},
     "output_type": "execute_result"
    }
   ],
   "source": [
    "# zawiera wszystkie bialka zidentyfikowane przez trinotate i przypisane im Entry z uniprota\n",
    "\n",
    "uniref_from_trinotate = pd.read_csv(prot_path+'uniprot-yourlist-xp_to_uniref.tab', sep='\\t')\n",
    "uniref_from_trinotate.head()"
   ]
  },
  {
   "cell_type": "code",
   "execution_count": 112,
   "metadata": {},
   "outputs": [],
   "source": [
    "#salmo_rep_with_annot_split = pd.DataFrame(salmo_rep_with_annot['ident'].str.split('^').tolist(), index=salmo_rep_with_annot.id).stack()\n",
    "#salmo_rep_with_annot_split = salmo_rep_with_annot_split.reset_index([0, 'id'])\n",
    "#salmo_rep_with_annot_split"
   ]
  },
  {
   "cell_type": "code",
   "execution_count": 113,
   "metadata": {},
   "outputs": [],
   "source": [
    "#uniref_from_trinotate_entry_indent = uniref_from_trinotate[['Entry', 'ident']]\n",
    "#uniref_from_trinotate_entry_indent.head()"
   ]
  },
  {
   "cell_type": "code",
   "execution_count": 22,
   "metadata": {},
   "outputs": [
    {
     "data": {
      "text/html": [
       "<div>\n",
       "<style scoped>\n",
       "    .dataframe tbody tr th:only-of-type {\n",
       "        vertical-align: middle;\n",
       "    }\n",
       "\n",
       "    .dataframe tbody tr th {\n",
       "        vertical-align: top;\n",
       "    }\n",
       "\n",
       "    .dataframe thead th {\n",
       "        text-align: right;\n",
       "    }\n",
       "</style>\n",
       "<table border=\"1\" class=\"dataframe\">\n",
       "  <thead>\n",
       "    <tr style=\"text-align: right;\">\n",
       "      <th></th>\n",
       "      <th>Entry</th>\n",
       "      <th>ident</th>\n",
       "      <th>Entry name</th>\n",
       "      <th>Status</th>\n",
       "      <th>Protein names</th>\n",
       "      <th>Gene names</th>\n",
       "      <th>Organism</th>\n",
       "      <th>Length</th>\n",
       "      <th>id</th>\n",
       "    </tr>\n",
       "  </thead>\n",
       "  <tbody>\n",
       "    <tr>\n",
       "      <th>0</th>\n",
       "      <td>A0A1S3KIG4</td>\n",
       "      <td>XP_013978521.1</td>\n",
       "      <td>A0A1S3KIG4_SALSA</td>\n",
       "      <td>unreviewed</td>\n",
       "      <td>carboxyl-terminal PDZ ligand of neuronal nitri...</td>\n",
       "      <td>LOC106560293</td>\n",
       "      <td>Salmo salar (Atlantic salmon)</td>\n",
       "      <td>758</td>\n",
       "      <td>TRINITY_DN100000_c5_g1</td>\n",
       "    </tr>\n",
       "    <tr>\n",
       "      <th>1</th>\n",
       "      <td>A0A1S3KIG4</td>\n",
       "      <td>XP_013978521.1</td>\n",
       "      <td>A0A1S3KIG4_SALSA</td>\n",
       "      <td>unreviewed</td>\n",
       "      <td>carboxyl-terminal PDZ ligand of neuronal nitri...</td>\n",
       "      <td>LOC106560293</td>\n",
       "      <td>Salmo salar (Atlantic salmon)</td>\n",
       "      <td>758</td>\n",
       "      <td>TRINITY_DN100000_c5_g1_i6</td>\n",
       "    </tr>\n",
       "    <tr>\n",
       "      <th>2</th>\n",
       "      <td>A0A1S3PAG0</td>\n",
       "      <td>XP_014024532.1</td>\n",
       "      <td>A0A1S3PAG0_SALSA</td>\n",
       "      <td>unreviewed</td>\n",
       "      <td>carboxyl-terminal PDZ ligand of neuronal nitri...</td>\n",
       "      <td>LOC106584141</td>\n",
       "      <td>Salmo salar (Atlantic salmon)</td>\n",
       "      <td>754</td>\n",
       "      <td>TRINITY_DN100000_c5_g1_i2</td>\n",
       "    </tr>\n",
       "    <tr>\n",
       "      <th>3</th>\n",
       "      <td>A0A1S3PIA6</td>\n",
       "      <td>XP_014027367.1</td>\n",
       "      <td>A0A1S3PIA6_SALSA</td>\n",
       "      <td>unreviewed</td>\n",
       "      <td>Probable cytosolic iron-sulfur protein assembl...</td>\n",
       "      <td>LOC106585549 CIAO1</td>\n",
       "      <td>Salmo salar (Atlantic salmon)</td>\n",
       "      <td>333</td>\n",
       "      <td>TRINITY_DN100001_c2_g2</td>\n",
       "    </tr>\n",
       "    <tr>\n",
       "      <th>4</th>\n",
       "      <td>A0A1S3PIA6</td>\n",
       "      <td>XP_014027367.1</td>\n",
       "      <td>A0A1S3PIA6_SALSA</td>\n",
       "      <td>unreviewed</td>\n",
       "      <td>Probable cytosolic iron-sulfur protein assembl...</td>\n",
       "      <td>LOC106585549 CIAO1</td>\n",
       "      <td>Salmo salar (Atlantic salmon)</td>\n",
       "      <td>333</td>\n",
       "      <td>TRINITY_DN100001_c2_g2_i2</td>\n",
       "    </tr>\n",
       "  </tbody>\n",
       "</table>\n",
       "</div>"
      ],
      "text/plain": [
       "        Entry           ident        Entry name      Status  \\\n",
       "0  A0A1S3KIG4  XP_013978521.1  A0A1S3KIG4_SALSA  unreviewed   \n",
       "1  A0A1S3KIG4  XP_013978521.1  A0A1S3KIG4_SALSA  unreviewed   \n",
       "2  A0A1S3PAG0  XP_014024532.1  A0A1S3PAG0_SALSA  unreviewed   \n",
       "3  A0A1S3PIA6  XP_014027367.1  A0A1S3PIA6_SALSA  unreviewed   \n",
       "4  A0A1S3PIA6  XP_014027367.1  A0A1S3PIA6_SALSA  unreviewed   \n",
       "\n",
       "                                       Protein names          Gene names  \\\n",
       "0  carboxyl-terminal PDZ ligand of neuronal nitri...        LOC106560293   \n",
       "1  carboxyl-terminal PDZ ligand of neuronal nitri...        LOC106560293   \n",
       "2  carboxyl-terminal PDZ ligand of neuronal nitri...        LOC106584141   \n",
       "3  Probable cytosolic iron-sulfur protein assembl...  LOC106585549 CIAO1   \n",
       "4  Probable cytosolic iron-sulfur protein assembl...  LOC106585549 CIAO1   \n",
       "\n",
       "                        Organism  Length                         id  \n",
       "0  Salmo salar (Atlantic salmon)     758     TRINITY_DN100000_c5_g1  \n",
       "1  Salmo salar (Atlantic salmon)     758  TRINITY_DN100000_c5_g1_i6  \n",
       "2  Salmo salar (Atlantic salmon)     754  TRINITY_DN100000_c5_g1_i2  \n",
       "3  Salmo salar (Atlantic salmon)     333     TRINITY_DN100001_c2_g2  \n",
       "4  Salmo salar (Atlantic salmon)     333  TRINITY_DN100001_c2_g2_i2  "
      ]
     },
     "execution_count": 22,
     "metadata": {},
     "output_type": "execute_result"
    }
   ],
   "source": [
    "salmo_rep_with_annot_w_entry = pd.merge(uniref_from_trinotate, salmo_rep_with_annot, on='ident', how='inner')\n",
    "salmo_rep_with_annot_w_entry.head()"
   ]
  },
  {
   "cell_type": "code",
   "execution_count": 23,
   "metadata": {},
   "outputs": [
    {
     "data": {
      "text/plain": [
       "(429071, 9)"
      ]
     },
     "execution_count": 23,
     "metadata": {},
     "output_type": "execute_result"
    }
   ],
   "source": [
    "salmo_rep_with_annot_w_entry.shape"
   ]
  },
  {
   "cell_type": "code",
   "execution_count": 22,
   "metadata": {},
   "outputs": [],
   "source": [
    "salmo_rep_with_annot_w_entry.to_csv(prot_path+'PROT_wszystkie_bialka_z_raportu_trinity.csv', index=False)"
   ]
  },
  {
   "cell_type": "code",
   "execution_count": 24,
   "metadata": {},
   "outputs": [
    {
     "data": {
      "text/html": [
       "<div>\n",
       "<style scoped>\n",
       "    .dataframe tbody tr th:only-of-type {\n",
       "        vertical-align: middle;\n",
       "    }\n",
       "\n",
       "    .dataframe tbody tr th {\n",
       "        vertical-align: top;\n",
       "    }\n",
       "\n",
       "    .dataframe thead th {\n",
       "        text-align: right;\n",
       "    }\n",
       "</style>\n",
       "<table border=\"1\" class=\"dataframe\">\n",
       "  <thead>\n",
       "    <tr style=\"text-align: right;\">\n",
       "      <th></th>\n",
       "      <th>trinity</th>\n",
       "      <th>PBS_1d_1</th>\n",
       "      <th>PBS_1d_2</th>\n",
       "      <th>PBS_1d_3</th>\n",
       "      <th>PBS_1d_4</th>\n",
       "      <th>MC_1d_1</th>\n",
       "      <th>MC_1d_2</th>\n",
       "      <th>MC_1d_3</th>\n",
       "      <th>MC_6d_1</th>\n",
       "      <th>MC_6d_2</th>\n",
       "      <th>MC_6d_3</th>\n",
       "      <th>MC_9d_1</th>\n",
       "      <th>MC_9d_2</th>\n",
       "      <th>MC_9d_3</th>\n",
       "    </tr>\n",
       "  </thead>\n",
       "  <tbody>\n",
       "    <tr>\n",
       "      <th>0</th>\n",
       "      <td>TRINITY_DN100000_c5_g1_i2</td>\n",
       "      <td>0.0</td>\n",
       "      <td>3.0</td>\n",
       "      <td>2.0</td>\n",
       "      <td>0.0</td>\n",
       "      <td>0.0</td>\n",
       "      <td>0.0</td>\n",
       "      <td>0.0</td>\n",
       "      <td>0</td>\n",
       "      <td>0</td>\n",
       "      <td>0</td>\n",
       "      <td>5</td>\n",
       "      <td>0</td>\n",
       "      <td>0</td>\n",
       "    </tr>\n",
       "    <tr>\n",
       "      <th>1</th>\n",
       "      <td>TRINITY_DN100000_c5_g1_i6</td>\n",
       "      <td>374.0</td>\n",
       "      <td>506.0</td>\n",
       "      <td>607.0</td>\n",
       "      <td>594.0</td>\n",
       "      <td>511.0</td>\n",
       "      <td>726.0</td>\n",
       "      <td>517.0</td>\n",
       "      <td>192</td>\n",
       "      <td>195</td>\n",
       "      <td>227</td>\n",
       "      <td>427</td>\n",
       "      <td>219</td>\n",
       "      <td>339</td>\n",
       "    </tr>\n",
       "    <tr>\n",
       "      <th>2</th>\n",
       "      <td>TRINITY_DN100001_c2_g2_i2</td>\n",
       "      <td>1232.0</td>\n",
       "      <td>1264.0</td>\n",
       "      <td>998.0</td>\n",
       "      <td>1040.0</td>\n",
       "      <td>1162.0</td>\n",
       "      <td>1784.0</td>\n",
       "      <td>938.0</td>\n",
       "      <td>1730</td>\n",
       "      <td>1743</td>\n",
       "      <td>1974</td>\n",
       "      <td>2315</td>\n",
       "      <td>2067</td>\n",
       "      <td>2386</td>\n",
       "    </tr>\n",
       "    <tr>\n",
       "      <th>3</th>\n",
       "      <td>TRINITY_DN100001_c2_g2_i7</td>\n",
       "      <td>562.0</td>\n",
       "      <td>408.0</td>\n",
       "      <td>311.0</td>\n",
       "      <td>353.0</td>\n",
       "      <td>402.0</td>\n",
       "      <td>471.0</td>\n",
       "      <td>420.0</td>\n",
       "      <td>1378</td>\n",
       "      <td>1338</td>\n",
       "      <td>1428</td>\n",
       "      <td>1291</td>\n",
       "      <td>1139</td>\n",
       "      <td>1344</td>\n",
       "    </tr>\n",
       "    <tr>\n",
       "      <th>4</th>\n",
       "      <td>TRINITY_DN100001_c2_g3_i3</td>\n",
       "      <td>565.0</td>\n",
       "      <td>525.0</td>\n",
       "      <td>384.0</td>\n",
       "      <td>406.0</td>\n",
       "      <td>555.0</td>\n",
       "      <td>552.0</td>\n",
       "      <td>529.0</td>\n",
       "      <td>1553</td>\n",
       "      <td>1461</td>\n",
       "      <td>1684</td>\n",
       "      <td>1436</td>\n",
       "      <td>1416</td>\n",
       "      <td>1447</td>\n",
       "    </tr>\n",
       "  </tbody>\n",
       "</table>\n",
       "</div>"
      ],
      "text/plain": [
       "                     trinity  PBS_1d_1  PBS_1d_2  PBS_1d_3  PBS_1d_4  MC_1d_1  \\\n",
       "0  TRINITY_DN100000_c5_g1_i2       0.0       3.0       2.0       0.0      0.0   \n",
       "1  TRINITY_DN100000_c5_g1_i6     374.0     506.0     607.0     594.0    511.0   \n",
       "2  TRINITY_DN100001_c2_g2_i2    1232.0    1264.0     998.0    1040.0   1162.0   \n",
       "3  TRINITY_DN100001_c2_g2_i7     562.0     408.0     311.0     353.0    402.0   \n",
       "4  TRINITY_DN100001_c2_g3_i3     565.0     525.0     384.0     406.0    555.0   \n",
       "\n",
       "   MC_1d_2  MC_1d_3  MC_6d_1  MC_6d_2  MC_6d_3  MC_9d_1  MC_9d_2  MC_9d_3  \n",
       "0      0.0      0.0        0        0        0        5        0        0  \n",
       "1    726.0    517.0      192      195      227      427      219      339  \n",
       "2   1784.0    938.0     1730     1743     1974     2315     2067     2386  \n",
       "3    471.0    420.0     1378     1338     1428     1291     1139     1344  \n",
       "4    552.0    529.0     1553     1461     1684     1436     1416     1447  "
      ]
     },
     "execution_count": 24,
     "metadata": {},
     "output_type": "execute_result"
    }
   ],
   "source": [
    "prot_path = '/mnt/sdb1/Project_Sieja_MCLR_52/2_pipeline/7_counting_transcripts/proteins_salmo/'\n",
    "proteins_matryca = pd.read_csv(prot_path+'PBS_MCLR_salmo_only_matryca.csv')\n",
    "proteins_matryca.head()"
   ]
  },
  {
   "cell_type": "code",
   "execution_count": 25,
   "metadata": {},
   "outputs": [
    {
     "data": {
      "text/plain": [
       "(148647, 14)"
      ]
     },
     "execution_count": 25,
     "metadata": {},
     "output_type": "execute_result"
    }
   ],
   "source": [
    "proteins_matryca.shape"
   ]
  },
  {
   "cell_type": "code",
   "execution_count": 28,
   "metadata": {},
   "outputs": [],
   "source": [
    "proteins_matryca.rename(columns={'trinity':'id'}, inplace=True)"
   ]
  },
  {
   "cell_type": "code",
   "execution_count": 29,
   "metadata": {},
   "outputs": [
    {
     "data": {
      "text/plain": [
       "(149296, 22)"
      ]
     },
     "execution_count": 29,
     "metadata": {},
     "output_type": "execute_result"
    }
   ],
   "source": [
    "proteins_matryca_w_entry = pd.merge(proteins_matryca, salmo_rep_with_annot_w_entry, on='id', how='inner')\n",
    "proteins_matryca_w_entry.drop_duplicates(inplace=True)\n",
    "proteins_matryca_w_entry.shape"
   ]
  },
  {
   "cell_type": "code",
   "execution_count": 96,
   "metadata": {},
   "outputs": [],
   "source": [
    "#proteins_matryca_w_entry.to_csv(path+'test.csv')"
   ]
  },
  {
   "cell_type": "code",
   "execution_count": 30,
   "metadata": {},
   "outputs": [
    {
     "data": {
      "text/plain": [
       "(0, 22)"
      ]
     },
     "execution_count": 30,
     "metadata": {},
     "output_type": "execute_result"
    }
   ],
   "source": [
    "test_if_merged_correctly = proteins_matryca_w_entry[~proteins_matryca_w_entry['id'].isin(proteins_matryca['id'])]\n",
    "test_if_merged_correctly.shape\n"
   ]
  },
  {
   "cell_type": "code",
   "execution_count": 98,
   "metadata": {},
   "outputs": [],
   "source": [
    "#del proteins_matryca_w_entry['id']\n",
    "#del proteins_matryca_w_entry['ident']"
   ]
  },
  {
   "cell_type": "code",
   "execution_count": 31,
   "metadata": {},
   "outputs": [],
   "source": [
    "proteins_matryca_w_entry.columns = [str(col) + '_PROT' for col in proteins_matryca_w_entry.columns]"
   ]
  },
  {
   "cell_type": "code",
   "execution_count": 32,
   "metadata": {},
   "outputs": [],
   "source": [
    "proteins_matryca_w_entry.rename(columns={'Entry_PROT':'Entry'}, inplace=True)"
   ]
  },
  {
   "cell_type": "code",
   "execution_count": 33,
   "metadata": {
    "scrolled": true
   },
   "outputs": [
    {
     "data": {
      "text/html": [
       "<div>\n",
       "<style scoped>\n",
       "    .dataframe tbody tr th:only-of-type {\n",
       "        vertical-align: middle;\n",
       "    }\n",
       "\n",
       "    .dataframe tbody tr th {\n",
       "        vertical-align: top;\n",
       "    }\n",
       "\n",
       "    .dataframe thead th {\n",
       "        text-align: right;\n",
       "    }\n",
       "</style>\n",
       "<table border=\"1\" class=\"dataframe\">\n",
       "  <thead>\n",
       "    <tr style=\"text-align: right;\">\n",
       "      <th></th>\n",
       "      <th>id_PROT</th>\n",
       "      <th>PBS_1d_1_PROT</th>\n",
       "      <th>PBS_1d_2_PROT</th>\n",
       "      <th>PBS_1d_3_PROT</th>\n",
       "      <th>PBS_1d_4_PROT</th>\n",
       "      <th>MC_1d_1_PROT</th>\n",
       "      <th>MC_1d_2_PROT</th>\n",
       "      <th>MC_1d_3_PROT</th>\n",
       "      <th>MC_6d_1_PROT</th>\n",
       "      <th>MC_6d_2_PROT</th>\n",
       "      <th>...</th>\n",
       "      <th>MC_9d_2_PROT</th>\n",
       "      <th>MC_9d_3_PROT</th>\n",
       "      <th>Entry</th>\n",
       "      <th>ident_PROT</th>\n",
       "      <th>Entry name_PROT</th>\n",
       "      <th>Status_PROT</th>\n",
       "      <th>Protein names_PROT</th>\n",
       "      <th>Gene names_PROT</th>\n",
       "      <th>Organism_PROT</th>\n",
       "      <th>Length_PROT</th>\n",
       "    </tr>\n",
       "  </thead>\n",
       "  <tbody>\n",
       "    <tr>\n",
       "      <th>0</th>\n",
       "      <td>TRINITY_DN100000_c5_g1_i2</td>\n",
       "      <td>0.0</td>\n",
       "      <td>3.0</td>\n",
       "      <td>2.0</td>\n",
       "      <td>0.0</td>\n",
       "      <td>0.0</td>\n",
       "      <td>0.0</td>\n",
       "      <td>0.0</td>\n",
       "      <td>0</td>\n",
       "      <td>0</td>\n",
       "      <td>...</td>\n",
       "      <td>0</td>\n",
       "      <td>0</td>\n",
       "      <td>A0A1S3PAG0</td>\n",
       "      <td>XP_014024532.1</td>\n",
       "      <td>A0A1S3PAG0_SALSA</td>\n",
       "      <td>unreviewed</td>\n",
       "      <td>carboxyl-terminal PDZ ligand of neuronal nitri...</td>\n",
       "      <td>LOC106584141</td>\n",
       "      <td>Salmo salar (Atlantic salmon)</td>\n",
       "      <td>754</td>\n",
       "    </tr>\n",
       "    <tr>\n",
       "      <th>1</th>\n",
       "      <td>TRINITY_DN100000_c5_g1_i6</td>\n",
       "      <td>374.0</td>\n",
       "      <td>506.0</td>\n",
       "      <td>607.0</td>\n",
       "      <td>594.0</td>\n",
       "      <td>511.0</td>\n",
       "      <td>726.0</td>\n",
       "      <td>517.0</td>\n",
       "      <td>192</td>\n",
       "      <td>195</td>\n",
       "      <td>...</td>\n",
       "      <td>219</td>\n",
       "      <td>339</td>\n",
       "      <td>A0A1S3KIG4</td>\n",
       "      <td>XP_013978521.1</td>\n",
       "      <td>A0A1S3KIG4_SALSA</td>\n",
       "      <td>unreviewed</td>\n",
       "      <td>carboxyl-terminal PDZ ligand of neuronal nitri...</td>\n",
       "      <td>LOC106560293</td>\n",
       "      <td>Salmo salar (Atlantic salmon)</td>\n",
       "      <td>758</td>\n",
       "    </tr>\n",
       "    <tr>\n",
       "      <th>2</th>\n",
       "      <td>TRINITY_DN100001_c2_g2_i2</td>\n",
       "      <td>1232.0</td>\n",
       "      <td>1264.0</td>\n",
       "      <td>998.0</td>\n",
       "      <td>1040.0</td>\n",
       "      <td>1162.0</td>\n",
       "      <td>1784.0</td>\n",
       "      <td>938.0</td>\n",
       "      <td>1730</td>\n",
       "      <td>1743</td>\n",
       "      <td>...</td>\n",
       "      <td>2067</td>\n",
       "      <td>2386</td>\n",
       "      <td>A0A1S3PIA6</td>\n",
       "      <td>XP_014027367.1</td>\n",
       "      <td>A0A1S3PIA6_SALSA</td>\n",
       "      <td>unreviewed</td>\n",
       "      <td>Probable cytosolic iron-sulfur protein assembl...</td>\n",
       "      <td>LOC106585549 CIAO1</td>\n",
       "      <td>Salmo salar (Atlantic salmon)</td>\n",
       "      <td>333</td>\n",
       "    </tr>\n",
       "    <tr>\n",
       "      <th>3</th>\n",
       "      <td>TRINITY_DN100001_c2_g2_i2</td>\n",
       "      <td>1232.0</td>\n",
       "      <td>1264.0</td>\n",
       "      <td>998.0</td>\n",
       "      <td>1040.0</td>\n",
       "      <td>1162.0</td>\n",
       "      <td>1784.0</td>\n",
       "      <td>938.0</td>\n",
       "      <td>1730</td>\n",
       "      <td>1743</td>\n",
       "      <td>...</td>\n",
       "      <td>2067</td>\n",
       "      <td>2386</td>\n",
       "      <td>B5X212</td>\n",
       "      <td>XP_014027367.1</td>\n",
       "      <td>CIO1B_SALSA</td>\n",
       "      <td>reviewed</td>\n",
       "      <td>Probable cytosolic iron-sulfur protein assembl...</td>\n",
       "      <td>ciao1b</td>\n",
       "      <td>Salmo salar (Atlantic salmon)</td>\n",
       "      <td>333</td>\n",
       "    </tr>\n",
       "    <tr>\n",
       "      <th>4</th>\n",
       "      <td>TRINITY_DN100001_c2_g2_i7</td>\n",
       "      <td>562.0</td>\n",
       "      <td>408.0</td>\n",
       "      <td>311.0</td>\n",
       "      <td>353.0</td>\n",
       "      <td>402.0</td>\n",
       "      <td>471.0</td>\n",
       "      <td>420.0</td>\n",
       "      <td>1378</td>\n",
       "      <td>1338</td>\n",
       "      <td>...</td>\n",
       "      <td>1139</td>\n",
       "      <td>1344</td>\n",
       "      <td>A0A1S3NJU9</td>\n",
       "      <td>XP_014015694.1</td>\n",
       "      <td>A0A1S3NJU9_SALSA</td>\n",
       "      <td>unreviewed</td>\n",
       "      <td>Probable cytosolic iron-sulfur protein assembl...</td>\n",
       "      <td>LOC106579887 CIAO1</td>\n",
       "      <td>Salmo salar (Atlantic salmon)</td>\n",
       "      <td>330</td>\n",
       "    </tr>\n",
       "  </tbody>\n",
       "</table>\n",
       "<p>5 rows × 22 columns</p>\n",
       "</div>"
      ],
      "text/plain": [
       "                     id_PROT  PBS_1d_1_PROT  PBS_1d_2_PROT  PBS_1d_3_PROT  \\\n",
       "0  TRINITY_DN100000_c5_g1_i2            0.0            3.0            2.0   \n",
       "1  TRINITY_DN100000_c5_g1_i6          374.0          506.0          607.0   \n",
       "2  TRINITY_DN100001_c2_g2_i2         1232.0         1264.0          998.0   \n",
       "3  TRINITY_DN100001_c2_g2_i2         1232.0         1264.0          998.0   \n",
       "4  TRINITY_DN100001_c2_g2_i7          562.0          408.0          311.0   \n",
       "\n",
       "   PBS_1d_4_PROT  MC_1d_1_PROT  MC_1d_2_PROT  MC_1d_3_PROT  MC_6d_1_PROT  \\\n",
       "0            0.0           0.0           0.0           0.0             0   \n",
       "1          594.0         511.0         726.0         517.0           192   \n",
       "2         1040.0        1162.0        1784.0         938.0          1730   \n",
       "3         1040.0        1162.0        1784.0         938.0          1730   \n",
       "4          353.0         402.0         471.0         420.0          1378   \n",
       "\n",
       "   MC_6d_2_PROT     ...      MC_9d_2_PROT  MC_9d_3_PROT       Entry  \\\n",
       "0             0     ...                 0             0  A0A1S3PAG0   \n",
       "1           195     ...               219           339  A0A1S3KIG4   \n",
       "2          1743     ...              2067          2386  A0A1S3PIA6   \n",
       "3          1743     ...              2067          2386      B5X212   \n",
       "4          1338     ...              1139          1344  A0A1S3NJU9   \n",
       "\n",
       "       ident_PROT   Entry name_PROT Status_PROT  \\\n",
       "0  XP_014024532.1  A0A1S3PAG0_SALSA  unreviewed   \n",
       "1  XP_013978521.1  A0A1S3KIG4_SALSA  unreviewed   \n",
       "2  XP_014027367.1  A0A1S3PIA6_SALSA  unreviewed   \n",
       "3  XP_014027367.1       CIO1B_SALSA    reviewed   \n",
       "4  XP_014015694.1  A0A1S3NJU9_SALSA  unreviewed   \n",
       "\n",
       "                                  Protein names_PROT     Gene names_PROT  \\\n",
       "0  carboxyl-terminal PDZ ligand of neuronal nitri...        LOC106584141   \n",
       "1  carboxyl-terminal PDZ ligand of neuronal nitri...        LOC106560293   \n",
       "2  Probable cytosolic iron-sulfur protein assembl...  LOC106585549 CIAO1   \n",
       "3  Probable cytosolic iron-sulfur protein assembl...              ciao1b   \n",
       "4  Probable cytosolic iron-sulfur protein assembl...  LOC106579887 CIAO1   \n",
       "\n",
       "                   Organism_PROT Length_PROT  \n",
       "0  Salmo salar (Atlantic salmon)         754  \n",
       "1  Salmo salar (Atlantic salmon)         758  \n",
       "2  Salmo salar (Atlantic salmon)         333  \n",
       "3  Salmo salar (Atlantic salmon)         333  \n",
       "4  Salmo salar (Atlantic salmon)         330  \n",
       "\n",
       "[5 rows x 22 columns]"
      ]
     },
     "execution_count": 33,
     "metadata": {},
     "output_type": "execute_result"
    }
   ],
   "source": [
    "proteins_matryca_w_entry.head()"
   ]
  },
  {
   "cell_type": "code",
   "execution_count": 34,
   "metadata": {},
   "outputs": [
    {
     "data": {
      "text/plain": [
       "(93208, 15)"
      ]
     },
     "execution_count": 34,
     "metadata": {},
     "output_type": "execute_result"
    }
   ],
   "source": [
    "matryca_w_entry.shape #UTR"
   ]
  },
  {
   "cell_type": "code",
   "execution_count": 35,
   "metadata": {},
   "outputs": [
    {
     "data": {
      "text/plain": [
       "(149296, 22)"
      ]
     },
     "execution_count": 35,
     "metadata": {},
     "output_type": "execute_result"
    }
   ],
   "source": [
    "proteins_matryca_w_entry.shape #PROT"
   ]
  },
  {
   "cell_type": "code",
   "execution_count": 36,
   "metadata": {},
   "outputs": [],
   "source": [
    "# do UTR dodac PROT\n",
    "\n",
    "merged_UTR_PROT_matryca = pd.merge(matryca_w_entry, proteins_matryca_w_entry, on=\"Entry\", how='inner')\n",
    "#merged.to_csv(path+'matryca_UTR_PROT_entry_only.csv', index=False)"
   ]
  },
  {
   "cell_type": "code",
   "execution_count": 37,
   "metadata": {},
   "outputs": [
    {
     "data": {
      "text/plain": [
       "Index(['id_UTR', 'Entry', 'PBS_1d_1_UTR', 'PBS_1d_2_UTR', 'PBS_1d_3_UTR',\n",
       "       'PBS_1d_4_UTR', 'MC_1d_1_UTR', 'MC_1d_2_UTR', 'MC_1d_3_UTR',\n",
       "       'MC_6d_1_UTR', 'MC_6d_2_UTR', 'MC_6d_3_UTR', 'MC_9d_1_UTR',\n",
       "       'MC_9d_2_UTR', 'MC_9d_3_UTR', 'id_PROT', 'PBS_1d_1_PROT',\n",
       "       'PBS_1d_2_PROT', 'PBS_1d_3_PROT', 'PBS_1d_4_PROT', 'MC_1d_1_PROT',\n",
       "       'MC_1d_2_PROT', 'MC_1d_3_PROT', 'MC_6d_1_PROT', 'MC_6d_2_PROT',\n",
       "       'MC_6d_3_PROT', 'MC_9d_1_PROT', 'MC_9d_2_PROT', 'MC_9d_3_PROT',\n",
       "       'ident_PROT', 'Entry name_PROT', 'Status_PROT', 'Protein names_PROT',\n",
       "       'Gene names_PROT', 'Organism_PROT', 'Length_PROT'],\n",
       "      dtype='object')"
      ]
     },
     "execution_count": 37,
     "metadata": {},
     "output_type": "execute_result"
    }
   ],
   "source": [
    "merged_UTR_PROT_matryca.columns"
   ]
  },
  {
   "cell_type": "code",
   "execution_count": 50,
   "metadata": {},
   "outputs": [],
   "source": [
    "day_1_matryca = merged_UTR_PROT_matryca[['PBS_1d_1_UTR', 'PBS_1d_2_UTR', 'PBS_1d_3_UTR', 'PBS_1d_4_UTR',\n",
    "       'MC_1d_1_UTR', 'MC_1d_2_UTR', 'MC_1d_3_UTR', 'PBS_1d_1_PROT', 'PBS_1d_2_PROT',\n",
    "       'PBS_1d_3_PROT', 'PBS_1d_4_PROT', 'MC_1d_1_PROT', 'MC_1d_2_PROT',\n",
    "       'MC_1d_3_PROT']]\n",
    "\n",
    "day_1_matryca.to_csv(path+'day_1_UTR_PROT_matryca.csv', index=False)\n",
    "\n",
    "# na podstawie powyzszego ^^ robiebie deseq2"
   ]
  },
  {
   "cell_type": "code",
   "execution_count": 49,
   "metadata": {},
   "outputs": [],
   "source": [
    "day_6_matryca = merged_UTR_PROT_matryca[['PBS_1d_1_UTR', 'PBS_1d_2_UTR', 'PBS_1d_3_UTR', 'PBS_1d_4_UTR',\n",
    "       'MC_6d_1_UTR', 'MC_6d_2_UTR', 'MC_6d_3_UTR', 'PBS_1d_1_PROT', 'PBS_1d_2_PROT',\n",
    "       'PBS_1d_3_PROT', 'PBS_1d_4_PROT', 'MC_6d_1_PROT', 'MC_6d_2_PROT',\n",
    "       'MC_6d_3_PROT']]\n",
    "\n",
    "day_6_matryca.to_csv(path+'day_6_UTR_PROT_matryca.csv', index=False)\n",
    "\n",
    "# na podstawie powyzszego ^^ robiebie deseq2"
   ]
  },
  {
   "cell_type": "code",
   "execution_count": 48,
   "metadata": {},
   "outputs": [],
   "source": [
    "day_9_matryca = merged_UTR_PROT_matryca[['PBS_1d_1_UTR', 'PBS_1d_2_UTR', 'PBS_1d_3_UTR', 'PBS_1d_4_UTR',\n",
    "       'MC_9d_1_UTR', 'MC_9d_2_UTR', 'MC_9d_3_UTR', 'PBS_1d_1_PROT', 'PBS_1d_2_PROT',\n",
    "       'PBS_1d_3_PROT', 'PBS_1d_4_PROT', 'MC_9d_1_PROT', 'MC_9d_2_PROT',\n",
    "       'MC_9d_3_PROT']]\n",
    "\n",
    "day_9_matryca.to_csv(path+'day_9_UTR_PROT_matryca.csv', index=False)\n",
    "\n",
    "# na podstawie powyzszego ^^ robiebie deseq2"
   ]
  },
  {
   "cell_type": "code",
   "execution_count": null,
   "metadata": {},
   "outputs": [],
   "source": []
  },
  {
   "cell_type": "code",
   "execution_count": 39,
   "metadata": {},
   "outputs": [],
   "source": [
    "# ponizej wczytuje wyniki deseq i dodaje do nich kolumny z merged_UTR_PROT_matryca\n",
    "\n",
    "deseq_day_1_results = pd.read_csv(path+'deseq2_result_from_R_1d.csv')"
   ]
  },
  {
   "cell_type": "code",
   "execution_count": 51,
   "metadata": {},
   "outputs": [],
   "source": [
    "# ponizej wczytuje wyniki deseq i dodaje do nich kolumny z merged_UTR_PROT_matryca\n",
    "\n",
    "deseq_day_6_results = pd.read_csv(path+'deseq2_result_from_R_6d.csv')"
   ]
  },
  {
   "cell_type": "code",
   "execution_count": 61,
   "metadata": {},
   "outputs": [],
   "source": [
    "# ponizej wczytuje wyniki deseq i dodaje do nich kolumny z merged_UTR_PROT_matryca\n",
    "\n",
    "deseq_day_9_results = pd.read_csv(path+'deseq2_result_from_R_9d.csv')"
   ]
  },
  {
   "cell_type": "code",
   "execution_count": 52,
   "metadata": {},
   "outputs": [
    {
     "data": {
      "text/plain": [
       "(295223, 36)"
      ]
     },
     "execution_count": 52,
     "metadata": {},
     "output_type": "execute_result"
    }
   ],
   "source": [
    "merged_UTR_PROT_matryca.shape"
   ]
  },
  {
   "cell_type": "code",
   "execution_count": 183,
   "metadata": {},
   "outputs": [
    {
     "data": {
      "text/plain": [
       "(295223, 6)"
      ]
     },
     "execution_count": 183,
     "metadata": {},
     "output_type": "execute_result"
    }
   ],
   "source": [
    "deseq_day_1_results.shape"
   ]
  },
  {
   "cell_type": "code",
   "execution_count": 53,
   "metadata": {},
   "outputs": [
    {
     "data": {
      "text/plain": [
       "(295223, 6)"
      ]
     },
     "execution_count": 53,
     "metadata": {},
     "output_type": "execute_result"
    }
   ],
   "source": [
    "deseq_day_6_results.shape"
   ]
  },
  {
   "cell_type": "code",
   "execution_count": 41,
   "metadata": {},
   "outputs": [
    {
     "data": {
      "text/plain": [
       "(295223, 42)"
      ]
     },
     "execution_count": 41,
     "metadata": {},
     "output_type": "execute_result"
    }
   ],
   "source": [
    "deseq_day_1_results_w_all_details = pd.merge(deseq_day_1_results, merged_UTR_PROT_matryca, left_index=True, right_index=True)\n",
    "deseq_day_1_results_w_all_details.shape"
   ]
  },
  {
   "cell_type": "code",
   "execution_count": 54,
   "metadata": {},
   "outputs": [
    {
     "data": {
      "text/plain": [
       "(295223, 42)"
      ]
     },
     "execution_count": 54,
     "metadata": {},
     "output_type": "execute_result"
    }
   ],
   "source": [
    "deseq_day_6_results_w_all_details = pd.merge(deseq_day_6_results, merged_UTR_PROT_matryca, left_index=True, right_index=True)\n",
    "deseq_day_6_results_w_all_details.shape"
   ]
  },
  {
   "cell_type": "code",
   "execution_count": 62,
   "metadata": {},
   "outputs": [
    {
     "data": {
      "text/plain": [
       "(295223, 42)"
      ]
     },
     "execution_count": 62,
     "metadata": {},
     "output_type": "execute_result"
    }
   ],
   "source": [
    "deseq_day_9_results_w_all_details = pd.merge(deseq_day_9_results, merged_UTR_PROT_matryca, left_index=True, right_index=True)\n",
    "deseq_day_9_results_w_all_details.shape"
   ]
  },
  {
   "cell_type": "code",
   "execution_count": 42,
   "metadata": {},
   "outputs": [],
   "source": [
    "deseq_day_1_results_w_all_details = deseq_day_1_results_w_all_details[['baseMean', 'log2FoldChange', 'lfcSE', 'stat', 'pvalue', 'padj',\n",
    "       'Entry', 'PBS_1d_1_UTR', 'PBS_1d_2_UTR', 'PBS_1d_3_UTR', 'PBS_1d_4_UTR',\n",
    "       'MC_1d_1_UTR', 'MC_1d_2_UTR', 'MC_1d_3_UTR', 'id_UTR', 'id_PROT', 'PBS_1d_1_PROT', 'PBS_1d_2_PROT',\n",
    "       'PBS_1d_3_PROT', 'PBS_1d_4_PROT', 'MC_1d_1_PROT', 'MC_1d_2_PROT',\n",
    "       'MC_1d_3_PROT', 'ident_PROT', 'Entry name_PROT', 'Status_PROT', 'Protein names_PROT',\n",
    "       'Gene names_PROT', 'Organism_PROT', 'Length_PROT']]"
   ]
  },
  {
   "cell_type": "code",
   "execution_count": 56,
   "metadata": {},
   "outputs": [],
   "source": [
    "deseq_day_6_results_w_all_details = deseq_day_6_results_w_all_details[['baseMean', 'log2FoldChange', 'lfcSE', 'stat', 'pvalue', 'padj',\n",
    "       'Entry', 'PBS_1d_1_UTR', 'PBS_1d_2_UTR', 'PBS_1d_3_UTR', 'PBS_1d_4_UTR',\n",
    "       'MC_6d_1_UTR', 'MC_6d_2_UTR', 'MC_6d_3_UTR', 'id_UTR', 'id_PROT', 'PBS_1d_1_PROT', 'PBS_1d_2_PROT',\n",
    "       'PBS_1d_3_PROT', 'PBS_1d_4_PROT', 'MC_6d_1_PROT', 'MC_6d_2_PROT',\n",
    "       'MC_6d_3_PROT', 'ident_PROT', 'Entry name_PROT', 'Status_PROT', 'Protein names_PROT',\n",
    "       'Gene names_PROT', 'Organism_PROT', 'Length_PROT']]"
   ]
  },
  {
   "cell_type": "code",
   "execution_count": 63,
   "metadata": {},
   "outputs": [],
   "source": [
    "deseq_day_9_results_w_all_details = deseq_day_9_results_w_all_details[['baseMean', 'log2FoldChange', 'lfcSE', 'stat', 'pvalue', 'padj',\n",
    "       'Entry', 'PBS_1d_1_UTR', 'PBS_1d_2_UTR', 'PBS_1d_3_UTR', 'PBS_1d_4_UTR',\n",
    "       'MC_9d_1_UTR', 'MC_9d_2_UTR', 'MC_9d_3_UTR', 'id_UTR', 'id_PROT', 'PBS_1d_1_PROT', 'PBS_1d_2_PROT',\n",
    "       'PBS_1d_3_PROT', 'PBS_1d_4_PROT', 'MC_9d_1_PROT', 'MC_9d_2_PROT',\n",
    "       'MC_9d_3_PROT', 'ident_PROT', 'Entry name_PROT', 'Status_PROT', 'Protein names_PROT',\n",
    "       'Gene names_PROT', 'Organism_PROT', 'Length_PROT']]"
   ]
  },
  {
   "cell_type": "code",
   "execution_count": 43,
   "metadata": {},
   "outputs": [],
   "source": [
    "deseq_day_1_results_w_all_details = deseq_day_1_results_w_all_details[deseq_day_1_results_w_all_details['padj'] < 0.001]"
   ]
  },
  {
   "cell_type": "code",
   "execution_count": 57,
   "metadata": {},
   "outputs": [],
   "source": [
    "deseq_day_6_results_w_all_details = deseq_day_6_results_w_all_details[deseq_day_6_results_w_all_details['padj'] < 0.001]"
   ]
  },
  {
   "cell_type": "code",
   "execution_count": 64,
   "metadata": {},
   "outputs": [],
   "source": [
    "deseq_day_9_results_w_all_details = deseq_day_9_results_w_all_details[deseq_day_9_results_w_all_details['padj'] < 0.001]"
   ]
  },
  {
   "cell_type": "code",
   "execution_count": 44,
   "metadata": {},
   "outputs": [],
   "source": [
    "deseq_day_1_results_w_all_details.sort_values(by='log2FoldChange', inplace=True)"
   ]
  },
  {
   "cell_type": "code",
   "execution_count": 58,
   "metadata": {},
   "outputs": [],
   "source": [
    "deseq_day_6_results_w_all_details.sort_values(by='log2FoldChange', inplace=True)"
   ]
  },
  {
   "cell_type": "code",
   "execution_count": 65,
   "metadata": {},
   "outputs": [],
   "source": [
    "deseq_day_9_results_w_all_details.sort_values(by='log2FoldChange', inplace=True)"
   ]
  },
  {
   "cell_type": "code",
   "execution_count": 188,
   "metadata": {},
   "outputs": [],
   "source": [
    "#deseq_day_1_results_w_all_details.to_csv(path+'deseq_result_1d_with_all_details.csv', index=False)\n"
   ]
  },
  {
   "cell_type": "code",
   "execution_count": 104,
   "metadata": {},
   "outputs": [
    {
     "data": {
      "text/plain": [
       "(5543, 30)"
      ]
     },
     "execution_count": 104,
     "metadata": {},
     "output_type": "execute_result"
    }
   ],
   "source": [
    "# stosunek PROT/UTR był większy w MCLR\n",
    "deseq_day_1_results_w_all_details[deseq_day_1_results_w_all_details['log2FoldChange'] < 1].shape"
   ]
  },
  {
   "cell_type": "code",
   "execution_count": 103,
   "metadata": {},
   "outputs": [
    {
     "data": {
      "text/plain": [
       "(4292, 30)"
      ]
     },
     "execution_count": 103,
     "metadata": {},
     "output_type": "execute_result"
    }
   ],
   "source": [
    "# stosunek PROT/UTR był większy w PBS\n",
    "deseq_day_1_results_w_all_details[deseq_day_1_results_w_all_details['log2FoldChange'] > 1].shape"
   ]
  },
  {
   "cell_type": "code",
   "execution_count": 59,
   "metadata": {},
   "outputs": [
    {
     "data": {
      "text/plain": [
       "(23839, 30)"
      ]
     },
     "execution_count": 59,
     "metadata": {},
     "output_type": "execute_result"
    }
   ],
   "source": [
    "# stosunek PROT/UTR był większy w MCLR\n",
    "deseq_day_6_results_w_all_details[deseq_day_6_results_w_all_details['log2FoldChange'] < 1].shape"
   ]
  },
  {
   "cell_type": "code",
   "execution_count": 60,
   "metadata": {},
   "outputs": [
    {
     "data": {
      "text/plain": [
       "(16041, 30)"
      ]
     },
     "execution_count": 60,
     "metadata": {},
     "output_type": "execute_result"
    }
   ],
   "source": [
    "# stosunek PROT/UTR był większy w PBS\n",
    "deseq_day_6_results_w_all_details[deseq_day_6_results_w_all_details['log2FoldChange'] > 1].shape"
   ]
  },
  {
   "cell_type": "code",
   "execution_count": 66,
   "metadata": {},
   "outputs": [
    {
     "data": {
      "text/plain": [
       "(16626, 30)"
      ]
     },
     "execution_count": 66,
     "metadata": {},
     "output_type": "execute_result"
    }
   ],
   "source": [
    "# stosunek PROT/UTR był większy w MCLR\n",
    "deseq_day_9_results_w_all_details[deseq_day_9_results_w_all_details['log2FoldChange'] < 1].shape"
   ]
  },
  {
   "cell_type": "code",
   "execution_count": 67,
   "metadata": {},
   "outputs": [
    {
     "data": {
      "text/plain": [
       "(10327, 30)"
      ]
     },
     "execution_count": 67,
     "metadata": {},
     "output_type": "execute_result"
    }
   ],
   "source": [
    "# stosunek PROT/UTR był większy w PBS\n",
    "deseq_day_9_results_w_all_details[deseq_day_9_results_w_all_details['log2FoldChange'] > 1].shape"
   ]
  },
  {
   "cell_type": "code",
   "execution_count": null,
   "metadata": {},
   "outputs": [],
   "source": []
  },
  {
   "cell_type": "code",
   "execution_count": null,
   "metadata": {},
   "outputs": [],
   "source": []
  },
  {
   "cell_type": "code",
   "execution_count": 127,
   "metadata": {},
   "outputs": [
    {
     "data": {
      "text/html": [
       "<div>\n",
       "<style scoped>\n",
       "    .dataframe tbody tr th:only-of-type {\n",
       "        vertical-align: middle;\n",
       "    }\n",
       "\n",
       "    .dataframe tbody tr th {\n",
       "        vertical-align: top;\n",
       "    }\n",
       "\n",
       "    .dataframe thead th {\n",
       "        text-align: right;\n",
       "    }\n",
       "</style>\n",
       "<table border=\"1\" class=\"dataframe\">\n",
       "  <thead>\n",
       "    <tr style=\"text-align: right;\">\n",
       "      <th></th>\n",
       "      <th>redBars</th>\n",
       "      <th>blueBars</th>\n",
       "    </tr>\n",
       "  </thead>\n",
       "  <tbody>\n",
       "    <tr>\n",
       "      <th>0</th>\n",
       "      <td>5543</td>\n",
       "      <td>4292</td>\n",
       "    </tr>\n",
       "    <tr>\n",
       "      <th>1</th>\n",
       "      <td>23839</td>\n",
       "      <td>16041</td>\n",
       "    </tr>\n",
       "    <tr>\n",
       "      <th>2</th>\n",
       "      <td>16626</td>\n",
       "      <td>10327</td>\n",
       "    </tr>\n",
       "  </tbody>\n",
       "</table>\n",
       "</div>"
      ],
      "text/plain": [
       "   redBars  blueBars\n",
       "0     5543      4292\n",
       "1    23839     16041\n",
       "2    16626     10327"
      ]
     },
     "execution_count": 127,
     "metadata": {},
     "output_type": "execute_result"
    }
   ],
   "source": [
    "# redBars =  ilosc par, gdzie stosunek PROT/UTR jest większy w MCLR niż w PBS\n",
    "# blueBars = ilosc par, gdzie stosunek PROT/UTR jest większy w PBS niż w MCLR\n",
    "\n",
    "\n",
    "\n",
    "# Data\n",
    "r = [0,1,2]\n",
    "raw_data = {'redBars': [5543, 23839, 16626], 'blueBars': [4292, 16041, 10327]}\n",
    "df = pd.DataFrame(raw_data)\n",
    "df"
   ]
  },
  {
   "cell_type": "code",
   "execution_count": 128,
   "metadata": {},
   "outputs": [],
   "source": [
    "# From raw value to percentage\n",
    "totals = [i+j for i,j in zip(df['blueBars'], df['redBars'])]\n",
    "blueBars = [i / j * 100 for i,j in zip(df['blueBars'], totals)]\n",
    "redBars = [i / j * 100 for i,j in zip(df['redBars'], totals)]"
   ]
  },
  {
   "cell_type": "code",
   "execution_count": 131,
   "metadata": {},
   "outputs": [
    {
     "data": {
      "text/plain": [
       "<matplotlib.legend.Legend at 0x7fade7157400>"
      ]
     },
     "execution_count": 131,
     "metadata": {},
     "output_type": "execute_result"
    },
    {
     "data": {
      "image/png": "[encoded data removed]",
      "text/plain": [
       "<Figure size 1800x1200 with 1 Axes>"
      ]
     },
     "metadata": {
      "needs_background": "light"
     },
     "output_type": "display_data"
    }
   ],
   "source": [
    "# plot\n",
    "plt.figure(dpi=300)\n",
    "barWidth = 0.85\n",
    "names = ('1d','6d','9d')\n",
    "# Create Bars\n",
    "plt.bar(r, blueBars, color='#dd9675', edgecolor='white', width=barWidth, label=\"PCT/3'UTR ratio higher in PBS samples\")\n",
    "# Create Bars\n",
    "plt.bar(r, redBars, bottom=blueBars, color='#53d168', edgecolor='white', width=barWidth, label=\"PCT/3'UTR ratio higher in MC-LR samples\")\n",
    "# Create blue Bars\n",
    "#plt.bar(r, greenBars, bottom=[i+j for i,j in zip(blueBars, orangeBars)], color='#53d168', edgecolor='white', width=barWidth, label='UTR ↓ PROT ↑')\n",
    "# Create red Bars\n",
    "#plt.bar(r, redBars, bottom=[i+j+k for i,j,k in zip(blueBars, orangeBars, greenBars)], color='#d15360', edgecolor='white', width=barWidth, label='UTR ↑ PROT ↑')\n",
    "\n",
    "# Custom x axis\n",
    "plt.xticks(r, names)\n",
    "plt.legend(loc='lower right', bbox_to_anchor=(1,1), ncol=1)"
   ]
  },
  {
   "cell_type": "code",
   "execution_count": null,
   "metadata": {},
   "outputs": [],
   "source": []
  },
  {
   "cell_type": "code",
   "execution_count": null,
   "metadata": {},
   "outputs": [],
   "source": []
  },
  {
   "cell_type": "markdown",
   "metadata": {},
   "source": [
    "# END ///// dotyczy:\n",
    "I am interested in exploring whether there is a difference in the ratio A/B between the two conditions. Just to clarify: I am not interested in finding out whether there are significant differences between A and B (there are), but whether those differences between A and B change between condition treated vs. untreated."
   ]
  },
  {
   "cell_type": "code",
   "execution_count": null,
   "metadata": {},
   "outputs": [],
   "source": []
  },
  {
   "cell_type": "markdown",
   "metadata": {},
   "source": [
    "# BEGIN /// \n",
    "### deseq UTR i PROT oddzielnie i porownanie ze soba juz tylko wynikow log2fc\n",
    "\n",
    "najpierw: deseq wszystkich sekwencji (matryca novel), a potem wybranie z nich mRNA"
   ]
  },
  {
   "cell_type": "markdown",
   "metadata": {},
   "source": [
    "## UTR"
   ]
  },
  {
   "cell_type": "code",
   "execution_count": 3,
   "metadata": {
    "scrolled": true
   },
   "outputs": [
    {
     "data": {
      "text/html": [
       "<div>\n",
       "<style scoped>\n",
       "    .dataframe tbody tr th:only-of-type {\n",
       "        vertical-align: middle;\n",
       "    }\n",
       "\n",
       "    .dataframe tbody tr th {\n",
       "        vertical-align: top;\n",
       "    }\n",
       "\n",
       "    .dataframe thead th {\n",
       "        text-align: right;\n",
       "    }\n",
       "</style>\n",
       "<table border=\"1\" class=\"dataframe\">\n",
       "  <thead>\n",
       "    <tr style=\"text-align: right;\">\n",
       "      <th></th>\n",
       "      <th>trinity</th>\n",
       "      <th>PBS_1d_1</th>\n",
       "      <th>PBS_1d_2</th>\n",
       "      <th>PBS_1d_3</th>\n",
       "      <th>PBS_1d_4</th>\n",
       "      <th>MC_1d_1</th>\n",
       "      <th>MC_1d_2</th>\n",
       "      <th>MC_1d_3</th>\n",
       "      <th>MC_6d_1</th>\n",
       "      <th>MC_6d_2</th>\n",
       "      <th>MC_6d_3</th>\n",
       "      <th>MC_9d_1</th>\n",
       "      <th>MC_9d_2</th>\n",
       "      <th>MC_9d_3</th>\n",
       "    </tr>\n",
       "  </thead>\n",
       "  <tbody>\n",
       "    <tr>\n",
       "      <th>0</th>\n",
       "      <td>TRINITY_DN100003_c1_g1_i1</td>\n",
       "      <td>8</td>\n",
       "      <td>16</td>\n",
       "      <td>29</td>\n",
       "      <td>1</td>\n",
       "      <td>24</td>\n",
       "      <td>21</td>\n",
       "      <td>24</td>\n",
       "      <td>1</td>\n",
       "      <td>1</td>\n",
       "      <td>2</td>\n",
       "      <td>7</td>\n",
       "      <td>2</td>\n",
       "      <td>34</td>\n",
       "    </tr>\n",
       "    <tr>\n",
       "      <th>1</th>\n",
       "      <td>TRINITY_DN100004_c4_g2_i2</td>\n",
       "      <td>9</td>\n",
       "      <td>22</td>\n",
       "      <td>24</td>\n",
       "      <td>8</td>\n",
       "      <td>23</td>\n",
       "      <td>50</td>\n",
       "      <td>45</td>\n",
       "      <td>65</td>\n",
       "      <td>53</td>\n",
       "      <td>95</td>\n",
       "      <td>76</td>\n",
       "      <td>29</td>\n",
       "      <td>74</td>\n",
       "    </tr>\n",
       "    <tr>\n",
       "      <th>2</th>\n",
       "      <td>TRINITY_DN100005_c7_g2_i1</td>\n",
       "      <td>800</td>\n",
       "      <td>798</td>\n",
       "      <td>577</td>\n",
       "      <td>913</td>\n",
       "      <td>1322</td>\n",
       "      <td>1276</td>\n",
       "      <td>1285</td>\n",
       "      <td>6952</td>\n",
       "      <td>5736</td>\n",
       "      <td>4279</td>\n",
       "      <td>6616</td>\n",
       "      <td>4073</td>\n",
       "      <td>3119</td>\n",
       "    </tr>\n",
       "    <tr>\n",
       "      <th>3</th>\n",
       "      <td>TRINITY_DN100005_c8_g3_i1</td>\n",
       "      <td>101</td>\n",
       "      <td>102</td>\n",
       "      <td>92</td>\n",
       "      <td>248</td>\n",
       "      <td>52</td>\n",
       "      <td>56</td>\n",
       "      <td>71</td>\n",
       "      <td>89</td>\n",
       "      <td>189</td>\n",
       "      <td>138</td>\n",
       "      <td>313</td>\n",
       "      <td>327</td>\n",
       "      <td>278</td>\n",
       "    </tr>\n",
       "    <tr>\n",
       "      <th>4</th>\n",
       "      <td>TRINITY_DN100005_c9_g1_i1</td>\n",
       "      <td>19</td>\n",
       "      <td>4</td>\n",
       "      <td>22</td>\n",
       "      <td>4</td>\n",
       "      <td>2</td>\n",
       "      <td>2</td>\n",
       "      <td>1</td>\n",
       "      <td>0</td>\n",
       "      <td>1</td>\n",
       "      <td>0</td>\n",
       "      <td>2</td>\n",
       "      <td>6</td>\n",
       "      <td>18</td>\n",
       "    </tr>\n",
       "  </tbody>\n",
       "</table>\n",
       "</div>"
      ],
      "text/plain": [
       "                     trinity  PBS_1d_1  PBS_1d_2  PBS_1d_3  PBS_1d_4  MC_1d_1  \\\n",
       "0  TRINITY_DN100003_c1_g1_i1         8        16        29         1       24   \n",
       "1  TRINITY_DN100004_c4_g2_i2         9        22        24         8       23   \n",
       "2  TRINITY_DN100005_c7_g2_i1       800       798       577       913     1322   \n",
       "3  TRINITY_DN100005_c8_g3_i1       101       102        92       248       52   \n",
       "4  TRINITY_DN100005_c9_g1_i1        19         4        22         4        2   \n",
       "\n",
       "   MC_1d_2  MC_1d_3  MC_6d_1  MC_6d_2  MC_6d_3  MC_9d_1  MC_9d_2  MC_9d_3  \n",
       "0       21       24        1        1        2        7        2       34  \n",
       "1       50       45       65       53       95       76       29       74  \n",
       "2     1276     1285     6952     5736     4279     6616     4073     3119  \n",
       "3       56       71       89      189      138      313      327      278  \n",
       "4        2        1        0        1        0        2        6       18  "
      ]
     },
     "execution_count": 3,
     "metadata": {},
     "output_type": "execute_result"
    }
   ],
   "source": [
    "matryca_novel = pd.read_csv(path+'PBS1d_MC_all_matryca.csv')\n",
    "matryca_novel.head()"
   ]
  },
  {
   "cell_type": "code",
   "execution_count": 5,
   "metadata": {
    "scrolled": true
   },
   "outputs": [
    {
     "data": {
      "text/plain": [
       "(188998, 14)"
      ]
     },
     "execution_count": 5,
     "metadata": {},
     "output_type": "execute_result"
    }
   ],
   "source": [
    "matryca_novel.shape"
   ]
  },
  {
   "cell_type": "code",
   "execution_count": 8,
   "metadata": {},
   "outputs": [],
   "source": [
    "#matryca_novel.to_csv(path+'matryca.csv', index=False)"
   ]
  },
  {
   "cell_type": "code",
   "execution_count": 6,
   "metadata": {},
   "outputs": [
    {
     "data": {
      "text/plain": [
       "Index(['trinity', 'PBS_1d_1', 'PBS_1d_2', 'PBS_1d_3', 'PBS_1d_4', 'MC_1d_1',\n",
       "       'MC_1d_2', 'MC_1d_3', 'MC_6d_1', 'MC_6d_2', 'MC_6d_3', 'MC_9d_1',\n",
       "       'MC_9d_2', 'MC_9d_3'],\n",
       "      dtype='object')"
      ]
     },
     "execution_count": 6,
     "metadata": {},
     "output_type": "execute_result"
    }
   ],
   "source": [
    "matryca_novel.columns"
   ]
  },
  {
   "cell_type": "code",
   "execution_count": 4,
   "metadata": {},
   "outputs": [],
   "source": [
    "matryca_novel_1d = matryca_novel[['trinity', 'PBS_1d_1', 'PBS_1d_2', 'PBS_1d_3', 'PBS_1d_4', 'MC_1d_1',\n",
    "       'MC_1d_2', 'MC_1d_3']]"
   ]
  },
  {
   "cell_type": "code",
   "execution_count": 5,
   "metadata": {},
   "outputs": [],
   "source": [
    "matryca_novel_6d = matryca_novel[['trinity', 'PBS_1d_1', 'PBS_1d_2', 'PBS_1d_3', 'PBS_1d_4', 'MC_6d_1',\n",
    "       'MC_6d_2', 'MC_6d_3']]"
   ]
  },
  {
   "cell_type": "code",
   "execution_count": 6,
   "metadata": {},
   "outputs": [],
   "source": [
    "matryca_novel_9d = matryca_novel[['trinity', 'PBS_1d_1', 'PBS_1d_2', 'PBS_1d_3', 'PBS_1d_4', 'MC_9d_1',\n",
    "       'MC_9d_2', 'MC_9d_3']]"
   ]
  },
  {
   "cell_type": "code",
   "execution_count": 7,
   "metadata": {},
   "outputs": [],
   "source": [
    "# po deseq2:\n",
    "\n",
    "#zaladuj wyniki deseq\n",
    "novel_deseq_results_d1 = pd.read_csv(path+'NOVEL_deseq2_result_from_R_1d.csv')"
   ]
  },
  {
   "cell_type": "code",
   "execution_count": 8,
   "metadata": {},
   "outputs": [],
   "source": [
    "# po deseq2:\n",
    "\n",
    "#zaladuj wyniki deseq\n",
    "novel_deseq_results_d6 = pd.read_csv(path+'NOVEL_deseq2_result_from_R_6d.csv')"
   ]
  },
  {
   "cell_type": "code",
   "execution_count": 9,
   "metadata": {},
   "outputs": [],
   "source": [
    "# po deseq2:\n",
    "\n",
    "#zaladuj wyniki deseq\n",
    "novel_deseq_results_d9 = pd.read_csv(path+'NOVEL_deseq2_result_from_R_9d.csv')"
   ]
  },
  {
   "cell_type": "code",
   "execution_count": 10,
   "metadata": {},
   "outputs": [],
   "source": [
    "# dodaj kolumny trinity oraz RC poszczegolnych grup do wynikow deseq:\n",
    "novel_deseq_results_d1 = pd.concat([matryca_novel_1d, novel_deseq_results_d1], axis=1, sort=False)"
   ]
  },
  {
   "cell_type": "code",
   "execution_count": 11,
   "metadata": {},
   "outputs": [],
   "source": [
    "# dodaj kolumny trinity oraz RC poszczegolnych grup do wynikow deseq:\n",
    "novel_deseq_results_d6 = pd.concat([matryca_novel_6d, novel_deseq_results_d6], axis=1, sort=False)"
   ]
  },
  {
   "cell_type": "code",
   "execution_count": 12,
   "metadata": {},
   "outputs": [],
   "source": [
    "# dodaj kolumny trinity oraz RC poszczegolnych grup do wynikow deseq:\n",
    "novel_deseq_results_d9 = pd.concat([matryca_novel_9d, novel_deseq_results_d9], axis=1, sort=False)"
   ]
  },
  {
   "cell_type": "code",
   "execution_count": 14,
   "metadata": {},
   "outputs": [],
   "source": [
    "novel_deseq_results_d1.to_csv('/mnt/sdb1/Project_Sieja_MCLR_52/2_pipeline/7_counting_transcripts/noncoding_novel/RNAhybrid_PB/novel_deseq_results_d1_w_names.csv', index=False)\n",
    "novel_deseq_results_d6.to_csv('/mnt/sdb1/Project_Sieja_MCLR_52/2_pipeline/7_counting_transcripts/noncoding_novel/RNAhybrid_PB/novel_deseq_results_d6_w_names.csv', index=False)\n",
    "novel_deseq_results_d9.to_csv('/mnt/sdb1/Project_Sieja_MCLR_52/2_pipeline/7_counting_transcripts/noncoding_novel/RNAhybrid_PB/novel_deseq_results_d9_w_names.csv', index=False)"
   ]
  },
  {
   "cell_type": "code",
   "execution_count": 16,
   "metadata": {},
   "outputs": [
    {
     "data": {
      "text/html": [
       "<div>\n",
       "<style scoped>\n",
       "    .dataframe tbody tr th:only-of-type {\n",
       "        vertical-align: middle;\n",
       "    }\n",
       "\n",
       "    .dataframe tbody tr th {\n",
       "        vertical-align: top;\n",
       "    }\n",
       "\n",
       "    .dataframe thead th {\n",
       "        text-align: right;\n",
       "    }\n",
       "</style>\n",
       "<table border=\"1\" class=\"dataframe\">\n",
       "  <thead>\n",
       "    <tr style=\"text-align: right;\">\n",
       "      <th></th>\n",
       "      <th>trinity</th>\n",
       "      <th>PBS_1d_1</th>\n",
       "      <th>PBS_1d_2</th>\n",
       "      <th>PBS_1d_3</th>\n",
       "      <th>PBS_1d_4</th>\n",
       "      <th>MC_6d_1</th>\n",
       "      <th>MC_6d_2</th>\n",
       "      <th>MC_6d_3</th>\n",
       "      <th>baseMean</th>\n",
       "      <th>log2FoldChange</th>\n",
       "      <th>lfcSE</th>\n",
       "      <th>stat</th>\n",
       "      <th>pvalue</th>\n",
       "      <th>padj</th>\n",
       "    </tr>\n",
       "  </thead>\n",
       "  <tbody>\n",
       "    <tr>\n",
       "      <th>0</th>\n",
       "      <td>TRINITY_DN100003_c1_g1_i1</td>\n",
       "      <td>8</td>\n",
       "      <td>16</td>\n",
       "      <td>29</td>\n",
       "      <td>1</td>\n",
       "      <td>1</td>\n",
       "      <td>1</td>\n",
       "      <td>2</td>\n",
       "      <td>8.647723</td>\n",
       "      <td>3.567641</td>\n",
       "      <td>1.264339</td>\n",
       "      <td>2.821744</td>\n",
       "      <td>4.776327e-03</td>\n",
       "      <td>1.574062e-02</td>\n",
       "    </tr>\n",
       "    <tr>\n",
       "      <th>1</th>\n",
       "      <td>TRINITY_DN100004_c4_g2_i2</td>\n",
       "      <td>9</td>\n",
       "      <td>22</td>\n",
       "      <td>24</td>\n",
       "      <td>8</td>\n",
       "      <td>65</td>\n",
       "      <td>53</td>\n",
       "      <td>95</td>\n",
       "      <td>36.647454</td>\n",
       "      <td>-1.964039</td>\n",
       "      <td>0.585174</td>\n",
       "      <td>-3.356333</td>\n",
       "      <td>7.898353e-04</td>\n",
       "      <td>3.335817e-03</td>\n",
       "    </tr>\n",
       "    <tr>\n",
       "      <th>2</th>\n",
       "      <td>TRINITY_DN100005_c7_g2_i1</td>\n",
       "      <td>800</td>\n",
       "      <td>798</td>\n",
       "      <td>577</td>\n",
       "      <td>913</td>\n",
       "      <td>6952</td>\n",
       "      <td>5736</td>\n",
       "      <td>4279</td>\n",
       "      <td>2618.091776</td>\n",
       "      <td>-2.670724</td>\n",
       "      <td>0.307136</td>\n",
       "      <td>-8.695573</td>\n",
       "      <td>3.450849e-18</td>\n",
       "      <td>1.467592e-16</td>\n",
       "    </tr>\n",
       "    <tr>\n",
       "      <th>3</th>\n",
       "      <td>TRINITY_DN100005_c8_g3_i1</td>\n",
       "      <td>101</td>\n",
       "      <td>102</td>\n",
       "      <td>92</td>\n",
       "      <td>248</td>\n",
       "      <td>89</td>\n",
       "      <td>189</td>\n",
       "      <td>138</td>\n",
       "      <td>132.894253</td>\n",
       "      <td>0.134057</td>\n",
       "      <td>0.491740</td>\n",
       "      <td>0.272617</td>\n",
       "      <td>7.851474e-01</td>\n",
       "      <td>8.563848e-01</td>\n",
       "    </tr>\n",
       "    <tr>\n",
       "      <th>4</th>\n",
       "      <td>TRINITY_DN100005_c9_g1_i1</td>\n",
       "      <td>19</td>\n",
       "      <td>4</td>\n",
       "      <td>22</td>\n",
       "      <td>4</td>\n",
       "      <td>0</td>\n",
       "      <td>1</td>\n",
       "      <td>0</td>\n",
       "      <td>7.587604</td>\n",
       "      <td>5.339327</td>\n",
       "      <td>1.586008</td>\n",
       "      <td>3.366519</td>\n",
       "      <td>7.612343e-04</td>\n",
       "      <td>3.229865e-03</td>\n",
       "    </tr>\n",
       "  </tbody>\n",
       "</table>\n",
       "</div>"
      ],
      "text/plain": [
       "                     trinity  PBS_1d_1  PBS_1d_2  PBS_1d_3  PBS_1d_4  MC_6d_1  \\\n",
       "0  TRINITY_DN100003_c1_g1_i1         8        16        29         1        1   \n",
       "1  TRINITY_DN100004_c4_g2_i2         9        22        24         8       65   \n",
       "2  TRINITY_DN100005_c7_g2_i1       800       798       577       913     6952   \n",
       "3  TRINITY_DN100005_c8_g3_i1       101       102        92       248       89   \n",
       "4  TRINITY_DN100005_c9_g1_i1        19         4        22         4        0   \n",
       "\n",
       "   MC_6d_2  MC_6d_3     baseMean  log2FoldChange     lfcSE      stat  \\\n",
       "0        1        2     8.647723        3.567641  1.264339  2.821744   \n",
       "1       53       95    36.647454       -1.964039  0.585174 -3.356333   \n",
       "2     5736     4279  2618.091776       -2.670724  0.307136 -8.695573   \n",
       "3      189      138   132.894253        0.134057  0.491740  0.272617   \n",
       "4        1        0     7.587604        5.339327  1.586008  3.366519   \n",
       "\n",
       "         pvalue          padj  \n",
       "0  4.776327e-03  1.574062e-02  \n",
       "1  7.898353e-04  3.335817e-03  \n",
       "2  3.450849e-18  1.467592e-16  \n",
       "3  7.851474e-01  8.563848e-01  \n",
       "4  7.612343e-04  3.229865e-03  "
      ]
     },
     "execution_count": 16,
     "metadata": {},
     "output_type": "execute_result"
    }
   ],
   "source": [
    "novel_deseq_results_d6.head()"
   ]
  },
  {
   "cell_type": "code",
   "execution_count": 17,
   "metadata": {},
   "outputs": [],
   "source": [
    "novel_deseq_results_d1 = novel_deseq_results_d1[novel_deseq_results_d1['padj'] < 0.001]"
   ]
  },
  {
   "cell_type": "code",
   "execution_count": 18,
   "metadata": {},
   "outputs": [],
   "source": [
    "novel_deseq_results_d1.sort_values(by='log2FoldChange', inplace=True)"
   ]
  },
  {
   "cell_type": "code",
   "execution_count": 19,
   "metadata": {},
   "outputs": [],
   "source": [
    "novel_deseq_results_d6 = novel_deseq_results_d6[novel_deseq_results_d6['padj'] < 0.001]"
   ]
  },
  {
   "cell_type": "code",
   "execution_count": 20,
   "metadata": {},
   "outputs": [],
   "source": [
    "novel_deseq_results_d6.sort_values(by='log2FoldChange', inplace=True)"
   ]
  },
  {
   "cell_type": "code",
   "execution_count": 21,
   "metadata": {},
   "outputs": [],
   "source": [
    "novel_deseq_results_d9 = novel_deseq_results_d9[novel_deseq_results_d9['padj'] < 0.001]"
   ]
  },
  {
   "cell_type": "code",
   "execution_count": 22,
   "metadata": {},
   "outputs": [],
   "source": [
    "novel_deseq_results_d9.sort_values(by='log2FoldChange', inplace=True)"
   ]
  },
  {
   "cell_type": "code",
   "execution_count": 23,
   "metadata": {},
   "outputs": [],
   "source": [
    "#novel_deseq_results_d1.to_csv(path+'NOVEL_deseq2_result_from_R_1d_padj-filtered_l2fc-sorted.csv', index=False)"
   ]
  },
  {
   "cell_type": "code",
   "execution_count": 24,
   "metadata": {},
   "outputs": [],
   "source": [
    "# filtrowanie tylko mRNA UTR ze wszystkich trinity, ktore to zawiera powyzsza matryca"
   ]
  },
  {
   "cell_type": "code",
   "execution_count": 25,
   "metadata": {},
   "outputs": [
    {
     "data": {
      "text/html": [
       "<div>\n",
       "<style scoped>\n",
       "    .dataframe tbody tr th:only-of-type {\n",
       "        vertical-align: middle;\n",
       "    }\n",
       "\n",
       "    .dataframe tbody tr th {\n",
       "        vertical-align: top;\n",
       "    }\n",
       "\n",
       "    .dataframe thead th {\n",
       "        text-align: right;\n",
       "    }\n",
       "</style>\n",
       "<table border=\"1\" class=\"dataframe\">\n",
       "  <thead>\n",
       "    <tr style=\"text-align: right;\">\n",
       "      <th></th>\n",
       "      <th>query</th>\n",
       "      <th>al_title</th>\n",
       "      <th>al_accession</th>\n",
       "      <th>evalue</th>\n",
       "      <th>coverage</th>\n",
       "      <th>Entry</th>\n",
       "      <th>Protein names</th>\n",
       "      <th>Gene names</th>\n",
       "    </tr>\n",
       "  </thead>\n",
       "  <tbody>\n",
       "    <tr>\n",
       "      <th>0</th>\n",
       "      <td>TRINITY_DN100004_c4_g2_i2</td>\n",
       "      <td>gi|929290304|ref|XM_014166828.1| PREDICTED: Sa...</td>\n",
       "      <td>XM_014166828</td>\n",
       "      <td>0.0</td>\n",
       "      <td>100.183824</td>\n",
       "      <td>A0A1S3P3U9</td>\n",
       "      <td>forkhead box protein P4-like isoform X8</td>\n",
       "      <td>LOC106583051</td>\n",
       "    </tr>\n",
       "  </tbody>\n",
       "</table>\n",
       "</div>"
      ],
      "text/plain": [
       "                       query  \\\n",
       "0  TRINITY_DN100004_c4_g2_i2   \n",
       "\n",
       "                                            al_title  al_accession  evalue  \\\n",
       "0  gi|929290304|ref|XM_014166828.1| PREDICTED: Sa...  XM_014166828     0.0   \n",
       "\n",
       "     coverage       Entry                            Protein names  \\\n",
       "0  100.183824  A0A1S3P3U9  forkhead box protein P4-like isoform X8   \n",
       "\n",
       "     Gene names  \n",
       "0  LOC106583051  "
      ]
     },
     "execution_count": 25,
     "metadata": {},
     "output_type": "execute_result"
    }
   ],
   "source": [
    "UTR = pd.read_csv(path+'mRNA_only_merged_w_XP.csv')\n",
    "UTR.head(1)"
   ]
  },
  {
   "cell_type": "code",
   "execution_count": 26,
   "metadata": {
    "scrolled": true
   },
   "outputs": [
    {
     "data": {
      "text/html": [
       "<div>\n",
       "<style scoped>\n",
       "    .dataframe tbody tr th:only-of-type {\n",
       "        vertical-align: middle;\n",
       "    }\n",
       "\n",
       "    .dataframe tbody tr th {\n",
       "        vertical-align: top;\n",
       "    }\n",
       "\n",
       "    .dataframe thead th {\n",
       "        text-align: right;\n",
       "    }\n",
       "</style>\n",
       "<table border=\"1\" class=\"dataframe\">\n",
       "  <thead>\n",
       "    <tr style=\"text-align: right;\">\n",
       "      <th></th>\n",
       "      <th>query</th>\n",
       "      <th>Entry</th>\n",
       "      <th>Protein names</th>\n",
       "    </tr>\n",
       "  </thead>\n",
       "  <tbody>\n",
       "    <tr>\n",
       "      <th>0</th>\n",
       "      <td>TRINITY_DN100004_c4_g2_i2</td>\n",
       "      <td>A0A1S3P3U9</td>\n",
       "      <td>forkhead box protein P4-like isoform X8</td>\n",
       "    </tr>\n",
       "  </tbody>\n",
       "</table>\n",
       "</div>"
      ],
      "text/plain": [
       "                       query       Entry  \\\n",
       "0  TRINITY_DN100004_c4_g2_i2  A0A1S3P3U9   \n",
       "\n",
       "                             Protein names  \n",
       "0  forkhead box protein P4-like isoform X8  "
      ]
     },
     "execution_count": 26,
     "metadata": {},
     "output_type": "execute_result"
    }
   ],
   "source": [
    "UTR = UTR[['query', 'Entry', 'Protein names']]\n",
    "UTR.head(1)"
   ]
  },
  {
   "cell_type": "code",
   "execution_count": 27,
   "metadata": {},
   "outputs": [],
   "source": [
    "UTR.rename(columns={'query':'trinity'}, inplace=True)"
   ]
  },
  {
   "cell_type": "code",
   "execution_count": 28,
   "metadata": {
    "scrolled": true
   },
   "outputs": [
    {
     "data": {
      "text/html": [
       "<div>\n",
       "<style scoped>\n",
       "    .dataframe tbody tr th:only-of-type {\n",
       "        vertical-align: middle;\n",
       "    }\n",
       "\n",
       "    .dataframe tbody tr th {\n",
       "        vertical-align: top;\n",
       "    }\n",
       "\n",
       "    .dataframe thead th {\n",
       "        text-align: right;\n",
       "    }\n",
       "</style>\n",
       "<table border=\"1\" class=\"dataframe\">\n",
       "  <thead>\n",
       "    <tr style=\"text-align: right;\">\n",
       "      <th></th>\n",
       "      <th>trinity</th>\n",
       "      <th>Entry</th>\n",
       "      <th>Protein names</th>\n",
       "    </tr>\n",
       "  </thead>\n",
       "  <tbody>\n",
       "    <tr>\n",
       "      <th>0</th>\n",
       "      <td>TRINITY_DN100004_c4_g2_i2</td>\n",
       "      <td>A0A1S3P3U9</td>\n",
       "      <td>forkhead box protein P4-like isoform X8</td>\n",
       "    </tr>\n",
       "  </tbody>\n",
       "</table>\n",
       "</div>"
      ],
      "text/plain": [
       "                     trinity       Entry  \\\n",
       "0  TRINITY_DN100004_c4_g2_i2  A0A1S3P3U9   \n",
       "\n",
       "                             Protein names  \n",
       "0  forkhead box protein P4-like isoform X8  "
      ]
     },
     "execution_count": 28,
     "metadata": {},
     "output_type": "execute_result"
    }
   ],
   "source": [
    "UTR.head(1)"
   ]
  },
  {
   "cell_type": "code",
   "execution_count": 29,
   "metadata": {},
   "outputs": [
    {
     "data": {
      "text/html": [
       "<div>\n",
       "<style scoped>\n",
       "    .dataframe tbody tr th:only-of-type {\n",
       "        vertical-align: middle;\n",
       "    }\n",
       "\n",
       "    .dataframe tbody tr th {\n",
       "        vertical-align: top;\n",
       "    }\n",
       "\n",
       "    .dataframe thead th {\n",
       "        text-align: right;\n",
       "    }\n",
       "</style>\n",
       "<table border=\"1\" class=\"dataframe\">\n",
       "  <thead>\n",
       "    <tr style=\"text-align: right;\">\n",
       "      <th></th>\n",
       "      <th>trinity</th>\n",
       "      <th>Entry</th>\n",
       "      <th>Protein names</th>\n",
       "      <th>PBS_1d_1</th>\n",
       "      <th>PBS_1d_2</th>\n",
       "      <th>PBS_1d_3</th>\n",
       "      <th>PBS_1d_4</th>\n",
       "      <th>MC_1d_1</th>\n",
       "      <th>MC_1d_2</th>\n",
       "      <th>MC_1d_3</th>\n",
       "      <th>baseMean</th>\n",
       "      <th>log2FoldChange</th>\n",
       "      <th>lfcSE</th>\n",
       "      <th>stat</th>\n",
       "      <th>pvalue</th>\n",
       "      <th>padj</th>\n",
       "    </tr>\n",
       "  </thead>\n",
       "  <tbody>\n",
       "    <tr>\n",
       "      <th>0</th>\n",
       "      <td>TRINITY_DN91961_c5_g1_i1</td>\n",
       "      <td>A0A1S3SUX9</td>\n",
       "      <td>alpha-N-acetylgalactosaminide alpha-2,6-sialyl...</td>\n",
       "      <td>42</td>\n",
       "      <td>64</td>\n",
       "      <td>60</td>\n",
       "      <td>68</td>\n",
       "      <td>10</td>\n",
       "      <td>6</td>\n",
       "      <td>1</td>\n",
       "      <td>33.540847</td>\n",
       "      <td>3.280342</td>\n",
       "      <td>0.66513</td>\n",
       "      <td>4.931881</td>\n",
       "      <td>8.144168e-07</td>\n",
       "      <td>0.000029</td>\n",
       "    </tr>\n",
       "  </tbody>\n",
       "</table>\n",
       "</div>"
      ],
      "text/plain": [
       "                    trinity       Entry  \\\n",
       "0  TRINITY_DN91961_c5_g1_i1  A0A1S3SUX9   \n",
       "\n",
       "                                       Protein names  PBS_1d_1  PBS_1d_2  \\\n",
       "0  alpha-N-acetylgalactosaminide alpha-2,6-sialyl...        42        64   \n",
       "\n",
       "   PBS_1d_3  PBS_1d_4  MC_1d_1  MC_1d_2  MC_1d_3   baseMean  log2FoldChange  \\\n",
       "0        60        68       10        6        1  33.540847        3.280342   \n",
       "\n",
       "     lfcSE      stat        pvalue      padj  \n",
       "0  0.66513  4.931881  8.144168e-07  0.000029  "
      ]
     },
     "execution_count": 29,
     "metadata": {},
     "output_type": "execute_result"
    }
   ],
   "source": [
    "mRNA_deseq_results_d1 = pd.merge(UTR, novel_deseq_results_d1, on='trinity', how='inner')\n",
    "mRNA_deseq_results_d1.head(1)"
   ]
  },
  {
   "cell_type": "code",
   "execution_count": 30,
   "metadata": {},
   "outputs": [
    {
     "data": {
      "text/html": [
       "<div>\n",
       "<style scoped>\n",
       "    .dataframe tbody tr th:only-of-type {\n",
       "        vertical-align: middle;\n",
       "    }\n",
       "\n",
       "    .dataframe tbody tr th {\n",
       "        vertical-align: top;\n",
       "    }\n",
       "\n",
       "    .dataframe thead th {\n",
       "        text-align: right;\n",
       "    }\n",
       "</style>\n",
       "<table border=\"1\" class=\"dataframe\">\n",
       "  <thead>\n",
       "    <tr style=\"text-align: right;\">\n",
       "      <th></th>\n",
       "      <th>trinity</th>\n",
       "      <th>Entry</th>\n",
       "      <th>Protein names</th>\n",
       "      <th>PBS_1d_1</th>\n",
       "      <th>PBS_1d_2</th>\n",
       "      <th>PBS_1d_3</th>\n",
       "      <th>PBS_1d_4</th>\n",
       "      <th>MC_6d_1</th>\n",
       "      <th>MC_6d_2</th>\n",
       "      <th>MC_6d_3</th>\n",
       "      <th>baseMean</th>\n",
       "      <th>log2FoldChange</th>\n",
       "      <th>lfcSE</th>\n",
       "      <th>stat</th>\n",
       "      <th>pvalue</th>\n",
       "      <th>padj</th>\n",
       "    </tr>\n",
       "  </thead>\n",
       "  <tbody>\n",
       "    <tr>\n",
       "      <th>0</th>\n",
       "      <td>TRINITY_DN100005_c7_g2_i1</td>\n",
       "      <td>A0A1S3SUX9</td>\n",
       "      <td>alpha-N-acetylgalactosaminide alpha-2,6-sialyl...</td>\n",
       "      <td>800</td>\n",
       "      <td>798</td>\n",
       "      <td>577</td>\n",
       "      <td>913</td>\n",
       "      <td>6952</td>\n",
       "      <td>5736</td>\n",
       "      <td>4279</td>\n",
       "      <td>2618.091776</td>\n",
       "      <td>-2.670724</td>\n",
       "      <td>0.307136</td>\n",
       "      <td>-8.695573</td>\n",
       "      <td>3.450849e-18</td>\n",
       "      <td>1.467592e-16</td>\n",
       "    </tr>\n",
       "    <tr>\n",
       "      <th>1</th>\n",
       "      <td>TRINITY_DN81030_c8_g4_i1</td>\n",
       "      <td>A0A1S3SUX9</td>\n",
       "      <td>alpha-N-acetylgalactosaminide alpha-2,6-sialyl...</td>\n",
       "      <td>47</td>\n",
       "      <td>44</td>\n",
       "      <td>18</td>\n",
       "      <td>47</td>\n",
       "      <td>335</td>\n",
       "      <td>306</td>\n",
       "      <td>196</td>\n",
       "      <td>129.781644</td>\n",
       "      <td>-2.641497</td>\n",
       "      <td>0.439643</td>\n",
       "      <td>-6.008272</td>\n",
       "      <td>1.875112e-09</td>\n",
       "      <td>2.526779e-08</td>\n",
       "    </tr>\n",
       "    <tr>\n",
       "      <th>2</th>\n",
       "      <td>TRINITY_DN91961_c5_g1_i1</td>\n",
       "      <td>A0A1S3SUX9</td>\n",
       "      <td>alpha-N-acetylgalactosaminide alpha-2,6-sialyl...</td>\n",
       "      <td>42</td>\n",
       "      <td>64</td>\n",
       "      <td>60</td>\n",
       "      <td>68</td>\n",
       "      <td>23</td>\n",
       "      <td>11</td>\n",
       "      <td>20</td>\n",
       "      <td>41.196033</td>\n",
       "      <td>1.906889</td>\n",
       "      <td>0.480516</td>\n",
       "      <td>3.968417</td>\n",
       "      <td>7.235165e-05</td>\n",
       "      <td>4.019874e-04</td>\n",
       "    </tr>\n",
       "    <tr>\n",
       "      <th>3</th>\n",
       "      <td>TRINITY_DN110347_c4_g1_i2</td>\n",
       "      <td>A0A1S3RIW2</td>\n",
       "      <td>voltage-gated potassium channel subunit beta-2...</td>\n",
       "      <td>1246</td>\n",
       "      <td>1439</td>\n",
       "      <td>1081</td>\n",
       "      <td>1869</td>\n",
       "      <td>31</td>\n",
       "      <td>44</td>\n",
       "      <td>18</td>\n",
       "      <td>836.502647</td>\n",
       "      <td>5.692265</td>\n",
       "      <td>0.399390</td>\n",
       "      <td>14.252386</td>\n",
       "      <td>4.332227e-46</td>\n",
       "      <td>2.223654e-43</td>\n",
       "    </tr>\n",
       "    <tr>\n",
       "      <th>4</th>\n",
       "      <td>TRINITY_DN112735_c14_g1_i2</td>\n",
       "      <td>A0A1S3RIW2</td>\n",
       "      <td>voltage-gated potassium channel subunit beta-2...</td>\n",
       "      <td>43</td>\n",
       "      <td>105</td>\n",
       "      <td>32</td>\n",
       "      <td>14</td>\n",
       "      <td>0</td>\n",
       "      <td>0</td>\n",
       "      <td>0</td>\n",
       "      <td>28.446333</td>\n",
       "      <td>8.237318</td>\n",
       "      <td>1.413710</td>\n",
       "      <td>5.826737</td>\n",
       "      <td>5.652159e-09</td>\n",
       "      <td>7.068642e-08</td>\n",
       "    </tr>\n",
       "  </tbody>\n",
       "</table>\n",
       "</div>"
      ],
      "text/plain": [
       "                      trinity       Entry  \\\n",
       "0   TRINITY_DN100005_c7_g2_i1  A0A1S3SUX9   \n",
       "1    TRINITY_DN81030_c8_g4_i1  A0A1S3SUX9   \n",
       "2    TRINITY_DN91961_c5_g1_i1  A0A1S3SUX9   \n",
       "3   TRINITY_DN110347_c4_g1_i2  A0A1S3RIW2   \n",
       "4  TRINITY_DN112735_c14_g1_i2  A0A1S3RIW2   \n",
       "\n",
       "                                       Protein names  PBS_1d_1  PBS_1d_2  \\\n",
       "0  alpha-N-acetylgalactosaminide alpha-2,6-sialyl...       800       798   \n",
       "1  alpha-N-acetylgalactosaminide alpha-2,6-sialyl...        47        44   \n",
       "2  alpha-N-acetylgalactosaminide alpha-2,6-sialyl...        42        64   \n",
       "3  voltage-gated potassium channel subunit beta-2...      1246      1439   \n",
       "4  voltage-gated potassium channel subunit beta-2...        43       105   \n",
       "\n",
       "   PBS_1d_3  PBS_1d_4  MC_6d_1  MC_6d_2  MC_6d_3     baseMean  log2FoldChange  \\\n",
       "0       577       913     6952     5736     4279  2618.091776       -2.670724   \n",
       "1        18        47      335      306      196   129.781644       -2.641497   \n",
       "2        60        68       23       11       20    41.196033        1.906889   \n",
       "3      1081      1869       31       44       18   836.502647        5.692265   \n",
       "4        32        14        0        0        0    28.446333        8.237318   \n",
       "\n",
       "      lfcSE       stat        pvalue          padj  \n",
       "0  0.307136  -8.695573  3.450849e-18  1.467592e-16  \n",
       "1  0.439643  -6.008272  1.875112e-09  2.526779e-08  \n",
       "2  0.480516   3.968417  7.235165e-05  4.019874e-04  \n",
       "3  0.399390  14.252386  4.332227e-46  2.223654e-43  \n",
       "4  1.413710   5.826737  5.652159e-09  7.068642e-08  "
      ]
     },
     "execution_count": 30,
     "metadata": {},
     "output_type": "execute_result"
    }
   ],
   "source": [
    "mRNA_deseq_results_d6 = pd.merge(UTR, novel_deseq_results_d6, on='trinity', how='inner')\n",
    "mRNA_deseq_results_d6.head()"
   ]
  },
  {
   "cell_type": "code",
   "execution_count": 31,
   "metadata": {},
   "outputs": [
    {
     "data": {
      "text/html": [
       "<div>\n",
       "<style scoped>\n",
       "    .dataframe tbody tr th:only-of-type {\n",
       "        vertical-align: middle;\n",
       "    }\n",
       "\n",
       "    .dataframe tbody tr th {\n",
       "        vertical-align: top;\n",
       "    }\n",
       "\n",
       "    .dataframe thead th {\n",
       "        text-align: right;\n",
       "    }\n",
       "</style>\n",
       "<table border=\"1\" class=\"dataframe\">\n",
       "  <thead>\n",
       "    <tr style=\"text-align: right;\">\n",
       "      <th></th>\n",
       "      <th>trinity</th>\n",
       "      <th>Entry</th>\n",
       "      <th>Protein names</th>\n",
       "      <th>PBS_1d_1</th>\n",
       "      <th>PBS_1d_2</th>\n",
       "      <th>PBS_1d_3</th>\n",
       "      <th>PBS_1d_4</th>\n",
       "      <th>MC_9d_1</th>\n",
       "      <th>MC_9d_2</th>\n",
       "      <th>MC_9d_3</th>\n",
       "      <th>baseMean</th>\n",
       "      <th>log2FoldChange</th>\n",
       "      <th>lfcSE</th>\n",
       "      <th>stat</th>\n",
       "      <th>pvalue</th>\n",
       "      <th>padj</th>\n",
       "    </tr>\n",
       "  </thead>\n",
       "  <tbody>\n",
       "    <tr>\n",
       "      <th>0</th>\n",
       "      <td>TRINITY_DN100005_c7_g2_i1</td>\n",
       "      <td>A0A1S3SUX9</td>\n",
       "      <td>alpha-N-acetylgalactosaminide alpha-2,6-sialyl...</td>\n",
       "      <td>800</td>\n",
       "      <td>798</td>\n",
       "      <td>577</td>\n",
       "      <td>913</td>\n",
       "      <td>6616</td>\n",
       "      <td>4073</td>\n",
       "      <td>3119</td>\n",
       "      <td>2050.110876</td>\n",
       "      <td>-2.022177</td>\n",
       "      <td>0.408863</td>\n",
       "      <td>-4.945852</td>\n",
       "      <td>7.581172e-07</td>\n",
       "      <td>1.101775e-05</td>\n",
       "    </tr>\n",
       "    <tr>\n",
       "      <th>1</th>\n",
       "      <td>TRINITY_DN110347_c4_g1_i2</td>\n",
       "      <td>A0A1S3RIW2</td>\n",
       "      <td>voltage-gated potassium channel subunit beta-2...</td>\n",
       "      <td>1246</td>\n",
       "      <td>1439</td>\n",
       "      <td>1081</td>\n",
       "      <td>1869</td>\n",
       "      <td>32</td>\n",
       "      <td>11</td>\n",
       "      <td>255</td>\n",
       "      <td>953.007779</td>\n",
       "      <td>4.455068</td>\n",
       "      <td>0.804014</td>\n",
       "      <td>5.541031</td>\n",
       "      <td>3.006951e-08</td>\n",
       "      <td>6.254534e-07</td>\n",
       "    </tr>\n",
       "    <tr>\n",
       "      <th>2</th>\n",
       "      <td>TRINITY_DN81835_c7_g1_i1</td>\n",
       "      <td>A0A1S3RIW2</td>\n",
       "      <td>voltage-gated potassium channel subunit beta-2...</td>\n",
       "      <td>1686</td>\n",
       "      <td>2005</td>\n",
       "      <td>1513</td>\n",
       "      <td>2852</td>\n",
       "      <td>53</td>\n",
       "      <td>32</td>\n",
       "      <td>339</td>\n",
       "      <td>1360.091690</td>\n",
       "      <td>4.452888</td>\n",
       "      <td>0.708102</td>\n",
       "      <td>6.288481</td>\n",
       "      <td>3.205872e-10</td>\n",
       "      <td>1.069100e-08</td>\n",
       "    </tr>\n",
       "    <tr>\n",
       "      <th>3</th>\n",
       "      <td>TRINITY_DN86495_c7_g1_i7</td>\n",
       "      <td>C0HBG6</td>\n",
       "      <td>Ras-related and estrogen-regulated growth inhi...</td>\n",
       "      <td>11</td>\n",
       "      <td>15</td>\n",
       "      <td>7</td>\n",
       "      <td>21</td>\n",
       "      <td>69</td>\n",
       "      <td>263</td>\n",
       "      <td>241</td>\n",
       "      <td>71.252965</td>\n",
       "      <td>-3.245441</td>\n",
       "      <td>0.617382</td>\n",
       "      <td>-5.256778</td>\n",
       "      <td>1.466009e-07</td>\n",
       "      <td>2.568730e-06</td>\n",
       "    </tr>\n",
       "    <tr>\n",
       "      <th>4</th>\n",
       "      <td>TRINITY_DN100021_c4_g1_i2</td>\n",
       "      <td>A0A1B1PFD7</td>\n",
       "      <td>NFAT5a2 (nuclear factor of activated T-cells 5...</td>\n",
       "      <td>40</td>\n",
       "      <td>53</td>\n",
       "      <td>36</td>\n",
       "      <td>18</td>\n",
       "      <td>178</td>\n",
       "      <td>197</td>\n",
       "      <td>209</td>\n",
       "      <td>88.715668</td>\n",
       "      <td>-1.816671</td>\n",
       "      <td>0.473409</td>\n",
       "      <td>-3.837425</td>\n",
       "      <td>1.243310e-04</td>\n",
       "      <td>9.341171e-04</td>\n",
       "    </tr>\n",
       "  </tbody>\n",
       "</table>\n",
       "</div>"
      ],
      "text/plain": [
       "                     trinity       Entry  \\\n",
       "0  TRINITY_DN100005_c7_g2_i1  A0A1S3SUX9   \n",
       "1  TRINITY_DN110347_c4_g1_i2  A0A1S3RIW2   \n",
       "2   TRINITY_DN81835_c7_g1_i1  A0A1S3RIW2   \n",
       "3   TRINITY_DN86495_c7_g1_i7      C0HBG6   \n",
       "4  TRINITY_DN100021_c4_g1_i2  A0A1B1PFD7   \n",
       "\n",
       "                                       Protein names  PBS_1d_1  PBS_1d_2  \\\n",
       "0  alpha-N-acetylgalactosaminide alpha-2,6-sialyl...       800       798   \n",
       "1  voltage-gated potassium channel subunit beta-2...      1246      1439   \n",
       "2  voltage-gated potassium channel subunit beta-2...      1686      2005   \n",
       "3  Ras-related and estrogen-regulated growth inhi...        11        15   \n",
       "4  NFAT5a2 (nuclear factor of activated T-cells 5...        40        53   \n",
       "\n",
       "   PBS_1d_3  PBS_1d_4  MC_9d_1  MC_9d_2  MC_9d_3     baseMean  log2FoldChange  \\\n",
       "0       577       913     6616     4073     3119  2050.110876       -2.022177   \n",
       "1      1081      1869       32       11      255   953.007779        4.455068   \n",
       "2      1513      2852       53       32      339  1360.091690        4.452888   \n",
       "3         7        21       69      263      241    71.252965       -3.245441   \n",
       "4        36        18      178      197      209    88.715668       -1.816671   \n",
       "\n",
       "      lfcSE      stat        pvalue          padj  \n",
       "0  0.408863 -4.945852  7.581172e-07  1.101775e-05  \n",
       "1  0.804014  5.541031  3.006951e-08  6.254534e-07  \n",
       "2  0.708102  6.288481  3.205872e-10  1.069100e-08  \n",
       "3  0.617382 -5.256778  1.466009e-07  2.568730e-06  \n",
       "4  0.473409 -3.837425  1.243310e-04  9.341171e-04  "
      ]
     },
     "execution_count": 31,
     "metadata": {},
     "output_type": "execute_result"
    }
   ],
   "source": [
    "mRNA_deseq_results_d9 = pd.merge(UTR, novel_deseq_results_d9, on='trinity', how='inner')\n",
    "mRNA_deseq_results_d9.head()"
   ]
  },
  {
   "cell_type": "code",
   "execution_count": 32,
   "metadata": {},
   "outputs": [
    {
     "data": {
      "text/plain": [
       "(3010, 16)"
      ]
     },
     "execution_count": 32,
     "metadata": {},
     "output_type": "execute_result"
    }
   ],
   "source": [
    "#mamy tu wynik deseq 1d dla UTR (zidentyfikowane jako mRNA w blast'cie)\n",
    "#deseq robiony w R\n",
    "#teraz wystarczy zrobic jeszcze deseq dla 1d bialek prawdziwych (;)) i porownac je po entry z tymi tu UTR'ami\n",
    "mRNA_deseq_results_d1.shape "
   ]
  },
  {
   "cell_type": "code",
   "execution_count": 33,
   "metadata": {
    "scrolled": true
   },
   "outputs": [
    {
     "data": {
      "text/plain": [
       "(1337, 16)"
      ]
     },
     "execution_count": 33,
     "metadata": {},
     "output_type": "execute_result"
    }
   ],
   "source": [
    "mRNA_deseq_results_d1[mRNA_deseq_results_d1['log2FoldChange'] > 1].shape"
   ]
  },
  {
   "cell_type": "code",
   "execution_count": 34,
   "metadata": {
    "scrolled": true
   },
   "outputs": [
    {
     "data": {
      "text/plain": [
       "(1673, 16)"
      ]
     },
     "execution_count": 34,
     "metadata": {},
     "output_type": "execute_result"
    }
   ],
   "source": [
    "mRNA_deseq_results_d1[mRNA_deseq_results_d1['log2FoldChange'] < 1].shape"
   ]
  },
  {
   "cell_type": "code",
   "execution_count": 35,
   "metadata": {},
   "outputs": [
    {
     "data": {
      "text/plain": [
       "(14158, 16)"
      ]
     },
     "execution_count": 35,
     "metadata": {},
     "output_type": "execute_result"
    }
   ],
   "source": [
    "mRNA_deseq_results_d6.shape"
   ]
  },
  {
   "cell_type": "code",
   "execution_count": 36,
   "metadata": {},
   "outputs": [
    {
     "data": {
      "text/plain": [
       "(6894, 16)"
      ]
     },
     "execution_count": 36,
     "metadata": {},
     "output_type": "execute_result"
    }
   ],
   "source": [
    "mRNA_deseq_results_d6[mRNA_deseq_results_d6['log2FoldChange'] > 1].shape"
   ]
  },
  {
   "cell_type": "code",
   "execution_count": 37,
   "metadata": {},
   "outputs": [
    {
     "data": {
      "text/plain": [
       "(7264, 16)"
      ]
     },
     "execution_count": 37,
     "metadata": {},
     "output_type": "execute_result"
    }
   ],
   "source": [
    "mRNA_deseq_results_d6[mRNA_deseq_results_d6['log2FoldChange'] < 1].shape"
   ]
  },
  {
   "cell_type": "code",
   "execution_count": 38,
   "metadata": {
    "scrolled": true
   },
   "outputs": [
    {
     "data": {
      "text/plain": [
       "(10038, 16)"
      ]
     },
     "execution_count": 38,
     "metadata": {},
     "output_type": "execute_result"
    }
   ],
   "source": [
    "mRNA_deseq_results_d9.shape"
   ]
  },
  {
   "cell_type": "code",
   "execution_count": 39,
   "metadata": {},
   "outputs": [
    {
     "data": {
      "text/plain": [
       "(4293, 16)"
      ]
     },
     "execution_count": 39,
     "metadata": {},
     "output_type": "execute_result"
    }
   ],
   "source": [
    "mRNA_deseq_results_d9[mRNA_deseq_results_d9['log2FoldChange'] > 1].shape"
   ]
  },
  {
   "cell_type": "code",
   "execution_count": 40,
   "metadata": {},
   "outputs": [
    {
     "data": {
      "text/plain": [
       "(5745, 16)"
      ]
     },
     "execution_count": 40,
     "metadata": {},
     "output_type": "execute_result"
    }
   ],
   "source": [
    "mRNA_deseq_results_d9[mRNA_deseq_results_d9['log2FoldChange'] < 1].shape"
   ]
  },
  {
   "cell_type": "code",
   "execution_count": 41,
   "metadata": {},
   "outputs": [
    {
     "data": {
      "text/plain": [
       "(10038, 16)"
      ]
     },
     "execution_count": 41,
     "metadata": {},
     "output_type": "execute_result"
    }
   ],
   "source": [
    "mRNA_deseq_results_d9.drop_duplicates(inplace=True)\n",
    "mRNA_deseq_results_d9.shape"
   ]
  },
  {
   "cell_type": "code",
   "execution_count": null,
   "metadata": {},
   "outputs": [],
   "source": []
  },
  {
   "cell_type": "markdown",
   "metadata": {},
   "source": [
    "## PROT"
   ]
  },
  {
   "cell_type": "code",
   "execution_count": 42,
   "metadata": {},
   "outputs": [],
   "source": [
    "prot_path='/mnt/sdb1/Project_Sieja_MCLR_52/2_pipeline/7_counting_transcripts/proteins_salmo/'"
   ]
  },
  {
   "cell_type": "code",
   "execution_count": 43,
   "metadata": {},
   "outputs": [
    {
     "data": {
      "text/html": [
       "<div>\n",
       "<style scoped>\n",
       "    .dataframe tbody tr th:only-of-type {\n",
       "        vertical-align: middle;\n",
       "    }\n",
       "\n",
       "    .dataframe tbody tr th {\n",
       "        vertical-align: top;\n",
       "    }\n",
       "\n",
       "    .dataframe thead th {\n",
       "        text-align: right;\n",
       "    }\n",
       "</style>\n",
       "<table border=\"1\" class=\"dataframe\">\n",
       "  <thead>\n",
       "    <tr style=\"text-align: right;\">\n",
       "      <th></th>\n",
       "      <th>trinity</th>\n",
       "      <th>PBS_1d_1</th>\n",
       "      <th>PBS_1d_2</th>\n",
       "      <th>PBS_1d_3</th>\n",
       "      <th>PBS_1d_4</th>\n",
       "      <th>MC_1d_1</th>\n",
       "      <th>MC_1d_2</th>\n",
       "      <th>MC_1d_3</th>\n",
       "      <th>MC_6d_1</th>\n",
       "      <th>MC_6d_2</th>\n",
       "      <th>MC_6d_3</th>\n",
       "      <th>MC_9d_1</th>\n",
       "      <th>MC_9d_2</th>\n",
       "      <th>MC_9d_3</th>\n",
       "    </tr>\n",
       "  </thead>\n",
       "  <tbody>\n",
       "    <tr>\n",
       "      <th>0</th>\n",
       "      <td>TRINITY_DN100000_c5_g1_i2</td>\n",
       "      <td>0.0</td>\n",
       "      <td>3.0</td>\n",
       "      <td>2.0</td>\n",
       "      <td>0.0</td>\n",
       "      <td>0.0</td>\n",
       "      <td>0.0</td>\n",
       "      <td>0.0</td>\n",
       "      <td>0</td>\n",
       "      <td>0</td>\n",
       "      <td>0</td>\n",
       "      <td>5</td>\n",
       "      <td>0</td>\n",
       "      <td>0</td>\n",
       "    </tr>\n",
       "    <tr>\n",
       "      <th>1</th>\n",
       "      <td>TRINITY_DN100000_c5_g1_i6</td>\n",
       "      <td>374.0</td>\n",
       "      <td>506.0</td>\n",
       "      <td>607.0</td>\n",
       "      <td>594.0</td>\n",
       "      <td>511.0</td>\n",
       "      <td>726.0</td>\n",
       "      <td>517.0</td>\n",
       "      <td>192</td>\n",
       "      <td>195</td>\n",
       "      <td>227</td>\n",
       "      <td>427</td>\n",
       "      <td>219</td>\n",
       "      <td>339</td>\n",
       "    </tr>\n",
       "    <tr>\n",
       "      <th>2</th>\n",
       "      <td>TRINITY_DN100001_c2_g2_i2</td>\n",
       "      <td>1232.0</td>\n",
       "      <td>1264.0</td>\n",
       "      <td>998.0</td>\n",
       "      <td>1040.0</td>\n",
       "      <td>1162.0</td>\n",
       "      <td>1784.0</td>\n",
       "      <td>938.0</td>\n",
       "      <td>1730</td>\n",
       "      <td>1743</td>\n",
       "      <td>1974</td>\n",
       "      <td>2315</td>\n",
       "      <td>2067</td>\n",
       "      <td>2386</td>\n",
       "    </tr>\n",
       "    <tr>\n",
       "      <th>3</th>\n",
       "      <td>TRINITY_DN100001_c2_g2_i7</td>\n",
       "      <td>562.0</td>\n",
       "      <td>408.0</td>\n",
       "      <td>311.0</td>\n",
       "      <td>353.0</td>\n",
       "      <td>402.0</td>\n",
       "      <td>471.0</td>\n",
       "      <td>420.0</td>\n",
       "      <td>1378</td>\n",
       "      <td>1338</td>\n",
       "      <td>1428</td>\n",
       "      <td>1291</td>\n",
       "      <td>1139</td>\n",
       "      <td>1344</td>\n",
       "    </tr>\n",
       "    <tr>\n",
       "      <th>4</th>\n",
       "      <td>TRINITY_DN100001_c2_g3_i3</td>\n",
       "      <td>565.0</td>\n",
       "      <td>525.0</td>\n",
       "      <td>384.0</td>\n",
       "      <td>406.0</td>\n",
       "      <td>555.0</td>\n",
       "      <td>552.0</td>\n",
       "      <td>529.0</td>\n",
       "      <td>1553</td>\n",
       "      <td>1461</td>\n",
       "      <td>1684</td>\n",
       "      <td>1436</td>\n",
       "      <td>1416</td>\n",
       "      <td>1447</td>\n",
       "    </tr>\n",
       "  </tbody>\n",
       "</table>\n",
       "</div>"
      ],
      "text/plain": [
       "                     trinity  PBS_1d_1  PBS_1d_2  PBS_1d_3  PBS_1d_4  MC_1d_1  \\\n",
       "0  TRINITY_DN100000_c5_g1_i2       0.0       3.0       2.0       0.0      0.0   \n",
       "1  TRINITY_DN100000_c5_g1_i6     374.0     506.0     607.0     594.0    511.0   \n",
       "2  TRINITY_DN100001_c2_g2_i2    1232.0    1264.0     998.0    1040.0   1162.0   \n",
       "3  TRINITY_DN100001_c2_g2_i7     562.0     408.0     311.0     353.0    402.0   \n",
       "4  TRINITY_DN100001_c2_g3_i3     565.0     525.0     384.0     406.0    555.0   \n",
       "\n",
       "   MC_1d_2  MC_1d_3  MC_6d_1  MC_6d_2  MC_6d_3  MC_9d_1  MC_9d_2  MC_9d_3  \n",
       "0      0.0      0.0        0        0        0        5        0        0  \n",
       "1    726.0    517.0      192      195      227      427      219      339  \n",
       "2   1784.0    938.0     1730     1743     1974     2315     2067     2386  \n",
       "3    471.0    420.0     1378     1338     1428     1291     1139     1344  \n",
       "4    552.0    529.0     1553     1461     1684     1436     1416     1447  "
      ]
     },
     "execution_count": 43,
     "metadata": {},
     "output_type": "execute_result"
    }
   ],
   "source": [
    "matryca_salmo_prot = pd.read_csv(prot_path+'PBS_MCLR_salmo_only_matryca.csv')\n",
    "matryca_salmo_prot.head()"
   ]
  },
  {
   "cell_type": "code",
   "execution_count": 44,
   "metadata": {},
   "outputs": [],
   "source": [
    "matryca_salmo_prot_1d = matryca_salmo_prot[['trinity', 'PBS_1d_1', 'PBS_1d_2', 'PBS_1d_3', 'PBS_1d_4', 'MC_1d_1',\n",
    "       'MC_1d_2', 'MC_1d_3']]"
   ]
  },
  {
   "cell_type": "code",
   "execution_count": 45,
   "metadata": {},
   "outputs": [],
   "source": [
    "matryca_salmo_prot_6d = matryca_salmo_prot[['trinity', 'PBS_1d_1', 'PBS_1d_2', 'PBS_1d_3', 'PBS_1d_4', 'MC_6d_1',\n",
    "       'MC_6d_2', 'MC_6d_3']]"
   ]
  },
  {
   "cell_type": "code",
   "execution_count": 46,
   "metadata": {},
   "outputs": [],
   "source": [
    "matryca_salmo_prot_9d = matryca_salmo_prot[['trinity', 'PBS_1d_1', 'PBS_1d_2', 'PBS_1d_3', 'PBS_1d_4', 'MC_9d_1',\n",
    "       'MC_9d_2', 'MC_9d_3']]"
   ]
  },
  {
   "cell_type": "code",
   "execution_count": 47,
   "metadata": {},
   "outputs": [],
   "source": [
    "# deseq wszystkich bialek"
   ]
  },
  {
   "cell_type": "code",
   "execution_count": 48,
   "metadata": {},
   "outputs": [],
   "source": [
    "# po deseq2:\n",
    "\n",
    "#zaladuj wyniki deseq\n",
    "prot_deseq_results_d1 = pd.read_csv(prot_path+'PROT_deseq2_result_from_R_1d.csv')"
   ]
  },
  {
   "cell_type": "code",
   "execution_count": 49,
   "metadata": {},
   "outputs": [],
   "source": [
    "# po deseq2:\n",
    "\n",
    "#zaladuj wyniki deseq\n",
    "prot_deseq_results_d6 = pd.read_csv(prot_path+'PROT_deseq2_result_from_R_6d.csv')"
   ]
  },
  {
   "cell_type": "code",
   "execution_count": 50,
   "metadata": {},
   "outputs": [],
   "source": [
    "# po deseq2:\n",
    "\n",
    "#zaladuj wyniki deseq\n",
    "prot_deseq_results_d9 = pd.read_csv(prot_path+'PROT_deseq2_result_from_R_9d.csv')"
   ]
  },
  {
   "cell_type": "code",
   "execution_count": 51,
   "metadata": {},
   "outputs": [],
   "source": [
    "# dodaj kolumny trinity oraz RC poszczegolnych grup do wynikow deseq:\n",
    "prot_deseq_results_d1 = pd.concat([matryca_salmo_prot_1d, prot_deseq_results_d1], axis=1, sort=False)"
   ]
  },
  {
   "cell_type": "code",
   "execution_count": 52,
   "metadata": {},
   "outputs": [],
   "source": [
    "# dodaj kolumny trinity oraz RC poszczegolnych grup do wynikow deseq:\n",
    "prot_deseq_results_d6 = pd.concat([matryca_salmo_prot_6d, prot_deseq_results_d6], axis=1, sort=False)"
   ]
  },
  {
   "cell_type": "code",
   "execution_count": 53,
   "metadata": {},
   "outputs": [],
   "source": [
    "# dodaj kolumny trinity oraz RC poszczegolnych grup do wynikow deseq:\n",
    "prot_deseq_results_d9 = pd.concat([matryca_salmo_prot_9d, prot_deseq_results_d9], axis=1, sort=False)"
   ]
  },
  {
   "cell_type": "code",
   "execution_count": 54,
   "metadata": {},
   "outputs": [
    {
     "data": {
      "text/html": [
       "<div>\n",
       "<style scoped>\n",
       "    .dataframe tbody tr th:only-of-type {\n",
       "        vertical-align: middle;\n",
       "    }\n",
       "\n",
       "    .dataframe tbody tr th {\n",
       "        vertical-align: top;\n",
       "    }\n",
       "\n",
       "    .dataframe thead th {\n",
       "        text-align: right;\n",
       "    }\n",
       "</style>\n",
       "<table border=\"1\" class=\"dataframe\">\n",
       "  <thead>\n",
       "    <tr style=\"text-align: right;\">\n",
       "      <th></th>\n",
       "      <th>trinity</th>\n",
       "      <th>PBS_1d_1</th>\n",
       "      <th>PBS_1d_2</th>\n",
       "      <th>PBS_1d_3</th>\n",
       "      <th>PBS_1d_4</th>\n",
       "      <th>MC_1d_1</th>\n",
       "      <th>MC_1d_2</th>\n",
       "      <th>MC_1d_3</th>\n",
       "      <th>baseMean</th>\n",
       "      <th>log2FoldChange</th>\n",
       "      <th>lfcSE</th>\n",
       "      <th>stat</th>\n",
       "      <th>pvalue</th>\n",
       "      <th>padj</th>\n",
       "    </tr>\n",
       "  </thead>\n",
       "  <tbody>\n",
       "    <tr>\n",
       "      <th>0</th>\n",
       "      <td>TRINITY_DN100000_c5_g1_i2</td>\n",
       "      <td>0.0</td>\n",
       "      <td>3.0</td>\n",
       "      <td>2.0</td>\n",
       "      <td>0.0</td>\n",
       "      <td>0.0</td>\n",
       "      <td>0.0</td>\n",
       "      <td>0.0</td>\n",
       "      <td>0.749348</td>\n",
       "      <td>2.942381</td>\n",
       "      <td>3.733119</td>\n",
       "      <td>0.788183</td>\n",
       "      <td>0.430590</td>\n",
       "      <td>NaN</td>\n",
       "    </tr>\n",
       "    <tr>\n",
       "      <th>1</th>\n",
       "      <td>TRINITY_DN100000_c5_g1_i6</td>\n",
       "      <td>374.0</td>\n",
       "      <td>506.0</td>\n",
       "      <td>607.0</td>\n",
       "      <td>594.0</td>\n",
       "      <td>511.0</td>\n",
       "      <td>726.0</td>\n",
       "      <td>517.0</td>\n",
       "      <td>536.444545</td>\n",
       "      <td>0.003718</td>\n",
       "      <td>0.298455</td>\n",
       "      <td>0.012459</td>\n",
       "      <td>0.990060</td>\n",
       "      <td>0.996488</td>\n",
       "    </tr>\n",
       "    <tr>\n",
       "      <th>2</th>\n",
       "      <td>TRINITY_DN100001_c2_g2_i2</td>\n",
       "      <td>1232.0</td>\n",
       "      <td>1264.0</td>\n",
       "      <td>998.0</td>\n",
       "      <td>1040.0</td>\n",
       "      <td>1162.0</td>\n",
       "      <td>1784.0</td>\n",
       "      <td>938.0</td>\n",
       "      <td>1160.929051</td>\n",
       "      <td>-0.011349</td>\n",
       "      <td>0.227672</td>\n",
       "      <td>-0.049846</td>\n",
       "      <td>0.960245</td>\n",
       "      <td>0.984625</td>\n",
       "    </tr>\n",
       "    <tr>\n",
       "      <th>3</th>\n",
       "      <td>TRINITY_DN100001_c2_g2_i7</td>\n",
       "      <td>562.0</td>\n",
       "      <td>408.0</td>\n",
       "      <td>311.0</td>\n",
       "      <td>353.0</td>\n",
       "      <td>402.0</td>\n",
       "      <td>471.0</td>\n",
       "      <td>420.0</td>\n",
       "      <td>408.751557</td>\n",
       "      <td>0.054736</td>\n",
       "      <td>0.284350</td>\n",
       "      <td>0.192495</td>\n",
       "      <td>0.847354</td>\n",
       "      <td>0.935092</td>\n",
       "    </tr>\n",
       "    <tr>\n",
       "      <th>4</th>\n",
       "      <td>TRINITY_DN100001_c2_g3_i3</td>\n",
       "      <td>565.0</td>\n",
       "      <td>525.0</td>\n",
       "      <td>384.0</td>\n",
       "      <td>406.0</td>\n",
       "      <td>555.0</td>\n",
       "      <td>552.0</td>\n",
       "      <td>529.0</td>\n",
       "      <td>491.319090</td>\n",
       "      <td>-0.085350</td>\n",
       "      <td>0.253452</td>\n",
       "      <td>-0.336748</td>\n",
       "      <td>0.736307</td>\n",
       "      <td>0.880355</td>\n",
       "    </tr>\n",
       "  </tbody>\n",
       "</table>\n",
       "</div>"
      ],
      "text/plain": [
       "                     trinity  PBS_1d_1  PBS_1d_2  PBS_1d_3  PBS_1d_4  MC_1d_1  \\\n",
       "0  TRINITY_DN100000_c5_g1_i2       0.0       3.0       2.0       0.0      0.0   \n",
       "1  TRINITY_DN100000_c5_g1_i6     374.0     506.0     607.0     594.0    511.0   \n",
       "2  TRINITY_DN100001_c2_g2_i2    1232.0    1264.0     998.0    1040.0   1162.0   \n",
       "3  TRINITY_DN100001_c2_g2_i7     562.0     408.0     311.0     353.0    402.0   \n",
       "4  TRINITY_DN100001_c2_g3_i3     565.0     525.0     384.0     406.0    555.0   \n",
       "\n",
       "   MC_1d_2  MC_1d_3     baseMean  log2FoldChange     lfcSE      stat  \\\n",
       "0      0.0      0.0     0.749348        2.942381  3.733119  0.788183   \n",
       "1    726.0    517.0   536.444545        0.003718  0.298455  0.012459   \n",
       "2   1784.0    938.0  1160.929051       -0.011349  0.227672 -0.049846   \n",
       "3    471.0    420.0   408.751557        0.054736  0.284350  0.192495   \n",
       "4    552.0    529.0   491.319090       -0.085350  0.253452 -0.336748   \n",
       "\n",
       "     pvalue      padj  \n",
       "0  0.430590       NaN  \n",
       "1  0.990060  0.996488  \n",
       "2  0.960245  0.984625  \n",
       "3  0.847354  0.935092  \n",
       "4  0.736307  0.880355  "
      ]
     },
     "execution_count": 54,
     "metadata": {},
     "output_type": "execute_result"
    }
   ],
   "source": [
    "prot_deseq_results_d1.head()"
   ]
  },
  {
   "cell_type": "code",
   "execution_count": 55,
   "metadata": {},
   "outputs": [],
   "source": [
    "# dodanie \"Entry bialek (i reszty informacji o bialkach z raportu trinity)\" do matrycy z wynikami deseq\n",
    "# plik importowany ponizej pochodzi z sekcji na samej gorze."
   ]
  },
  {
   "cell_type": "code",
   "execution_count": 56,
   "metadata": {},
   "outputs": [
    {
     "data": {
      "text/html": [
       "<div>\n",
       "<style scoped>\n",
       "    .dataframe tbody tr th:only-of-type {\n",
       "        vertical-align: middle;\n",
       "    }\n",
       "\n",
       "    .dataframe tbody tr th {\n",
       "        vertical-align: top;\n",
       "    }\n",
       "\n",
       "    .dataframe thead th {\n",
       "        text-align: right;\n",
       "    }\n",
       "</style>\n",
       "<table border=\"1\" class=\"dataframe\">\n",
       "  <thead>\n",
       "    <tr style=\"text-align: right;\">\n",
       "      <th></th>\n",
       "      <th>Entry</th>\n",
       "      <th>ident</th>\n",
       "      <th>Entry name</th>\n",
       "      <th>Status</th>\n",
       "      <th>Protein names</th>\n",
       "      <th>Gene names</th>\n",
       "      <th>Organism</th>\n",
       "      <th>Length</th>\n",
       "      <th>id</th>\n",
       "    </tr>\n",
       "  </thead>\n",
       "  <tbody>\n",
       "    <tr>\n",
       "      <th>0</th>\n",
       "      <td>A0A1S3KIG4</td>\n",
       "      <td>XP_013978521.1</td>\n",
       "      <td>A0A1S3KIG4_SALSA</td>\n",
       "      <td>unreviewed</td>\n",
       "      <td>carboxyl-terminal PDZ ligand of neuronal nitri...</td>\n",
       "      <td>LOC106560293</td>\n",
       "      <td>Salmo salar (Atlantic salmon)</td>\n",
       "      <td>758</td>\n",
       "      <td>TRINITY_DN100000_c5_g1</td>\n",
       "    </tr>\n",
       "  </tbody>\n",
       "</table>\n",
       "</div>"
      ],
      "text/plain": [
       "        Entry           ident        Entry name      Status  \\\n",
       "0  A0A1S3KIG4  XP_013978521.1  A0A1S3KIG4_SALSA  unreviewed   \n",
       "\n",
       "                                       Protein names    Gene names  \\\n",
       "0  carboxyl-terminal PDZ ligand of neuronal nitri...  LOC106560293   \n",
       "\n",
       "                        Organism  Length                      id  \n",
       "0  Salmo salar (Atlantic salmon)     758  TRINITY_DN100000_c5_g1  "
      ]
     },
     "execution_count": 56,
     "metadata": {},
     "output_type": "execute_result"
    }
   ],
   "source": [
    "prot_all_from_trinity_report = pd.read_csv(prot_path+'PROT_wszystkie_bialka_z_raportu_trinity.csv')\n",
    "prot_all_from_trinity_report.head(1)"
   ]
  },
  {
   "cell_type": "code",
   "execution_count": 57,
   "metadata": {},
   "outputs": [],
   "source": [
    "prot_all_from_trinity_report.rename(columns={'id':'trinity'}, inplace=True)"
   ]
  },
  {
   "cell_type": "code",
   "execution_count": 58,
   "metadata": {
    "scrolled": true
   },
   "outputs": [
    {
     "data": {
      "text/html": [
       "<div>\n",
       "<style scoped>\n",
       "    .dataframe tbody tr th:only-of-type {\n",
       "        vertical-align: middle;\n",
       "    }\n",
       "\n",
       "    .dataframe tbody tr th {\n",
       "        vertical-align: top;\n",
       "    }\n",
       "\n",
       "    .dataframe thead th {\n",
       "        text-align: right;\n",
       "    }\n",
       "</style>\n",
       "<table border=\"1\" class=\"dataframe\">\n",
       "  <thead>\n",
       "    <tr style=\"text-align: right;\">\n",
       "      <th></th>\n",
       "      <th>trinity</th>\n",
       "      <th>PBS_1d_1</th>\n",
       "      <th>PBS_1d_2</th>\n",
       "      <th>PBS_1d_3</th>\n",
       "      <th>PBS_1d_4</th>\n",
       "      <th>MC_1d_1</th>\n",
       "      <th>MC_1d_2</th>\n",
       "      <th>MC_1d_3</th>\n",
       "      <th>baseMean</th>\n",
       "      <th>log2FoldChange</th>\n",
       "      <th>...</th>\n",
       "      <th>pvalue</th>\n",
       "      <th>padj</th>\n",
       "      <th>Entry</th>\n",
       "      <th>ident</th>\n",
       "      <th>Entry name</th>\n",
       "      <th>Status</th>\n",
       "      <th>Protein names</th>\n",
       "      <th>Gene names</th>\n",
       "      <th>Organism</th>\n",
       "      <th>Length</th>\n",
       "    </tr>\n",
       "  </thead>\n",
       "  <tbody>\n",
       "    <tr>\n",
       "      <th>0</th>\n",
       "      <td>TRINITY_DN100000_c5_g1_i2</td>\n",
       "      <td>0.0</td>\n",
       "      <td>3.0</td>\n",
       "      <td>2.0</td>\n",
       "      <td>0.0</td>\n",
       "      <td>0.0</td>\n",
       "      <td>0.0</td>\n",
       "      <td>0.0</td>\n",
       "      <td>0.749348</td>\n",
       "      <td>2.942381</td>\n",
       "      <td>...</td>\n",
       "      <td>4.305896e-01</td>\n",
       "      <td>NaN</td>\n",
       "      <td>A0A1S3PAG0</td>\n",
       "      <td>XP_014024532.1</td>\n",
       "      <td>A0A1S3PAG0_SALSA</td>\n",
       "      <td>unreviewed</td>\n",
       "      <td>carboxyl-terminal PDZ ligand of neuronal nitri...</td>\n",
       "      <td>LOC106584141</td>\n",
       "      <td>Salmo salar (Atlantic salmon)</td>\n",
       "      <td>754</td>\n",
       "    </tr>\n",
       "    <tr>\n",
       "      <th>1</th>\n",
       "      <td>TRINITY_DN100000_c5_g1_i6</td>\n",
       "      <td>374.0</td>\n",
       "      <td>506.0</td>\n",
       "      <td>607.0</td>\n",
       "      <td>594.0</td>\n",
       "      <td>511.0</td>\n",
       "      <td>726.0</td>\n",
       "      <td>517.0</td>\n",
       "      <td>536.444545</td>\n",
       "      <td>0.003718</td>\n",
       "      <td>...</td>\n",
       "      <td>9.900598e-01</td>\n",
       "      <td>9.964880e-01</td>\n",
       "      <td>A0A1S3KIG4</td>\n",
       "      <td>XP_013978521.1</td>\n",
       "      <td>A0A1S3KIG4_SALSA</td>\n",
       "      <td>unreviewed</td>\n",
       "      <td>carboxyl-terminal PDZ ligand of neuronal nitri...</td>\n",
       "      <td>LOC106560293</td>\n",
       "      <td>Salmo salar (Atlantic salmon)</td>\n",
       "      <td>758</td>\n",
       "    </tr>\n",
       "    <tr>\n",
       "      <th>2</th>\n",
       "      <td>TRINITY_DN100001_c2_g2_i2</td>\n",
       "      <td>1232.0</td>\n",
       "      <td>1264.0</td>\n",
       "      <td>998.0</td>\n",
       "      <td>1040.0</td>\n",
       "      <td>1162.0</td>\n",
       "      <td>1784.0</td>\n",
       "      <td>938.0</td>\n",
       "      <td>1160.929051</td>\n",
       "      <td>-0.011349</td>\n",
       "      <td>...</td>\n",
       "      <td>9.602448e-01</td>\n",
       "      <td>9.846255e-01</td>\n",
       "      <td>A0A1S3PIA6</td>\n",
       "      <td>XP_014027367.1</td>\n",
       "      <td>A0A1S3PIA6_SALSA</td>\n",
       "      <td>unreviewed</td>\n",
       "      <td>Probable cytosolic iron-sulfur protein assembl...</td>\n",
       "      <td>LOC106585549 CIAO1</td>\n",
       "      <td>Salmo salar (Atlantic salmon)</td>\n",
       "      <td>333</td>\n",
       "    </tr>\n",
       "    <tr>\n",
       "      <th>3</th>\n",
       "      <td>TRINITY_DN100001_c2_g2_i2</td>\n",
       "      <td>1232.0</td>\n",
       "      <td>1264.0</td>\n",
       "      <td>998.0</td>\n",
       "      <td>1040.0</td>\n",
       "      <td>1162.0</td>\n",
       "      <td>1784.0</td>\n",
       "      <td>938.0</td>\n",
       "      <td>1160.929051</td>\n",
       "      <td>-0.011349</td>\n",
       "      <td>...</td>\n",
       "      <td>9.602448e-01</td>\n",
       "      <td>9.846255e-01</td>\n",
       "      <td>B5X212</td>\n",
       "      <td>XP_014027367.1</td>\n",
       "      <td>CIO1B_SALSA</td>\n",
       "      <td>reviewed</td>\n",
       "      <td>Probable cytosolic iron-sulfur protein assembl...</td>\n",
       "      <td>ciao1b</td>\n",
       "      <td>Salmo salar (Atlantic salmon)</td>\n",
       "      <td>333</td>\n",
       "    </tr>\n",
       "    <tr>\n",
       "      <th>4</th>\n",
       "      <td>TRINITY_DN100001_c2_g2_i7</td>\n",
       "      <td>562.0</td>\n",
       "      <td>408.0</td>\n",
       "      <td>311.0</td>\n",
       "      <td>353.0</td>\n",
       "      <td>402.0</td>\n",
       "      <td>471.0</td>\n",
       "      <td>420.0</td>\n",
       "      <td>408.751557</td>\n",
       "      <td>0.054736</td>\n",
       "      <td>...</td>\n",
       "      <td>8.473543e-01</td>\n",
       "      <td>9.350916e-01</td>\n",
       "      <td>A0A1S3NJU9</td>\n",
       "      <td>XP_014015694.1</td>\n",
       "      <td>A0A1S3NJU9_SALSA</td>\n",
       "      <td>unreviewed</td>\n",
       "      <td>Probable cytosolic iron-sulfur protein assembl...</td>\n",
       "      <td>LOC106579887 CIAO1</td>\n",
       "      <td>Salmo salar (Atlantic salmon)</td>\n",
       "      <td>330</td>\n",
       "    </tr>\n",
       "    <tr>\n",
       "      <th>5</th>\n",
       "      <td>TRINITY_DN100001_c2_g2_i7</td>\n",
       "      <td>562.0</td>\n",
       "      <td>408.0</td>\n",
       "      <td>311.0</td>\n",
       "      <td>353.0</td>\n",
       "      <td>402.0</td>\n",
       "      <td>471.0</td>\n",
       "      <td>420.0</td>\n",
       "      <td>408.751557</td>\n",
       "      <td>0.054736</td>\n",
       "      <td>...</td>\n",
       "      <td>8.473543e-01</td>\n",
       "      <td>9.350916e-01</td>\n",
       "      <td>B5X9P2</td>\n",
       "      <td>XP_014015694.1</td>\n",
       "      <td>CIO1A_SALSA</td>\n",
       "      <td>reviewed</td>\n",
       "      <td>Probable cytosolic iron-sulfur protein assembl...</td>\n",
       "      <td>ciao1a</td>\n",
       "      <td>Salmo salar (Atlantic salmon)</td>\n",
       "      <td>330</td>\n",
       "    </tr>\n",
       "    <tr>\n",
       "      <th>6</th>\n",
       "      <td>TRINITY_DN100001_c2_g3_i3</td>\n",
       "      <td>565.0</td>\n",
       "      <td>525.0</td>\n",
       "      <td>384.0</td>\n",
       "      <td>406.0</td>\n",
       "      <td>555.0</td>\n",
       "      <td>552.0</td>\n",
       "      <td>529.0</td>\n",
       "      <td>491.319090</td>\n",
       "      <td>-0.085350</td>\n",
       "      <td>...</td>\n",
       "      <td>7.363066e-01</td>\n",
       "      <td>8.803554e-01</td>\n",
       "      <td>A0A1S3PIA6</td>\n",
       "      <td>XP_014027367.1</td>\n",
       "      <td>A0A1S3PIA6_SALSA</td>\n",
       "      <td>unreviewed</td>\n",
       "      <td>Probable cytosolic iron-sulfur protein assembl...</td>\n",
       "      <td>LOC106585549 CIAO1</td>\n",
       "      <td>Salmo salar (Atlantic salmon)</td>\n",
       "      <td>333</td>\n",
       "    </tr>\n",
       "    <tr>\n",
       "      <th>7</th>\n",
       "      <td>TRINITY_DN100001_c2_g3_i3</td>\n",
       "      <td>565.0</td>\n",
       "      <td>525.0</td>\n",
       "      <td>384.0</td>\n",
       "      <td>406.0</td>\n",
       "      <td>555.0</td>\n",
       "      <td>552.0</td>\n",
       "      <td>529.0</td>\n",
       "      <td>491.319090</td>\n",
       "      <td>-0.085350</td>\n",
       "      <td>...</td>\n",
       "      <td>7.363066e-01</td>\n",
       "      <td>8.803554e-01</td>\n",
       "      <td>B5X212</td>\n",
       "      <td>XP_014027367.1</td>\n",
       "      <td>CIO1B_SALSA</td>\n",
       "      <td>reviewed</td>\n",
       "      <td>Probable cytosolic iron-sulfur protein assembl...</td>\n",
       "      <td>ciao1b</td>\n",
       "      <td>Salmo salar (Atlantic salmon)</td>\n",
       "      <td>333</td>\n",
       "    </tr>\n",
       "    <tr>\n",
       "      <th>8</th>\n",
       "      <td>TRINITY_DN100001_c2_g5_i1</td>\n",
       "      <td>408.0</td>\n",
       "      <td>396.0</td>\n",
       "      <td>299.0</td>\n",
       "      <td>269.0</td>\n",
       "      <td>322.0</td>\n",
       "      <td>336.0</td>\n",
       "      <td>303.0</td>\n",
       "      <td>327.589884</td>\n",
       "      <td>0.235980</td>\n",
       "      <td>...</td>\n",
       "      <td>3.828576e-01</td>\n",
       "      <td>6.413399e-01</td>\n",
       "      <td>A0A1S3PIA6</td>\n",
       "      <td>XP_014027367.1</td>\n",
       "      <td>A0A1S3PIA6_SALSA</td>\n",
       "      <td>unreviewed</td>\n",
       "      <td>Probable cytosolic iron-sulfur protein assembl...</td>\n",
       "      <td>LOC106585549 CIAO1</td>\n",
       "      <td>Salmo salar (Atlantic salmon)</td>\n",
       "      <td>333</td>\n",
       "    </tr>\n",
       "    <tr>\n",
       "      <th>9</th>\n",
       "      <td>TRINITY_DN100001_c2_g5_i1</td>\n",
       "      <td>408.0</td>\n",
       "      <td>396.0</td>\n",
       "      <td>299.0</td>\n",
       "      <td>269.0</td>\n",
       "      <td>322.0</td>\n",
       "      <td>336.0</td>\n",
       "      <td>303.0</td>\n",
       "      <td>327.589884</td>\n",
       "      <td>0.235980</td>\n",
       "      <td>...</td>\n",
       "      <td>3.828576e-01</td>\n",
       "      <td>6.413399e-01</td>\n",
       "      <td>B5X212</td>\n",
       "      <td>XP_014027367.1</td>\n",
       "      <td>CIO1B_SALSA</td>\n",
       "      <td>reviewed</td>\n",
       "      <td>Probable cytosolic iron-sulfur protein assembl...</td>\n",
       "      <td>ciao1b</td>\n",
       "      <td>Salmo salar (Atlantic salmon)</td>\n",
       "      <td>333</td>\n",
       "    </tr>\n",
       "    <tr>\n",
       "      <th>10</th>\n",
       "      <td>TRINITY_DN100002_c2_g3_i5</td>\n",
       "      <td>1.0</td>\n",
       "      <td>2.0</td>\n",
       "      <td>1.0</td>\n",
       "      <td>10.0</td>\n",
       "      <td>0.0</td>\n",
       "      <td>4.0</td>\n",
       "      <td>14.0</td>\n",
       "      <td>4.616783</td>\n",
       "      <td>-0.805314</td>\n",
       "      <td>...</td>\n",
       "      <td>6.125792e-01</td>\n",
       "      <td>8.101140e-01</td>\n",
       "      <td>A0A1S3MVZ1</td>\n",
       "      <td>XP_014007388.1</td>\n",
       "      <td>A0A1S3MVZ1_SALSA</td>\n",
       "      <td>unreviewed</td>\n",
       "      <td>histone-lysine N-methyltransferase, H3 lysine-...</td>\n",
       "      <td>LOC106575408</td>\n",
       "      <td>Salmo salar (Atlantic salmon)</td>\n",
       "      <td>606</td>\n",
       "    </tr>\n",
       "    <tr>\n",
       "      <th>11</th>\n",
       "      <td>TRINITY_DN100003_c1_g2_i1</td>\n",
       "      <td>38.0</td>\n",
       "      <td>72.0</td>\n",
       "      <td>58.0</td>\n",
       "      <td>24.0</td>\n",
       "      <td>71.0</td>\n",
       "      <td>94.0</td>\n",
       "      <td>57.0</td>\n",
       "      <td>57.179756</td>\n",
       "      <td>-0.439950</td>\n",
       "      <td>...</td>\n",
       "      <td>3.702836e-01</td>\n",
       "      <td>6.302572e-01</td>\n",
       "      <td>A0A1S3MUW9</td>\n",
       "      <td>XP_014007013.1</td>\n",
       "      <td>A0A1S3MUW9_SALSA</td>\n",
       "      <td>unreviewed</td>\n",
       "      <td>glycogenin-1-like</td>\n",
       "      <td>LOC106575201</td>\n",
       "      <td>Salmo salar (Atlantic salmon)</td>\n",
       "      <td>251</td>\n",
       "    </tr>\n",
       "    <tr>\n",
       "      <th>12</th>\n",
       "      <td>TRINITY_DN100003_c1_g2_i1</td>\n",
       "      <td>38.0</td>\n",
       "      <td>72.0</td>\n",
       "      <td>58.0</td>\n",
       "      <td>24.0</td>\n",
       "      <td>71.0</td>\n",
       "      <td>94.0</td>\n",
       "      <td>57.0</td>\n",
       "      <td>57.179756</td>\n",
       "      <td>-0.439950</td>\n",
       "      <td>...</td>\n",
       "      <td>3.702836e-01</td>\n",
       "      <td>6.302572e-01</td>\n",
       "      <td>A0A1S3MUW9</td>\n",
       "      <td>XP_014007013.1</td>\n",
       "      <td>A0A1S3MUW9_SALSA</td>\n",
       "      <td>unreviewed</td>\n",
       "      <td>glycogenin-1-like</td>\n",
       "      <td>LOC106575201</td>\n",
       "      <td>Salmo salar (Atlantic salmon)</td>\n",
       "      <td>251</td>\n",
       "    </tr>\n",
       "    <tr>\n",
       "      <th>13</th>\n",
       "      <td>TRINITY_DN100003_c1_g2_i6</td>\n",
       "      <td>74.0</td>\n",
       "      <td>106.0</td>\n",
       "      <td>86.0</td>\n",
       "      <td>51.0</td>\n",
       "      <td>152.0</td>\n",
       "      <td>154.0</td>\n",
       "      <td>139.0</td>\n",
       "      <td>105.664117</td>\n",
       "      <td>-0.756193</td>\n",
       "      <td>...</td>\n",
       "      <td>4.231092e-02</td>\n",
       "      <td>1.702625e-01</td>\n",
       "      <td>A0A1S3MUW9</td>\n",
       "      <td>XP_014007013.1</td>\n",
       "      <td>A0A1S3MUW9_SALSA</td>\n",
       "      <td>unreviewed</td>\n",
       "      <td>glycogenin-1-like</td>\n",
       "      <td>LOC106575201</td>\n",
       "      <td>Salmo salar (Atlantic salmon)</td>\n",
       "      <td>251</td>\n",
       "    </tr>\n",
       "    <tr>\n",
       "      <th>14</th>\n",
       "      <td>TRINITY_DN100003_c1_g2_i6</td>\n",
       "      <td>74.0</td>\n",
       "      <td>106.0</td>\n",
       "      <td>86.0</td>\n",
       "      <td>51.0</td>\n",
       "      <td>152.0</td>\n",
       "      <td>154.0</td>\n",
       "      <td>139.0</td>\n",
       "      <td>105.664117</td>\n",
       "      <td>-0.756193</td>\n",
       "      <td>...</td>\n",
       "      <td>4.231092e-02</td>\n",
       "      <td>1.702625e-01</td>\n",
       "      <td>A0A1S3MUW9</td>\n",
       "      <td>XP_014007013.1</td>\n",
       "      <td>A0A1S3MUW9_SALSA</td>\n",
       "      <td>unreviewed</td>\n",
       "      <td>glycogenin-1-like</td>\n",
       "      <td>LOC106575201</td>\n",
       "      <td>Salmo salar (Atlantic salmon)</td>\n",
       "      <td>251</td>\n",
       "    </tr>\n",
       "    <tr>\n",
       "      <th>15</th>\n",
       "      <td>TRINITY_DN100003_c1_g3_i1</td>\n",
       "      <td>97.0</td>\n",
       "      <td>150.0</td>\n",
       "      <td>145.0</td>\n",
       "      <td>24.0</td>\n",
       "      <td>184.0</td>\n",
       "      <td>145.0</td>\n",
       "      <td>162.0</td>\n",
       "      <td>127.865808</td>\n",
       "      <td>-0.502880</td>\n",
       "      <td>...</td>\n",
       "      <td>4.021154e-01</td>\n",
       "      <td>6.573780e-01</td>\n",
       "      <td>A0A1S3MUW9</td>\n",
       "      <td>XP_014007013.1</td>\n",
       "      <td>A0A1S3MUW9_SALSA</td>\n",
       "      <td>unreviewed</td>\n",
       "      <td>glycogenin-1-like</td>\n",
       "      <td>LOC106575201</td>\n",
       "      <td>Salmo salar (Atlantic salmon)</td>\n",
       "      <td>251</td>\n",
       "    </tr>\n",
       "    <tr>\n",
       "      <th>16</th>\n",
       "      <td>TRINITY_DN100003_c1_g3_i1</td>\n",
       "      <td>97.0</td>\n",
       "      <td>150.0</td>\n",
       "      <td>145.0</td>\n",
       "      <td>24.0</td>\n",
       "      <td>184.0</td>\n",
       "      <td>145.0</td>\n",
       "      <td>162.0</td>\n",
       "      <td>127.865808</td>\n",
       "      <td>-0.502880</td>\n",
       "      <td>...</td>\n",
       "      <td>4.021154e-01</td>\n",
       "      <td>6.573780e-01</td>\n",
       "      <td>A0A1S3MUW9</td>\n",
       "      <td>XP_014007013.1</td>\n",
       "      <td>A0A1S3MUW9_SALSA</td>\n",
       "      <td>unreviewed</td>\n",
       "      <td>glycogenin-1-like</td>\n",
       "      <td>LOC106575201</td>\n",
       "      <td>Salmo salar (Atlantic salmon)</td>\n",
       "      <td>251</td>\n",
       "    </tr>\n",
       "    <tr>\n",
       "      <th>17</th>\n",
       "      <td>TRINITY_DN100004_c3_g1_i17</td>\n",
       "      <td>61.0</td>\n",
       "      <td>49.0</td>\n",
       "      <td>63.0</td>\n",
       "      <td>47.0</td>\n",
       "      <td>60.0</td>\n",
       "      <td>48.0</td>\n",
       "      <td>39.0</td>\n",
       "      <td>51.859248</td>\n",
       "      <td>0.326307</td>\n",
       "      <td>...</td>\n",
       "      <td>4.117960e-01</td>\n",
       "      <td>6.656045e-01</td>\n",
       "      <td>A0A1S3M6G3</td>\n",
       "      <td>XP_013998645.1</td>\n",
       "      <td>A0A1S3M6G3_SALSA</td>\n",
       "      <td>unreviewed</td>\n",
       "      <td>keratin-associated protein 10-11-like</td>\n",
       "      <td>LOC106570697</td>\n",
       "      <td>Salmo salar (Atlantic salmon)</td>\n",
       "      <td>241</td>\n",
       "    </tr>\n",
       "    <tr>\n",
       "      <th>18</th>\n",
       "      <td>TRINITY_DN100004_c3_g1_i17</td>\n",
       "      <td>61.0</td>\n",
       "      <td>49.0</td>\n",
       "      <td>63.0</td>\n",
       "      <td>47.0</td>\n",
       "      <td>60.0</td>\n",
       "      <td>48.0</td>\n",
       "      <td>39.0</td>\n",
       "      <td>51.859248</td>\n",
       "      <td>0.326307</td>\n",
       "      <td>...</td>\n",
       "      <td>4.117960e-01</td>\n",
       "      <td>6.656045e-01</td>\n",
       "      <td>A0A1S3M6G3</td>\n",
       "      <td>XP_013998645.1</td>\n",
       "      <td>A0A1S3M6G3_SALSA</td>\n",
       "      <td>unreviewed</td>\n",
       "      <td>keratin-associated protein 10-11-like</td>\n",
       "      <td>LOC106570697</td>\n",
       "      <td>Salmo salar (Atlantic salmon)</td>\n",
       "      <td>241</td>\n",
       "    </tr>\n",
       "    <tr>\n",
       "      <th>19</th>\n",
       "      <td>TRINITY_DN100004_c4_g1_i4</td>\n",
       "      <td>0.0</td>\n",
       "      <td>0.0</td>\n",
       "      <td>7.0</td>\n",
       "      <td>0.0</td>\n",
       "      <td>0.0</td>\n",
       "      <td>5.0</td>\n",
       "      <td>5.0</td>\n",
       "      <td>2.495589</td>\n",
       "      <td>-0.640871</td>\n",
       "      <td>...</td>\n",
       "      <td>8.075859e-01</td>\n",
       "      <td>NaN</td>\n",
       "      <td>A0A1S3LC57</td>\n",
       "      <td>XP_013988543.1</td>\n",
       "      <td>A0A1S3LC57_SALSA</td>\n",
       "      <td>unreviewed</td>\n",
       "      <td>forkhead box protein P4-like isoform X1</td>\n",
       "      <td>LOC106565700</td>\n",
       "      <td>Salmo salar (Atlantic salmon)</td>\n",
       "      <td>723</td>\n",
       "    </tr>\n",
       "    <tr>\n",
       "      <th>20</th>\n",
       "      <td>TRINITY_DN100004_c4_g1_i4</td>\n",
       "      <td>0.0</td>\n",
       "      <td>0.0</td>\n",
       "      <td>7.0</td>\n",
       "      <td>0.0</td>\n",
       "      <td>0.0</td>\n",
       "      <td>5.0</td>\n",
       "      <td>5.0</td>\n",
       "      <td>2.495589</td>\n",
       "      <td>-0.640871</td>\n",
       "      <td>...</td>\n",
       "      <td>8.075859e-01</td>\n",
       "      <td>NaN</td>\n",
       "      <td>A0A1S3LC57</td>\n",
       "      <td>XP_013988543.1</td>\n",
       "      <td>A0A1S3LC57_SALSA</td>\n",
       "      <td>unreviewed</td>\n",
       "      <td>forkhead box protein P4-like isoform X1</td>\n",
       "      <td>LOC106565700</td>\n",
       "      <td>Salmo salar (Atlantic salmon)</td>\n",
       "      <td>723</td>\n",
       "    </tr>\n",
       "    <tr>\n",
       "      <th>21</th>\n",
       "      <td>TRINITY_DN100004_c4_g1_i7</td>\n",
       "      <td>48.0</td>\n",
       "      <td>65.0</td>\n",
       "      <td>36.0</td>\n",
       "      <td>46.0</td>\n",
       "      <td>118.0</td>\n",
       "      <td>184.0</td>\n",
       "      <td>194.0</td>\n",
       "      <td>94.733752</td>\n",
       "      <td>-1.646117</td>\n",
       "      <td>...</td>\n",
       "      <td>1.945841e-05</td>\n",
       "      <td>3.405019e-04</td>\n",
       "      <td>A0A1S3P409</td>\n",
       "      <td>XP_014022296.1</td>\n",
       "      <td>A0A1S3P409_SALSA</td>\n",
       "      <td>unreviewed</td>\n",
       "      <td>forkhead box protein P4-like isoform X2</td>\n",
       "      <td>LOC106583051</td>\n",
       "      <td>Salmo salar (Atlantic salmon)</td>\n",
       "      <td>707</td>\n",
       "    </tr>\n",
       "    <tr>\n",
       "      <th>22</th>\n",
       "      <td>TRINITY_DN100005_c10_g1_i1</td>\n",
       "      <td>1.0</td>\n",
       "      <td>1.0</td>\n",
       "      <td>5.0</td>\n",
       "      <td>3.0</td>\n",
       "      <td>0.0</td>\n",
       "      <td>1.0</td>\n",
       "      <td>5.0</td>\n",
       "      <td>2.418991</td>\n",
       "      <td>0.382661</td>\n",
       "      <td>...</td>\n",
       "      <td>8.226483e-01</td>\n",
       "      <td>NaN</td>\n",
       "      <td>A0A1S3RRL5</td>\n",
       "      <td>XP_014054961.1</td>\n",
       "      <td>A0A1S3RRL5_SALSA</td>\n",
       "      <td>unreviewed</td>\n",
       "      <td>CD97 antigen-like</td>\n",
       "      <td>LOC106604643</td>\n",
       "      <td>Salmo salar (Atlantic salmon)</td>\n",
       "      <td>248</td>\n",
       "    </tr>\n",
       "    <tr>\n",
       "      <th>23</th>\n",
       "      <td>TRINITY_DN100005_c10_g1_i1</td>\n",
       "      <td>1.0</td>\n",
       "      <td>1.0</td>\n",
       "      <td>5.0</td>\n",
       "      <td>3.0</td>\n",
       "      <td>0.0</td>\n",
       "      <td>1.0</td>\n",
       "      <td>5.0</td>\n",
       "      <td>2.418991</td>\n",
       "      <td>0.382661</td>\n",
       "      <td>...</td>\n",
       "      <td>8.226483e-01</td>\n",
       "      <td>NaN</td>\n",
       "      <td>A0A1S3RRL5</td>\n",
       "      <td>XP_014054961.1</td>\n",
       "      <td>A0A1S3RRL5_SALSA</td>\n",
       "      <td>unreviewed</td>\n",
       "      <td>CD97 antigen-like</td>\n",
       "      <td>LOC106604643</td>\n",
       "      <td>Salmo salar (Atlantic salmon)</td>\n",
       "      <td>248</td>\n",
       "    </tr>\n",
       "    <tr>\n",
       "      <th>24</th>\n",
       "      <td>TRINITY_DN100005_c1_g1_i1</td>\n",
       "      <td>13.0</td>\n",
       "      <td>9.0</td>\n",
       "      <td>11.0</td>\n",
       "      <td>12.0</td>\n",
       "      <td>3.0</td>\n",
       "      <td>3.0</td>\n",
       "      <td>3.0</td>\n",
       "      <td>7.793454</td>\n",
       "      <td>2.052827</td>\n",
       "      <td>...</td>\n",
       "      <td>1.664610e-02</td>\n",
       "      <td>8.849854e-02</td>\n",
       "      <td>A0A1S3NFF3</td>\n",
       "      <td>XP_014013975.1</td>\n",
       "      <td>A0A1S3NFF3_SALSA</td>\n",
       "      <td>unreviewed</td>\n",
       "      <td>dendritic cell-specific transmembrane protein-...</td>\n",
       "      <td>LOC106579055</td>\n",
       "      <td>Salmo salar (Atlantic salmon)</td>\n",
       "      <td>396</td>\n",
       "    </tr>\n",
       "    <tr>\n",
       "      <th>25</th>\n",
       "      <td>TRINITY_DN100005_c1_g1_i1</td>\n",
       "      <td>13.0</td>\n",
       "      <td>9.0</td>\n",
       "      <td>11.0</td>\n",
       "      <td>12.0</td>\n",
       "      <td>3.0</td>\n",
       "      <td>3.0</td>\n",
       "      <td>3.0</td>\n",
       "      <td>7.793454</td>\n",
       "      <td>2.052827</td>\n",
       "      <td>...</td>\n",
       "      <td>1.664610e-02</td>\n",
       "      <td>8.849854e-02</td>\n",
       "      <td>A0A1S3NFF3</td>\n",
       "      <td>XP_014013975.1</td>\n",
       "      <td>A0A1S3NFF3_SALSA</td>\n",
       "      <td>unreviewed</td>\n",
       "      <td>dendritic cell-specific transmembrane protein-...</td>\n",
       "      <td>LOC106579055</td>\n",
       "      <td>Salmo salar (Atlantic salmon)</td>\n",
       "      <td>396</td>\n",
       "    </tr>\n",
       "    <tr>\n",
       "      <th>26</th>\n",
       "      <td>TRINITY_DN100005_c8_g4_i1</td>\n",
       "      <td>42.0</td>\n",
       "      <td>26.0</td>\n",
       "      <td>47.0</td>\n",
       "      <td>33.0</td>\n",
       "      <td>13.0</td>\n",
       "      <td>30.0</td>\n",
       "      <td>4.0</td>\n",
       "      <td>27.653586</td>\n",
       "      <td>1.508340</td>\n",
       "      <td>...</td>\n",
       "      <td>2.296490e-02</td>\n",
       "      <td>1.114693e-01</td>\n",
       "      <td>A0A1S3MB99</td>\n",
       "      <td>XP_014000314.1</td>\n",
       "      <td>A0A1S3MB99_SALSA</td>\n",
       "      <td>unreviewed</td>\n",
       "      <td>Serine/threonine protein phosphatase 2A regula...</td>\n",
       "      <td>LOC106571593</td>\n",
       "      <td>Salmo salar (Atlantic salmon)</td>\n",
       "      <td>524</td>\n",
       "    </tr>\n",
       "    <tr>\n",
       "      <th>27</th>\n",
       "      <td>TRINITY_DN100005_c8_g4_i1</td>\n",
       "      <td>42.0</td>\n",
       "      <td>26.0</td>\n",
       "      <td>47.0</td>\n",
       "      <td>33.0</td>\n",
       "      <td>13.0</td>\n",
       "      <td>30.0</td>\n",
       "      <td>4.0</td>\n",
       "      <td>27.653586</td>\n",
       "      <td>1.508340</td>\n",
       "      <td>...</td>\n",
       "      <td>2.296490e-02</td>\n",
       "      <td>1.114693e-01</td>\n",
       "      <td>A0A1S3MB99</td>\n",
       "      <td>XP_014000314.1</td>\n",
       "      <td>A0A1S3MB99_SALSA</td>\n",
       "      <td>unreviewed</td>\n",
       "      <td>Serine/threonine protein phosphatase 2A regula...</td>\n",
       "      <td>LOC106571593</td>\n",
       "      <td>Salmo salar (Atlantic salmon)</td>\n",
       "      <td>524</td>\n",
       "    </tr>\n",
       "    <tr>\n",
       "      <th>28</th>\n",
       "      <td>TRINITY_DN100006_c3_g1_i2</td>\n",
       "      <td>551.0</td>\n",
       "      <td>851.0</td>\n",
       "      <td>740.0</td>\n",
       "      <td>396.0</td>\n",
       "      <td>26.0</td>\n",
       "      <td>87.0</td>\n",
       "      <td>21.0</td>\n",
       "      <td>390.921318</td>\n",
       "      <td>4.083749</td>\n",
       "      <td>...</td>\n",
       "      <td>1.668645e-16</td>\n",
       "      <td>2.272009e-14</td>\n",
       "      <td>A0A1S3KR13</td>\n",
       "      <td>XP_013981062.1</td>\n",
       "      <td>A0A1S3KR13_SALSA</td>\n",
       "      <td>unreviewed</td>\n",
       "      <td>neutrophil gelatinase-associated lipocalin iso...</td>\n",
       "      <td>lcn2</td>\n",
       "      <td>Salmo salar (Atlantic salmon)</td>\n",
       "      <td>188</td>\n",
       "    </tr>\n",
       "    <tr>\n",
       "      <th>29</th>\n",
       "      <td>TRINITY_DN100006_c4_g2_i12</td>\n",
       "      <td>80060.0</td>\n",
       "      <td>72696.0</td>\n",
       "      <td>66734.0</td>\n",
       "      <td>38541.0</td>\n",
       "      <td>120442.0</td>\n",
       "      <td>110225.0</td>\n",
       "      <td>48466.0</td>\n",
       "      <td>73738.905101</td>\n",
       "      <td>-0.334100</td>\n",
       "      <td>...</td>\n",
       "      <td>3.797074e-01</td>\n",
       "      <td>6.385575e-01</td>\n",
       "      <td>A0A1S3KQT5</td>\n",
       "      <td>XP_013981071.1</td>\n",
       "      <td>A0A1S3KQT5_SALSA</td>\n",
       "      <td>unreviewed</td>\n",
       "      <td>neutrophil gelatinase-associated lipocalin iso...</td>\n",
       "      <td>lcn2</td>\n",
       "      <td>Salmo salar (Atlantic salmon)</td>\n",
       "      <td>184</td>\n",
       "    </tr>\n",
       "    <tr>\n",
       "      <th>...</th>\n",
       "      <td>...</td>\n",
       "      <td>...</td>\n",
       "      <td>...</td>\n",
       "      <td>...</td>\n",
       "      <td>...</td>\n",
       "      <td>...</td>\n",
       "      <td>...</td>\n",
       "      <td>...</td>\n",
       "      <td>...</td>\n",
       "      <td>...</td>\n",
       "      <td>...</td>\n",
       "      <td>...</td>\n",
       "      <td>...</td>\n",
       "      <td>...</td>\n",
       "      <td>...</td>\n",
       "      <td>...</td>\n",
       "      <td>...</td>\n",
       "      <td>...</td>\n",
       "      <td>...</td>\n",
       "      <td>...</td>\n",
       "      <td>...</td>\n",
       "    </tr>\n",
       "    <tr>\n",
       "      <th>246765</th>\n",
       "      <td>TRINITY_DN99994_c5_g3_i1</td>\n",
       "      <td>28.0</td>\n",
       "      <td>38.0</td>\n",
       "      <td>24.0</td>\n",
       "      <td>10.0</td>\n",
       "      <td>7.0</td>\n",
       "      <td>14.0</td>\n",
       "      <td>0.0</td>\n",
       "      <td>17.126591</td>\n",
       "      <td>2.109694</td>\n",
       "      <td>...</td>\n",
       "      <td>2.649726e-02</td>\n",
       "      <td>1.235657e-01</td>\n",
       "      <td>A0A1S3PLF4</td>\n",
       "      <td>XP_014028482.1</td>\n",
       "      <td>A0A1S3PLF4_SALSA</td>\n",
       "      <td>unreviewed</td>\n",
       "      <td>cytochrome P450 2D6-like isoform X1</td>\n",
       "      <td>LOC106586122</td>\n",
       "      <td>Salmo salar (Atlantic salmon)</td>\n",
       "      <td>440</td>\n",
       "    </tr>\n",
       "    <tr>\n",
       "      <th>246766</th>\n",
       "      <td>TRINITY_DN99994_c6_g1_i1</td>\n",
       "      <td>45.0</td>\n",
       "      <td>47.0</td>\n",
       "      <td>26.0</td>\n",
       "      <td>43.0</td>\n",
       "      <td>0.0</td>\n",
       "      <td>2.0</td>\n",
       "      <td>0.0</td>\n",
       "      <td>23.465973</td>\n",
       "      <td>6.087759</td>\n",
       "      <td>...</td>\n",
       "      <td>1.925356e-07</td>\n",
       "      <td>5.460412e-06</td>\n",
       "      <td>A0A1S3MLL5</td>\n",
       "      <td>XP_014003715.1</td>\n",
       "      <td>A0A1S3MLL5_SALSA</td>\n",
       "      <td>unreviewed</td>\n",
       "      <td>bile acid receptor-like isoform X3</td>\n",
       "      <td>LOC106573302</td>\n",
       "      <td>Salmo salar (Atlantic salmon)</td>\n",
       "      <td>429</td>\n",
       "    </tr>\n",
       "    <tr>\n",
       "      <th>246767</th>\n",
       "      <td>TRINITY_DN99994_c6_g1_i1</td>\n",
       "      <td>45.0</td>\n",
       "      <td>47.0</td>\n",
       "      <td>26.0</td>\n",
       "      <td>43.0</td>\n",
       "      <td>0.0</td>\n",
       "      <td>2.0</td>\n",
       "      <td>0.0</td>\n",
       "      <td>23.465973</td>\n",
       "      <td>6.087759</td>\n",
       "      <td>...</td>\n",
       "      <td>1.925356e-07</td>\n",
       "      <td>5.460412e-06</td>\n",
       "      <td>A0A1S3MLL5</td>\n",
       "      <td>XP_014003715.1</td>\n",
       "      <td>A0A1S3MLL5_SALSA</td>\n",
       "      <td>unreviewed</td>\n",
       "      <td>bile acid receptor-like isoform X3</td>\n",
       "      <td>LOC106573302</td>\n",
       "      <td>Salmo salar (Atlantic salmon)</td>\n",
       "      <td>429</td>\n",
       "    </tr>\n",
       "    <tr>\n",
       "      <th>246768</th>\n",
       "      <td>TRINITY_DN99995_c0_g1_i4</td>\n",
       "      <td>35.0</td>\n",
       "      <td>113.0</td>\n",
       "      <td>24.0</td>\n",
       "      <td>92.0</td>\n",
       "      <td>76.0</td>\n",
       "      <td>372.0</td>\n",
       "      <td>58.0</td>\n",
       "      <td>98.237808</td>\n",
       "      <td>-1.107568</td>\n",
       "      <td>...</td>\n",
       "      <td>1.172045e-01</td>\n",
       "      <td>3.263494e-01</td>\n",
       "      <td>A0A1S3MT88</td>\n",
       "      <td>XP_014006387.1</td>\n",
       "      <td>A0A1S3MT88_SALSA</td>\n",
       "      <td>unreviewed</td>\n",
       "      <td>transmembrane protein 116-like isoform X1</td>\n",
       "      <td>LOC106574818</td>\n",
       "      <td>Salmo salar (Atlantic salmon)</td>\n",
       "      <td>378</td>\n",
       "    </tr>\n",
       "    <tr>\n",
       "      <th>246769</th>\n",
       "      <td>TRINITY_DN99995_c0_g1_i4</td>\n",
       "      <td>35.0</td>\n",
       "      <td>113.0</td>\n",
       "      <td>24.0</td>\n",
       "      <td>92.0</td>\n",
       "      <td>76.0</td>\n",
       "      <td>372.0</td>\n",
       "      <td>58.0</td>\n",
       "      <td>98.237808</td>\n",
       "      <td>-1.107568</td>\n",
       "      <td>...</td>\n",
       "      <td>1.172045e-01</td>\n",
       "      <td>3.263494e-01</td>\n",
       "      <td>A0A1S3MT88</td>\n",
       "      <td>XP_014006387.1</td>\n",
       "      <td>A0A1S3MT88_SALSA</td>\n",
       "      <td>unreviewed</td>\n",
       "      <td>transmembrane protein 116-like isoform X1</td>\n",
       "      <td>LOC106574818</td>\n",
       "      <td>Salmo salar (Atlantic salmon)</td>\n",
       "      <td>378</td>\n",
       "    </tr>\n",
       "    <tr>\n",
       "      <th>246770</th>\n",
       "      <td>TRINITY_DN99996_c5_g1_i4</td>\n",
       "      <td>64.0</td>\n",
       "      <td>24.0</td>\n",
       "      <td>52.0</td>\n",
       "      <td>178.0</td>\n",
       "      <td>309.0</td>\n",
       "      <td>487.0</td>\n",
       "      <td>726.0</td>\n",
       "      <td>254.592525</td>\n",
       "      <td>-2.599558</td>\n",
       "      <td>...</td>\n",
       "      <td>4.954432e-05</td>\n",
       "      <td>7.643188e-04</td>\n",
       "      <td>A0A1S3N366</td>\n",
       "      <td>XP_014009909.1</td>\n",
       "      <td>A0A1S3N366_SALSA</td>\n",
       "      <td>unreviewed</td>\n",
       "      <td>platelet receptor Gi24 isoform X2</td>\n",
       "      <td>cssa18h10orf54</td>\n",
       "      <td>Salmo salar (Atlantic salmon)</td>\n",
       "      <td>301</td>\n",
       "    </tr>\n",
       "    <tr>\n",
       "      <th>246771</th>\n",
       "      <td>TRINITY_DN99996_c6_g3_i4</td>\n",
       "      <td>20.0</td>\n",
       "      <td>36.0</td>\n",
       "      <td>38.0</td>\n",
       "      <td>9.0</td>\n",
       "      <td>6.0</td>\n",
       "      <td>15.0</td>\n",
       "      <td>0.0</td>\n",
       "      <td>17.865868</td>\n",
       "      <td>2.193707</td>\n",
       "      <td>...</td>\n",
       "      <td>2.856635e-02</td>\n",
       "      <td>1.301898e-01</td>\n",
       "      <td>A0A1S3L705</td>\n",
       "      <td>XP_013986747.1</td>\n",
       "      <td>A0A1S3L705_SALSA</td>\n",
       "      <td>unreviewed</td>\n",
       "      <td>ERO1-like protein beta isoform X3</td>\n",
       "      <td>LOC106564835</td>\n",
       "      <td>Salmo salar (Atlantic salmon)</td>\n",
       "      <td>449</td>\n",
       "    </tr>\n",
       "    <tr>\n",
       "      <th>246772</th>\n",
       "      <td>TRINITY_DN99996_c6_g3_i4</td>\n",
       "      <td>20.0</td>\n",
       "      <td>36.0</td>\n",
       "      <td>38.0</td>\n",
       "      <td>9.0</td>\n",
       "      <td>6.0</td>\n",
       "      <td>15.0</td>\n",
       "      <td>0.0</td>\n",
       "      <td>17.865868</td>\n",
       "      <td>2.193707</td>\n",
       "      <td>...</td>\n",
       "      <td>2.856635e-02</td>\n",
       "      <td>1.301898e-01</td>\n",
       "      <td>A0A1S3L705</td>\n",
       "      <td>XP_013986747.1</td>\n",
       "      <td>A0A1S3L705_SALSA</td>\n",
       "      <td>unreviewed</td>\n",
       "      <td>ERO1-like protein beta isoform X3</td>\n",
       "      <td>LOC106564835</td>\n",
       "      <td>Salmo salar (Atlantic salmon)</td>\n",
       "      <td>449</td>\n",
       "    </tr>\n",
       "    <tr>\n",
       "      <th>246773</th>\n",
       "      <td>TRINITY_DN99997_c10_g1_i1</td>\n",
       "      <td>0.0</td>\n",
       "      <td>0.0</td>\n",
       "      <td>3.0</td>\n",
       "      <td>0.0</td>\n",
       "      <td>0.0</td>\n",
       "      <td>0.0</td>\n",
       "      <td>0.0</td>\n",
       "      <td>0.495525</td>\n",
       "      <td>2.329228</td>\n",
       "      <td>...</td>\n",
       "      <td>5.358111e-01</td>\n",
       "      <td>NaN</td>\n",
       "      <td>A0A1S3SR62</td>\n",
       "      <td>XP_014066833.1</td>\n",
       "      <td>A0A1S3SR62_SALSA</td>\n",
       "      <td>unreviewed</td>\n",
       "      <td>ribose-5-phosphate isomerase-like</td>\n",
       "      <td>LOC106611309</td>\n",
       "      <td>Salmo salar (Atlantic salmon)</td>\n",
       "      <td>235</td>\n",
       "    </tr>\n",
       "    <tr>\n",
       "      <th>246774</th>\n",
       "      <td>TRINITY_DN99997_c2_g2_i1</td>\n",
       "      <td>51.0</td>\n",
       "      <td>60.0</td>\n",
       "      <td>49.0</td>\n",
       "      <td>62.0</td>\n",
       "      <td>33.0</td>\n",
       "      <td>159.0</td>\n",
       "      <td>74.0</td>\n",
       "      <td>66.050543</td>\n",
       "      <td>-0.475209</td>\n",
       "      <td>...</td>\n",
       "      <td>3.560277e-01</td>\n",
       "      <td>6.170034e-01</td>\n",
       "      <td>A0A1S3RXN1</td>\n",
       "      <td>XP_014056652.1</td>\n",
       "      <td>A0A1S3RXN1_SALSA</td>\n",
       "      <td>unreviewed</td>\n",
       "      <td>Purine nucleoside phosphorylase (EC 2.4.2.1) (...</td>\n",
       "      <td>LOC106605471</td>\n",
       "      <td>Salmo salar (Atlantic salmon)</td>\n",
       "      <td>298</td>\n",
       "    </tr>\n",
       "    <tr>\n",
       "      <th>246775</th>\n",
       "      <td>TRINITY_DN99997_c2_g2_i1</td>\n",
       "      <td>51.0</td>\n",
       "      <td>60.0</td>\n",
       "      <td>49.0</td>\n",
       "      <td>62.0</td>\n",
       "      <td>33.0</td>\n",
       "      <td>159.0</td>\n",
       "      <td>74.0</td>\n",
       "      <td>66.050543</td>\n",
       "      <td>-0.475209</td>\n",
       "      <td>...</td>\n",
       "      <td>3.560277e-01</td>\n",
       "      <td>6.170034e-01</td>\n",
       "      <td>A0A1S3RXN1</td>\n",
       "      <td>XP_014056652.1</td>\n",
       "      <td>A0A1S3RXN1_SALSA</td>\n",
       "      <td>unreviewed</td>\n",
       "      <td>Purine nucleoside phosphorylase (EC 2.4.2.1) (...</td>\n",
       "      <td>LOC106605471</td>\n",
       "      <td>Salmo salar (Atlantic salmon)</td>\n",
       "      <td>298</td>\n",
       "    </tr>\n",
       "    <tr>\n",
       "      <th>246776</th>\n",
       "      <td>TRINITY_DN99997_c3_g1_i3</td>\n",
       "      <td>4.0</td>\n",
       "      <td>0.0</td>\n",
       "      <td>3.0</td>\n",
       "      <td>2.0</td>\n",
       "      <td>0.0</td>\n",
       "      <td>2.0</td>\n",
       "      <td>8.0</td>\n",
       "      <td>2.814462</td>\n",
       "      <td>-0.536662</td>\n",
       "      <td>...</td>\n",
       "      <td>7.664873e-01</td>\n",
       "      <td>8.962630e-01</td>\n",
       "      <td>A0A1S3NK46</td>\n",
       "      <td>XP_014015630.1</td>\n",
       "      <td>A0A1S3NK46_SALSA</td>\n",
       "      <td>unreviewed</td>\n",
       "      <td>protein cordon-bleu-like isoform X1</td>\n",
       "      <td>LOC106579857</td>\n",
       "      <td>Salmo salar (Atlantic salmon)</td>\n",
       "      <td>1565</td>\n",
       "    </tr>\n",
       "    <tr>\n",
       "      <th>246777</th>\n",
       "      <td>TRINITY_DN99997_c3_g1_i3</td>\n",
       "      <td>4.0</td>\n",
       "      <td>0.0</td>\n",
       "      <td>3.0</td>\n",
       "      <td>2.0</td>\n",
       "      <td>0.0</td>\n",
       "      <td>2.0</td>\n",
       "      <td>8.0</td>\n",
       "      <td>2.814462</td>\n",
       "      <td>-0.536662</td>\n",
       "      <td>...</td>\n",
       "      <td>7.664873e-01</td>\n",
       "      <td>8.962630e-01</td>\n",
       "      <td>A0A1S3NK46</td>\n",
       "      <td>XP_014015630.1</td>\n",
       "      <td>A0A1S3NK46_SALSA</td>\n",
       "      <td>unreviewed</td>\n",
       "      <td>protein cordon-bleu-like isoform X1</td>\n",
       "      <td>LOC106579857</td>\n",
       "      <td>Salmo salar (Atlantic salmon)</td>\n",
       "      <td>1565</td>\n",
       "    </tr>\n",
       "    <tr>\n",
       "      <th>246778</th>\n",
       "      <td>TRINITY_DN99997_c4_g1_i1</td>\n",
       "      <td>57.0</td>\n",
       "      <td>58.0</td>\n",
       "      <td>38.0</td>\n",
       "      <td>42.0</td>\n",
       "      <td>29.0</td>\n",
       "      <td>47.0</td>\n",
       "      <td>12.0</td>\n",
       "      <td>39.286671</td>\n",
       "      <td>0.941784</td>\n",
       "      <td>...</td>\n",
       "      <td>5.718445e-02</td>\n",
       "      <td>2.089880e-01</td>\n",
       "      <td>A0A1S3RX94</td>\n",
       "      <td>XP_014056507.1</td>\n",
       "      <td>A0A1S3RX94_SALSA</td>\n",
       "      <td>unreviewed</td>\n",
       "      <td>protein cordon-bleu-like isoform X1</td>\n",
       "      <td>LOC106605414</td>\n",
       "      <td>Salmo salar (Atlantic salmon)</td>\n",
       "      <td>1558</td>\n",
       "    </tr>\n",
       "    <tr>\n",
       "      <th>246779</th>\n",
       "      <td>TRINITY_DN99997_c4_g1_i1</td>\n",
       "      <td>57.0</td>\n",
       "      <td>58.0</td>\n",
       "      <td>38.0</td>\n",
       "      <td>42.0</td>\n",
       "      <td>29.0</td>\n",
       "      <td>47.0</td>\n",
       "      <td>12.0</td>\n",
       "      <td>39.286671</td>\n",
       "      <td>0.941784</td>\n",
       "      <td>...</td>\n",
       "      <td>5.718445e-02</td>\n",
       "      <td>2.089880e-01</td>\n",
       "      <td>A0A1S3RX94</td>\n",
       "      <td>XP_014056507.1</td>\n",
       "      <td>A0A1S3RX94_SALSA</td>\n",
       "      <td>unreviewed</td>\n",
       "      <td>protein cordon-bleu-like isoform X1</td>\n",
       "      <td>LOC106605414</td>\n",
       "      <td>Salmo salar (Atlantic salmon)</td>\n",
       "      <td>1558</td>\n",
       "    </tr>\n",
       "    <tr>\n",
       "      <th>246780</th>\n",
       "      <td>TRINITY_DN99997_c4_g2_i2</td>\n",
       "      <td>41.0</td>\n",
       "      <td>63.0</td>\n",
       "      <td>44.0</td>\n",
       "      <td>69.0</td>\n",
       "      <td>63.0</td>\n",
       "      <td>52.0</td>\n",
       "      <td>21.0</td>\n",
       "      <td>48.950164</td>\n",
       "      <td>0.435372</td>\n",
       "      <td>...</td>\n",
       "      <td>3.560133e-01</td>\n",
       "      <td>6.170019e-01</td>\n",
       "      <td>A0A1S3RX94</td>\n",
       "      <td>XP_014056507.1</td>\n",
       "      <td>A0A1S3RX94_SALSA</td>\n",
       "      <td>unreviewed</td>\n",
       "      <td>protein cordon-bleu-like isoform X1</td>\n",
       "      <td>LOC106605414</td>\n",
       "      <td>Salmo salar (Atlantic salmon)</td>\n",
       "      <td>1558</td>\n",
       "    </tr>\n",
       "    <tr>\n",
       "      <th>246781</th>\n",
       "      <td>TRINITY_DN99997_c4_g2_i2</td>\n",
       "      <td>41.0</td>\n",
       "      <td>63.0</td>\n",
       "      <td>44.0</td>\n",
       "      <td>69.0</td>\n",
       "      <td>63.0</td>\n",
       "      <td>52.0</td>\n",
       "      <td>21.0</td>\n",
       "      <td>48.950164</td>\n",
       "      <td>0.435372</td>\n",
       "      <td>...</td>\n",
       "      <td>3.560133e-01</td>\n",
       "      <td>6.170019e-01</td>\n",
       "      <td>A0A1S3RX94</td>\n",
       "      <td>XP_014056507.1</td>\n",
       "      <td>A0A1S3RX94_SALSA</td>\n",
       "      <td>unreviewed</td>\n",
       "      <td>protein cordon-bleu-like isoform X1</td>\n",
       "      <td>LOC106605414</td>\n",
       "      <td>Salmo salar (Atlantic salmon)</td>\n",
       "      <td>1558</td>\n",
       "    </tr>\n",
       "    <tr>\n",
       "      <th>246782</th>\n",
       "      <td>TRINITY_DN99997_c4_g2_i5</td>\n",
       "      <td>251.0</td>\n",
       "      <td>197.0</td>\n",
       "      <td>232.0</td>\n",
       "      <td>271.0</td>\n",
       "      <td>260.0</td>\n",
       "      <td>373.0</td>\n",
       "      <td>201.0</td>\n",
       "      <td>246.757537</td>\n",
       "      <td>-0.043404</td>\n",
       "      <td>...</td>\n",
       "      <td>8.712646e-01</td>\n",
       "      <td>9.457296e-01</td>\n",
       "      <td>A0A1S3NJS1</td>\n",
       "      <td>XP_014015657.1</td>\n",
       "      <td>A0A1S3NJS1_SALSA</td>\n",
       "      <td>unreviewed</td>\n",
       "      <td>protein cordon-bleu-like isoform X4</td>\n",
       "      <td>LOC106579857</td>\n",
       "      <td>Salmo salar (Atlantic salmon)</td>\n",
       "      <td>1550</td>\n",
       "    </tr>\n",
       "    <tr>\n",
       "      <th>246783</th>\n",
       "      <td>TRINITY_DN99997_c4_g6_i1</td>\n",
       "      <td>18.0</td>\n",
       "      <td>3.0</td>\n",
       "      <td>9.0</td>\n",
       "      <td>5.0</td>\n",
       "      <td>0.0</td>\n",
       "      <td>1.0</td>\n",
       "      <td>0.0</td>\n",
       "      <td>5.265968</td>\n",
       "      <td>4.764418</td>\n",
       "      <td>...</td>\n",
       "      <td>4.132578e-03</td>\n",
       "      <td>3.059041e-02</td>\n",
       "      <td>A0A1S3NQT5</td>\n",
       "      <td>XP_014017783.1</td>\n",
       "      <td>A0A1S3NQT5_SALSA</td>\n",
       "      <td>unreviewed</td>\n",
       "      <td>serine--tRNA ligase, mitochondrial isoform X1</td>\n",
       "      <td>sars2</td>\n",
       "      <td>Salmo salar (Atlantic salmon)</td>\n",
       "      <td>233</td>\n",
       "    </tr>\n",
       "    <tr>\n",
       "      <th>246784</th>\n",
       "      <td>TRINITY_DN99997_c4_g6_i1</td>\n",
       "      <td>18.0</td>\n",
       "      <td>3.0</td>\n",
       "      <td>9.0</td>\n",
       "      <td>5.0</td>\n",
       "      <td>0.0</td>\n",
       "      <td>1.0</td>\n",
       "      <td>0.0</td>\n",
       "      <td>5.265968</td>\n",
       "      <td>4.764418</td>\n",
       "      <td>...</td>\n",
       "      <td>4.132578e-03</td>\n",
       "      <td>3.059041e-02</td>\n",
       "      <td>A0A1S3NQT5</td>\n",
       "      <td>XP_014017783.1</td>\n",
       "      <td>A0A1S3NQT5_SALSA</td>\n",
       "      <td>unreviewed</td>\n",
       "      <td>serine--tRNA ligase, mitochondrial isoform X1</td>\n",
       "      <td>sars2</td>\n",
       "      <td>Salmo salar (Atlantic salmon)</td>\n",
       "      <td>233</td>\n",
       "    </tr>\n",
       "    <tr>\n",
       "      <th>246785</th>\n",
       "      <td>TRINITY_DN99998_c3_g1_i1</td>\n",
       "      <td>239.0</td>\n",
       "      <td>278.0</td>\n",
       "      <td>171.0</td>\n",
       "      <td>273.0</td>\n",
       "      <td>158.0</td>\n",
       "      <td>184.0</td>\n",
       "      <td>221.0</td>\n",
       "      <td>215.075349</td>\n",
       "      <td>0.460271</td>\n",
       "      <td>...</td>\n",
       "      <td>1.493598e-01</td>\n",
       "      <td>3.766258e-01</td>\n",
       "      <td>A0A1S3QB62</td>\n",
       "      <td>XP_014036654.1</td>\n",
       "      <td>A0A1S3QB62_SALSA</td>\n",
       "      <td>unreviewed</td>\n",
       "      <td>Acyl-CoA-binding domain-containing protein 5</td>\n",
       "      <td>acbd5</td>\n",
       "      <td>Salmo salar (Atlantic salmon)</td>\n",
       "      <td>510</td>\n",
       "    </tr>\n",
       "    <tr>\n",
       "      <th>246786</th>\n",
       "      <td>TRINITY_DN99998_c3_g1_i1</td>\n",
       "      <td>239.0</td>\n",
       "      <td>278.0</td>\n",
       "      <td>171.0</td>\n",
       "      <td>273.0</td>\n",
       "      <td>158.0</td>\n",
       "      <td>184.0</td>\n",
       "      <td>221.0</td>\n",
       "      <td>215.075349</td>\n",
       "      <td>0.460271</td>\n",
       "      <td>...</td>\n",
       "      <td>1.493598e-01</td>\n",
       "      <td>3.766258e-01</td>\n",
       "      <td>A0A1S3QB62</td>\n",
       "      <td>XP_014036654.1</td>\n",
       "      <td>A0A1S3QB62_SALSA</td>\n",
       "      <td>unreviewed</td>\n",
       "      <td>Acyl-CoA-binding domain-containing protein 5</td>\n",
       "      <td>acbd5</td>\n",
       "      <td>Salmo salar (Atlantic salmon)</td>\n",
       "      <td>510</td>\n",
       "    </tr>\n",
       "    <tr>\n",
       "      <th>246787</th>\n",
       "      <td>TRINITY_DN99998_c3_g3_i3</td>\n",
       "      <td>65.0</td>\n",
       "      <td>55.0</td>\n",
       "      <td>50.0</td>\n",
       "      <td>58.0</td>\n",
       "      <td>13.0</td>\n",
       "      <td>15.0</td>\n",
       "      <td>0.0</td>\n",
       "      <td>36.651030</td>\n",
       "      <td>2.847159</td>\n",
       "      <td>...</td>\n",
       "      <td>8.618881e-05</td>\n",
       "      <td>1.230958e-03</td>\n",
       "      <td>A0A1S3QB62</td>\n",
       "      <td>XP_014036654.1</td>\n",
       "      <td>A0A1S3QB62_SALSA</td>\n",
       "      <td>unreviewed</td>\n",
       "      <td>Acyl-CoA-binding domain-containing protein 5</td>\n",
       "      <td>acbd5</td>\n",
       "      <td>Salmo salar (Atlantic salmon)</td>\n",
       "      <td>510</td>\n",
       "    </tr>\n",
       "    <tr>\n",
       "      <th>246788</th>\n",
       "      <td>TRINITY_DN99998_c3_g3_i3</td>\n",
       "      <td>65.0</td>\n",
       "      <td>55.0</td>\n",
       "      <td>50.0</td>\n",
       "      <td>58.0</td>\n",
       "      <td>13.0</td>\n",
       "      <td>15.0</td>\n",
       "      <td>0.0</td>\n",
       "      <td>36.651030</td>\n",
       "      <td>2.847159</td>\n",
       "      <td>...</td>\n",
       "      <td>8.618881e-05</td>\n",
       "      <td>1.230958e-03</td>\n",
       "      <td>A0A1S3QB62</td>\n",
       "      <td>XP_014036654.1</td>\n",
       "      <td>A0A1S3QB62_SALSA</td>\n",
       "      <td>unreviewed</td>\n",
       "      <td>Acyl-CoA-binding domain-containing protein 5</td>\n",
       "      <td>acbd5</td>\n",
       "      <td>Salmo salar (Atlantic salmon)</td>\n",
       "      <td>510</td>\n",
       "    </tr>\n",
       "    <tr>\n",
       "      <th>246789</th>\n",
       "      <td>TRINITY_DN99998_c3_g3_i4</td>\n",
       "      <td>2.0</td>\n",
       "      <td>0.0</td>\n",
       "      <td>0.0</td>\n",
       "      <td>2.0</td>\n",
       "      <td>0.0</td>\n",
       "      <td>3.0</td>\n",
       "      <td>0.0</td>\n",
       "      <td>0.897903</td>\n",
       "      <td>0.308118</td>\n",
       "      <td>...</td>\n",
       "      <td>9.236848e-01</td>\n",
       "      <td>NaN</td>\n",
       "      <td>A0A1S3QB62</td>\n",
       "      <td>XP_014036654.1</td>\n",
       "      <td>A0A1S3QB62_SALSA</td>\n",
       "      <td>unreviewed</td>\n",
       "      <td>Acyl-CoA-binding domain-containing protein 5</td>\n",
       "      <td>acbd5</td>\n",
       "      <td>Salmo salar (Atlantic salmon)</td>\n",
       "      <td>510</td>\n",
       "    </tr>\n",
       "    <tr>\n",
       "      <th>246790</th>\n",
       "      <td>TRINITY_DN99998_c3_g3_i4</td>\n",
       "      <td>2.0</td>\n",
       "      <td>0.0</td>\n",
       "      <td>0.0</td>\n",
       "      <td>2.0</td>\n",
       "      <td>0.0</td>\n",
       "      <td>3.0</td>\n",
       "      <td>0.0</td>\n",
       "      <td>0.897903</td>\n",
       "      <td>0.308118</td>\n",
       "      <td>...</td>\n",
       "      <td>9.236848e-01</td>\n",
       "      <td>NaN</td>\n",
       "      <td>A0A1S3QB62</td>\n",
       "      <td>XP_014036654.1</td>\n",
       "      <td>A0A1S3QB62_SALSA</td>\n",
       "      <td>unreviewed</td>\n",
       "      <td>Acyl-CoA-binding domain-containing protein 5</td>\n",
       "      <td>acbd5</td>\n",
       "      <td>Salmo salar (Atlantic salmon)</td>\n",
       "      <td>510</td>\n",
       "    </tr>\n",
       "    <tr>\n",
       "      <th>246791</th>\n",
       "      <td>TRINITY_DN99999_c0_g1_i5</td>\n",
       "      <td>128.0</td>\n",
       "      <td>104.0</td>\n",
       "      <td>54.0</td>\n",
       "      <td>162.0</td>\n",
       "      <td>48.0</td>\n",
       "      <td>113.0</td>\n",
       "      <td>42.0</td>\n",
       "      <td>89.755103</td>\n",
       "      <td>0.911816</td>\n",
       "      <td>...</td>\n",
       "      <td>5.257330e-02</td>\n",
       "      <td>1.975568e-01</td>\n",
       "      <td>A0A1S3PME8</td>\n",
       "      <td>XP_014028776.1</td>\n",
       "      <td>A0A1S3PME8_SALSA</td>\n",
       "      <td>unreviewed</td>\n",
       "      <td>integral membrane protein GPR155-like isoform X1</td>\n",
       "      <td>LOC106586242</td>\n",
       "      <td>Salmo salar (Atlantic salmon)</td>\n",
       "      <td>790</td>\n",
       "    </tr>\n",
       "    <tr>\n",
       "      <th>246792</th>\n",
       "      <td>TRINITY_DN99999_c0_g1_i6</td>\n",
       "      <td>284.0</td>\n",
       "      <td>299.0</td>\n",
       "      <td>227.0</td>\n",
       "      <td>319.0</td>\n",
       "      <td>146.0</td>\n",
       "      <td>270.0</td>\n",
       "      <td>76.0</td>\n",
       "      <td>225.432215</td>\n",
       "      <td>0.999741</td>\n",
       "      <td>...</td>\n",
       "      <td>6.584141e-03</td>\n",
       "      <td>4.406344e-02</td>\n",
       "      <td>A0A1S3PME8</td>\n",
       "      <td>XP_014028776.1</td>\n",
       "      <td>A0A1S3PME8_SALSA</td>\n",
       "      <td>unreviewed</td>\n",
       "      <td>integral membrane protein GPR155-like isoform X1</td>\n",
       "      <td>LOC106586242</td>\n",
       "      <td>Salmo salar (Atlantic salmon)</td>\n",
       "      <td>790</td>\n",
       "    </tr>\n",
       "    <tr>\n",
       "      <th>246793</th>\n",
       "      <td>TRINITY_DN99999_c0_g1_i8</td>\n",
       "      <td>400.0</td>\n",
       "      <td>289.0</td>\n",
       "      <td>412.0</td>\n",
       "      <td>326.0</td>\n",
       "      <td>389.0</td>\n",
       "      <td>707.0</td>\n",
       "      <td>254.0</td>\n",
       "      <td>380.804723</td>\n",
       "      <td>-0.109011</td>\n",
       "      <td>...</td>\n",
       "      <td>7.571689e-01</td>\n",
       "      <td>8.917616e-01</td>\n",
       "      <td>A0A1S3NW63</td>\n",
       "      <td>XP_014019491.1</td>\n",
       "      <td>A0A1S3NW63_SALSA</td>\n",
       "      <td>unreviewed</td>\n",
       "      <td>integral membrane protein GPR155-like</td>\n",
       "      <td>LOC106581752</td>\n",
       "      <td>Salmo salar (Atlantic salmon)</td>\n",
       "      <td>818</td>\n",
       "    </tr>\n",
       "    <tr>\n",
       "      <th>246794</th>\n",
       "      <td>TRINITY_DN99999_c0_g1_i8</td>\n",
       "      <td>400.0</td>\n",
       "      <td>289.0</td>\n",
       "      <td>412.0</td>\n",
       "      <td>326.0</td>\n",
       "      <td>389.0</td>\n",
       "      <td>707.0</td>\n",
       "      <td>254.0</td>\n",
       "      <td>380.804723</td>\n",
       "      <td>-0.109011</td>\n",
       "      <td>...</td>\n",
       "      <td>7.571689e-01</td>\n",
       "      <td>8.917616e-01</td>\n",
       "      <td>A0A1S3NW63</td>\n",
       "      <td>XP_014019491.1</td>\n",
       "      <td>A0A1S3NW63_SALSA</td>\n",
       "      <td>unreviewed</td>\n",
       "      <td>integral membrane protein GPR155-like</td>\n",
       "      <td>LOC106581752</td>\n",
       "      <td>Salmo salar (Atlantic salmon)</td>\n",
       "      <td>818</td>\n",
       "    </tr>\n",
       "  </tbody>\n",
       "</table>\n",
       "<p>246795 rows × 22 columns</p>\n",
       "</div>"
      ],
      "text/plain": [
       "                           trinity  PBS_1d_1  PBS_1d_2  PBS_1d_3  PBS_1d_4  \\\n",
       "0        TRINITY_DN100000_c5_g1_i2       0.0       3.0       2.0       0.0   \n",
       "1        TRINITY_DN100000_c5_g1_i6     374.0     506.0     607.0     594.0   \n",
       "2        TRINITY_DN100001_c2_g2_i2    1232.0    1264.0     998.0    1040.0   \n",
       "3        TRINITY_DN100001_c2_g2_i2    1232.0    1264.0     998.0    1040.0   \n",
       "4        TRINITY_DN100001_c2_g2_i7     562.0     408.0     311.0     353.0   \n",
       "5        TRINITY_DN100001_c2_g2_i7     562.0     408.0     311.0     353.0   \n",
       "6        TRINITY_DN100001_c2_g3_i3     565.0     525.0     384.0     406.0   \n",
       "7        TRINITY_DN100001_c2_g3_i3     565.0     525.0     384.0     406.0   \n",
       "8        TRINITY_DN100001_c2_g5_i1     408.0     396.0     299.0     269.0   \n",
       "9        TRINITY_DN100001_c2_g5_i1     408.0     396.0     299.0     269.0   \n",
       "10       TRINITY_DN100002_c2_g3_i5       1.0       2.0       1.0      10.0   \n",
       "11       TRINITY_DN100003_c1_g2_i1      38.0      72.0      58.0      24.0   \n",
       "12       TRINITY_DN100003_c1_g2_i1      38.0      72.0      58.0      24.0   \n",
       "13       TRINITY_DN100003_c1_g2_i6      74.0     106.0      86.0      51.0   \n",
       "14       TRINITY_DN100003_c1_g2_i6      74.0     106.0      86.0      51.0   \n",
       "15       TRINITY_DN100003_c1_g3_i1      97.0     150.0     145.0      24.0   \n",
       "16       TRINITY_DN100003_c1_g3_i1      97.0     150.0     145.0      24.0   \n",
       "17      TRINITY_DN100004_c3_g1_i17      61.0      49.0      63.0      47.0   \n",
       "18      TRINITY_DN100004_c3_g1_i17      61.0      49.0      63.0      47.0   \n",
       "19       TRINITY_DN100004_c4_g1_i4       0.0       0.0       7.0       0.0   \n",
       "20       TRINITY_DN100004_c4_g1_i4       0.0       0.0       7.0       0.0   \n",
       "21       TRINITY_DN100004_c4_g1_i7      48.0      65.0      36.0      46.0   \n",
       "22      TRINITY_DN100005_c10_g1_i1       1.0       1.0       5.0       3.0   \n",
       "23      TRINITY_DN100005_c10_g1_i1       1.0       1.0       5.0       3.0   \n",
       "24       TRINITY_DN100005_c1_g1_i1      13.0       9.0      11.0      12.0   \n",
       "25       TRINITY_DN100005_c1_g1_i1      13.0       9.0      11.0      12.0   \n",
       "26       TRINITY_DN100005_c8_g4_i1      42.0      26.0      47.0      33.0   \n",
       "27       TRINITY_DN100005_c8_g4_i1      42.0      26.0      47.0      33.0   \n",
       "28       TRINITY_DN100006_c3_g1_i2     551.0     851.0     740.0     396.0   \n",
       "29      TRINITY_DN100006_c4_g2_i12   80060.0   72696.0   66734.0   38541.0   \n",
       "...                            ...       ...       ...       ...       ...   \n",
       "246765    TRINITY_DN99994_c5_g3_i1      28.0      38.0      24.0      10.0   \n",
       "246766    TRINITY_DN99994_c6_g1_i1      45.0      47.0      26.0      43.0   \n",
       "246767    TRINITY_DN99994_c6_g1_i1      45.0      47.0      26.0      43.0   \n",
       "246768    TRINITY_DN99995_c0_g1_i4      35.0     113.0      24.0      92.0   \n",
       "246769    TRINITY_DN99995_c0_g1_i4      35.0     113.0      24.0      92.0   \n",
       "246770    TRINITY_DN99996_c5_g1_i4      64.0      24.0      52.0     178.0   \n",
       "246771    TRINITY_DN99996_c6_g3_i4      20.0      36.0      38.0       9.0   \n",
       "246772    TRINITY_DN99996_c6_g3_i4      20.0      36.0      38.0       9.0   \n",
       "246773   TRINITY_DN99997_c10_g1_i1       0.0       0.0       3.0       0.0   \n",
       "246774    TRINITY_DN99997_c2_g2_i1      51.0      60.0      49.0      62.0   \n",
       "246775    TRINITY_DN99997_c2_g2_i1      51.0      60.0      49.0      62.0   \n",
       "246776    TRINITY_DN99997_c3_g1_i3       4.0       0.0       3.0       2.0   \n",
       "246777    TRINITY_DN99997_c3_g1_i3       4.0       0.0       3.0       2.0   \n",
       "246778    TRINITY_DN99997_c4_g1_i1      57.0      58.0      38.0      42.0   \n",
       "246779    TRINITY_DN99997_c4_g1_i1      57.0      58.0      38.0      42.0   \n",
       "246780    TRINITY_DN99997_c4_g2_i2      41.0      63.0      44.0      69.0   \n",
       "246781    TRINITY_DN99997_c4_g2_i2      41.0      63.0      44.0      69.0   \n",
       "246782    TRINITY_DN99997_c4_g2_i5     251.0     197.0     232.0     271.0   \n",
       "246783    TRINITY_DN99997_c4_g6_i1      18.0       3.0       9.0       5.0   \n",
       "246784    TRINITY_DN99997_c4_g6_i1      18.0       3.0       9.0       5.0   \n",
       "246785    TRINITY_DN99998_c3_g1_i1     239.0     278.0     171.0     273.0   \n",
       "246786    TRINITY_DN99998_c3_g1_i1     239.0     278.0     171.0     273.0   \n",
       "246787    TRINITY_DN99998_c3_g3_i3      65.0      55.0      50.0      58.0   \n",
       "246788    TRINITY_DN99998_c3_g3_i3      65.0      55.0      50.0      58.0   \n",
       "246789    TRINITY_DN99998_c3_g3_i4       2.0       0.0       0.0       2.0   \n",
       "246790    TRINITY_DN99998_c3_g3_i4       2.0       0.0       0.0       2.0   \n",
       "246791    TRINITY_DN99999_c0_g1_i5     128.0     104.0      54.0     162.0   \n",
       "246792    TRINITY_DN99999_c0_g1_i6     284.0     299.0     227.0     319.0   \n",
       "246793    TRINITY_DN99999_c0_g1_i8     400.0     289.0     412.0     326.0   \n",
       "246794    TRINITY_DN99999_c0_g1_i8     400.0     289.0     412.0     326.0   \n",
       "\n",
       "         MC_1d_1   MC_1d_2  MC_1d_3      baseMean  log2FoldChange  ...    \\\n",
       "0            0.0       0.0      0.0      0.749348        2.942381  ...     \n",
       "1          511.0     726.0    517.0    536.444545        0.003718  ...     \n",
       "2         1162.0    1784.0    938.0   1160.929051       -0.011349  ...     \n",
       "3         1162.0    1784.0    938.0   1160.929051       -0.011349  ...     \n",
       "4          402.0     471.0    420.0    408.751557        0.054736  ...     \n",
       "5          402.0     471.0    420.0    408.751557        0.054736  ...     \n",
       "6          555.0     552.0    529.0    491.319090       -0.085350  ...     \n",
       "7          555.0     552.0    529.0    491.319090       -0.085350  ...     \n",
       "8          322.0     336.0    303.0    327.589884        0.235980  ...     \n",
       "9          322.0     336.0    303.0    327.589884        0.235980  ...     \n",
       "10           0.0       4.0     14.0      4.616783       -0.805314  ...     \n",
       "11          71.0      94.0     57.0     57.179756       -0.439950  ...     \n",
       "12          71.0      94.0     57.0     57.179756       -0.439950  ...     \n",
       "13         152.0     154.0    139.0    105.664117       -0.756193  ...     \n",
       "14         152.0     154.0    139.0    105.664117       -0.756193  ...     \n",
       "15         184.0     145.0    162.0    127.865808       -0.502880  ...     \n",
       "16         184.0     145.0    162.0    127.865808       -0.502880  ...     \n",
       "17          60.0      48.0     39.0     51.859248        0.326307  ...     \n",
       "18          60.0      48.0     39.0     51.859248        0.326307  ...     \n",
       "19           0.0       5.0      5.0      2.495589       -0.640871  ...     \n",
       "20           0.0       5.0      5.0      2.495589       -0.640871  ...     \n",
       "21         118.0     184.0    194.0     94.733752       -1.646117  ...     \n",
       "22           0.0       1.0      5.0      2.418991        0.382661  ...     \n",
       "23           0.0       1.0      5.0      2.418991        0.382661  ...     \n",
       "24           3.0       3.0      3.0      7.793454        2.052827  ...     \n",
       "25           3.0       3.0      3.0      7.793454        2.052827  ...     \n",
       "26          13.0      30.0      4.0     27.653586        1.508340  ...     \n",
       "27          13.0      30.0      4.0     27.653586        1.508340  ...     \n",
       "28          26.0      87.0     21.0    390.921318        4.083749  ...     \n",
       "29      120442.0  110225.0  48466.0  73738.905101       -0.334100  ...     \n",
       "...          ...       ...      ...           ...             ...  ...     \n",
       "246765       7.0      14.0      0.0     17.126591        2.109694  ...     \n",
       "246766       0.0       2.0      0.0     23.465973        6.087759  ...     \n",
       "246767       0.0       2.0      0.0     23.465973        6.087759  ...     \n",
       "246768      76.0     372.0     58.0     98.237808       -1.107568  ...     \n",
       "246769      76.0     372.0     58.0     98.237808       -1.107568  ...     \n",
       "246770     309.0     487.0    726.0    254.592525       -2.599558  ...     \n",
       "246771       6.0      15.0      0.0     17.865868        2.193707  ...     \n",
       "246772       6.0      15.0      0.0     17.865868        2.193707  ...     \n",
       "246773       0.0       0.0      0.0      0.495525        2.329228  ...     \n",
       "246774      33.0     159.0     74.0     66.050543       -0.475209  ...     \n",
       "246775      33.0     159.0     74.0     66.050543       -0.475209  ...     \n",
       "246776       0.0       2.0      8.0      2.814462       -0.536662  ...     \n",
       "246777       0.0       2.0      8.0      2.814462       -0.536662  ...     \n",
       "246778      29.0      47.0     12.0     39.286671        0.941784  ...     \n",
       "246779      29.0      47.0     12.0     39.286671        0.941784  ...     \n",
       "246780      63.0      52.0     21.0     48.950164        0.435372  ...     \n",
       "246781      63.0      52.0     21.0     48.950164        0.435372  ...     \n",
       "246782     260.0     373.0    201.0    246.757537       -0.043404  ...     \n",
       "246783       0.0       1.0      0.0      5.265968        4.764418  ...     \n",
       "246784       0.0       1.0      0.0      5.265968        4.764418  ...     \n",
       "246785     158.0     184.0    221.0    215.075349        0.460271  ...     \n",
       "246786     158.0     184.0    221.0    215.075349        0.460271  ...     \n",
       "246787      13.0      15.0      0.0     36.651030        2.847159  ...     \n",
       "246788      13.0      15.0      0.0     36.651030        2.847159  ...     \n",
       "246789       0.0       3.0      0.0      0.897903        0.308118  ...     \n",
       "246790       0.0       3.0      0.0      0.897903        0.308118  ...     \n",
       "246791      48.0     113.0     42.0     89.755103        0.911816  ...     \n",
       "246792     146.0     270.0     76.0    225.432215        0.999741  ...     \n",
       "246793     389.0     707.0    254.0    380.804723       -0.109011  ...     \n",
       "246794     389.0     707.0    254.0    380.804723       -0.109011  ...     \n",
       "\n",
       "              pvalue          padj       Entry           ident  \\\n",
       "0       4.305896e-01           NaN  A0A1S3PAG0  XP_014024532.1   \n",
       "1       9.900598e-01  9.964880e-01  A0A1S3KIG4  XP_013978521.1   \n",
       "2       9.602448e-01  9.846255e-01  A0A1S3PIA6  XP_014027367.1   \n",
       "3       9.602448e-01  9.846255e-01      B5X212  XP_014027367.1   \n",
       "4       8.473543e-01  9.350916e-01  A0A1S3NJU9  XP_014015694.1   \n",
       "5       8.473543e-01  9.350916e-01      B5X9P2  XP_014015694.1   \n",
       "6       7.363066e-01  8.803554e-01  A0A1S3PIA6  XP_014027367.1   \n",
       "7       7.363066e-01  8.803554e-01      B5X212  XP_014027367.1   \n",
       "8       3.828576e-01  6.413399e-01  A0A1S3PIA6  XP_014027367.1   \n",
       "9       3.828576e-01  6.413399e-01      B5X212  XP_014027367.1   \n",
       "10      6.125792e-01  8.101140e-01  A0A1S3MVZ1  XP_014007388.1   \n",
       "11      3.702836e-01  6.302572e-01  A0A1S3MUW9  XP_014007013.1   \n",
       "12      3.702836e-01  6.302572e-01  A0A1S3MUW9  XP_014007013.1   \n",
       "13      4.231092e-02  1.702625e-01  A0A1S3MUW9  XP_014007013.1   \n",
       "14      4.231092e-02  1.702625e-01  A0A1S3MUW9  XP_014007013.1   \n",
       "15      4.021154e-01  6.573780e-01  A0A1S3MUW9  XP_014007013.1   \n",
       "16      4.021154e-01  6.573780e-01  A0A1S3MUW9  XP_014007013.1   \n",
       "17      4.117960e-01  6.656045e-01  A0A1S3M6G3  XP_013998645.1   \n",
       "18      4.117960e-01  6.656045e-01  A0A1S3M6G3  XP_013998645.1   \n",
       "19      8.075859e-01           NaN  A0A1S3LC57  XP_013988543.1   \n",
       "20      8.075859e-01           NaN  A0A1S3LC57  XP_013988543.1   \n",
       "21      1.945841e-05  3.405019e-04  A0A1S3P409  XP_014022296.1   \n",
       "22      8.226483e-01           NaN  A0A1S3RRL5  XP_014054961.1   \n",
       "23      8.226483e-01           NaN  A0A1S3RRL5  XP_014054961.1   \n",
       "24      1.664610e-02  8.849854e-02  A0A1S3NFF3  XP_014013975.1   \n",
       "25      1.664610e-02  8.849854e-02  A0A1S3NFF3  XP_014013975.1   \n",
       "26      2.296490e-02  1.114693e-01  A0A1S3MB99  XP_014000314.1   \n",
       "27      2.296490e-02  1.114693e-01  A0A1S3MB99  XP_014000314.1   \n",
       "28      1.668645e-16  2.272009e-14  A0A1S3KR13  XP_013981062.1   \n",
       "29      3.797074e-01  6.385575e-01  A0A1S3KQT5  XP_013981071.1   \n",
       "...              ...           ...         ...             ...   \n",
       "246765  2.649726e-02  1.235657e-01  A0A1S3PLF4  XP_014028482.1   \n",
       "246766  1.925356e-07  5.460412e-06  A0A1S3MLL5  XP_014003715.1   \n",
       "246767  1.925356e-07  5.460412e-06  A0A1S3MLL5  XP_014003715.1   \n",
       "246768  1.172045e-01  3.263494e-01  A0A1S3MT88  XP_014006387.1   \n",
       "246769  1.172045e-01  3.263494e-01  A0A1S3MT88  XP_014006387.1   \n",
       "246770  4.954432e-05  7.643188e-04  A0A1S3N366  XP_014009909.1   \n",
       "246771  2.856635e-02  1.301898e-01  A0A1S3L705  XP_013986747.1   \n",
       "246772  2.856635e-02  1.301898e-01  A0A1S3L705  XP_013986747.1   \n",
       "246773  5.358111e-01           NaN  A0A1S3SR62  XP_014066833.1   \n",
       "246774  3.560277e-01  6.170034e-01  A0A1S3RXN1  XP_014056652.1   \n",
       "246775  3.560277e-01  6.170034e-01  A0A1S3RXN1  XP_014056652.1   \n",
       "246776  7.664873e-01  8.962630e-01  A0A1S3NK46  XP_014015630.1   \n",
       "246777  7.664873e-01  8.962630e-01  A0A1S3NK46  XP_014015630.1   \n",
       "246778  5.718445e-02  2.089880e-01  A0A1S3RX94  XP_014056507.1   \n",
       "246779  5.718445e-02  2.089880e-01  A0A1S3RX94  XP_014056507.1   \n",
       "246780  3.560133e-01  6.170019e-01  A0A1S3RX94  XP_014056507.1   \n",
       "246781  3.560133e-01  6.170019e-01  A0A1S3RX94  XP_014056507.1   \n",
       "246782  8.712646e-01  9.457296e-01  A0A1S3NJS1  XP_014015657.1   \n",
       "246783  4.132578e-03  3.059041e-02  A0A1S3NQT5  XP_014017783.1   \n",
       "246784  4.132578e-03  3.059041e-02  A0A1S3NQT5  XP_014017783.1   \n",
       "246785  1.493598e-01  3.766258e-01  A0A1S3QB62  XP_014036654.1   \n",
       "246786  1.493598e-01  3.766258e-01  A0A1S3QB62  XP_014036654.1   \n",
       "246787  8.618881e-05  1.230958e-03  A0A1S3QB62  XP_014036654.1   \n",
       "246788  8.618881e-05  1.230958e-03  A0A1S3QB62  XP_014036654.1   \n",
       "246789  9.236848e-01           NaN  A0A1S3QB62  XP_014036654.1   \n",
       "246790  9.236848e-01           NaN  A0A1S3QB62  XP_014036654.1   \n",
       "246791  5.257330e-02  1.975568e-01  A0A1S3PME8  XP_014028776.1   \n",
       "246792  6.584141e-03  4.406344e-02  A0A1S3PME8  XP_014028776.1   \n",
       "246793  7.571689e-01  8.917616e-01  A0A1S3NW63  XP_014019491.1   \n",
       "246794  7.571689e-01  8.917616e-01  A0A1S3NW63  XP_014019491.1   \n",
       "\n",
       "              Entry name      Status  \\\n",
       "0       A0A1S3PAG0_SALSA  unreviewed   \n",
       "1       A0A1S3KIG4_SALSA  unreviewed   \n",
       "2       A0A1S3PIA6_SALSA  unreviewed   \n",
       "3            CIO1B_SALSA    reviewed   \n",
       "4       A0A1S3NJU9_SALSA  unreviewed   \n",
       "5            CIO1A_SALSA    reviewed   \n",
       "6       A0A1S3PIA6_SALSA  unreviewed   \n",
       "7            CIO1B_SALSA    reviewed   \n",
       "8       A0A1S3PIA6_SALSA  unreviewed   \n",
       "9            CIO1B_SALSA    reviewed   \n",
       "10      A0A1S3MVZ1_SALSA  unreviewed   \n",
       "11      A0A1S3MUW9_SALSA  unreviewed   \n",
       "12      A0A1S3MUW9_SALSA  unreviewed   \n",
       "13      A0A1S3MUW9_SALSA  unreviewed   \n",
       "14      A0A1S3MUW9_SALSA  unreviewed   \n",
       "15      A0A1S3MUW9_SALSA  unreviewed   \n",
       "16      A0A1S3MUW9_SALSA  unreviewed   \n",
       "17      A0A1S3M6G3_SALSA  unreviewed   \n",
       "18      A0A1S3M6G3_SALSA  unreviewed   \n",
       "19      A0A1S3LC57_SALSA  unreviewed   \n",
       "20      A0A1S3LC57_SALSA  unreviewed   \n",
       "21      A0A1S3P409_SALSA  unreviewed   \n",
       "22      A0A1S3RRL5_SALSA  unreviewed   \n",
       "23      A0A1S3RRL5_SALSA  unreviewed   \n",
       "24      A0A1S3NFF3_SALSA  unreviewed   \n",
       "25      A0A1S3NFF3_SALSA  unreviewed   \n",
       "26      A0A1S3MB99_SALSA  unreviewed   \n",
       "27      A0A1S3MB99_SALSA  unreviewed   \n",
       "28      A0A1S3KR13_SALSA  unreviewed   \n",
       "29      A0A1S3KQT5_SALSA  unreviewed   \n",
       "...                  ...         ...   \n",
       "246765  A0A1S3PLF4_SALSA  unreviewed   \n",
       "246766  A0A1S3MLL5_SALSA  unreviewed   \n",
       "246767  A0A1S3MLL5_SALSA  unreviewed   \n",
       "246768  A0A1S3MT88_SALSA  unreviewed   \n",
       "246769  A0A1S3MT88_SALSA  unreviewed   \n",
       "246770  A0A1S3N366_SALSA  unreviewed   \n",
       "246771  A0A1S3L705_SALSA  unreviewed   \n",
       "246772  A0A1S3L705_SALSA  unreviewed   \n",
       "246773  A0A1S3SR62_SALSA  unreviewed   \n",
       "246774  A0A1S3RXN1_SALSA  unreviewed   \n",
       "246775  A0A1S3RXN1_SALSA  unreviewed   \n",
       "246776  A0A1S3NK46_SALSA  unreviewed   \n",
       "246777  A0A1S3NK46_SALSA  unreviewed   \n",
       "246778  A0A1S3RX94_SALSA  unreviewed   \n",
       "246779  A0A1S3RX94_SALSA  unreviewed   \n",
       "246780  A0A1S3RX94_SALSA  unreviewed   \n",
       "246781  A0A1S3RX94_SALSA  unreviewed   \n",
       "246782  A0A1S3NJS1_SALSA  unreviewed   \n",
       "246783  A0A1S3NQT5_SALSA  unreviewed   \n",
       "246784  A0A1S3NQT5_SALSA  unreviewed   \n",
       "246785  A0A1S3QB62_SALSA  unreviewed   \n",
       "246786  A0A1S3QB62_SALSA  unreviewed   \n",
       "246787  A0A1S3QB62_SALSA  unreviewed   \n",
       "246788  A0A1S3QB62_SALSA  unreviewed   \n",
       "246789  A0A1S3QB62_SALSA  unreviewed   \n",
       "246790  A0A1S3QB62_SALSA  unreviewed   \n",
       "246791  A0A1S3PME8_SALSA  unreviewed   \n",
       "246792  A0A1S3PME8_SALSA  unreviewed   \n",
       "246793  A0A1S3NW63_SALSA  unreviewed   \n",
       "246794  A0A1S3NW63_SALSA  unreviewed   \n",
       "\n",
       "                                            Protein names          Gene names  \\\n",
       "0       carboxyl-terminal PDZ ligand of neuronal nitri...        LOC106584141   \n",
       "1       carboxyl-terminal PDZ ligand of neuronal nitri...        LOC106560293   \n",
       "2       Probable cytosolic iron-sulfur protein assembl...  LOC106585549 CIAO1   \n",
       "3       Probable cytosolic iron-sulfur protein assembl...              ciao1b   \n",
       "4       Probable cytosolic iron-sulfur protein assembl...  LOC106579887 CIAO1   \n",
       "5       Probable cytosolic iron-sulfur protein assembl...              ciao1a   \n",
       "6       Probable cytosolic iron-sulfur protein assembl...  LOC106585549 CIAO1   \n",
       "7       Probable cytosolic iron-sulfur protein assembl...              ciao1b   \n",
       "8       Probable cytosolic iron-sulfur protein assembl...  LOC106585549 CIAO1   \n",
       "9       Probable cytosolic iron-sulfur protein assembl...              ciao1b   \n",
       "10      histone-lysine N-methyltransferase, H3 lysine-...        LOC106575408   \n",
       "11                                      glycogenin-1-like        LOC106575201   \n",
       "12                                      glycogenin-1-like        LOC106575201   \n",
       "13                                      glycogenin-1-like        LOC106575201   \n",
       "14                                      glycogenin-1-like        LOC106575201   \n",
       "15                                      glycogenin-1-like        LOC106575201   \n",
       "16                                      glycogenin-1-like        LOC106575201   \n",
       "17                  keratin-associated protein 10-11-like        LOC106570697   \n",
       "18                  keratin-associated protein 10-11-like        LOC106570697   \n",
       "19                forkhead box protein P4-like isoform X1        LOC106565700   \n",
       "20                forkhead box protein P4-like isoform X1        LOC106565700   \n",
       "21                forkhead box protein P4-like isoform X2        LOC106583051   \n",
       "22                                      CD97 antigen-like        LOC106604643   \n",
       "23                                      CD97 antigen-like        LOC106604643   \n",
       "24      dendritic cell-specific transmembrane protein-...        LOC106579055   \n",
       "25      dendritic cell-specific transmembrane protein-...        LOC106579055   \n",
       "26      Serine/threonine protein phosphatase 2A regula...        LOC106571593   \n",
       "27      Serine/threonine protein phosphatase 2A regula...        LOC106571593   \n",
       "28      neutrophil gelatinase-associated lipocalin iso...                lcn2   \n",
       "29      neutrophil gelatinase-associated lipocalin iso...                lcn2   \n",
       "...                                                   ...                 ...   \n",
       "246765                cytochrome P450 2D6-like isoform X1        LOC106586122   \n",
       "246766                 bile acid receptor-like isoform X3        LOC106573302   \n",
       "246767                 bile acid receptor-like isoform X3        LOC106573302   \n",
       "246768          transmembrane protein 116-like isoform X1        LOC106574818   \n",
       "246769          transmembrane protein 116-like isoform X1        LOC106574818   \n",
       "246770                  platelet receptor Gi24 isoform X2      cssa18h10orf54   \n",
       "246771                  ERO1-like protein beta isoform X3        LOC106564835   \n",
       "246772                  ERO1-like protein beta isoform X3        LOC106564835   \n",
       "246773                  ribose-5-phosphate isomerase-like        LOC106611309   \n",
       "246774  Purine nucleoside phosphorylase (EC 2.4.2.1) (...        LOC106605471   \n",
       "246775  Purine nucleoside phosphorylase (EC 2.4.2.1) (...        LOC106605471   \n",
       "246776                protein cordon-bleu-like isoform X1        LOC106579857   \n",
       "246777                protein cordon-bleu-like isoform X1        LOC106579857   \n",
       "246778                protein cordon-bleu-like isoform X1        LOC106605414   \n",
       "246779                protein cordon-bleu-like isoform X1        LOC106605414   \n",
       "246780                protein cordon-bleu-like isoform X1        LOC106605414   \n",
       "246781                protein cordon-bleu-like isoform X1        LOC106605414   \n",
       "246782                protein cordon-bleu-like isoform X4        LOC106579857   \n",
       "246783      serine--tRNA ligase, mitochondrial isoform X1               sars2   \n",
       "246784      serine--tRNA ligase, mitochondrial isoform X1               sars2   \n",
       "246785       Acyl-CoA-binding domain-containing protein 5               acbd5   \n",
       "246786       Acyl-CoA-binding domain-containing protein 5               acbd5   \n",
       "246787       Acyl-CoA-binding domain-containing protein 5               acbd5   \n",
       "246788       Acyl-CoA-binding domain-containing protein 5               acbd5   \n",
       "246789       Acyl-CoA-binding domain-containing protein 5               acbd5   \n",
       "246790       Acyl-CoA-binding domain-containing protein 5               acbd5   \n",
       "246791   integral membrane protein GPR155-like isoform X1        LOC106586242   \n",
       "246792   integral membrane protein GPR155-like isoform X1        LOC106586242   \n",
       "246793              integral membrane protein GPR155-like        LOC106581752   \n",
       "246794              integral membrane protein GPR155-like        LOC106581752   \n",
       "\n",
       "                             Organism Length  \n",
       "0       Salmo salar (Atlantic salmon)    754  \n",
       "1       Salmo salar (Atlantic salmon)    758  \n",
       "2       Salmo salar (Atlantic salmon)    333  \n",
       "3       Salmo salar (Atlantic salmon)    333  \n",
       "4       Salmo salar (Atlantic salmon)    330  \n",
       "5       Salmo salar (Atlantic salmon)    330  \n",
       "6       Salmo salar (Atlantic salmon)    333  \n",
       "7       Salmo salar (Atlantic salmon)    333  \n",
       "8       Salmo salar (Atlantic salmon)    333  \n",
       "9       Salmo salar (Atlantic salmon)    333  \n",
       "10      Salmo salar (Atlantic salmon)    606  \n",
       "11      Salmo salar (Atlantic salmon)    251  \n",
       "12      Salmo salar (Atlantic salmon)    251  \n",
       "13      Salmo salar (Atlantic salmon)    251  \n",
       "14      Salmo salar (Atlantic salmon)    251  \n",
       "15      Salmo salar (Atlantic salmon)    251  \n",
       "16      Salmo salar (Atlantic salmon)    251  \n",
       "17      Salmo salar (Atlantic salmon)    241  \n",
       "18      Salmo salar (Atlantic salmon)    241  \n",
       "19      Salmo salar (Atlantic salmon)    723  \n",
       "20      Salmo salar (Atlantic salmon)    723  \n",
       "21      Salmo salar (Atlantic salmon)    707  \n",
       "22      Salmo salar (Atlantic salmon)    248  \n",
       "23      Salmo salar (Atlantic salmon)    248  \n",
       "24      Salmo salar (Atlantic salmon)    396  \n",
       "25      Salmo salar (Atlantic salmon)    396  \n",
       "26      Salmo salar (Atlantic salmon)    524  \n",
       "27      Salmo salar (Atlantic salmon)    524  \n",
       "28      Salmo salar (Atlantic salmon)    188  \n",
       "29      Salmo salar (Atlantic salmon)    184  \n",
       "...                               ...    ...  \n",
       "246765  Salmo salar (Atlantic salmon)    440  \n",
       "246766  Salmo salar (Atlantic salmon)    429  \n",
       "246767  Salmo salar (Atlantic salmon)    429  \n",
       "246768  Salmo salar (Atlantic salmon)    378  \n",
       "246769  Salmo salar (Atlantic salmon)    378  \n",
       "246770  Salmo salar (Atlantic salmon)    301  \n",
       "246771  Salmo salar (Atlantic salmon)    449  \n",
       "246772  Salmo salar (Atlantic salmon)    449  \n",
       "246773  Salmo salar (Atlantic salmon)    235  \n",
       "246774  Salmo salar (Atlantic salmon)    298  \n",
       "246775  Salmo salar (Atlantic salmon)    298  \n",
       "246776  Salmo salar (Atlantic salmon)   1565  \n",
       "246777  Salmo salar (Atlantic salmon)   1565  \n",
       "246778  Salmo salar (Atlantic salmon)   1558  \n",
       "246779  Salmo salar (Atlantic salmon)   1558  \n",
       "246780  Salmo salar (Atlantic salmon)   1558  \n",
       "246781  Salmo salar (Atlantic salmon)   1558  \n",
       "246782  Salmo salar (Atlantic salmon)   1550  \n",
       "246783  Salmo salar (Atlantic salmon)    233  \n",
       "246784  Salmo salar (Atlantic salmon)    233  \n",
       "246785  Salmo salar (Atlantic salmon)    510  \n",
       "246786  Salmo salar (Atlantic salmon)    510  \n",
       "246787  Salmo salar (Atlantic salmon)    510  \n",
       "246788  Salmo salar (Atlantic salmon)    510  \n",
       "246789  Salmo salar (Atlantic salmon)    510  \n",
       "246790  Salmo salar (Atlantic salmon)    510  \n",
       "246791  Salmo salar (Atlantic salmon)    790  \n",
       "246792  Salmo salar (Atlantic salmon)    790  \n",
       "246793  Salmo salar (Atlantic salmon)    818  \n",
       "246794  Salmo salar (Atlantic salmon)    818  \n",
       "\n",
       "[246795 rows x 22 columns]"
      ]
     },
     "execution_count": 58,
     "metadata": {},
     "output_type": "execute_result"
    }
   ],
   "source": [
    "prot_deseq_results_d1_merged_prot_details = pd.merge(prot_deseq_results_d1, prot_all_from_trinity_report, on='trinity', how='inner')\n",
    "prot_deseq_results_d1_merged_prot_details"
   ]
  },
  {
   "cell_type": "code",
   "execution_count": 59,
   "metadata": {
    "scrolled": true
   },
   "outputs": [
    {
     "data": {
      "text/html": [
       "<div>\n",
       "<style scoped>\n",
       "    .dataframe tbody tr th:only-of-type {\n",
       "        vertical-align: middle;\n",
       "    }\n",
       "\n",
       "    .dataframe tbody tr th {\n",
       "        vertical-align: top;\n",
       "    }\n",
       "\n",
       "    .dataframe thead th {\n",
       "        text-align: right;\n",
       "    }\n",
       "</style>\n",
       "<table border=\"1\" class=\"dataframe\">\n",
       "  <thead>\n",
       "    <tr style=\"text-align: right;\">\n",
       "      <th></th>\n",
       "      <th>trinity</th>\n",
       "      <th>PBS_1d_1</th>\n",
       "      <th>PBS_1d_2</th>\n",
       "      <th>PBS_1d_3</th>\n",
       "      <th>PBS_1d_4</th>\n",
       "      <th>MC_6d_1</th>\n",
       "      <th>MC_6d_2</th>\n",
       "      <th>MC_6d_3</th>\n",
       "      <th>baseMean</th>\n",
       "      <th>log2FoldChange</th>\n",
       "      <th>...</th>\n",
       "      <th>pvalue</th>\n",
       "      <th>padj</th>\n",
       "      <th>Entry</th>\n",
       "      <th>ident</th>\n",
       "      <th>Entry name</th>\n",
       "      <th>Status</th>\n",
       "      <th>Protein names</th>\n",
       "      <th>Gene names</th>\n",
       "      <th>Organism</th>\n",
       "      <th>Length</th>\n",
       "    </tr>\n",
       "  </thead>\n",
       "  <tbody>\n",
       "    <tr>\n",
       "      <th>0</th>\n",
       "      <td>TRINITY_DN100000_c5_g1_i2</td>\n",
       "      <td>0.0</td>\n",
       "      <td>3.0</td>\n",
       "      <td>2.0</td>\n",
       "      <td>0.0</td>\n",
       "      <td>0</td>\n",
       "      <td>0</td>\n",
       "      <td>0</td>\n",
       "      <td>0.801119</td>\n",
       "      <td>3.158985</td>\n",
       "      <td>...</td>\n",
       "      <td>3.803443e-01</td>\n",
       "      <td>NaN</td>\n",
       "      <td>A0A1S3PAG0</td>\n",
       "      <td>XP_014024532.1</td>\n",
       "      <td>A0A1S3PAG0_SALSA</td>\n",
       "      <td>unreviewed</td>\n",
       "      <td>carboxyl-terminal PDZ ligand of neuronal nitri...</td>\n",
       "      <td>LOC106584141</td>\n",
       "      <td>Salmo salar (Atlantic salmon)</td>\n",
       "      <td>754</td>\n",
       "    </tr>\n",
       "    <tr>\n",
       "      <th>1</th>\n",
       "      <td>TRINITY_DN100000_c5_g1_i6</td>\n",
       "      <td>374.0</td>\n",
       "      <td>506.0</td>\n",
       "      <td>607.0</td>\n",
       "      <td>594.0</td>\n",
       "      <td>192</td>\n",
       "      <td>195</td>\n",
       "      <td>227</td>\n",
       "      <td>400.698424</td>\n",
       "      <td>1.716315</td>\n",
       "      <td>...</td>\n",
       "      <td>1.049519e-08</td>\n",
       "      <td>6.674162e-08</td>\n",
       "      <td>A0A1S3KIG4</td>\n",
       "      <td>XP_013978521.1</td>\n",
       "      <td>A0A1S3KIG4_SALSA</td>\n",
       "      <td>unreviewed</td>\n",
       "      <td>carboxyl-terminal PDZ ligand of neuronal nitri...</td>\n",
       "      <td>LOC106560293</td>\n",
       "      <td>Salmo salar (Atlantic salmon)</td>\n",
       "      <td>758</td>\n",
       "    </tr>\n",
       "    <tr>\n",
       "      <th>2</th>\n",
       "      <td>TRINITY_DN100001_c2_g2_i2</td>\n",
       "      <td>1232.0</td>\n",
       "      <td>1264.0</td>\n",
       "      <td>998.0</td>\n",
       "      <td>1040.0</td>\n",
       "      <td>1730</td>\n",
       "      <td>1743</td>\n",
       "      <td>1974</td>\n",
       "      <td>1365.742759</td>\n",
       "      <td>-0.324285</td>\n",
       "      <td>...</td>\n",
       "      <td>1.151943e-01</td>\n",
       "      <td>1.869944e-01</td>\n",
       "      <td>A0A1S3PIA6</td>\n",
       "      <td>XP_014027367.1</td>\n",
       "      <td>A0A1S3PIA6_SALSA</td>\n",
       "      <td>unreviewed</td>\n",
       "      <td>Probable cytosolic iron-sulfur protein assembl...</td>\n",
       "      <td>LOC106585549 CIAO1</td>\n",
       "      <td>Salmo salar (Atlantic salmon)</td>\n",
       "      <td>333</td>\n",
       "    </tr>\n",
       "    <tr>\n",
       "      <th>3</th>\n",
       "      <td>TRINITY_DN100001_c2_g2_i2</td>\n",
       "      <td>1232.0</td>\n",
       "      <td>1264.0</td>\n",
       "      <td>998.0</td>\n",
       "      <td>1040.0</td>\n",
       "      <td>1730</td>\n",
       "      <td>1743</td>\n",
       "      <td>1974</td>\n",
       "      <td>1365.742759</td>\n",
       "      <td>-0.324285</td>\n",
       "      <td>...</td>\n",
       "      <td>1.151943e-01</td>\n",
       "      <td>1.869944e-01</td>\n",
       "      <td>B5X212</td>\n",
       "      <td>XP_014027367.1</td>\n",
       "      <td>CIO1B_SALSA</td>\n",
       "      <td>reviewed</td>\n",
       "      <td>Probable cytosolic iron-sulfur protein assembl...</td>\n",
       "      <td>ciao1b</td>\n",
       "      <td>Salmo salar (Atlantic salmon)</td>\n",
       "      <td>333</td>\n",
       "    </tr>\n",
       "    <tr>\n",
       "      <th>4</th>\n",
       "      <td>TRINITY_DN100001_c2_g2_i7</td>\n",
       "      <td>562.0</td>\n",
       "      <td>408.0</td>\n",
       "      <td>311.0</td>\n",
       "      <td>353.0</td>\n",
       "      <td>1378</td>\n",
       "      <td>1338</td>\n",
       "      <td>1428</td>\n",
       "      <td>757.811676</td>\n",
       "      <td>-1.412238</td>\n",
       "      <td>...</td>\n",
       "      <td>3.941772e-07</td>\n",
       "      <td>2.029290e-06</td>\n",
       "      <td>A0A1S3NJU9</td>\n",
       "      <td>XP_014015694.1</td>\n",
       "      <td>A0A1S3NJU9_SALSA</td>\n",
       "      <td>unreviewed</td>\n",
       "      <td>Probable cytosolic iron-sulfur protein assembl...</td>\n",
       "      <td>LOC106579887 CIAO1</td>\n",
       "      <td>Salmo salar (Atlantic salmon)</td>\n",
       "      <td>330</td>\n",
       "    </tr>\n",
       "  </tbody>\n",
       "</table>\n",
       "<p>5 rows × 22 columns</p>\n",
       "</div>"
      ],
      "text/plain": [
       "                     trinity  PBS_1d_1  PBS_1d_2  PBS_1d_3  PBS_1d_4  MC_6d_1  \\\n",
       "0  TRINITY_DN100000_c5_g1_i2       0.0       3.0       2.0       0.0        0   \n",
       "1  TRINITY_DN100000_c5_g1_i6     374.0     506.0     607.0     594.0      192   \n",
       "2  TRINITY_DN100001_c2_g2_i2    1232.0    1264.0     998.0    1040.0     1730   \n",
       "3  TRINITY_DN100001_c2_g2_i2    1232.0    1264.0     998.0    1040.0     1730   \n",
       "4  TRINITY_DN100001_c2_g2_i7     562.0     408.0     311.0     353.0     1378   \n",
       "\n",
       "   MC_6d_2  MC_6d_3     baseMean  log2FoldChange  ...          pvalue  \\\n",
       "0        0        0     0.801119        3.158985  ...    3.803443e-01   \n",
       "1      195      227   400.698424        1.716315  ...    1.049519e-08   \n",
       "2     1743     1974  1365.742759       -0.324285  ...    1.151943e-01   \n",
       "3     1743     1974  1365.742759       -0.324285  ...    1.151943e-01   \n",
       "4     1338     1428   757.811676       -1.412238  ...    3.941772e-07   \n",
       "\n",
       "           padj       Entry           ident        Entry name      Status  \\\n",
       "0           NaN  A0A1S3PAG0  XP_014024532.1  A0A1S3PAG0_SALSA  unreviewed   \n",
       "1  6.674162e-08  A0A1S3KIG4  XP_013978521.1  A0A1S3KIG4_SALSA  unreviewed   \n",
       "2  1.869944e-01  A0A1S3PIA6  XP_014027367.1  A0A1S3PIA6_SALSA  unreviewed   \n",
       "3  1.869944e-01      B5X212  XP_014027367.1       CIO1B_SALSA    reviewed   \n",
       "4  2.029290e-06  A0A1S3NJU9  XP_014015694.1  A0A1S3NJU9_SALSA  unreviewed   \n",
       "\n",
       "                                       Protein names          Gene names  \\\n",
       "0  carboxyl-terminal PDZ ligand of neuronal nitri...        LOC106584141   \n",
       "1  carboxyl-terminal PDZ ligand of neuronal nitri...        LOC106560293   \n",
       "2  Probable cytosolic iron-sulfur protein assembl...  LOC106585549 CIAO1   \n",
       "3  Probable cytosolic iron-sulfur protein assembl...              ciao1b   \n",
       "4  Probable cytosolic iron-sulfur protein assembl...  LOC106579887 CIAO1   \n",
       "\n",
       "                        Organism Length  \n",
       "0  Salmo salar (Atlantic salmon)    754  \n",
       "1  Salmo salar (Atlantic salmon)    758  \n",
       "2  Salmo salar (Atlantic salmon)    333  \n",
       "3  Salmo salar (Atlantic salmon)    333  \n",
       "4  Salmo salar (Atlantic salmon)    330  \n",
       "\n",
       "[5 rows x 22 columns]"
      ]
     },
     "execution_count": 59,
     "metadata": {},
     "output_type": "execute_result"
    }
   ],
   "source": [
    "prot_deseq_results_d6_merged_prot_details = pd.merge(prot_deseq_results_d6, prot_all_from_trinity_report, on='trinity', how='inner')\n",
    "prot_deseq_results_d6_merged_prot_details.head()"
   ]
  },
  {
   "cell_type": "code",
   "execution_count": 60,
   "metadata": {
    "scrolled": true
   },
   "outputs": [
    {
     "data": {
      "text/html": [
       "<div>\n",
       "<style scoped>\n",
       "    .dataframe tbody tr th:only-of-type {\n",
       "        vertical-align: middle;\n",
       "    }\n",
       "\n",
       "    .dataframe tbody tr th {\n",
       "        vertical-align: top;\n",
       "    }\n",
       "\n",
       "    .dataframe thead th {\n",
       "        text-align: right;\n",
       "    }\n",
       "</style>\n",
       "<table border=\"1\" class=\"dataframe\">\n",
       "  <thead>\n",
       "    <tr style=\"text-align: right;\">\n",
       "      <th></th>\n",
       "      <th>trinity</th>\n",
       "      <th>PBS_1d_1</th>\n",
       "      <th>PBS_1d_2</th>\n",
       "      <th>PBS_1d_3</th>\n",
       "      <th>PBS_1d_4</th>\n",
       "      <th>MC_9d_1</th>\n",
       "      <th>MC_9d_2</th>\n",
       "      <th>MC_9d_3</th>\n",
       "      <th>baseMean</th>\n",
       "      <th>log2FoldChange</th>\n",
       "      <th>...</th>\n",
       "      <th>pvalue</th>\n",
       "      <th>padj</th>\n",
       "      <th>Entry</th>\n",
       "      <th>ident</th>\n",
       "      <th>Entry name</th>\n",
       "      <th>Status</th>\n",
       "      <th>Protein names</th>\n",
       "      <th>Gene names</th>\n",
       "      <th>Organism</th>\n",
       "      <th>Length</th>\n",
       "    </tr>\n",
       "  </thead>\n",
       "  <tbody>\n",
       "    <tr>\n",
       "      <th>0</th>\n",
       "      <td>TRINITY_DN100000_c5_g1_i2</td>\n",
       "      <td>0.0</td>\n",
       "      <td>3.0</td>\n",
       "      <td>2.0</td>\n",
       "      <td>0.0</td>\n",
       "      <td>5</td>\n",
       "      <td>0</td>\n",
       "      <td>0</td>\n",
       "      <td>1.393534</td>\n",
       "      <td>0.327664</td>\n",
       "      <td>...</td>\n",
       "      <td>0.902632</td>\n",
       "      <td>0.937984</td>\n",
       "      <td>A0A1S3PAG0</td>\n",
       "      <td>XP_014024532.1</td>\n",
       "      <td>A0A1S3PAG0_SALSA</td>\n",
       "      <td>unreviewed</td>\n",
       "      <td>carboxyl-terminal PDZ ligand of neuronal nitri...</td>\n",
       "      <td>LOC106584141</td>\n",
       "      <td>Salmo salar (Atlantic salmon)</td>\n",
       "      <td>754</td>\n",
       "    </tr>\n",
       "    <tr>\n",
       "      <th>1</th>\n",
       "      <td>TRINITY_DN100000_c5_g1_i6</td>\n",
       "      <td>374.0</td>\n",
       "      <td>506.0</td>\n",
       "      <td>607.0</td>\n",
       "      <td>594.0</td>\n",
       "      <td>427</td>\n",
       "      <td>219</td>\n",
       "      <td>339</td>\n",
       "      <td>460.552239</td>\n",
       "      <td>1.339117</td>\n",
       "      <td>...</td>\n",
       "      <td>0.000140</td>\n",
       "      <td>0.000620</td>\n",
       "      <td>A0A1S3KIG4</td>\n",
       "      <td>XP_013978521.1</td>\n",
       "      <td>A0A1S3KIG4_SALSA</td>\n",
       "      <td>unreviewed</td>\n",
       "      <td>carboxyl-terminal PDZ ligand of neuronal nitri...</td>\n",
       "      <td>LOC106560293</td>\n",
       "      <td>Salmo salar (Atlantic salmon)</td>\n",
       "      <td>758</td>\n",
       "    </tr>\n",
       "    <tr>\n",
       "      <th>2</th>\n",
       "      <td>TRINITY_DN100001_c2_g2_i2</td>\n",
       "      <td>1232.0</td>\n",
       "      <td>1264.0</td>\n",
       "      <td>998.0</td>\n",
       "      <td>1040.0</td>\n",
       "      <td>2315</td>\n",
       "      <td>2067</td>\n",
       "      <td>2386</td>\n",
       "      <td>1496.687824</td>\n",
       "      <td>-0.344909</td>\n",
       "      <td>...</td>\n",
       "      <td>0.071911</td>\n",
       "      <td>0.139669</td>\n",
       "      <td>A0A1S3PIA6</td>\n",
       "      <td>XP_014027367.1</td>\n",
       "      <td>A0A1S3PIA6_SALSA</td>\n",
       "      <td>unreviewed</td>\n",
       "      <td>Probable cytosolic iron-sulfur protein assembl...</td>\n",
       "      <td>LOC106585549 CIAO1</td>\n",
       "      <td>Salmo salar (Atlantic salmon)</td>\n",
       "      <td>333</td>\n",
       "    </tr>\n",
       "    <tr>\n",
       "      <th>3</th>\n",
       "      <td>TRINITY_DN100001_c2_g2_i2</td>\n",
       "      <td>1232.0</td>\n",
       "      <td>1264.0</td>\n",
       "      <td>998.0</td>\n",
       "      <td>1040.0</td>\n",
       "      <td>2315</td>\n",
       "      <td>2067</td>\n",
       "      <td>2386</td>\n",
       "      <td>1496.687824</td>\n",
       "      <td>-0.344909</td>\n",
       "      <td>...</td>\n",
       "      <td>0.071911</td>\n",
       "      <td>0.139669</td>\n",
       "      <td>B5X212</td>\n",
       "      <td>XP_014027367.1</td>\n",
       "      <td>CIO1B_SALSA</td>\n",
       "      <td>reviewed</td>\n",
       "      <td>Probable cytosolic iron-sulfur protein assembl...</td>\n",
       "      <td>ciao1b</td>\n",
       "      <td>Salmo salar (Atlantic salmon)</td>\n",
       "      <td>333</td>\n",
       "    </tr>\n",
       "    <tr>\n",
       "      <th>4</th>\n",
       "      <td>TRINITY_DN100001_c2_g2_i7</td>\n",
       "      <td>562.0</td>\n",
       "      <td>408.0</td>\n",
       "      <td>311.0</td>\n",
       "      <td>353.0</td>\n",
       "      <td>1291</td>\n",
       "      <td>1139</td>\n",
       "      <td>1344</td>\n",
       "      <td>682.067860</td>\n",
       "      <td>-0.980119</td>\n",
       "      <td>...</td>\n",
       "      <td>0.000353</td>\n",
       "      <td>0.001414</td>\n",
       "      <td>A0A1S3NJU9</td>\n",
       "      <td>XP_014015694.1</td>\n",
       "      <td>A0A1S3NJU9_SALSA</td>\n",
       "      <td>unreviewed</td>\n",
       "      <td>Probable cytosolic iron-sulfur protein assembl...</td>\n",
       "      <td>LOC106579887 CIAO1</td>\n",
       "      <td>Salmo salar (Atlantic salmon)</td>\n",
       "      <td>330</td>\n",
       "    </tr>\n",
       "  </tbody>\n",
       "</table>\n",
       "<p>5 rows × 22 columns</p>\n",
       "</div>"
      ],
      "text/plain": [
       "                     trinity  PBS_1d_1  PBS_1d_2  PBS_1d_3  PBS_1d_4  MC_9d_1  \\\n",
       "0  TRINITY_DN100000_c5_g1_i2       0.0       3.0       2.0       0.0        5   \n",
       "1  TRINITY_DN100000_c5_g1_i6     374.0     506.0     607.0     594.0      427   \n",
       "2  TRINITY_DN100001_c2_g2_i2    1232.0    1264.0     998.0    1040.0     2315   \n",
       "3  TRINITY_DN100001_c2_g2_i2    1232.0    1264.0     998.0    1040.0     2315   \n",
       "4  TRINITY_DN100001_c2_g2_i7     562.0     408.0     311.0     353.0     1291   \n",
       "\n",
       "   MC_9d_2  MC_9d_3     baseMean  log2FoldChange  ...      pvalue      padj  \\\n",
       "0        0        0     1.393534        0.327664  ...    0.902632  0.937984   \n",
       "1      219      339   460.552239        1.339117  ...    0.000140  0.000620   \n",
       "2     2067     2386  1496.687824       -0.344909  ...    0.071911  0.139669   \n",
       "3     2067     2386  1496.687824       -0.344909  ...    0.071911  0.139669   \n",
       "4     1139     1344   682.067860       -0.980119  ...    0.000353  0.001414   \n",
       "\n",
       "        Entry           ident        Entry name      Status  \\\n",
       "0  A0A1S3PAG0  XP_014024532.1  A0A1S3PAG0_SALSA  unreviewed   \n",
       "1  A0A1S3KIG4  XP_013978521.1  A0A1S3KIG4_SALSA  unreviewed   \n",
       "2  A0A1S3PIA6  XP_014027367.1  A0A1S3PIA6_SALSA  unreviewed   \n",
       "3      B5X212  XP_014027367.1       CIO1B_SALSA    reviewed   \n",
       "4  A0A1S3NJU9  XP_014015694.1  A0A1S3NJU9_SALSA  unreviewed   \n",
       "\n",
       "                                       Protein names          Gene names  \\\n",
       "0  carboxyl-terminal PDZ ligand of neuronal nitri...        LOC106584141   \n",
       "1  carboxyl-terminal PDZ ligand of neuronal nitri...        LOC106560293   \n",
       "2  Probable cytosolic iron-sulfur protein assembl...  LOC106585549 CIAO1   \n",
       "3  Probable cytosolic iron-sulfur protein assembl...              ciao1b   \n",
       "4  Probable cytosolic iron-sulfur protein assembl...  LOC106579887 CIAO1   \n",
       "\n",
       "                        Organism Length  \n",
       "0  Salmo salar (Atlantic salmon)    754  \n",
       "1  Salmo salar (Atlantic salmon)    758  \n",
       "2  Salmo salar (Atlantic salmon)    333  \n",
       "3  Salmo salar (Atlantic salmon)    333  \n",
       "4  Salmo salar (Atlantic salmon)    330  \n",
       "\n",
       "[5 rows x 22 columns]"
      ]
     },
     "execution_count": 60,
     "metadata": {},
     "output_type": "execute_result"
    }
   ],
   "source": [
    "prot_deseq_results_d9_merged_prot_details = pd.merge(prot_deseq_results_d9, prot_all_from_trinity_report, on='trinity', how='inner')\n",
    "prot_deseq_results_d9_merged_prot_details.head()"
   ]
  },
  {
   "cell_type": "code",
   "execution_count": 61,
   "metadata": {},
   "outputs": [
    {
     "data": {
      "text/plain": [
       "(246795, 22)"
      ]
     },
     "execution_count": 61,
     "metadata": {},
     "output_type": "execute_result"
    }
   ],
   "source": [
    "prot_deseq_results_d1_merged_prot_details.shape"
   ]
  },
  {
   "cell_type": "code",
   "execution_count": 62,
   "metadata": {},
   "outputs": [
    {
     "data": {
      "text/plain": [
       "(246795, 22)"
      ]
     },
     "execution_count": 62,
     "metadata": {},
     "output_type": "execute_result"
    }
   ],
   "source": [
    "prot_deseq_results_d6_merged_prot_details.shape"
   ]
  },
  {
   "cell_type": "code",
   "execution_count": 63,
   "metadata": {},
   "outputs": [
    {
     "data": {
      "text/plain": [
       "(246795, 22)"
      ]
     },
     "execution_count": 63,
     "metadata": {},
     "output_type": "execute_result"
    }
   ],
   "source": [
    "prot_deseq_results_d9_merged_prot_details.shape"
   ]
  },
  {
   "cell_type": "code",
   "execution_count": 64,
   "metadata": {},
   "outputs": [],
   "source": [
    "prot_deseq_results_d1_merged_prot_details = prot_deseq_results_d1_merged_prot_details[prot_deseq_results_d1_merged_prot_details['padj'] < 0.001]"
   ]
  },
  {
   "cell_type": "code",
   "execution_count": 65,
   "metadata": {},
   "outputs": [],
   "source": [
    "prot_deseq_results_d6_merged_prot_details = prot_deseq_results_d6_merged_prot_details[prot_deseq_results_d6_merged_prot_details['padj'] < 0.001]"
   ]
  },
  {
   "cell_type": "code",
   "execution_count": 66,
   "metadata": {},
   "outputs": [],
   "source": [
    "prot_deseq_results_d9_merged_prot_details = prot_deseq_results_d9_merged_prot_details[prot_deseq_results_d9_merged_prot_details['padj'] < 0.001]"
   ]
  },
  {
   "cell_type": "code",
   "execution_count": 67,
   "metadata": {
    "scrolled": true
   },
   "outputs": [
    {
     "name": "stderr",
     "output_type": "stream",
     "text": [
      "/home/maciek/anaconda3/lib/python3.7/site-packages/ipykernel_launcher.py:1: SettingWithCopyWarning: \n",
      "A value is trying to be set on a copy of a slice from a DataFrame\n",
      "\n",
      "See the caveats in the documentation: http://pandas.pydata.org/pandas-docs/stable/indexing.html#indexing-view-versus-copy\n",
      "  \"\"\"Entry point for launching an IPython kernel.\n"
     ]
    }
   ],
   "source": [
    "prot_deseq_results_d1_merged_prot_details.sort_values(by='log2FoldChange', inplace=True)"
   ]
  },
  {
   "cell_type": "code",
   "execution_count": 68,
   "metadata": {
    "scrolled": true
   },
   "outputs": [],
   "source": [
    "prot_deseq_results_d6_merged_prot_details.sort_values(by='log2FoldChange', inplace=True)"
   ]
  },
  {
   "cell_type": "code",
   "execution_count": 69,
   "metadata": {
    "scrolled": true
   },
   "outputs": [],
   "source": [
    "prot_deseq_results_d9_merged_prot_details.sort_values(by='log2FoldChange', inplace=True)"
   ]
  },
  {
   "cell_type": "code",
   "execution_count": 70,
   "metadata": {},
   "outputs": [
    {
     "name": "stderr",
     "output_type": "stream",
     "text": [
      "/home/maciek/anaconda3/lib/python3.7/site-packages/ipykernel_launcher.py:1: SettingWithCopyWarning: \n",
      "A value is trying to be set on a copy of a slice from a DataFrame\n",
      "\n",
      "See the caveats in the documentation: http://pandas.pydata.org/pandas-docs/stable/indexing.html#indexing-view-versus-copy\n",
      "  \"\"\"Entry point for launching an IPython kernel.\n"
     ]
    },
    {
     "data": {
      "text/plain": [
       "(7419, 22)"
      ]
     },
     "execution_count": 70,
     "metadata": {},
     "output_type": "execute_result"
    }
   ],
   "source": [
    "prot_deseq_results_d1_merged_prot_details.drop_duplicates(inplace=True)\n",
    "prot_deseq_results_d1_merged_prot_details.shape"
   ]
  },
  {
   "cell_type": "code",
   "execution_count": 71,
   "metadata": {},
   "outputs": [
    {
     "data": {
      "text/plain": [
       "(37964, 22)"
      ]
     },
     "execution_count": 71,
     "metadata": {},
     "output_type": "execute_result"
    }
   ],
   "source": [
    "prot_deseq_results_d6_merged_prot_details.drop_duplicates(inplace=True)\n",
    "prot_deseq_results_d6_merged_prot_details.shape"
   ]
  },
  {
   "cell_type": "code",
   "execution_count": 72,
   "metadata": {},
   "outputs": [
    {
     "data": {
      "text/plain": [
       "(28874, 22)"
      ]
     },
     "execution_count": 72,
     "metadata": {},
     "output_type": "execute_result"
    }
   ],
   "source": [
    "prot_deseq_results_d9_merged_prot_details.drop_duplicates(inplace=True)\n",
    "prot_deseq_results_d9_merged_prot_details.shape"
   ]
  },
  {
   "cell_type": "code",
   "execution_count": null,
   "metadata": {},
   "outputs": [],
   "source": []
  },
  {
   "cell_type": "markdown",
   "metadata": {},
   "source": [
    "## UTR / PROT"
   ]
  },
  {
   "cell_type": "markdown",
   "metadata": {},
   "source": [
    "## D1"
   ]
  },
  {
   "cell_type": "code",
   "execution_count": 73,
   "metadata": {
    "scrolled": true
   },
   "outputs": [
    {
     "data": {
      "text/plain": [
       "(1874, 37)"
      ]
     },
     "execution_count": 73,
     "metadata": {},
     "output_type": "execute_result"
    }
   ],
   "source": [
    "merged = pd.merge(mRNA_deseq_results_d1, prot_deseq_results_d1_merged_prot_details, on='Entry', how='inner', suffixes=('_UTR', '_PROT'))\n",
    "merged.shape"
   ]
  },
  {
   "cell_type": "code",
   "execution_count": 74,
   "metadata": {},
   "outputs": [],
   "source": [
    "#merged.to_csv(prot_path+'testowo.csv', index=False) "
   ]
  },
  {
   "cell_type": "code",
   "execution_count": 75,
   "metadata": {},
   "outputs": [
    {
     "data": {
      "text/plain": [
       "(1874, 37)"
      ]
     },
     "execution_count": 75,
     "metadata": {},
     "output_type": "execute_result"
    }
   ],
   "source": [
    "merged.drop_duplicates(inplace=True)\n",
    "merged.shape"
   ]
  },
  {
   "cell_type": "code",
   "execution_count": 76,
   "metadata": {},
   "outputs": [],
   "source": [
    "# zestawienie L2FC w droch grupach, obejmuje tylko grupy ktore sie zmienily, tzn nie ma tu takich\n",
    "# ktore zmianom nie ulegly, np. UTR_UP i PROT_NONE (up po MC w UTR, ale w bialkach bez zmiany)\n",
    "# zeby to zrobic musze porownac "
   ]
  },
  {
   "cell_type": "code",
   "execution_count": 77,
   "metadata": {},
   "outputs": [],
   "source": [
    "UTR_UP_PROT_UP = merged[(merged['log2FoldChange_UTR'] < 0) & (merged['log2FoldChange_PROT'] < 0)]"
   ]
  },
  {
   "cell_type": "code",
   "execution_count": 78,
   "metadata": {},
   "outputs": [],
   "source": [
    "UTR_UP_PROT_DOWN = merged[(merged['log2FoldChange_UTR'] < 0) & (merged['log2FoldChange_PROT'] > 0)]"
   ]
  },
  {
   "cell_type": "code",
   "execution_count": 79,
   "metadata": {},
   "outputs": [],
   "source": [
    "UTR_DOWN_PROT_UP = merged[(merged['log2FoldChange_UTR'] > 0) & (merged['log2FoldChange_PROT'] < 0)] "
   ]
  },
  {
   "cell_type": "code",
   "execution_count": 80,
   "metadata": {},
   "outputs": [],
   "source": [
    "UTR_DOWN_PROT_DOWN = merged[(merged['log2FoldChange_UTR'] > 0) & (merged['log2FoldChange_PROT'] > 0)] "
   ]
  },
  {
   "cell_type": "code",
   "execution_count": 81,
   "metadata": {},
   "outputs": [],
   "source": [
    "# ponizsze, zgodnie ze znakami: w deseq mam znaki odwrotnie, tzn, jesli po MC jest wzrost to mam znak \"-\"\n",
    "# i dlatego UP ma znak '<'"
   ]
  },
  {
   "cell_type": "code",
   "execution_count": 82,
   "metadata": {},
   "outputs": [
    {
     "data": {
      "text/plain": [
       "(1549, 37)"
      ]
     },
     "execution_count": 82,
     "metadata": {},
     "output_type": "execute_result"
    }
   ],
   "source": [
    "UTR_UP_PROT_UP.shape"
   ]
  },
  {
   "cell_type": "code",
   "execution_count": 83,
   "metadata": {},
   "outputs": [
    {
     "data": {
      "text/plain": [
       "(55, 37)"
      ]
     },
     "execution_count": 83,
     "metadata": {},
     "output_type": "execute_result"
    }
   ],
   "source": [
    "UTR_UP_PROT_DOWN.shape"
   ]
  },
  {
   "cell_type": "code",
   "execution_count": 84,
   "metadata": {},
   "outputs": [
    {
     "data": {
      "text/plain": [
       "(63, 37)"
      ]
     },
     "execution_count": 84,
     "metadata": {},
     "output_type": "execute_result"
    }
   ],
   "source": [
    "UTR_DOWN_PROT_UP.shape"
   ]
  },
  {
   "cell_type": "code",
   "execution_count": 85,
   "metadata": {},
   "outputs": [
    {
     "data": {
      "text/plain": [
       "(207, 37)"
      ]
     },
     "execution_count": 85,
     "metadata": {},
     "output_type": "execute_result"
    }
   ],
   "source": [
    "UTR_DOWN_PROT_DOWN.shape"
   ]
  },
  {
   "cell_type": "code",
   "execution_count": 86,
   "metadata": {},
   "outputs": [],
   "source": [
    "# wrzucamy to do uniprota w celu jakiejs funkcjonalnosc oznaczenia.\n",
    "UTR_UP_PROT_UP['Entry'].to_csv(prot_path+'entry_prot.csv', index=False)"
   ]
  },
  {
   "cell_type": "code",
   "execution_count": 87,
   "metadata": {},
   "outputs": [],
   "source": [
    "UTR_UP_PROT_UP.to_csv(path+\"PROPER_UTR_UP_PROT_UP_D1.csv\", index=False)\n",
    "UTR_UP_PROT_DOWN.to_csv(path+\"PROPER_UTR_UP_PROT_DOWN_D1.csv\", index=False)\n",
    "UTR_DOWN_PROT_UP.to_csv(path+\"PROPER_UTR_DOWN_PROT_UP_D1.csv\", index=False)\n",
    "UTR_DOWN_PROT_DOWN.to_csv(path+\"PROPER_UTR_DOWN_PROT_DOWN_D1.csv\", index=False)"
   ]
  },
  {
   "cell_type": "code",
   "execution_count": null,
   "metadata": {},
   "outputs": [],
   "source": []
  },
  {
   "cell_type": "code",
   "execution_count": null,
   "metadata": {},
   "outputs": [],
   "source": []
  },
  {
   "cell_type": "markdown",
   "metadata": {},
   "source": [
    "## D6"
   ]
  },
  {
   "cell_type": "code",
   "execution_count": 88,
   "metadata": {
    "scrolled": true
   },
   "outputs": [
    {
     "data": {
      "text/plain": [
       "(19981, 37)"
      ]
     },
     "execution_count": 88,
     "metadata": {},
     "output_type": "execute_result"
    }
   ],
   "source": [
    "merged = pd.merge(mRNA_deseq_results_d6, prot_deseq_results_d6_merged_prot_details, on='Entry', how='inner', suffixes=('_UTR', '_PROT'))\n",
    "merged.shape"
   ]
  },
  {
   "cell_type": "code",
   "execution_count": 89,
   "metadata": {},
   "outputs": [],
   "source": [
    "#merged.to_csv(prot_path+'testowo.csv', index=False) "
   ]
  },
  {
   "cell_type": "code",
   "execution_count": 90,
   "metadata": {},
   "outputs": [
    {
     "data": {
      "text/plain": [
       "(19981, 37)"
      ]
     },
     "execution_count": 90,
     "metadata": {},
     "output_type": "execute_result"
    }
   ],
   "source": [
    "merged.drop_duplicates(inplace=True)\n",
    "merged.shape"
   ]
  },
  {
   "cell_type": "code",
   "execution_count": 91,
   "metadata": {},
   "outputs": [],
   "source": [
    "# zestawienie L2FC w droch grupach, obejmuje tylko grupy ktore sie zmienily, tzn nie ma tu takich\n",
    "# ktore zmianom nie ulegly, np. UTR_UP i PROT_NONE (up po MC w UTR, ale w bialkach bez zmiany)\n",
    "# zeby to zrobic musze porownac "
   ]
  },
  {
   "cell_type": "code",
   "execution_count": 92,
   "metadata": {},
   "outputs": [],
   "source": [
    "UTR_UP_PROT_UP = merged[(merged['log2FoldChange_UTR'] < 0) & (merged['log2FoldChange_PROT'] < 0)]"
   ]
  },
  {
   "cell_type": "code",
   "execution_count": 93,
   "metadata": {},
   "outputs": [],
   "source": [
    "UTR_UP_PROT_DOWN = merged[(merged['log2FoldChange_UTR'] < 0) & (merged['log2FoldChange_PROT'] > 0)]"
   ]
  },
  {
   "cell_type": "code",
   "execution_count": 94,
   "metadata": {},
   "outputs": [],
   "source": [
    "UTR_DOWN_PROT_UP = merged[(merged['log2FoldChange_UTR'] > 0) & (merged['log2FoldChange_PROT'] < 0)] "
   ]
  },
  {
   "cell_type": "code",
   "execution_count": 95,
   "metadata": {},
   "outputs": [],
   "source": [
    "UTR_DOWN_PROT_DOWN = merged[(merged['log2FoldChange_UTR'] > 0) & (merged['log2FoldChange_PROT'] > 0)] "
   ]
  },
  {
   "cell_type": "code",
   "execution_count": 96,
   "metadata": {},
   "outputs": [],
   "source": [
    "# ponizsze, zgodnie ze znakami: w deseq mam znaki odwrotnie, tzn, jesli po MC jest wzrost to mam znak \"-\"\n",
    "# i dlatego UP ma znak '<'"
   ]
  },
  {
   "cell_type": "code",
   "execution_count": 97,
   "metadata": {},
   "outputs": [
    {
     "data": {
      "text/plain": [
       "(7512, 37)"
      ]
     },
     "execution_count": 97,
     "metadata": {},
     "output_type": "execute_result"
    }
   ],
   "source": [
    "UTR_UP_PROT_UP.shape"
   ]
  },
  {
   "cell_type": "code",
   "execution_count": 98,
   "metadata": {},
   "outputs": [
    {
     "data": {
      "text/plain": [
       "(1812, 37)"
      ]
     },
     "execution_count": 98,
     "metadata": {},
     "output_type": "execute_result"
    }
   ],
   "source": [
    "UTR_UP_PROT_DOWN.shape"
   ]
  },
  {
   "cell_type": "code",
   "execution_count": 99,
   "metadata": {},
   "outputs": [
    {
     "data": {
      "text/plain": [
       "(1738, 37)"
      ]
     },
     "execution_count": 99,
     "metadata": {},
     "output_type": "execute_result"
    }
   ],
   "source": [
    "UTR_DOWN_PROT_UP.shape"
   ]
  },
  {
   "cell_type": "code",
   "execution_count": 100,
   "metadata": {},
   "outputs": [
    {
     "data": {
      "text/plain": [
       "(8919, 37)"
      ]
     },
     "execution_count": 100,
     "metadata": {},
     "output_type": "execute_result"
    }
   ],
   "source": [
    "UTR_DOWN_PROT_DOWN.shape"
   ]
  },
  {
   "cell_type": "code",
   "execution_count": 101,
   "metadata": {},
   "outputs": [],
   "source": [
    "# wrzucamy to do uniprota w celu jakiejs funkcjonalnosc oznaczenia.\n",
    "UTR_UP_PROT_UP['Entry'].to_csv(prot_path+'entry_prot.csv', index=False)"
   ]
  },
  {
   "cell_type": "code",
   "execution_count": 102,
   "metadata": {},
   "outputs": [],
   "source": [
    "UTR_UP_PROT_UP.to_csv(path+\"PROPER_UTR_UP_PROT_UP_D6.csv\", index=False)\n",
    "UTR_UP_PROT_DOWN.to_csv(path+\"PROPER_UTR_UP_PROT_DOWN_D6.csv\", index=False)\n",
    "UTR_DOWN_PROT_UP.to_csv(path+\"PROPER_UTR_DOWN_PROT_UP_D6.csv\", index=False)\n",
    "UTR_DOWN_PROT_DOWN.to_csv(path+\"PROPER_UTR_DOWN_PROT_DOWN_D6.csv\", index=False)"
   ]
  },
  {
   "cell_type": "markdown",
   "metadata": {},
   "source": [
    "## D9"
   ]
  },
  {
   "cell_type": "code",
   "execution_count": 103,
   "metadata": {
    "scrolled": true
   },
   "outputs": [
    {
     "data": {
      "text/plain": [
       "(11511, 37)"
      ]
     },
     "execution_count": 103,
     "metadata": {},
     "output_type": "execute_result"
    }
   ],
   "source": [
    "merged = pd.merge(mRNA_deseq_results_d9, prot_deseq_results_d9_merged_prot_details, on='Entry', how='inner', suffixes=('_UTR', '_PROT'))\n",
    "merged.shape"
   ]
  },
  {
   "cell_type": "code",
   "execution_count": 104,
   "metadata": {},
   "outputs": [],
   "source": [
    "#merged.to_csv(prot_path+'testowo.csv', index=False) "
   ]
  },
  {
   "cell_type": "code",
   "execution_count": 105,
   "metadata": {},
   "outputs": [
    {
     "data": {
      "text/plain": [
       "(11511, 37)"
      ]
     },
     "execution_count": 105,
     "metadata": {},
     "output_type": "execute_result"
    }
   ],
   "source": [
    "merged.drop_duplicates(inplace=True)\n",
    "merged.shape"
   ]
  },
  {
   "cell_type": "code",
   "execution_count": 106,
   "metadata": {},
   "outputs": [],
   "source": [
    "# zestawienie L2FC w droch grupach, obejmuje tylko grupy ktore sie zmienily, tzn nie ma tu takich\n",
    "# ktore zmianom nie ulegly, np. UTR_UP i PROT_NONE (up po MC w UTR, ale w bialkach bez zmiany)\n",
    "# zeby to zrobic musze porownac "
   ]
  },
  {
   "cell_type": "code",
   "execution_count": 107,
   "metadata": {},
   "outputs": [],
   "source": [
    "UTR_UP_PROT_UP = merged[(merged['log2FoldChange_UTR'] < 0) & (merged['log2FoldChange_PROT'] < 0)]"
   ]
  },
  {
   "cell_type": "code",
   "execution_count": 108,
   "metadata": {},
   "outputs": [],
   "source": [
    "UTR_UP_PROT_DOWN = merged[(merged['log2FoldChange_UTR'] < 0) & (merged['log2FoldChange_PROT'] > 0)]"
   ]
  },
  {
   "cell_type": "code",
   "execution_count": 109,
   "metadata": {},
   "outputs": [],
   "source": [
    "UTR_DOWN_PROT_UP = merged[(merged['log2FoldChange_UTR'] > 0) & (merged['log2FoldChange_PROT'] < 0)] "
   ]
  },
  {
   "cell_type": "code",
   "execution_count": 110,
   "metadata": {},
   "outputs": [],
   "source": [
    "UTR_DOWN_PROT_DOWN = merged[(merged['log2FoldChange_UTR'] > 0) & (merged['log2FoldChange_PROT'] > 0)] "
   ]
  },
  {
   "cell_type": "code",
   "execution_count": 111,
   "metadata": {},
   "outputs": [],
   "source": [
    "# ponizsze, zgodnie ze znakami: w deseq mam znaki odwrotnie, tzn, jesli po MC jest wzrost to mam znak \"-\"\n",
    "# i dlatego UP ma znak '<'"
   ]
  },
  {
   "cell_type": "code",
   "execution_count": 112,
   "metadata": {},
   "outputs": [
    {
     "data": {
      "text/plain": [
       "(5211, 37)"
      ]
     },
     "execution_count": 112,
     "metadata": {},
     "output_type": "execute_result"
    }
   ],
   "source": [
    "UTR_UP_PROT_UP.shape"
   ]
  },
  {
   "cell_type": "code",
   "execution_count": 113,
   "metadata": {},
   "outputs": [
    {
     "data": {
      "text/plain": [
       "(818, 37)"
      ]
     },
     "execution_count": 113,
     "metadata": {},
     "output_type": "execute_result"
    }
   ],
   "source": [
    "UTR_UP_PROT_DOWN.shape"
   ]
  },
  {
   "cell_type": "code",
   "execution_count": 114,
   "metadata": {},
   "outputs": [
    {
     "data": {
      "text/plain": [
       "(924, 37)"
      ]
     },
     "execution_count": 114,
     "metadata": {},
     "output_type": "execute_result"
    }
   ],
   "source": [
    "UTR_DOWN_PROT_UP.shape"
   ]
  },
  {
   "cell_type": "code",
   "execution_count": 115,
   "metadata": {},
   "outputs": [
    {
     "data": {
      "text/plain": [
       "(4558, 37)"
      ]
     },
     "execution_count": 115,
     "metadata": {},
     "output_type": "execute_result"
    }
   ],
   "source": [
    "UTR_DOWN_PROT_DOWN.shape"
   ]
  },
  {
   "cell_type": "code",
   "execution_count": 116,
   "metadata": {},
   "outputs": [],
   "source": [
    "# wrzucamy to do uniprota w celu jakiejs funkcjonalnosc oznaczenia.\n",
    "UTR_UP_PROT_UP['Entry'].to_csv(prot_path+'entry_prot.csv', index=False)"
   ]
  },
  {
   "cell_type": "code",
   "execution_count": 117,
   "metadata": {},
   "outputs": [],
   "source": [
    "UTR_UP_PROT_UP.to_csv(path+\"PROPER_UTR_UP_PROT_UP_D9.csv\", index=False)\n",
    "UTR_UP_PROT_DOWN.to_csv(path+\"PROPER_UTR_UP_PROT_DOWN_D9.csv\", index=False)\n",
    "UTR_DOWN_PROT_UP.to_csv(path+\"PROPER_UTR_DOWN_PROT_UP_D9.csv\", index=False)\n",
    "UTR_DOWN_PROT_DOWN.to_csv(path+\"PROPER_UTR_DOWN_PROT_DOWN_D9.csv\", index=False)"
   ]
  },
  {
   "cell_type": "code",
   "execution_count": null,
   "metadata": {},
   "outputs": [],
   "source": []
  },
  {
   "cell_type": "code",
   "execution_count": null,
   "metadata": {},
   "outputs": [],
   "source": []
  },
  {
   "cell_type": "code",
   "execution_count": 118,
   "metadata": {
    "scrolled": true
   },
   "outputs": [
    {
     "data": {
      "text/html": [
       "<div>\n",
       "<style scoped>\n",
       "    .dataframe tbody tr th:only-of-type {\n",
       "        vertical-align: middle;\n",
       "    }\n",
       "\n",
       "    .dataframe tbody tr th {\n",
       "        vertical-align: top;\n",
       "    }\n",
       "\n",
       "    .dataframe thead th {\n",
       "        text-align: right;\n",
       "    }\n",
       "</style>\n",
       "<table border=\"1\" class=\"dataframe\">\n",
       "  <thead>\n",
       "    <tr style=\"text-align: right;\">\n",
       "      <th></th>\n",
       "      <th>redBars</th>\n",
       "      <th>orangeBars</th>\n",
       "      <th>greenBars</th>\n",
       "      <th>blueBars</th>\n",
       "    </tr>\n",
       "  </thead>\n",
       "  <tbody>\n",
       "    <tr>\n",
       "      <th>0</th>\n",
       "      <td>1549</td>\n",
       "      <td>55</td>\n",
       "      <td>63</td>\n",
       "      <td>207</td>\n",
       "    </tr>\n",
       "    <tr>\n",
       "      <th>1</th>\n",
       "      <td>7512</td>\n",
       "      <td>1812</td>\n",
       "      <td>1738</td>\n",
       "      <td>8919</td>\n",
       "    </tr>\n",
       "    <tr>\n",
       "      <th>2</th>\n",
       "      <td>5211</td>\n",
       "      <td>818</td>\n",
       "      <td>924</td>\n",
       "      <td>4558</td>\n",
       "    </tr>\n",
       "  </tbody>\n",
       "</table>\n",
       "</div>"
      ],
      "text/plain": [
       "   redBars  orangeBars  greenBars  blueBars\n",
       "0     1549          55         63       207\n",
       "1     7512        1812       1738      8919\n",
       "2     5211         818        924      4558"
      ]
     },
     "execution_count": 118,
     "metadata": {},
     "output_type": "execute_result"
    }
   ],
   "source": [
    "# redBars = UTR ↑ PROT ↑\n",
    "# orangeBars = UTR ↑ PROT ↓\n",
    "# greenBars = UTR ↓ PROT ↑\n",
    "# blueBars = UTR ↓ PROT ↓\n",
    "\n",
    "\n",
    "# Data\n",
    "r = [0,1,2]\n",
    "raw_data = {'redBars': [1549, 7512, 5211], 'orangeBars': [55, 1812, 818],'greenBars': [63, 1738, 924], 'blueBars': [207, 8919, 4558]}\n",
    "df = pd.DataFrame(raw_data)\n",
    "df"
   ]
  },
  {
   "cell_type": "code",
   "execution_count": 119,
   "metadata": {},
   "outputs": [],
   "source": [
    "# From raw value to percentage\n",
    "totals = [i+j+k+l for i,j,k,l in zip(df['greenBars'], df['orangeBars'], df['blueBars'], df['redBars'])]\n",
    "greenBars = [i / j * 100 for i,j in zip(df['greenBars'], totals)]\n",
    "orangeBars = [i / j * 100 for i,j in zip(df['orangeBars'], totals)]\n",
    "blueBars = [i / j * 100 for i,j in zip(df['blueBars'], totals)]\n",
    "redBars = [i / j * 100 for i,j in zip(df['redBars'], totals)]"
   ]
  },
  {
   "cell_type": "code",
   "execution_count": 126,
   "metadata": {},
   "outputs": [
    {
     "data": {
      "text/plain": [
       "<matplotlib.legend.Legend at 0x7fade722f828>"
      ]
     },
     "execution_count": 126,
     "metadata": {},
     "output_type": "execute_result"
    },
    {
     "data": {
      "image/png": "[encoded data removed]",
      "text/plain": [
       "<Figure size 1800x1200 with 1 Axes>"
      ]
     },
     "metadata": {
      "needs_background": "light"
     },
     "output_type": "display_data"
    }
   ],
   "source": [
    "# plot\n",
    "plt.figure(dpi=300)\n",
    "barWidth = 0.85\n",
    "names = ('1d','6d','9d')\n",
    "# Create green Bars\n",
    "plt.bar(r, blueBars, color='#77b5e5', edgecolor='white', width=barWidth, label=\"3'UTR ↓ PCT ↓\")\n",
    "# Create orange Bars\n",
    "plt.bar(r, orangeBars, bottom=blueBars, color='#dd9675', edgecolor='white', width=barWidth, label=\"3'UTR ↑ PCT ↓\")\n",
    "# Create blue Bars\n",
    "plt.bar(r, greenBars, bottom=[i+j for i,j in zip(blueBars, orangeBars)], color='#53d168', edgecolor='white', width=barWidth, label=\"3'UTR ↓ PCT ↑\")\n",
    "# Create red Bars\n",
    "plt.bar(r, redBars, bottom=[i+j+k for i,j,k in zip(blueBars, orangeBars, greenBars)], color='#d15360', edgecolor='white', width=barWidth, label=\"3'UTR ↑ PCT ↑\")\n",
    "\n",
    "# Custom x axis\n",
    "plt.xticks(r, names)\n",
    "plt.legend(loc='upper left', bbox_to_anchor=(1,1), ncol=2)"
   ]
  },
  {
   "cell_type": "markdown",
   "metadata": {},
   "source": [
    "# ///// END"
   ]
  },
  {
   "cell_type": "code",
   "execution_count": null,
   "metadata": {},
   "outputs": [],
   "source": []
  },
  {
   "cell_type": "markdown",
   "metadata": {},
   "source": [
    "# BEGIN //// wyliczenie deseq dla PBS_UTR vs PBS_PROT"
   ]
  },
  {
   "cell_type": "code",
   "execution_count": null,
   "metadata": {},
   "outputs": [],
   "source": []
  },
  {
   "cell_type": "code",
   "execution_count": 3,
   "metadata": {},
   "outputs": [
    {
     "data": {
      "text/html": [
       "<div>\n",
       "<style scoped>\n",
       "    .dataframe tbody tr th:only-of-type {\n",
       "        vertical-align: middle;\n",
       "    }\n",
       "\n",
       "    .dataframe tbody tr th {\n",
       "        vertical-align: top;\n",
       "    }\n",
       "\n",
       "    .dataframe thead th {\n",
       "        text-align: right;\n",
       "    }\n",
       "</style>\n",
       "<table border=\"1\" class=\"dataframe\">\n",
       "  <thead>\n",
       "    <tr style=\"text-align: right;\">\n",
       "      <th></th>\n",
       "      <th>query</th>\n",
       "      <th>al_title</th>\n",
       "      <th>al_accession</th>\n",
       "      <th>evalue</th>\n",
       "      <th>coverage</th>\n",
       "      <th>Entry</th>\n",
       "      <th>Protein names</th>\n",
       "      <th>Gene names</th>\n",
       "    </tr>\n",
       "  </thead>\n",
       "  <tbody>\n",
       "    <tr>\n",
       "      <th>0</th>\n",
       "      <td>TRINITY_DN100004_c4_g2_i2</td>\n",
       "      <td>gi|929290304|ref|XM_014166828.1| PREDICTED: Sa...</td>\n",
       "      <td>XM_014166828</td>\n",
       "      <td>0.0</td>\n",
       "      <td>100.183824</td>\n",
       "      <td>A0A1S3P3U9</td>\n",
       "      <td>forkhead box protein P4-like isoform X8</td>\n",
       "      <td>LOC106583051</td>\n",
       "    </tr>\n",
       "  </tbody>\n",
       "</table>\n",
       "</div>"
      ],
      "text/plain": [
       "                       query  \\\n",
       "0  TRINITY_DN100004_c4_g2_i2   \n",
       "\n",
       "                                            al_title  al_accession  evalue  \\\n",
       "0  gi|929290304|ref|XM_014166828.1| PREDICTED: Sa...  XM_014166828     0.0   \n",
       "\n",
       "     coverage       Entry                            Protein names  \\\n",
       "0  100.183824  A0A1S3P3U9  forkhead box protein P4-like isoform X8   \n",
       "\n",
       "     Gene names  \n",
       "0  LOC106583051  "
      ]
     },
     "execution_count": 3,
     "metadata": {},
     "output_type": "execute_result"
    }
   ],
   "source": [
    "UTR = pd.read_csv(path+'mRNA_only_merged_w_XP.csv')\n",
    "UTR.head(1)"
   ]
  },
  {
   "cell_type": "code",
   "execution_count": 4,
   "metadata": {
    "scrolled": true
   },
   "outputs": [
    {
     "data": {
      "text/html": [
       "<div>\n",
       "<style scoped>\n",
       "    .dataframe tbody tr th:only-of-type {\n",
       "        vertical-align: middle;\n",
       "    }\n",
       "\n",
       "    .dataframe tbody tr th {\n",
       "        vertical-align: top;\n",
       "    }\n",
       "\n",
       "    .dataframe thead th {\n",
       "        text-align: right;\n",
       "    }\n",
       "</style>\n",
       "<table border=\"1\" class=\"dataframe\">\n",
       "  <thead>\n",
       "    <tr style=\"text-align: right;\">\n",
       "      <th></th>\n",
       "      <th>query</th>\n",
       "      <th>Entry</th>\n",
       "    </tr>\n",
       "  </thead>\n",
       "  <tbody>\n",
       "    <tr>\n",
       "      <th>0</th>\n",
       "      <td>TRINITY_DN100004_c4_g2_i2</td>\n",
       "      <td>A0A1S3P3U9</td>\n",
       "    </tr>\n",
       "  </tbody>\n",
       "</table>\n",
       "</div>"
      ],
      "text/plain": [
       "                       query       Entry\n",
       "0  TRINITY_DN100004_c4_g2_i2  A0A1S3P3U9"
      ]
     },
     "execution_count": 4,
     "metadata": {},
     "output_type": "execute_result"
    }
   ],
   "source": [
    "UTR = UTR[['query', 'Entry']]\n",
    "UTR.head(1)"
   ]
  },
  {
   "cell_type": "code",
   "execution_count": 5,
   "metadata": {},
   "outputs": [],
   "source": [
    "UTR.rename(columns={'query':'trinity'}, inplace=True)"
   ]
  },
  {
   "cell_type": "code",
   "execution_count": 6,
   "metadata": {},
   "outputs": [
    {
     "data": {
      "text/html": [
       "<div>\n",
       "<style scoped>\n",
       "    .dataframe tbody tr th:only-of-type {\n",
       "        vertical-align: middle;\n",
       "    }\n",
       "\n",
       "    .dataframe tbody tr th {\n",
       "        vertical-align: top;\n",
       "    }\n",
       "\n",
       "    .dataframe thead th {\n",
       "        text-align: right;\n",
       "    }\n",
       "</style>\n",
       "<table border=\"1\" class=\"dataframe\">\n",
       "  <thead>\n",
       "    <tr style=\"text-align: right;\">\n",
       "      <th></th>\n",
       "      <th>trinity</th>\n",
       "      <th>Entry</th>\n",
       "    </tr>\n",
       "  </thead>\n",
       "  <tbody>\n",
       "    <tr>\n",
       "      <th>0</th>\n",
       "      <td>TRINITY_DN100004_c4_g2_i2</td>\n",
       "      <td>A0A1S3P3U9</td>\n",
       "    </tr>\n",
       "  </tbody>\n",
       "</table>\n",
       "</div>"
      ],
      "text/plain": [
       "                     trinity       Entry\n",
       "0  TRINITY_DN100004_c4_g2_i2  A0A1S3P3U9"
      ]
     },
     "execution_count": 6,
     "metadata": {},
     "output_type": "execute_result"
    }
   ],
   "source": [
    "UTR.head(1)"
   ]
  },
  {
   "cell_type": "code",
   "execution_count": 7,
   "metadata": {},
   "outputs": [
    {
     "data": {
      "text/html": [
       "<div>\n",
       "<style scoped>\n",
       "    .dataframe tbody tr th:only-of-type {\n",
       "        vertical-align: middle;\n",
       "    }\n",
       "\n",
       "    .dataframe tbody tr th {\n",
       "        vertical-align: top;\n",
       "    }\n",
       "\n",
       "    .dataframe thead th {\n",
       "        text-align: right;\n",
       "    }\n",
       "</style>\n",
       "<table border=\"1\" class=\"dataframe\">\n",
       "  <thead>\n",
       "    <tr style=\"text-align: right;\">\n",
       "      <th></th>\n",
       "      <th>trinity</th>\n",
       "      <th>PBS_1d_1</th>\n",
       "      <th>PBS_1d_2</th>\n",
       "      <th>PBS_1d_3</th>\n",
       "      <th>PBS_1d_4</th>\n",
       "      <th>MC_1d_1</th>\n",
       "      <th>MC_1d_2</th>\n",
       "      <th>MC_1d_3</th>\n",
       "      <th>MC_6d_1</th>\n",
       "      <th>MC_6d_2</th>\n",
       "      <th>MC_6d_3</th>\n",
       "      <th>MC_9d_1</th>\n",
       "      <th>MC_9d_2</th>\n",
       "      <th>MC_9d_3</th>\n",
       "    </tr>\n",
       "  </thead>\n",
       "  <tbody>\n",
       "    <tr>\n",
       "      <th>0</th>\n",
       "      <td>TRINITY_DN100003_c1_g1_i1</td>\n",
       "      <td>8</td>\n",
       "      <td>16</td>\n",
       "      <td>29</td>\n",
       "      <td>1</td>\n",
       "      <td>24</td>\n",
       "      <td>21</td>\n",
       "      <td>24</td>\n",
       "      <td>1</td>\n",
       "      <td>1</td>\n",
       "      <td>2</td>\n",
       "      <td>7</td>\n",
       "      <td>2</td>\n",
       "      <td>34</td>\n",
       "    </tr>\n",
       "    <tr>\n",
       "      <th>1</th>\n",
       "      <td>TRINITY_DN100004_c4_g2_i2</td>\n",
       "      <td>9</td>\n",
       "      <td>22</td>\n",
       "      <td>24</td>\n",
       "      <td>8</td>\n",
       "      <td>23</td>\n",
       "      <td>50</td>\n",
       "      <td>45</td>\n",
       "      <td>65</td>\n",
       "      <td>53</td>\n",
       "      <td>95</td>\n",
       "      <td>76</td>\n",
       "      <td>29</td>\n",
       "      <td>74</td>\n",
       "    </tr>\n",
       "    <tr>\n",
       "      <th>2</th>\n",
       "      <td>TRINITY_DN100005_c7_g2_i1</td>\n",
       "      <td>800</td>\n",
       "      <td>798</td>\n",
       "      <td>577</td>\n",
       "      <td>913</td>\n",
       "      <td>1322</td>\n",
       "      <td>1276</td>\n",
       "      <td>1285</td>\n",
       "      <td>6952</td>\n",
       "      <td>5736</td>\n",
       "      <td>4279</td>\n",
       "      <td>6616</td>\n",
       "      <td>4073</td>\n",
       "      <td>3119</td>\n",
       "    </tr>\n",
       "    <tr>\n",
       "      <th>3</th>\n",
       "      <td>TRINITY_DN100005_c8_g3_i1</td>\n",
       "      <td>101</td>\n",
       "      <td>102</td>\n",
       "      <td>92</td>\n",
       "      <td>248</td>\n",
       "      <td>52</td>\n",
       "      <td>56</td>\n",
       "      <td>71</td>\n",
       "      <td>89</td>\n",
       "      <td>189</td>\n",
       "      <td>138</td>\n",
       "      <td>313</td>\n",
       "      <td>327</td>\n",
       "      <td>278</td>\n",
       "    </tr>\n",
       "    <tr>\n",
       "      <th>4</th>\n",
       "      <td>TRINITY_DN100005_c9_g1_i1</td>\n",
       "      <td>19</td>\n",
       "      <td>4</td>\n",
       "      <td>22</td>\n",
       "      <td>4</td>\n",
       "      <td>2</td>\n",
       "      <td>2</td>\n",
       "      <td>1</td>\n",
       "      <td>0</td>\n",
       "      <td>1</td>\n",
       "      <td>0</td>\n",
       "      <td>2</td>\n",
       "      <td>6</td>\n",
       "      <td>18</td>\n",
       "    </tr>\n",
       "  </tbody>\n",
       "</table>\n",
       "</div>"
      ],
      "text/plain": [
       "                     trinity  PBS_1d_1  PBS_1d_2  PBS_1d_3  PBS_1d_4  MC_1d_1  \\\n",
       "0  TRINITY_DN100003_c1_g1_i1         8        16        29         1       24   \n",
       "1  TRINITY_DN100004_c4_g2_i2         9        22        24         8       23   \n",
       "2  TRINITY_DN100005_c7_g2_i1       800       798       577       913     1322   \n",
       "3  TRINITY_DN100005_c8_g3_i1       101       102        92       248       52   \n",
       "4  TRINITY_DN100005_c9_g1_i1        19         4        22         4        2   \n",
       "\n",
       "   MC_1d_2  MC_1d_3  MC_6d_1  MC_6d_2  MC_6d_3  MC_9d_1  MC_9d_2  MC_9d_3  \n",
       "0       21       24        1        1        2        7        2       34  \n",
       "1       50       45       65       53       95       76       29       74  \n",
       "2     1276     1285     6952     5736     4279     6616     4073     3119  \n",
       "3       56       71       89      189      138      313      327      278  \n",
       "4        2        1        0        1        0        2        6       18  "
      ]
     },
     "execution_count": 7,
     "metadata": {},
     "output_type": "execute_result"
    }
   ],
   "source": [
    "matryca_novel = pd.read_csv(path+'PBS1d_MC_all_matryca.csv')\n",
    "matryca_novel.head()"
   ]
  },
  {
   "cell_type": "code",
   "execution_count": 8,
   "metadata": {},
   "outputs": [
    {
     "data": {
      "text/plain": [
       "(188998, 14)"
      ]
     },
     "execution_count": 8,
     "metadata": {},
     "output_type": "execute_result"
    }
   ],
   "source": [
    "matryca_novel.shape"
   ]
  },
  {
   "cell_type": "code",
   "execution_count": 9,
   "metadata": {},
   "outputs": [
    {
     "data": {
      "text/html": [
       "<div>\n",
       "<style scoped>\n",
       "    .dataframe tbody tr th:only-of-type {\n",
       "        vertical-align: middle;\n",
       "    }\n",
       "\n",
       "    .dataframe tbody tr th {\n",
       "        vertical-align: top;\n",
       "    }\n",
       "\n",
       "    .dataframe thead th {\n",
       "        text-align: right;\n",
       "    }\n",
       "</style>\n",
       "<table border=\"1\" class=\"dataframe\">\n",
       "  <thead>\n",
       "    <tr style=\"text-align: right;\">\n",
       "      <th></th>\n",
       "      <th>trinity</th>\n",
       "      <th>Entry</th>\n",
       "      <th>PBS_1d_1</th>\n",
       "      <th>PBS_1d_2</th>\n",
       "      <th>PBS_1d_3</th>\n",
       "      <th>PBS_1d_4</th>\n",
       "      <th>MC_1d_1</th>\n",
       "      <th>MC_1d_2</th>\n",
       "      <th>MC_1d_3</th>\n",
       "      <th>MC_6d_1</th>\n",
       "      <th>MC_6d_2</th>\n",
       "      <th>MC_6d_3</th>\n",
       "      <th>MC_9d_1</th>\n",
       "      <th>MC_9d_2</th>\n",
       "      <th>MC_9d_3</th>\n",
       "    </tr>\n",
       "  </thead>\n",
       "  <tbody>\n",
       "    <tr>\n",
       "      <th>0</th>\n",
       "      <td>TRINITY_DN100004_c4_g2_i2</td>\n",
       "      <td>A0A1S3P3U9</td>\n",
       "      <td>9</td>\n",
       "      <td>22</td>\n",
       "      <td>24</td>\n",
       "      <td>8</td>\n",
       "      <td>23</td>\n",
       "      <td>50</td>\n",
       "      <td>45</td>\n",
       "      <td>65</td>\n",
       "      <td>53</td>\n",
       "      <td>95</td>\n",
       "      <td>76</td>\n",
       "      <td>29</td>\n",
       "      <td>74</td>\n",
       "    </tr>\n",
       "    <tr>\n",
       "      <th>1</th>\n",
       "      <td>TRINITY_DN100005_c7_g2_i1</td>\n",
       "      <td>A0A1S3SUX9</td>\n",
       "      <td>800</td>\n",
       "      <td>798</td>\n",
       "      <td>577</td>\n",
       "      <td>913</td>\n",
       "      <td>1322</td>\n",
       "      <td>1276</td>\n",
       "      <td>1285</td>\n",
       "      <td>6952</td>\n",
       "      <td>5736</td>\n",
       "      <td>4279</td>\n",
       "      <td>6616</td>\n",
       "      <td>4073</td>\n",
       "      <td>3119</td>\n",
       "    </tr>\n",
       "    <tr>\n",
       "      <th>2</th>\n",
       "      <td>TRINITY_DN81030_c8_g4_i1</td>\n",
       "      <td>A0A1S3SUX9</td>\n",
       "      <td>47</td>\n",
       "      <td>44</td>\n",
       "      <td>18</td>\n",
       "      <td>47</td>\n",
       "      <td>62</td>\n",
       "      <td>74</td>\n",
       "      <td>62</td>\n",
       "      <td>335</td>\n",
       "      <td>306</td>\n",
       "      <td>196</td>\n",
       "      <td>292</td>\n",
       "      <td>162</td>\n",
       "      <td>121</td>\n",
       "    </tr>\n",
       "    <tr>\n",
       "      <th>3</th>\n",
       "      <td>TRINITY_DN83202_c8_g4_i2</td>\n",
       "      <td>A0A1S3SUX9</td>\n",
       "      <td>35</td>\n",
       "      <td>21</td>\n",
       "      <td>30</td>\n",
       "      <td>30</td>\n",
       "      <td>13</td>\n",
       "      <td>28</td>\n",
       "      <td>32</td>\n",
       "      <td>8</td>\n",
       "      <td>6</td>\n",
       "      <td>13</td>\n",
       "      <td>21</td>\n",
       "      <td>15</td>\n",
       "      <td>38</td>\n",
       "    </tr>\n",
       "    <tr>\n",
       "      <th>4</th>\n",
       "      <td>TRINITY_DN105298_c5_g1_i2</td>\n",
       "      <td>A0A1S3SUX9</td>\n",
       "      <td>23</td>\n",
       "      <td>15</td>\n",
       "      <td>19</td>\n",
       "      <td>25</td>\n",
       "      <td>7</td>\n",
       "      <td>12</td>\n",
       "      <td>10</td>\n",
       "      <td>1</td>\n",
       "      <td>13</td>\n",
       "      <td>8</td>\n",
       "      <td>22</td>\n",
       "      <td>8</td>\n",
       "      <td>13</td>\n",
       "    </tr>\n",
       "  </tbody>\n",
       "</table>\n",
       "</div>"
      ],
      "text/plain": [
       "                     trinity       Entry  PBS_1d_1  PBS_1d_2  PBS_1d_3  \\\n",
       "0  TRINITY_DN100004_c4_g2_i2  A0A1S3P3U9         9        22        24   \n",
       "1  TRINITY_DN100005_c7_g2_i1  A0A1S3SUX9       800       798       577   \n",
       "2   TRINITY_DN81030_c8_g4_i1  A0A1S3SUX9        47        44        18   \n",
       "3   TRINITY_DN83202_c8_g4_i2  A0A1S3SUX9        35        21        30   \n",
       "4  TRINITY_DN105298_c5_g1_i2  A0A1S3SUX9        23        15        19   \n",
       "\n",
       "   PBS_1d_4  MC_1d_1  MC_1d_2  MC_1d_3  MC_6d_1  MC_6d_2  MC_6d_3  MC_9d_1  \\\n",
       "0         8       23       50       45       65       53       95       76   \n",
       "1       913     1322     1276     1285     6952     5736     4279     6616   \n",
       "2        47       62       74       62      335      306      196      292   \n",
       "3        30       13       28       32        8        6       13       21   \n",
       "4        25        7       12       10        1       13        8       22   \n",
       "\n",
       "   MC_9d_2  MC_9d_3  \n",
       "0       29       74  \n",
       "1     4073     3119  \n",
       "2      162      121  \n",
       "3       15       38  \n",
       "4        8       13  "
      ]
     },
     "execution_count": 9,
     "metadata": {},
     "output_type": "execute_result"
    }
   ],
   "source": [
    "matryca_w_entry = pd.merge(UTR, matryca_novel, on='trinity', how='inner')\n",
    "matryca_w_entry.head()"
   ]
  },
  {
   "cell_type": "code",
   "execution_count": 10,
   "metadata": {},
   "outputs": [
    {
     "data": {
      "text/plain": [
       "(93208, 15)"
      ]
     },
     "execution_count": 10,
     "metadata": {},
     "output_type": "execute_result"
    }
   ],
   "source": [
    "matryca_w_entry.shape #mamy tu tylko trinity zidentyfikowane jako mRNA bialka (UTR)"
   ]
  },
  {
   "cell_type": "code",
   "execution_count": 11,
   "metadata": {},
   "outputs": [],
   "source": [
    "matryca_w_entry.columns = [str(col) + '_UTR' for col in matryca_w_entry.columns]"
   ]
  },
  {
   "cell_type": "code",
   "execution_count": 12,
   "metadata": {},
   "outputs": [],
   "source": [
    "matryca_w_entry.rename(columns={'Entry_UTR':'Entry', 'trinity_UTR':'id_UTR'}, inplace=True)"
   ]
  },
  {
   "cell_type": "code",
   "execution_count": 13,
   "metadata": {
    "scrolled": false
   },
   "outputs": [
    {
     "data": {
      "text/html": [
       "<div>\n",
       "<style scoped>\n",
       "    .dataframe tbody tr th:only-of-type {\n",
       "        vertical-align: middle;\n",
       "    }\n",
       "\n",
       "    .dataframe tbody tr th {\n",
       "        vertical-align: top;\n",
       "    }\n",
       "\n",
       "    .dataframe thead th {\n",
       "        text-align: right;\n",
       "    }\n",
       "</style>\n",
       "<table border=\"1\" class=\"dataframe\">\n",
       "  <thead>\n",
       "    <tr style=\"text-align: right;\">\n",
       "      <th></th>\n",
       "      <th>id_UTR</th>\n",
       "      <th>Entry</th>\n",
       "      <th>PBS_1d_1_UTR</th>\n",
       "      <th>PBS_1d_2_UTR</th>\n",
       "      <th>PBS_1d_3_UTR</th>\n",
       "      <th>PBS_1d_4_UTR</th>\n",
       "      <th>MC_1d_1_UTR</th>\n",
       "      <th>MC_1d_2_UTR</th>\n",
       "      <th>MC_1d_3_UTR</th>\n",
       "      <th>MC_6d_1_UTR</th>\n",
       "      <th>MC_6d_2_UTR</th>\n",
       "      <th>MC_6d_3_UTR</th>\n",
       "      <th>MC_9d_1_UTR</th>\n",
       "      <th>MC_9d_2_UTR</th>\n",
       "      <th>MC_9d_3_UTR</th>\n",
       "    </tr>\n",
       "  </thead>\n",
       "  <tbody>\n",
       "    <tr>\n",
       "      <th>0</th>\n",
       "      <td>TRINITY_DN100004_c4_g2_i2</td>\n",
       "      <td>A0A1S3P3U9</td>\n",
       "      <td>9</td>\n",
       "      <td>22</td>\n",
       "      <td>24</td>\n",
       "      <td>8</td>\n",
       "      <td>23</td>\n",
       "      <td>50</td>\n",
       "      <td>45</td>\n",
       "      <td>65</td>\n",
       "      <td>53</td>\n",
       "      <td>95</td>\n",
       "      <td>76</td>\n",
       "      <td>29</td>\n",
       "      <td>74</td>\n",
       "    </tr>\n",
       "    <tr>\n",
       "      <th>1</th>\n",
       "      <td>TRINITY_DN100005_c7_g2_i1</td>\n",
       "      <td>A0A1S3SUX9</td>\n",
       "      <td>800</td>\n",
       "      <td>798</td>\n",
       "      <td>577</td>\n",
       "      <td>913</td>\n",
       "      <td>1322</td>\n",
       "      <td>1276</td>\n",
       "      <td>1285</td>\n",
       "      <td>6952</td>\n",
       "      <td>5736</td>\n",
       "      <td>4279</td>\n",
       "      <td>6616</td>\n",
       "      <td>4073</td>\n",
       "      <td>3119</td>\n",
       "    </tr>\n",
       "    <tr>\n",
       "      <th>2</th>\n",
       "      <td>TRINITY_DN81030_c8_g4_i1</td>\n",
       "      <td>A0A1S3SUX9</td>\n",
       "      <td>47</td>\n",
       "      <td>44</td>\n",
       "      <td>18</td>\n",
       "      <td>47</td>\n",
       "      <td>62</td>\n",
       "      <td>74</td>\n",
       "      <td>62</td>\n",
       "      <td>335</td>\n",
       "      <td>306</td>\n",
       "      <td>196</td>\n",
       "      <td>292</td>\n",
       "      <td>162</td>\n",
       "      <td>121</td>\n",
       "    </tr>\n",
       "    <tr>\n",
       "      <th>3</th>\n",
       "      <td>TRINITY_DN83202_c8_g4_i2</td>\n",
       "      <td>A0A1S3SUX9</td>\n",
       "      <td>35</td>\n",
       "      <td>21</td>\n",
       "      <td>30</td>\n",
       "      <td>30</td>\n",
       "      <td>13</td>\n",
       "      <td>28</td>\n",
       "      <td>32</td>\n",
       "      <td>8</td>\n",
       "      <td>6</td>\n",
       "      <td>13</td>\n",
       "      <td>21</td>\n",
       "      <td>15</td>\n",
       "      <td>38</td>\n",
       "    </tr>\n",
       "    <tr>\n",
       "      <th>4</th>\n",
       "      <td>TRINITY_DN105298_c5_g1_i2</td>\n",
       "      <td>A0A1S3SUX9</td>\n",
       "      <td>23</td>\n",
       "      <td>15</td>\n",
       "      <td>19</td>\n",
       "      <td>25</td>\n",
       "      <td>7</td>\n",
       "      <td>12</td>\n",
       "      <td>10</td>\n",
       "      <td>1</td>\n",
       "      <td>13</td>\n",
       "      <td>8</td>\n",
       "      <td>22</td>\n",
       "      <td>8</td>\n",
       "      <td>13</td>\n",
       "    </tr>\n",
       "  </tbody>\n",
       "</table>\n",
       "</div>"
      ],
      "text/plain": [
       "                      id_UTR       Entry  PBS_1d_1_UTR  PBS_1d_2_UTR  \\\n",
       "0  TRINITY_DN100004_c4_g2_i2  A0A1S3P3U9             9            22   \n",
       "1  TRINITY_DN100005_c7_g2_i1  A0A1S3SUX9           800           798   \n",
       "2   TRINITY_DN81030_c8_g4_i1  A0A1S3SUX9            47            44   \n",
       "3   TRINITY_DN83202_c8_g4_i2  A0A1S3SUX9            35            21   \n",
       "4  TRINITY_DN105298_c5_g1_i2  A0A1S3SUX9            23            15   \n",
       "\n",
       "   PBS_1d_3_UTR  PBS_1d_4_UTR  MC_1d_1_UTR  MC_1d_2_UTR  MC_1d_3_UTR  \\\n",
       "0            24             8           23           50           45   \n",
       "1           577           913         1322         1276         1285   \n",
       "2            18            47           62           74           62   \n",
       "3            30            30           13           28           32   \n",
       "4            19            25            7           12           10   \n",
       "\n",
       "   MC_6d_1_UTR  MC_6d_2_UTR  MC_6d_3_UTR  MC_9d_1_UTR  MC_9d_2_UTR  \\\n",
       "0           65           53           95           76           29   \n",
       "1         6952         5736         4279         6616         4073   \n",
       "2          335          306          196          292          162   \n",
       "3            8            6           13           21           15   \n",
       "4            1           13            8           22            8   \n",
       "\n",
       "   MC_9d_3_UTR  \n",
       "0           74  \n",
       "1         3119  \n",
       "2          121  \n",
       "3           38  \n",
       "4           13  "
      ]
     },
     "execution_count": 13,
     "metadata": {},
     "output_type": "execute_result"
    }
   ],
   "source": [
    "matryca_w_entry.head()"
   ]
  },
  {
   "cell_type": "markdown",
   "metadata": {},
   "source": [
    "## BIAŁKA PROT"
   ]
  },
  {
   "cell_type": "code",
   "execution_count": 15,
   "metadata": {},
   "outputs": [],
   "source": [
    "# BIALKA:\n",
    "\n",
    "salmo_rep_with_annot = pd.read_csv('/mnt/sdb1/Project_Sieja_MCLR_52/1_code/report_salmo_annot_feature_map_salmo_proteins_xp01.csv', sep='\\t', low_memory=False)"
   ]
  },
  {
   "cell_type": "code",
   "execution_count": 16,
   "metadata": {
    "scrolled": false
   },
   "outputs": [
    {
     "data": {
      "text/html": [
       "<div>\n",
       "<style scoped>\n",
       "    .dataframe tbody tr th:only-of-type {\n",
       "        vertical-align: middle;\n",
       "    }\n",
       "\n",
       "    .dataframe tbody tr th {\n",
       "        vertical-align: top;\n",
       "    }\n",
       "\n",
       "    .dataframe thead th {\n",
       "        text-align: right;\n",
       "    }\n",
       "</style>\n",
       "<table border=\"1\" class=\"dataframe\">\n",
       "  <thead>\n",
       "    <tr style=\"text-align: right;\">\n",
       "      <th></th>\n",
       "      <th>id</th>\n",
       "      <th>ident</th>\n",
       "    </tr>\n",
       "  </thead>\n",
       "  <tbody>\n",
       "    <tr>\n",
       "      <th>0</th>\n",
       "      <td>TRINITY_DN100000_c5_g1</td>\n",
       "      <td>XP_013978521.1</td>\n",
       "    </tr>\n",
       "    <tr>\n",
       "      <th>1</th>\n",
       "      <td>TRINITY_DN100000_c5_g1_i2</td>\n",
       "      <td>XP_014024532.1</td>\n",
       "    </tr>\n",
       "    <tr>\n",
       "      <th>2</th>\n",
       "      <td>TRINITY_DN100000_c5_g1_i6</td>\n",
       "      <td>XP_013978521.1</td>\n",
       "    </tr>\n",
       "    <tr>\n",
       "      <th>3</th>\n",
       "      <td>TRINITY_DN100000_c9_g1</td>\n",
       "      <td>NaN</td>\n",
       "    </tr>\n",
       "    <tr>\n",
       "      <th>4</th>\n",
       "      <td>TRINITY_DN100000_c9_g1_i1</td>\n",
       "      <td>NaN</td>\n",
       "    </tr>\n",
       "  </tbody>\n",
       "</table>\n",
       "</div>"
      ],
      "text/plain": [
       "                          id           ident\n",
       "0     TRINITY_DN100000_c5_g1  XP_013978521.1\n",
       "1  TRINITY_DN100000_c5_g1_i2  XP_014024532.1\n",
       "2  TRINITY_DN100000_c5_g1_i6  XP_013978521.1\n",
       "3     TRINITY_DN100000_c9_g1             NaN\n",
       "4  TRINITY_DN100000_c9_g1_i1             NaN"
      ]
     },
     "execution_count": 16,
     "metadata": {},
     "output_type": "execute_result"
    }
   ],
   "source": [
    "salmo_rep_with_annot.head()"
   ]
  },
  {
   "cell_type": "code",
   "execution_count": 17,
   "metadata": {},
   "outputs": [
    {
     "data": {
      "text/plain": [
       "(332030, 2)"
      ]
     },
     "execution_count": 17,
     "metadata": {},
     "output_type": "execute_result"
    }
   ],
   "source": [
    "salmo_rep_with_annot.shape"
   ]
  },
  {
   "cell_type": "code",
   "execution_count": 18,
   "metadata": {},
   "outputs": [
    {
     "data": {
      "text/plain": [
       "(257125, 2)"
      ]
     },
     "execution_count": 18,
     "metadata": {},
     "output_type": "execute_result"
    }
   ],
   "source": [
    "salmo_rep_with_annot.dropna(inplace=True)\n",
    "salmo_rep_with_annot.shape"
   ]
  },
  {
   "cell_type": "code",
   "execution_count": 19,
   "metadata": {},
   "outputs": [
    {
     "data": {
      "text/html": [
       "<div>\n",
       "<style scoped>\n",
       "    .dataframe tbody tr th:only-of-type {\n",
       "        vertical-align: middle;\n",
       "    }\n",
       "\n",
       "    .dataframe tbody tr th {\n",
       "        vertical-align: top;\n",
       "    }\n",
       "\n",
       "    .dataframe thead th {\n",
       "        text-align: right;\n",
       "    }\n",
       "</style>\n",
       "<table border=\"1\" class=\"dataframe\">\n",
       "  <thead>\n",
       "    <tr style=\"text-align: right;\">\n",
       "      <th></th>\n",
       "      <th>id</th>\n",
       "      <th>ident</th>\n",
       "    </tr>\n",
       "  </thead>\n",
       "  <tbody>\n",
       "    <tr>\n",
       "      <th>0</th>\n",
       "      <td>TRINITY_DN100000_c5_g1</td>\n",
       "      <td>XP_013978521.1</td>\n",
       "    </tr>\n",
       "    <tr>\n",
       "      <th>1</th>\n",
       "      <td>TRINITY_DN100000_c5_g1_i2</td>\n",
       "      <td>XP_014024532.1</td>\n",
       "    </tr>\n",
       "    <tr>\n",
       "      <th>2</th>\n",
       "      <td>TRINITY_DN100000_c5_g1_i6</td>\n",
       "      <td>XP_013978521.1</td>\n",
       "    </tr>\n",
       "    <tr>\n",
       "      <th>7</th>\n",
       "      <td>TRINITY_DN100001_c2_g2</td>\n",
       "      <td>XP_014027367.1</td>\n",
       "    </tr>\n",
       "    <tr>\n",
       "      <th>8</th>\n",
       "      <td>TRINITY_DN100001_c2_g2_i2</td>\n",
       "      <td>XP_014027367.1</td>\n",
       "    </tr>\n",
       "  </tbody>\n",
       "</table>\n",
       "</div>"
      ],
      "text/plain": [
       "                          id           ident\n",
       "0     TRINITY_DN100000_c5_g1  XP_013978521.1\n",
       "1  TRINITY_DN100000_c5_g1_i2  XP_014024532.1\n",
       "2  TRINITY_DN100000_c5_g1_i6  XP_013978521.1\n",
       "7     TRINITY_DN100001_c2_g2  XP_014027367.1\n",
       "8  TRINITY_DN100001_c2_g2_i2  XP_014027367.1"
      ]
     },
     "execution_count": 19,
     "metadata": {},
     "output_type": "execute_result"
    }
   ],
   "source": [
    "salmo_rep_with_annot.head()"
   ]
  },
  {
   "cell_type": "code",
   "execution_count": 20,
   "metadata": {
    "scrolled": true
   },
   "outputs": [
    {
     "data": {
      "text/plain": [
       "id       object\n",
       "ident    object\n",
       "dtype: object"
      ]
     },
     "execution_count": 20,
     "metadata": {},
     "output_type": "execute_result"
    }
   ],
   "source": [
    "salmo_rep_with_annot.dtypes"
   ]
  },
  {
   "cell_type": "code",
   "execution_count": 52,
   "metadata": {},
   "outputs": [],
   "source": [
    "salmo_rep_with_annot['ident'].to_csv(path+'xp_to_uniref.txt', index=False)"
   ]
  },
  {
   "cell_type": "code",
   "execution_count": 23,
   "metadata": {},
   "outputs": [
    {
     "data": {
      "text/html": [
       "<div>\n",
       "<style scoped>\n",
       "    .dataframe tbody tr th:only-of-type {\n",
       "        vertical-align: middle;\n",
       "    }\n",
       "\n",
       "    .dataframe tbody tr th {\n",
       "        vertical-align: top;\n",
       "    }\n",
       "\n",
       "    .dataframe thead th {\n",
       "        text-align: right;\n",
       "    }\n",
       "</style>\n",
       "<table border=\"1\" class=\"dataframe\">\n",
       "  <thead>\n",
       "    <tr style=\"text-align: right;\">\n",
       "      <th></th>\n",
       "      <th>Entry</th>\n",
       "      <th>ident</th>\n",
       "      <th>Entry name</th>\n",
       "      <th>Status</th>\n",
       "      <th>Protein names</th>\n",
       "      <th>Gene names</th>\n",
       "      <th>Organism</th>\n",
       "      <th>Length</th>\n",
       "    </tr>\n",
       "  </thead>\n",
       "  <tbody>\n",
       "    <tr>\n",
       "      <th>0</th>\n",
       "      <td>A0A1S3KIG4</td>\n",
       "      <td>XP_013978521.1</td>\n",
       "      <td>A0A1S3KIG4_SALSA</td>\n",
       "      <td>unreviewed</td>\n",
       "      <td>carboxyl-terminal PDZ ligand of neuronal nitri...</td>\n",
       "      <td>LOC106560293</td>\n",
       "      <td>Salmo salar (Atlantic salmon)</td>\n",
       "      <td>758</td>\n",
       "    </tr>\n",
       "    <tr>\n",
       "      <th>1</th>\n",
       "      <td>A0A1S3PAG0</td>\n",
       "      <td>XP_014024532.1</td>\n",
       "      <td>A0A1S3PAG0_SALSA</td>\n",
       "      <td>unreviewed</td>\n",
       "      <td>carboxyl-terminal PDZ ligand of neuronal nitri...</td>\n",
       "      <td>LOC106584141</td>\n",
       "      <td>Salmo salar (Atlantic salmon)</td>\n",
       "      <td>754</td>\n",
       "    </tr>\n",
       "    <tr>\n",
       "      <th>2</th>\n",
       "      <td>A0A1S3PIA6</td>\n",
       "      <td>XP_014027367.1</td>\n",
       "      <td>A0A1S3PIA6_SALSA</td>\n",
       "      <td>unreviewed</td>\n",
       "      <td>Probable cytosolic iron-sulfur protein assembl...</td>\n",
       "      <td>LOC106585549 CIAO1</td>\n",
       "      <td>Salmo salar (Atlantic salmon)</td>\n",
       "      <td>333</td>\n",
       "    </tr>\n",
       "    <tr>\n",
       "      <th>3</th>\n",
       "      <td>B5X212</td>\n",
       "      <td>XP_014027367.1</td>\n",
       "      <td>CIO1B_SALSA</td>\n",
       "      <td>reviewed</td>\n",
       "      <td>Probable cytosolic iron-sulfur protein assembl...</td>\n",
       "      <td>ciao1b</td>\n",
       "      <td>Salmo salar (Atlantic salmon)</td>\n",
       "      <td>333</td>\n",
       "    </tr>\n",
       "    <tr>\n",
       "      <th>4</th>\n",
       "      <td>A0A1S3NJU9</td>\n",
       "      <td>XP_014015694.1</td>\n",
       "      <td>A0A1S3NJU9_SALSA</td>\n",
       "      <td>unreviewed</td>\n",
       "      <td>Probable cytosolic iron-sulfur protein assembl...</td>\n",
       "      <td>LOC106579887 CIAO1</td>\n",
       "      <td>Salmo salar (Atlantic salmon)</td>\n",
       "      <td>330</td>\n",
       "    </tr>\n",
       "  </tbody>\n",
       "</table>\n",
       "</div>"
      ],
      "text/plain": [
       "        Entry           ident        Entry name      Status  \\\n",
       "0  A0A1S3KIG4  XP_013978521.1  A0A1S3KIG4_SALSA  unreviewed   \n",
       "1  A0A1S3PAG0  XP_014024532.1  A0A1S3PAG0_SALSA  unreviewed   \n",
       "2  A0A1S3PIA6  XP_014027367.1  A0A1S3PIA6_SALSA  unreviewed   \n",
       "3      B5X212  XP_014027367.1       CIO1B_SALSA    reviewed   \n",
       "4  A0A1S3NJU9  XP_014015694.1  A0A1S3NJU9_SALSA  unreviewed   \n",
       "\n",
       "                                       Protein names          Gene names  \\\n",
       "0  carboxyl-terminal PDZ ligand of neuronal nitri...        LOC106560293   \n",
       "1  carboxyl-terminal PDZ ligand of neuronal nitri...        LOC106584141   \n",
       "2  Probable cytosolic iron-sulfur protein assembl...  LOC106585549 CIAO1   \n",
       "3  Probable cytosolic iron-sulfur protein assembl...              ciao1b   \n",
       "4  Probable cytosolic iron-sulfur protein assembl...  LOC106579887 CIAO1   \n",
       "\n",
       "                        Organism  Length  \n",
       "0  Salmo salar (Atlantic salmon)     758  \n",
       "1  Salmo salar (Atlantic salmon)     754  \n",
       "2  Salmo salar (Atlantic salmon)     333  \n",
       "3  Salmo salar (Atlantic salmon)     333  \n",
       "4  Salmo salar (Atlantic salmon)     330  "
      ]
     },
     "execution_count": 23,
     "metadata": {},
     "output_type": "execute_result"
    }
   ],
   "source": [
    "# zawiera wszystkie bialka zidentyfikowane przez trinotate i przypisane im Entry z uniprota\n",
    "\n",
    "uniref_from_trinotate = pd.read_csv(prot_path+'uniprot-yourlist-xp_to_uniref.tab', sep='\\t')\n",
    "uniref_from_trinotate.head()"
   ]
  },
  {
   "cell_type": "code",
   "execution_count": 112,
   "metadata": {},
   "outputs": [],
   "source": [
    "#salmo_rep_with_annot_split = pd.DataFrame(salmo_rep_with_annot['ident'].str.split('^').tolist(), index=salmo_rep_with_annot.id).stack()\n",
    "#salmo_rep_with_annot_split = salmo_rep_with_annot_split.reset_index([0, 'id'])\n",
    "#salmo_rep_with_annot_split"
   ]
  },
  {
   "cell_type": "code",
   "execution_count": 113,
   "metadata": {},
   "outputs": [],
   "source": [
    "#uniref_from_trinotate_entry_indent = uniref_from_trinotate[['Entry', 'ident']]\n",
    "#uniref_from_trinotate_entry_indent.head()"
   ]
  },
  {
   "cell_type": "code",
   "execution_count": 24,
   "metadata": {},
   "outputs": [
    {
     "data": {
      "text/html": [
       "<div>\n",
       "<style scoped>\n",
       "    .dataframe tbody tr th:only-of-type {\n",
       "        vertical-align: middle;\n",
       "    }\n",
       "\n",
       "    .dataframe tbody tr th {\n",
       "        vertical-align: top;\n",
       "    }\n",
       "\n",
       "    .dataframe thead th {\n",
       "        text-align: right;\n",
       "    }\n",
       "</style>\n",
       "<table border=\"1\" class=\"dataframe\">\n",
       "  <thead>\n",
       "    <tr style=\"text-align: right;\">\n",
       "      <th></th>\n",
       "      <th>Entry</th>\n",
       "      <th>ident</th>\n",
       "      <th>Entry name</th>\n",
       "      <th>Status</th>\n",
       "      <th>Protein names</th>\n",
       "      <th>Gene names</th>\n",
       "      <th>Organism</th>\n",
       "      <th>Length</th>\n",
       "      <th>id</th>\n",
       "    </tr>\n",
       "  </thead>\n",
       "  <tbody>\n",
       "    <tr>\n",
       "      <th>0</th>\n",
       "      <td>A0A1S3KIG4</td>\n",
       "      <td>XP_013978521.1</td>\n",
       "      <td>A0A1S3KIG4_SALSA</td>\n",
       "      <td>unreviewed</td>\n",
       "      <td>carboxyl-terminal PDZ ligand of neuronal nitri...</td>\n",
       "      <td>LOC106560293</td>\n",
       "      <td>Salmo salar (Atlantic salmon)</td>\n",
       "      <td>758</td>\n",
       "      <td>TRINITY_DN100000_c5_g1</td>\n",
       "    </tr>\n",
       "    <tr>\n",
       "      <th>1</th>\n",
       "      <td>A0A1S3KIG4</td>\n",
       "      <td>XP_013978521.1</td>\n",
       "      <td>A0A1S3KIG4_SALSA</td>\n",
       "      <td>unreviewed</td>\n",
       "      <td>carboxyl-terminal PDZ ligand of neuronal nitri...</td>\n",
       "      <td>LOC106560293</td>\n",
       "      <td>Salmo salar (Atlantic salmon)</td>\n",
       "      <td>758</td>\n",
       "      <td>TRINITY_DN100000_c5_g1_i6</td>\n",
       "    </tr>\n",
       "    <tr>\n",
       "      <th>2</th>\n",
       "      <td>A0A1S3PAG0</td>\n",
       "      <td>XP_014024532.1</td>\n",
       "      <td>A0A1S3PAG0_SALSA</td>\n",
       "      <td>unreviewed</td>\n",
       "      <td>carboxyl-terminal PDZ ligand of neuronal nitri...</td>\n",
       "      <td>LOC106584141</td>\n",
       "      <td>Salmo salar (Atlantic salmon)</td>\n",
       "      <td>754</td>\n",
       "      <td>TRINITY_DN100000_c5_g1_i2</td>\n",
       "    </tr>\n",
       "    <tr>\n",
       "      <th>3</th>\n",
       "      <td>A0A1S3PIA6</td>\n",
       "      <td>XP_014027367.1</td>\n",
       "      <td>A0A1S3PIA6_SALSA</td>\n",
       "      <td>unreviewed</td>\n",
       "      <td>Probable cytosolic iron-sulfur protein assembl...</td>\n",
       "      <td>LOC106585549 CIAO1</td>\n",
       "      <td>Salmo salar (Atlantic salmon)</td>\n",
       "      <td>333</td>\n",
       "      <td>TRINITY_DN100001_c2_g2</td>\n",
       "    </tr>\n",
       "    <tr>\n",
       "      <th>4</th>\n",
       "      <td>A0A1S3PIA6</td>\n",
       "      <td>XP_014027367.1</td>\n",
       "      <td>A0A1S3PIA6_SALSA</td>\n",
       "      <td>unreviewed</td>\n",
       "      <td>Probable cytosolic iron-sulfur protein assembl...</td>\n",
       "      <td>LOC106585549 CIAO1</td>\n",
       "      <td>Salmo salar (Atlantic salmon)</td>\n",
       "      <td>333</td>\n",
       "      <td>TRINITY_DN100001_c2_g2_i2</td>\n",
       "    </tr>\n",
       "  </tbody>\n",
       "</table>\n",
       "</div>"
      ],
      "text/plain": [
       "        Entry           ident        Entry name      Status  \\\n",
       "0  A0A1S3KIG4  XP_013978521.1  A0A1S3KIG4_SALSA  unreviewed   \n",
       "1  A0A1S3KIG4  XP_013978521.1  A0A1S3KIG4_SALSA  unreviewed   \n",
       "2  A0A1S3PAG0  XP_014024532.1  A0A1S3PAG0_SALSA  unreviewed   \n",
       "3  A0A1S3PIA6  XP_014027367.1  A0A1S3PIA6_SALSA  unreviewed   \n",
       "4  A0A1S3PIA6  XP_014027367.1  A0A1S3PIA6_SALSA  unreviewed   \n",
       "\n",
       "                                       Protein names          Gene names  \\\n",
       "0  carboxyl-terminal PDZ ligand of neuronal nitri...        LOC106560293   \n",
       "1  carboxyl-terminal PDZ ligand of neuronal nitri...        LOC106560293   \n",
       "2  carboxyl-terminal PDZ ligand of neuronal nitri...        LOC106584141   \n",
       "3  Probable cytosolic iron-sulfur protein assembl...  LOC106585549 CIAO1   \n",
       "4  Probable cytosolic iron-sulfur protein assembl...  LOC106585549 CIAO1   \n",
       "\n",
       "                        Organism  Length                         id  \n",
       "0  Salmo salar (Atlantic salmon)     758     TRINITY_DN100000_c5_g1  \n",
       "1  Salmo salar (Atlantic salmon)     758  TRINITY_DN100000_c5_g1_i6  \n",
       "2  Salmo salar (Atlantic salmon)     754  TRINITY_DN100000_c5_g1_i2  \n",
       "3  Salmo salar (Atlantic salmon)     333     TRINITY_DN100001_c2_g2  \n",
       "4  Salmo salar (Atlantic salmon)     333  TRINITY_DN100001_c2_g2_i2  "
      ]
     },
     "execution_count": 24,
     "metadata": {},
     "output_type": "execute_result"
    }
   ],
   "source": [
    "salmo_rep_with_annot_w_entry = pd.merge(uniref_from_trinotate, salmo_rep_with_annot, on='ident', how='inner')\n",
    "salmo_rep_with_annot_w_entry.head()"
   ]
  },
  {
   "cell_type": "code",
   "execution_count": 25,
   "metadata": {},
   "outputs": [
    {
     "data": {
      "text/plain": [
       "(429071, 9)"
      ]
     },
     "execution_count": 25,
     "metadata": {},
     "output_type": "execute_result"
    }
   ],
   "source": [
    "salmo_rep_with_annot_w_entry.shape"
   ]
  },
  {
   "cell_type": "code",
   "execution_count": 22,
   "metadata": {},
   "outputs": [],
   "source": [
    "salmo_rep_with_annot_w_entry.to_csv(prot_path+'PROT_wszystkie_bialka_z_raportu_trinity.csv', index=False)"
   ]
  },
  {
   "cell_type": "code",
   "execution_count": 26,
   "metadata": {},
   "outputs": [
    {
     "data": {
      "text/html": [
       "<div>\n",
       "<style scoped>\n",
       "    .dataframe tbody tr th:only-of-type {\n",
       "        vertical-align: middle;\n",
       "    }\n",
       "\n",
       "    .dataframe tbody tr th {\n",
       "        vertical-align: top;\n",
       "    }\n",
       "\n",
       "    .dataframe thead th {\n",
       "        text-align: right;\n",
       "    }\n",
       "</style>\n",
       "<table border=\"1\" class=\"dataframe\">\n",
       "  <thead>\n",
       "    <tr style=\"text-align: right;\">\n",
       "      <th></th>\n",
       "      <th>trinity</th>\n",
       "      <th>PBS_1d_1</th>\n",
       "      <th>PBS_1d_2</th>\n",
       "      <th>PBS_1d_3</th>\n",
       "      <th>PBS_1d_4</th>\n",
       "      <th>MC_1d_1</th>\n",
       "      <th>MC_1d_2</th>\n",
       "      <th>MC_1d_3</th>\n",
       "      <th>MC_6d_1</th>\n",
       "      <th>MC_6d_2</th>\n",
       "      <th>MC_6d_3</th>\n",
       "      <th>MC_9d_1</th>\n",
       "      <th>MC_9d_2</th>\n",
       "      <th>MC_9d_3</th>\n",
       "    </tr>\n",
       "  </thead>\n",
       "  <tbody>\n",
       "    <tr>\n",
       "      <th>0</th>\n",
       "      <td>TRINITY_DN100000_c5_g1_i2</td>\n",
       "      <td>0.0</td>\n",
       "      <td>3.0</td>\n",
       "      <td>2.0</td>\n",
       "      <td>0.0</td>\n",
       "      <td>0.0</td>\n",
       "      <td>0.0</td>\n",
       "      <td>0.0</td>\n",
       "      <td>0</td>\n",
       "      <td>0</td>\n",
       "      <td>0</td>\n",
       "      <td>5</td>\n",
       "      <td>0</td>\n",
       "      <td>0</td>\n",
       "    </tr>\n",
       "    <tr>\n",
       "      <th>1</th>\n",
       "      <td>TRINITY_DN100000_c5_g1_i6</td>\n",
       "      <td>374.0</td>\n",
       "      <td>506.0</td>\n",
       "      <td>607.0</td>\n",
       "      <td>594.0</td>\n",
       "      <td>511.0</td>\n",
       "      <td>726.0</td>\n",
       "      <td>517.0</td>\n",
       "      <td>192</td>\n",
       "      <td>195</td>\n",
       "      <td>227</td>\n",
       "      <td>427</td>\n",
       "      <td>219</td>\n",
       "      <td>339</td>\n",
       "    </tr>\n",
       "    <tr>\n",
       "      <th>2</th>\n",
       "      <td>TRINITY_DN100001_c2_g2_i2</td>\n",
       "      <td>1232.0</td>\n",
       "      <td>1264.0</td>\n",
       "      <td>998.0</td>\n",
       "      <td>1040.0</td>\n",
       "      <td>1162.0</td>\n",
       "      <td>1784.0</td>\n",
       "      <td>938.0</td>\n",
       "      <td>1730</td>\n",
       "      <td>1743</td>\n",
       "      <td>1974</td>\n",
       "      <td>2315</td>\n",
       "      <td>2067</td>\n",
       "      <td>2386</td>\n",
       "    </tr>\n",
       "    <tr>\n",
       "      <th>3</th>\n",
       "      <td>TRINITY_DN100001_c2_g2_i7</td>\n",
       "      <td>562.0</td>\n",
       "      <td>408.0</td>\n",
       "      <td>311.0</td>\n",
       "      <td>353.0</td>\n",
       "      <td>402.0</td>\n",
       "      <td>471.0</td>\n",
       "      <td>420.0</td>\n",
       "      <td>1378</td>\n",
       "      <td>1338</td>\n",
       "      <td>1428</td>\n",
       "      <td>1291</td>\n",
       "      <td>1139</td>\n",
       "      <td>1344</td>\n",
       "    </tr>\n",
       "    <tr>\n",
       "      <th>4</th>\n",
       "      <td>TRINITY_DN100001_c2_g3_i3</td>\n",
       "      <td>565.0</td>\n",
       "      <td>525.0</td>\n",
       "      <td>384.0</td>\n",
       "      <td>406.0</td>\n",
       "      <td>555.0</td>\n",
       "      <td>552.0</td>\n",
       "      <td>529.0</td>\n",
       "      <td>1553</td>\n",
       "      <td>1461</td>\n",
       "      <td>1684</td>\n",
       "      <td>1436</td>\n",
       "      <td>1416</td>\n",
       "      <td>1447</td>\n",
       "    </tr>\n",
       "  </tbody>\n",
       "</table>\n",
       "</div>"
      ],
      "text/plain": [
       "                     trinity  PBS_1d_1  PBS_1d_2  PBS_1d_3  PBS_1d_4  MC_1d_1  \\\n",
       "0  TRINITY_DN100000_c5_g1_i2       0.0       3.0       2.0       0.0      0.0   \n",
       "1  TRINITY_DN100000_c5_g1_i6     374.0     506.0     607.0     594.0    511.0   \n",
       "2  TRINITY_DN100001_c2_g2_i2    1232.0    1264.0     998.0    1040.0   1162.0   \n",
       "3  TRINITY_DN100001_c2_g2_i7     562.0     408.0     311.0     353.0    402.0   \n",
       "4  TRINITY_DN100001_c2_g3_i3     565.0     525.0     384.0     406.0    555.0   \n",
       "\n",
       "   MC_1d_2  MC_1d_3  MC_6d_1  MC_6d_2  MC_6d_3  MC_9d_1  MC_9d_2  MC_9d_3  \n",
       "0      0.0      0.0        0        0        0        5        0        0  \n",
       "1    726.0    517.0      192      195      227      427      219      339  \n",
       "2   1784.0    938.0     1730     1743     1974     2315     2067     2386  \n",
       "3    471.0    420.0     1378     1338     1428     1291     1139     1344  \n",
       "4    552.0    529.0     1553     1461     1684     1436     1416     1447  "
      ]
     },
     "execution_count": 26,
     "metadata": {},
     "output_type": "execute_result"
    }
   ],
   "source": [
    "prot_path = '/mnt/sdb1/Project_Sieja_MCLR_52/2_pipeline/7_counting_transcripts/proteins_salmo/'\n",
    "proteins_matryca = pd.read_csv(prot_path+'PBS_MCLR_salmo_only_matryca.csv')\n",
    "proteins_matryca.head()"
   ]
  },
  {
   "cell_type": "code",
   "execution_count": 25,
   "metadata": {},
   "outputs": [
    {
     "data": {
      "text/plain": [
       "(148647, 14)"
      ]
     },
     "execution_count": 25,
     "metadata": {},
     "output_type": "execute_result"
    }
   ],
   "source": [
    "proteins_matryca.shape"
   ]
  },
  {
   "cell_type": "code",
   "execution_count": 27,
   "metadata": {},
   "outputs": [],
   "source": [
    "proteins_matryca.rename(columns={'trinity':'id'}, inplace=True)"
   ]
  },
  {
   "cell_type": "code",
   "execution_count": 28,
   "metadata": {},
   "outputs": [
    {
     "data": {
      "text/plain": [
       "(149296, 22)"
      ]
     },
     "execution_count": 28,
     "metadata": {},
     "output_type": "execute_result"
    }
   ],
   "source": [
    "proteins_matryca_w_entry = pd.merge(proteins_matryca, salmo_rep_with_annot_w_entry, on='id', how='inner')\n",
    "proteins_matryca_w_entry.drop_duplicates(inplace=True)\n",
    "proteins_matryca_w_entry.shape"
   ]
  },
  {
   "cell_type": "code",
   "execution_count": 96,
   "metadata": {},
   "outputs": [],
   "source": [
    "#proteins_matryca_w_entry.to_csv(path+'test.csv')"
   ]
  },
  {
   "cell_type": "code",
   "execution_count": 29,
   "metadata": {},
   "outputs": [
    {
     "data": {
      "text/plain": [
       "(0, 22)"
      ]
     },
     "execution_count": 29,
     "metadata": {},
     "output_type": "execute_result"
    }
   ],
   "source": [
    "test_if_merged_correctly = proteins_matryca_w_entry[~proteins_matryca_w_entry['id'].isin(proteins_matryca['id'])]\n",
    "test_if_merged_correctly.shape\n"
   ]
  },
  {
   "cell_type": "code",
   "execution_count": 98,
   "metadata": {},
   "outputs": [],
   "source": [
    "#del proteins_matryca_w_entry['id']\n",
    "#del proteins_matryca_w_entry['ident']"
   ]
  },
  {
   "cell_type": "code",
   "execution_count": 30,
   "metadata": {},
   "outputs": [],
   "source": [
    "proteins_matryca_w_entry.columns = [str(col) + '_PROT' for col in proteins_matryca_w_entry.columns]"
   ]
  },
  {
   "cell_type": "code",
   "execution_count": 31,
   "metadata": {},
   "outputs": [],
   "source": [
    "proteins_matryca_w_entry.rename(columns={'Entry_PROT':'Entry'}, inplace=True)"
   ]
  },
  {
   "cell_type": "code",
   "execution_count": 32,
   "metadata": {
    "scrolled": true
   },
   "outputs": [
    {
     "data": {
      "text/html": [
       "<div>\n",
       "<style scoped>\n",
       "    .dataframe tbody tr th:only-of-type {\n",
       "        vertical-align: middle;\n",
       "    }\n",
       "\n",
       "    .dataframe tbody tr th {\n",
       "        vertical-align: top;\n",
       "    }\n",
       "\n",
       "    .dataframe thead th {\n",
       "        text-align: right;\n",
       "    }\n",
       "</style>\n",
       "<table border=\"1\" class=\"dataframe\">\n",
       "  <thead>\n",
       "    <tr style=\"text-align: right;\">\n",
       "      <th></th>\n",
       "      <th>id_PROT</th>\n",
       "      <th>PBS_1d_1_PROT</th>\n",
       "      <th>PBS_1d_2_PROT</th>\n",
       "      <th>PBS_1d_3_PROT</th>\n",
       "      <th>PBS_1d_4_PROT</th>\n",
       "      <th>MC_1d_1_PROT</th>\n",
       "      <th>MC_1d_2_PROT</th>\n",
       "      <th>MC_1d_3_PROT</th>\n",
       "      <th>MC_6d_1_PROT</th>\n",
       "      <th>MC_6d_2_PROT</th>\n",
       "      <th>...</th>\n",
       "      <th>MC_9d_2_PROT</th>\n",
       "      <th>MC_9d_3_PROT</th>\n",
       "      <th>Entry</th>\n",
       "      <th>ident_PROT</th>\n",
       "      <th>Entry name_PROT</th>\n",
       "      <th>Status_PROT</th>\n",
       "      <th>Protein names_PROT</th>\n",
       "      <th>Gene names_PROT</th>\n",
       "      <th>Organism_PROT</th>\n",
       "      <th>Length_PROT</th>\n",
       "    </tr>\n",
       "  </thead>\n",
       "  <tbody>\n",
       "    <tr>\n",
       "      <th>0</th>\n",
       "      <td>TRINITY_DN100000_c5_g1_i2</td>\n",
       "      <td>0.0</td>\n",
       "      <td>3.0</td>\n",
       "      <td>2.0</td>\n",
       "      <td>0.0</td>\n",
       "      <td>0.0</td>\n",
       "      <td>0.0</td>\n",
       "      <td>0.0</td>\n",
       "      <td>0</td>\n",
       "      <td>0</td>\n",
       "      <td>...</td>\n",
       "      <td>0</td>\n",
       "      <td>0</td>\n",
       "      <td>A0A1S3PAG0</td>\n",
       "      <td>XP_014024532.1</td>\n",
       "      <td>A0A1S3PAG0_SALSA</td>\n",
       "      <td>unreviewed</td>\n",
       "      <td>carboxyl-terminal PDZ ligand of neuronal nitri...</td>\n",
       "      <td>LOC106584141</td>\n",
       "      <td>Salmo salar (Atlantic salmon)</td>\n",
       "      <td>754</td>\n",
       "    </tr>\n",
       "    <tr>\n",
       "      <th>1</th>\n",
       "      <td>TRINITY_DN100000_c5_g1_i6</td>\n",
       "      <td>374.0</td>\n",
       "      <td>506.0</td>\n",
       "      <td>607.0</td>\n",
       "      <td>594.0</td>\n",
       "      <td>511.0</td>\n",
       "      <td>726.0</td>\n",
       "      <td>517.0</td>\n",
       "      <td>192</td>\n",
       "      <td>195</td>\n",
       "      <td>...</td>\n",
       "      <td>219</td>\n",
       "      <td>339</td>\n",
       "      <td>A0A1S3KIG4</td>\n",
       "      <td>XP_013978521.1</td>\n",
       "      <td>A0A1S3KIG4_SALSA</td>\n",
       "      <td>unreviewed</td>\n",
       "      <td>carboxyl-terminal PDZ ligand of neuronal nitri...</td>\n",
       "      <td>LOC106560293</td>\n",
       "      <td>Salmo salar (Atlantic salmon)</td>\n",
       "      <td>758</td>\n",
       "    </tr>\n",
       "    <tr>\n",
       "      <th>2</th>\n",
       "      <td>TRINITY_DN100001_c2_g2_i2</td>\n",
       "      <td>1232.0</td>\n",
       "      <td>1264.0</td>\n",
       "      <td>998.0</td>\n",
       "      <td>1040.0</td>\n",
       "      <td>1162.0</td>\n",
       "      <td>1784.0</td>\n",
       "      <td>938.0</td>\n",
       "      <td>1730</td>\n",
       "      <td>1743</td>\n",
       "      <td>...</td>\n",
       "      <td>2067</td>\n",
       "      <td>2386</td>\n",
       "      <td>A0A1S3PIA6</td>\n",
       "      <td>XP_014027367.1</td>\n",
       "      <td>A0A1S3PIA6_SALSA</td>\n",
       "      <td>unreviewed</td>\n",
       "      <td>Probable cytosolic iron-sulfur protein assembl...</td>\n",
       "      <td>LOC106585549 CIAO1</td>\n",
       "      <td>Salmo salar (Atlantic salmon)</td>\n",
       "      <td>333</td>\n",
       "    </tr>\n",
       "    <tr>\n",
       "      <th>3</th>\n",
       "      <td>TRINITY_DN100001_c2_g2_i2</td>\n",
       "      <td>1232.0</td>\n",
       "      <td>1264.0</td>\n",
       "      <td>998.0</td>\n",
       "      <td>1040.0</td>\n",
       "      <td>1162.0</td>\n",
       "      <td>1784.0</td>\n",
       "      <td>938.0</td>\n",
       "      <td>1730</td>\n",
       "      <td>1743</td>\n",
       "      <td>...</td>\n",
       "      <td>2067</td>\n",
       "      <td>2386</td>\n",
       "      <td>B5X212</td>\n",
       "      <td>XP_014027367.1</td>\n",
       "      <td>CIO1B_SALSA</td>\n",
       "      <td>reviewed</td>\n",
       "      <td>Probable cytosolic iron-sulfur protein assembl...</td>\n",
       "      <td>ciao1b</td>\n",
       "      <td>Salmo salar (Atlantic salmon)</td>\n",
       "      <td>333</td>\n",
       "    </tr>\n",
       "    <tr>\n",
       "      <th>4</th>\n",
       "      <td>TRINITY_DN100001_c2_g2_i7</td>\n",
       "      <td>562.0</td>\n",
       "      <td>408.0</td>\n",
       "      <td>311.0</td>\n",
       "      <td>353.0</td>\n",
       "      <td>402.0</td>\n",
       "      <td>471.0</td>\n",
       "      <td>420.0</td>\n",
       "      <td>1378</td>\n",
       "      <td>1338</td>\n",
       "      <td>...</td>\n",
       "      <td>1139</td>\n",
       "      <td>1344</td>\n",
       "      <td>A0A1S3NJU9</td>\n",
       "      <td>XP_014015694.1</td>\n",
       "      <td>A0A1S3NJU9_SALSA</td>\n",
       "      <td>unreviewed</td>\n",
       "      <td>Probable cytosolic iron-sulfur protein assembl...</td>\n",
       "      <td>LOC106579887 CIAO1</td>\n",
       "      <td>Salmo salar (Atlantic salmon)</td>\n",
       "      <td>330</td>\n",
       "    </tr>\n",
       "  </tbody>\n",
       "</table>\n",
       "<p>5 rows × 22 columns</p>\n",
       "</div>"
      ],
      "text/plain": [
       "                     id_PROT  PBS_1d_1_PROT  PBS_1d_2_PROT  PBS_1d_3_PROT  \\\n",
       "0  TRINITY_DN100000_c5_g1_i2            0.0            3.0            2.0   \n",
       "1  TRINITY_DN100000_c5_g1_i6          374.0          506.0          607.0   \n",
       "2  TRINITY_DN100001_c2_g2_i2         1232.0         1264.0          998.0   \n",
       "3  TRINITY_DN100001_c2_g2_i2         1232.0         1264.0          998.0   \n",
       "4  TRINITY_DN100001_c2_g2_i7          562.0          408.0          311.0   \n",
       "\n",
       "   PBS_1d_4_PROT  MC_1d_1_PROT  MC_1d_2_PROT  MC_1d_3_PROT  MC_6d_1_PROT  \\\n",
       "0            0.0           0.0           0.0           0.0             0   \n",
       "1          594.0         511.0         726.0         517.0           192   \n",
       "2         1040.0        1162.0        1784.0         938.0          1730   \n",
       "3         1040.0        1162.0        1784.0         938.0          1730   \n",
       "4          353.0         402.0         471.0         420.0          1378   \n",
       "\n",
       "   MC_6d_2_PROT     ...      MC_9d_2_PROT  MC_9d_3_PROT       Entry  \\\n",
       "0             0     ...                 0             0  A0A1S3PAG0   \n",
       "1           195     ...               219           339  A0A1S3KIG4   \n",
       "2          1743     ...              2067          2386  A0A1S3PIA6   \n",
       "3          1743     ...              2067          2386      B5X212   \n",
       "4          1338     ...              1139          1344  A0A1S3NJU9   \n",
       "\n",
       "       ident_PROT   Entry name_PROT Status_PROT  \\\n",
       "0  XP_014024532.1  A0A1S3PAG0_SALSA  unreviewed   \n",
       "1  XP_013978521.1  A0A1S3KIG4_SALSA  unreviewed   \n",
       "2  XP_014027367.1  A0A1S3PIA6_SALSA  unreviewed   \n",
       "3  XP_014027367.1       CIO1B_SALSA    reviewed   \n",
       "4  XP_014015694.1  A0A1S3NJU9_SALSA  unreviewed   \n",
       "\n",
       "                                  Protein names_PROT     Gene names_PROT  \\\n",
       "0  carboxyl-terminal PDZ ligand of neuronal nitri...        LOC106584141   \n",
       "1  carboxyl-terminal PDZ ligand of neuronal nitri...        LOC106560293   \n",
       "2  Probable cytosolic iron-sulfur protein assembl...  LOC106585549 CIAO1   \n",
       "3  Probable cytosolic iron-sulfur protein assembl...              ciao1b   \n",
       "4  Probable cytosolic iron-sulfur protein assembl...  LOC106579887 CIAO1   \n",
       "\n",
       "                   Organism_PROT Length_PROT  \n",
       "0  Salmo salar (Atlantic salmon)         754  \n",
       "1  Salmo salar (Atlantic salmon)         758  \n",
       "2  Salmo salar (Atlantic salmon)         333  \n",
       "3  Salmo salar (Atlantic salmon)         333  \n",
       "4  Salmo salar (Atlantic salmon)         330  \n",
       "\n",
       "[5 rows x 22 columns]"
      ]
     },
     "execution_count": 32,
     "metadata": {},
     "output_type": "execute_result"
    }
   ],
   "source": [
    "proteins_matryca_w_entry.head()"
   ]
  },
  {
   "cell_type": "code",
   "execution_count": 34,
   "metadata": {},
   "outputs": [
    {
     "data": {
      "text/plain": [
       "(93208, 15)"
      ]
     },
     "execution_count": 34,
     "metadata": {},
     "output_type": "execute_result"
    }
   ],
   "source": [
    "matryca_w_entry.shape #UTR"
   ]
  },
  {
   "cell_type": "code",
   "execution_count": 35,
   "metadata": {},
   "outputs": [
    {
     "data": {
      "text/plain": [
       "(149296, 22)"
      ]
     },
     "execution_count": 35,
     "metadata": {},
     "output_type": "execute_result"
    }
   ],
   "source": [
    "proteins_matryca_w_entry.shape #PROT"
   ]
  },
  {
   "cell_type": "code",
   "execution_count": 33,
   "metadata": {},
   "outputs": [],
   "source": [
    "# do UTR dodac PROT\n",
    "\n",
    "merged_UTR_PROT_matryca = pd.merge(matryca_w_entry, proteins_matryca_w_entry, on=\"Entry\", how='inner')\n",
    "#merged.to_csv(path+'matryca_UTR_PROT_entry_only.csv', index=False)"
   ]
  },
  {
   "cell_type": "code",
   "execution_count": 34,
   "metadata": {},
   "outputs": [
    {
     "data": {
      "text/plain": [
       "Index(['id_UTR', 'Entry', 'PBS_1d_1_UTR', 'PBS_1d_2_UTR', 'PBS_1d_3_UTR',\n",
       "       'PBS_1d_4_UTR', 'MC_1d_1_UTR', 'MC_1d_2_UTR', 'MC_1d_3_UTR',\n",
       "       'MC_6d_1_UTR', 'MC_6d_2_UTR', 'MC_6d_3_UTR', 'MC_9d_1_UTR',\n",
       "       'MC_9d_2_UTR', 'MC_9d_3_UTR', 'id_PROT', 'PBS_1d_1_PROT',\n",
       "       'PBS_1d_2_PROT', 'PBS_1d_3_PROT', 'PBS_1d_4_PROT', 'MC_1d_1_PROT',\n",
       "       'MC_1d_2_PROT', 'MC_1d_3_PROT', 'MC_6d_1_PROT', 'MC_6d_2_PROT',\n",
       "       'MC_6d_3_PROT', 'MC_9d_1_PROT', 'MC_9d_2_PROT', 'MC_9d_3_PROT',\n",
       "       'ident_PROT', 'Entry name_PROT', 'Status_PROT', 'Protein names_PROT',\n",
       "       'Gene names_PROT', 'Organism_PROT', 'Length_PROT'],\n",
       "      dtype='object')"
      ]
     },
     "execution_count": 34,
     "metadata": {},
     "output_type": "execute_result"
    }
   ],
   "source": [
    "merged_UTR_PROT_matryca.columns"
   ]
  },
  {
   "cell_type": "code",
   "execution_count": 35,
   "metadata": {},
   "outputs": [],
   "source": [
    "day_1_matryca = merged_UTR_PROT_matryca[['PBS_1d_1_UTR', 'PBS_1d_2_UTR', 'PBS_1d_3_UTR', 'PBS_1d_4_UTR',\n",
    "                                         'PBS_1d_1_PROT', 'PBS_1d_2_PROT', 'PBS_1d_3_PROT', 'PBS_1d_4_PROT',]]\n",
    "\n",
    "day_1_matryca.to_csv(path+'day_1_PBS_UTR_PROT_matryca.csv', index=False)\n",
    "\n",
    "# na podstawie powyzszego ^^ robiebie deseq2"
   ]
  },
  {
   "cell_type": "code",
   "execution_count": 38,
   "metadata": {},
   "outputs": [],
   "source": [
    "# ponizej wczytuje wyniki deseq i dodaje do nich kolumny z merged_UTR_PROT_matryca\n",
    "\n",
    "deseq_day_1_results = pd.read_csv(path+'deseq2_result_from_R_1d_PBS_UTR_PBS_PROT.csv')"
   ]
  },
  {
   "cell_type": "code",
   "execution_count": 39,
   "metadata": {},
   "outputs": [
    {
     "data": {
      "text/plain": [
       "(295223, 36)"
      ]
     },
     "execution_count": 39,
     "metadata": {},
     "output_type": "execute_result"
    }
   ],
   "source": [
    "merged_UTR_PROT_matryca.shape"
   ]
  },
  {
   "cell_type": "code",
   "execution_count": 40,
   "metadata": {},
   "outputs": [
    {
     "data": {
      "text/plain": [
       "(295223, 6)"
      ]
     },
     "execution_count": 40,
     "metadata": {},
     "output_type": "execute_result"
    }
   ],
   "source": [
    "deseq_day_1_results.shape"
   ]
  },
  {
   "cell_type": "code",
   "execution_count": 41,
   "metadata": {},
   "outputs": [
    {
     "data": {
      "text/plain": [
       "(295223, 42)"
      ]
     },
     "execution_count": 41,
     "metadata": {},
     "output_type": "execute_result"
    }
   ],
   "source": [
    "deseq_day_1_results_w_all_details = pd.merge(deseq_day_1_results, merged_UTR_PROT_matryca, left_index=True, right_index=True)\n",
    "deseq_day_1_results_w_all_details.shape"
   ]
  },
  {
   "cell_type": "code",
   "execution_count": 47,
   "metadata": {},
   "outputs": [],
   "source": [
    "deseq_day_1_results_w_all_details = deseq_day_1_results_w_all_details[['baseMean', 'log2FoldChange', 'lfcSE', 'stat', 'pvalue', 'padj',\n",
    "       'Entry', 'PBS_1d_1_UTR', 'PBS_1d_2_UTR', 'PBS_1d_3_UTR', 'PBS_1d_4_UTR',\n",
    "       'id_UTR', 'id_PROT', 'PBS_1d_1_PROT', 'PBS_1d_2_PROT',\n",
    "       'PBS_1d_3_PROT', 'PBS_1d_4_PROT',\n",
    "       'ident_PROT', 'Entry name_PROT', 'Status_PROT', 'Protein names_PROT',\n",
    "       'Gene names_PROT', 'Organism_PROT', 'Length_PROT']]"
   ]
  },
  {
   "cell_type": "code",
   "execution_count": 48,
   "metadata": {},
   "outputs": [],
   "source": [
    "deseq_day_1_results_w_all_details = deseq_day_1_results_w_all_details[deseq_day_1_results_w_all_details['padj'] < 0.001]"
   ]
  },
  {
   "cell_type": "code",
   "execution_count": 49,
   "metadata": {},
   "outputs": [],
   "source": [
    "deseq_day_1_results_w_all_details.sort_values(by='log2FoldChange', inplace=True)"
   ]
  },
  {
   "cell_type": "code",
   "execution_count": 50,
   "metadata": {},
   "outputs": [],
   "source": [
    "deseq_day_1_results_w_all_details.to_csv(path+'PBS_UTR_vs_PBS_PROT_1d_deseq_w_names.csv')"
   ]
  },
  {
   "cell_type": "code",
   "execution_count": null,
   "metadata": {},
   "outputs": [],
   "source": []
  },
  {
   "cell_type": "code",
   "execution_count": 3,
   "metadata": {},
   "outputs": [],
   "source": [
    "#load deseq results of UTR vs PROT in PBS only. This is normal state of those transcripts\n",
    "deseqPBS_UTRvsPROT = pd.read_csv(path+'PBS_UTR_vs_PBS_PROT_1d_deseq_w_names.csv')"
   ]
  },
  {
   "cell_type": "code",
   "execution_count": 5,
   "metadata": {},
   "outputs": [
    {
     "data": {
      "text/plain": [
       "Index(['Unnamed: 0', 'baseMean', 'log2FoldChange', 'lfcSE', 'stat', 'pvalue',\n",
       "       'padj', 'Entry', 'PBS_1d_1_UTR', 'PBS_1d_2_UTR', 'PBS_1d_3_UTR',\n",
       "       'PBS_1d_4_UTR', 'id_UTR', 'id_PROT', 'PBS_1d_1_PROT', 'PBS_1d_2_PROT',\n",
       "       'PBS_1d_3_PROT', 'PBS_1d_4_PROT', 'ident_PROT', 'Entry name_PROT',\n",
       "       'Status_PROT', 'Protein names_PROT', 'Gene names_PROT', 'Organism_PROT',\n",
       "       'Length_PROT'],\n",
       "      dtype='object')"
      ]
     },
     "execution_count": 5,
     "metadata": {},
     "output_type": "execute_result"
    }
   ],
   "source": [
    "deseqPBS_UTRvsPROT.columns"
   ]
  },
  {
   "cell_type": "code",
   "execution_count": 6,
   "metadata": {},
   "outputs": [],
   "source": [
    "#load deseq results of UTR DOWN transcripts changed after MCLR (PBSvsMCLR) \n",
    "#deseqMCLR_UTR_DOWN_PROT_DOWN = pd.read_csv(path+'PROPER_UTR_DOWN_PROT_DOWN_D1.csv')\n",
    "#deseqMCLR_UTR_DOWN_PROT_UP = pd.read_csv(path+'PROPER_UTR_DOWN_PROT_UP_D1.csv')"
   ]
  },
  {
   "cell_type": "code",
   "execution_count": 11,
   "metadata": {},
   "outputs": [
    {
     "data": {
      "text/plain": [
       "(85892, 25)"
      ]
     },
     "execution_count": 11,
     "metadata": {},
     "output_type": "execute_result"
    }
   ],
   "source": [
    "deseqPBS_UTRvsPROT[deseqPBS_UTRvsPROT['log2FoldChange'] > 1].shape # przewaga PROT"
   ]
  },
  {
   "cell_type": "code",
   "execution_count": 12,
   "metadata": {},
   "outputs": [
    {
     "data": {
      "text/plain": [
       "(74138, 25)"
      ]
     },
     "execution_count": 12,
     "metadata": {},
     "output_type": "execute_result"
    }
   ],
   "source": [
    "deseqPBS_UTRvsPROT[deseqPBS_UTRvsPROT['log2FoldChange'] < 1].shape # przewaga UTR"
   ]
  },
  {
   "cell_type": "code",
   "execution_count": null,
   "metadata": {},
   "outputs": [],
   "source": []
  },
  {
   "cell_type": "code",
   "execution_count": null,
   "metadata": {},
   "outputs": [],
   "source": []
  },
  {
   "cell_type": "code",
   "execution_count": null,
   "metadata": {},
   "outputs": [],
   "source": []
  }
 ],
 "metadata": {
  "kernelspec": {
   "display_name": "Python 3",
   "language": "python",
   "name": "python3"
  },
  "language_info": {
   "codemirror_mode": {
    "name": "ipython",
    "version": 3
   },
   "file_extension": ".py",
   "mimetype": "text/x-python",
   "name": "python",
   "nbconvert_exporter": "python",
   "pygments_lexer": "ipython3",
   "version": "3.7.3"
  }
 },
 "nbformat": 4,
 "nbformat_minor": 2
}
